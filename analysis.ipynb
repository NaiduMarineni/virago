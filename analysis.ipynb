{
 "cells": [
  {
   "cell_type": "code",
   "execution_count": 115,
   "metadata": {},
   "outputs": [
    {
     "name": "stdout",
     "output_type": "stream",
     "text": [
      "('NUmber of columns in the given data = ', 580)\n",
      "('Number of columns chosen for analysis = ', 343)\n"
     ]
    },
    {
     "data": {
      "text/plain": [
       "(39523, 343)"
      ]
     },
     "execution_count": 115,
     "metadata": {},
     "output_type": "execute_result"
    }
   ],
   "source": [
    "# Read the python dataframe\n",
    "import pandas as pd\n",
    "df = pd.read_csv(\"36151-0003-Data.tsv\", sep='\\t', engine='python')\n",
    "# Replace the empty values by NaN value\n",
    "import numpy as np\n",
    "df = df.replace(r'^\\s*$', np.nan, regex=True)\n",
    "# Find the number of valid values for each column\n",
    "counts = df.count().to_frame('count')\n",
    "print(\"NUmber of columns in the given data = \", counts.shape[0])\n",
    "# Select the columns that have 3/4 th values as valid\n",
    "filter_columns_df = counts.loc[counts['count']>=int(df.shape[0]*0.75)]\n",
    "filter_columns_list = filter_columns.index.tolist()\n",
    "print(\"Number of columns chosen for analysis = \", filter_columns_df.shape[0])\n",
    "# Drop the remaining columns from data frame\n",
    "df = df[filter_columns_list]\n",
    "df.shape"
   ]
  }
 ],
 "metadata": {
  "kernelspec": {
   "display_name": "Python 2",
   "language": "python",
   "name": "python2"
  },
  "language_info": {
   "codemirror_mode": {
    "name": "ipython",
    "version": 2
   },
   "file_extension": ".py",
   "mimetype": "text/x-python",
   "name": "python",
   "nbconvert_exporter": "python",
   "pygments_lexer": "ipython2",
   "version": "2.7.16"
  }
 },
 "nbformat": 4,
 "nbformat_minor": 2
}
