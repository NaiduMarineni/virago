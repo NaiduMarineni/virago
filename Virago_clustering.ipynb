{
  "nbformat": 4,
  "nbformat_minor": 0,
  "metadata": {
    "kernelspec": {
      "name": "python3",
      "display_name": "Python 3"
    },
    "language_info": {
      "codemirror_mode": {
        "name": "ipython",
        "version": 3
      },
      "file_extension": ".py",
      "mimetype": "text/x-python",
      "name": "python",
      "nbconvert_exporter": "python",
      "pygments_lexer": "ipython3",
      "version": "3.6.5"
    },
    "colab": {
      "name": "Virago_clustering.ipynb",
      "provenance": [],
      "collapsed_sections": [],
      "machine_shape": "hm"
    },
    "accelerator": "GPU"
  },
  "cells": [
    {
      "cell_type": "code",
      "metadata": {
        "id": "-axg_wpZzvLj",
        "colab_type": "code",
        "outputId": "895cea10-79b3-4cd3-faa6-849161fa8c2f",
        "colab": {}
      },
      "source": [
        "import pandas as pd\n",
        "tsv_file='36151-0003-Data.tsv'\n",
        "csv_table=pd.read_table(tsv_file,sep='\\t')\n",
        "csv_table.to_csv('eligible_women.csv',index=False)"
      ],
      "execution_count": 0,
      "outputs": [
        {
          "output_type": "stream",
          "text": [
            "C:\\Users\\vkhanna\\Anaconda3\\lib\\site-packages\\IPython\\core\\interactiveshell.py:2785: DtypeWarning: Columns (15,16,17,18,19,20,21,28,29,30,31,32,33,34,35,40,41,42,43,44,45,46,47,48,49,50,51,52,53,54,55,62,63,65,66,68,78,79,80,81,82,84,85,86,87,88,89,91,99,100,101,102,105,106,107,108,109,110,113,114,115,116,119,134,135,139,140,145,157,158,161,162,163,164,165,166,167,168,170,171,172,173,174,179,180,181,191,192,193,194,195,196,197,202,203,209,213,217,218,219,220,221,223,224,225,226,227,228,229,232,233,234,235,236,237,248,249,250,251,252,253,254,255,256,257,258,259,260,261,278,425,426,427,428,429,430,431,432,433,434,435,436,437,438,439,440,453,454,458,459,460,461,468,476,510,511,512,513,515) have mixed types. Specify dtype option on import or set low_memory=False.\n",
            "  interactivity=interactivity, compiler=compiler, result=result)\n"
          ],
          "name": "stderr"
        }
      ]
    },
    {
      "cell_type": "code",
      "metadata": {
        "id": "t0h5NScpzvLp",
        "colab_type": "code",
        "outputId": "84c2baf1-354b-403b-a932-1192e173a1b1",
        "colab": {}
      },
      "source": [
        "df = pd.read_csv(\"eligible_women.csv\")"
      ],
      "execution_count": 0,
      "outputs": [
        {
          "output_type": "stream",
          "text": [
            "C:\\Users\\vkhanna\\Anaconda3\\lib\\site-packages\\IPython\\core\\interactiveshell.py:2785: DtypeWarning: Columns (15,16,17,18,19,20,21,28,29,30,31,32,33,34,35,40,41,42,43,44,45,46,47,48,49,50,51,52,53,54,55,62,63,65,66,68,78,79,80,81,82,84,85,86,87,88,89,91,99,100,101,102,105,106,107,108,109,110,113,114,115,116,119,134,135,139,140,145,157,158,161,162,163,164,165,166,167,168,170,171,172,173,174,179,180,181,191,192,193,194,195,196,197,202,203,209,213,217,218,219,220,221,223,224,225,226,227,228,229,232,233,234,235,236,237,248,249,250,251,252,253,254,255,256,257,258,259,260,261,278,425,426,427,428,429,430,431,432,433,434,435,436,437,438,439,440,453,454,458,459,460,461,468,476,510,511,512,513,515) have mixed types. Specify dtype option on import or set low_memory=False.\n",
            "  interactivity=interactivity, compiler=compiler, result=result)\n"
          ],
          "name": "stderr"
        }
      ]
    },
    {
      "cell_type": "code",
      "metadata": {
        "id": "fqydWi5CzvLs",
        "colab_type": "code",
        "outputId": "f4ffec5a-6044-44b7-a124-81aaa8925451",
        "colab": {}
      },
      "source": [
        "df.GE10A.unique()"
      ],
      "execution_count": 0,
      "outputs": [
        {
          "output_type": "execute_result",
          "data": {
            "text/plain": [
              "array(['1', ' ', '2'], dtype=object)"
            ]
          },
          "metadata": {
            "tags": []
          },
          "execution_count": 3
        }
      ]
    },
    {
      "cell_type": "code",
      "metadata": {
        "id": "SdsMZKk0zvLy",
        "colab_type": "code",
        "colab": {}
      },
      "source": [
        "import pandas as pd\n",
        "df = pd.read_csv(\"eligible_women_cleaned.csv\")"
      ],
      "execution_count": 0,
      "outputs": []
    },
    {
      "cell_type": "code",
      "metadata": {
        "id": "CpVBEMUFzvL0",
        "colab_type": "code",
        "colab": {}
      },
      "source": [
        "df_ew5 = df[[\"STATEID\",\"HHID\",\"EW5\",\"EW6\",\"EW8\",\"EW9\",\"EW10\",\"EW14A\",\"EW15A\",\"EW15B\",\"EW16A\",\"EW16B\",\"EW16C\",\"EW18A\",\"EW18B\",\"HB1\",\"HB2\",\"HB3\",\"HB4\",\"HB5\",\"HB6\",\"HB7\",\"HB8\",\"AI1\",\"GR9F\",\"GR13A\",\"GR16A\",\"GR17A\",\"GR18A\",\"GR18B\",\"GR22\",\"GR27A\",\"MH1A\",\"MH1E\",\"MH2\",\"MH4A\",\"URBAN2011\",\"METRO\",\"ID11\",\"ID13\",\"COPC\",\"INCOMEPC\",\"NPERSONS\",\"ED2\",\"ED4\"]]"
      ],
      "execution_count": 0,
      "outputs": []
    },
    {
      "cell_type": "code",
      "metadata": {
        "id": "xENaxhXYzvL2",
        "colab_type": "code",
        "colab": {}
      },
      "source": [
        "df_ew5_dropped_na = df_ew5.dropna()"
      ],
      "execution_count": 0,
      "outputs": []
    },
    {
      "cell_type": "code",
      "metadata": {
        "id": "4zLnrZk8CY-U",
        "colab_type": "code",
        "outputId": "51588622-3e90-4b97-dd23-d047b517ad35",
        "colab": {
          "base_uri": "https://localhost:8080/",
          "height": 224
        }
      },
      "source": [
        "df_ew5_dropped_na.head()"
      ],
      "execution_count": 4,
      "outputs": [
        {
          "output_type": "execute_result",
          "data": {
            "text/html": [
              "<div>\n",
              "<style scoped>\n",
              "    .dataframe tbody tr th:only-of-type {\n",
              "        vertical-align: middle;\n",
              "    }\n",
              "\n",
              "    .dataframe tbody tr th {\n",
              "        vertical-align: top;\n",
              "    }\n",
              "\n",
              "    .dataframe thead th {\n",
              "        text-align: right;\n",
              "    }\n",
              "</style>\n",
              "<table border=\"1\" class=\"dataframe\">\n",
              "  <thead>\n",
              "    <tr style=\"text-align: right;\">\n",
              "      <th></th>\n",
              "      <th>STATEID</th>\n",
              "      <th>HHID</th>\n",
              "      <th>EW5</th>\n",
              "      <th>EW6</th>\n",
              "      <th>EW8</th>\n",
              "      <th>EW9</th>\n",
              "      <th>EW10</th>\n",
              "      <th>EW14A</th>\n",
              "      <th>EW15A</th>\n",
              "      <th>EW15B</th>\n",
              "      <th>EW16A</th>\n",
              "      <th>EW16B</th>\n",
              "      <th>EW16C</th>\n",
              "      <th>EW18A</th>\n",
              "      <th>EW18B</th>\n",
              "      <th>HB1</th>\n",
              "      <th>HB2</th>\n",
              "      <th>HB3</th>\n",
              "      <th>HB4</th>\n",
              "      <th>HB5</th>\n",
              "      <th>HB6</th>\n",
              "      <th>HB7</th>\n",
              "      <th>HB8</th>\n",
              "      <th>AI1</th>\n",
              "      <th>GR9F</th>\n",
              "      <th>GR13A</th>\n",
              "      <th>GR16A</th>\n",
              "      <th>GR17A</th>\n",
              "      <th>GR18A</th>\n",
              "      <th>GR18B</th>\n",
              "      <th>GR22</th>\n",
              "      <th>GR27A</th>\n",
              "      <th>MH1A</th>\n",
              "      <th>MH1E</th>\n",
              "      <th>MH2</th>\n",
              "      <th>MH4A</th>\n",
              "      <th>URBAN2011</th>\n",
              "      <th>METRO</th>\n",
              "      <th>ID11</th>\n",
              "      <th>ID13</th>\n",
              "      <th>COPC</th>\n",
              "      <th>INCOMEPC</th>\n",
              "      <th>NPERSONS</th>\n",
              "      <th>ED2</th>\n",
              "      <th>ED4</th>\n",
              "    </tr>\n",
              "  </thead>\n",
              "  <tbody>\n",
              "    <tr>\n",
              "      <th>0</th>\n",
              "      <td>1</td>\n",
              "      <td>10</td>\n",
              "      <td>2</td>\n",
              "      <td>49</td>\n",
              "      <td>0.0</td>\n",
              "      <td>4.0</td>\n",
              "      <td>5.0</td>\n",
              "      <td>0.0</td>\n",
              "      <td>0.0</td>\n",
              "      <td>0.0</td>\n",
              "      <td>0.0</td>\n",
              "      <td>0.0</td>\n",
              "      <td>0.0</td>\n",
              "      <td>16.0</td>\n",
              "      <td>15.0</td>\n",
              "      <td>0.0</td>\n",
              "      <td>1.0</td>\n",
              "      <td>1.0</td>\n",
              "      <td>3.0</td>\n",
              "      <td>2.0</td>\n",
              "      <td>4.0</td>\n",
              "      <td>4.0</td>\n",
              "      <td>2.0</td>\n",
              "      <td>1.0</td>\n",
              "      <td>1.0</td>\n",
              "      <td>0.0</td>\n",
              "      <td>0.0</td>\n",
              "      <td>0.0</td>\n",
              "      <td>0.0</td>\n",
              "      <td>0.0</td>\n",
              "      <td>0.0</td>\n",
              "      <td>1.0</td>\n",
              "      <td>10.0</td>\n",
              "      <td>18.0</td>\n",
              "      <td>1.0</td>\n",
              "      <td>3.0</td>\n",
              "      <td>0</td>\n",
              "      <td>0</td>\n",
              "      <td>2</td>\n",
              "      <td>3.0</td>\n",
              "      <td>28476.445312</td>\n",
              "      <td>19566.666016</td>\n",
              "      <td>9</td>\n",
              "      <td>0.0</td>\n",
              "      <td>0.0</td>\n",
              "    </tr>\n",
              "    <tr>\n",
              "      <th>1</th>\n",
              "      <td>1</td>\n",
              "      <td>10</td>\n",
              "      <td>4</td>\n",
              "      <td>26</td>\n",
              "      <td>8.0</td>\n",
              "      <td>3.0</td>\n",
              "      <td>5.0</td>\n",
              "      <td>0.0</td>\n",
              "      <td>0.0</td>\n",
              "      <td>6.0</td>\n",
              "      <td>0.0</td>\n",
              "      <td>1.0</td>\n",
              "      <td>0.0</td>\n",
              "      <td>0.0</td>\n",
              "      <td>8.0</td>\n",
              "      <td>1.0</td>\n",
              "      <td>0.0</td>\n",
              "      <td>1.0</td>\n",
              "      <td>3.0</td>\n",
              "      <td>2.0</td>\n",
              "      <td>4.0</td>\n",
              "      <td>3.0</td>\n",
              "      <td>2.0</td>\n",
              "      <td>1.0</td>\n",
              "      <td>1.0</td>\n",
              "      <td>0.0</td>\n",
              "      <td>0.0</td>\n",
              "      <td>0.0</td>\n",
              "      <td>0.0</td>\n",
              "      <td>0.0</td>\n",
              "      <td>1.0</td>\n",
              "      <td>1.0</td>\n",
              "      <td>18.0</td>\n",
              "      <td>15.0</td>\n",
              "      <td>1.0</td>\n",
              "      <td>3.0</td>\n",
              "      <td>0</td>\n",
              "      <td>0</td>\n",
              "      <td>2</td>\n",
              "      <td>3.0</td>\n",
              "      <td>28476.445312</td>\n",
              "      <td>19566.666016</td>\n",
              "      <td>9</td>\n",
              "      <td>1.0</td>\n",
              "      <td>1.0</td>\n",
              "    </tr>\n",
              "    <tr>\n",
              "      <th>6</th>\n",
              "      <td>1</td>\n",
              "      <td>50</td>\n",
              "      <td>4</td>\n",
              "      <td>25</td>\n",
              "      <td>0.0</td>\n",
              "      <td>1.0</td>\n",
              "      <td>2.0</td>\n",
              "      <td>0.0</td>\n",
              "      <td>0.0</td>\n",
              "      <td>0.0</td>\n",
              "      <td>0.0</td>\n",
              "      <td>0.0</td>\n",
              "      <td>0.0</td>\n",
              "      <td>10.0</td>\n",
              "      <td>0.0</td>\n",
              "      <td>0.0</td>\n",
              "      <td>0.0</td>\n",
              "      <td>2.0</td>\n",
              "      <td>2.0</td>\n",
              "      <td>3.0</td>\n",
              "      <td>4.0</td>\n",
              "      <td>4.0</td>\n",
              "      <td>5.0</td>\n",
              "      <td>0.0</td>\n",
              "      <td>1.0</td>\n",
              "      <td>0.0</td>\n",
              "      <td>0.0</td>\n",
              "      <td>0.0</td>\n",
              "      <td>0.0</td>\n",
              "      <td>0.0</td>\n",
              "      <td>1.0</td>\n",
              "      <td>1.0</td>\n",
              "      <td>18.0</td>\n",
              "      <td>15.0</td>\n",
              "      <td>1.0</td>\n",
              "      <td>3.0</td>\n",
              "      <td>0</td>\n",
              "      <td>0</td>\n",
              "      <td>2</td>\n",
              "      <td>2.0</td>\n",
              "      <td>16397.000000</td>\n",
              "      <td>21260.000000</td>\n",
              "      <td>10</td>\n",
              "      <td>0.0</td>\n",
              "      <td>0.0</td>\n",
              "    </tr>\n",
              "    <tr>\n",
              "      <th>7</th>\n",
              "      <td>1</td>\n",
              "      <td>60</td>\n",
              "      <td>4</td>\n",
              "      <td>29</td>\n",
              "      <td>0.0</td>\n",
              "      <td>2.0</td>\n",
              "      <td>4.0</td>\n",
              "      <td>0.0</td>\n",
              "      <td>0.0</td>\n",
              "      <td>0.0</td>\n",
              "      <td>0.0</td>\n",
              "      <td>0.0</td>\n",
              "      <td>0.0</td>\n",
              "      <td>0.0</td>\n",
              "      <td>0.0</td>\n",
              "      <td>0.0</td>\n",
              "      <td>1.0</td>\n",
              "      <td>1.0</td>\n",
              "      <td>2.0</td>\n",
              "      <td>2.0</td>\n",
              "      <td>4.0</td>\n",
              "      <td>4.0</td>\n",
              "      <td>2.0</td>\n",
              "      <td>1.0</td>\n",
              "      <td>0.0</td>\n",
              "      <td>0.0</td>\n",
              "      <td>0.0</td>\n",
              "      <td>0.0</td>\n",
              "      <td>0.0</td>\n",
              "      <td>0.0</td>\n",
              "      <td>0.0</td>\n",
              "      <td>1.0</td>\n",
              "      <td>23.0</td>\n",
              "      <td>13.0</td>\n",
              "      <td>1.0</td>\n",
              "      <td>3.0</td>\n",
              "      <td>0</td>\n",
              "      <td>0</td>\n",
              "      <td>2</td>\n",
              "      <td>3.0</td>\n",
              "      <td>13839.272461</td>\n",
              "      <td>13827.272461</td>\n",
              "      <td>11</td>\n",
              "      <td>0.0</td>\n",
              "      <td>0.0</td>\n",
              "    </tr>\n",
              "    <tr>\n",
              "      <th>11</th>\n",
              "      <td>1</td>\n",
              "      <td>90</td>\n",
              "      <td>2</td>\n",
              "      <td>25</td>\n",
              "      <td>0.0</td>\n",
              "      <td>2.0</td>\n",
              "      <td>2.0</td>\n",
              "      <td>0.0</td>\n",
              "      <td>0.0</td>\n",
              "      <td>0.0</td>\n",
              "      <td>0.0</td>\n",
              "      <td>0.0</td>\n",
              "      <td>0.0</td>\n",
              "      <td>6.0</td>\n",
              "      <td>0.0</td>\n",
              "      <td>0.0</td>\n",
              "      <td>1.0</td>\n",
              "      <td>1.0</td>\n",
              "      <td>2.0</td>\n",
              "      <td>1.0</td>\n",
              "      <td>4.0</td>\n",
              "      <td>4.0</td>\n",
              "      <td>5.0</td>\n",
              "      <td>0.0</td>\n",
              "      <td>1.0</td>\n",
              "      <td>0.0</td>\n",
              "      <td>0.0</td>\n",
              "      <td>0.0</td>\n",
              "      <td>0.0</td>\n",
              "      <td>0.0</td>\n",
              "      <td>1.0</td>\n",
              "      <td>1.0</td>\n",
              "      <td>16.0</td>\n",
              "      <td>14.0</td>\n",
              "      <td>1.0</td>\n",
              "      <td>3.0</td>\n",
              "      <td>0</td>\n",
              "      <td>0</td>\n",
              "      <td>2</td>\n",
              "      <td>3.0</td>\n",
              "      <td>21179.500000</td>\n",
              "      <td>6355.000000</td>\n",
              "      <td>4</td>\n",
              "      <td>0.0</td>\n",
              "      <td>0.0</td>\n",
              "    </tr>\n",
              "  </tbody>\n",
              "</table>\n",
              "</div>"
            ],
            "text/plain": [
              "    STATEID  HHID  EW5  EW6  ...      INCOMEPC  NPERSONS  ED2  ED4\n",
              "0         1    10    2   49  ...  19566.666016         9  0.0  0.0\n",
              "1         1    10    4   26  ...  19566.666016         9  1.0  1.0\n",
              "6         1    50    4   25  ...  21260.000000        10  0.0  0.0\n",
              "7         1    60    4   29  ...  13827.272461        11  0.0  0.0\n",
              "11        1    90    2   25  ...   6355.000000         4  0.0  0.0\n",
              "\n",
              "[5 rows x 45 columns]"
            ]
          },
          "metadata": {
            "tags": []
          },
          "execution_count": 4
        }
      ]
    },
    {
      "cell_type": "code",
      "metadata": {
        "id": "QtVFfFDczvL4",
        "colab_type": "code",
        "colab": {}
      },
      "source": [
        "df_ew5.to_csv(\"eligible_women_cleaned.csv\",index=False)"
      ],
      "execution_count": 0,
      "outputs": []
    },
    {
      "cell_type": "code",
      "metadata": {
        "id": "U1I8JSC0zvL8",
        "colab_type": "code",
        "outputId": "71d69229-8a3b-4557-f08f-9ddfc566e3c0",
        "colab": {
          "base_uri": "https://localhost:8080/",
          "height": 34
        }
      },
      "source": [
        "df_ew5_dropped_na.shape"
      ],
      "execution_count": 8,
      "outputs": [
        {
          "output_type": "execute_result",
          "data": {
            "text/plain": [
              "(20324, 45)"
            ]
          },
          "metadata": {
            "tags": []
          },
          "execution_count": 8
        }
      ]
    },
    {
      "cell_type": "code",
      "metadata": {
        "id": "sdCzud0oDToK",
        "colab_type": "code",
        "colab": {}
      },
      "source": [
        " import numpy as np \n",
        " \n",
        " df_matrix = np.array(df_ew5_dropped_na.to_numpy())"
      ],
      "execution_count": 0,
      "outputs": []
    },
    {
      "cell_type": "code",
      "metadata": {
        "id": "zE-CGhQ0Daa5",
        "colab_type": "code",
        "outputId": "4d8a2320-8af2-45a3-910b-317eae816cb5",
        "colab": {
          "base_uri": "https://localhost:8080/",
          "height": 34
        }
      },
      "source": [
        "df_matrix.shape"
      ],
      "execution_count": 10,
      "outputs": [
        {
          "output_type": "execute_result",
          "data": {
            "text/plain": [
              "(20324, 45)"
            ]
          },
          "metadata": {
            "tags": []
          },
          "execution_count": 10
        }
      ]
    },
    {
      "cell_type": "code",
      "metadata": {
        "id": "_Wc7SQ_uzvL-",
        "colab_type": "code",
        "colab": {}
      },
      "source": [
        "from sklearn.cluster import AffinityPropagation\n",
        "clustering = AffinityPropagation(damping=0.5, max_iter=200, convergence_iter=20, copy=True, preference=None, affinity='euclidean', verbose=False).fit(df_matrix)"
      ],
      "execution_count": 0,
      "outputs": []
    },
    {
      "cell_type": "code",
      "metadata": {
        "id": "X1-5vocV-C2g",
        "colab_type": "code",
        "outputId": "e96f238e-7241-4ce0-eacf-8a76eab9e181",
        "colab": {
          "base_uri": "https://localhost:8080/",
          "height": 34
        }
      },
      "source": [
        "cluster_centers_indices = clustering.cluster_centers_indices_\n",
        "labels = clustering.labels_\n",
        "\n",
        "n_clusters_ = len(cluster_centers_indices)\n",
        "\n",
        "print('Estimated number of clusters: %d' % n_clusters_)"
      ],
      "execution_count": 6,
      "outputs": [
        {
          "output_type": "stream",
          "text": [
            "Estimated number of clusters: 6279\n"
          ],
          "name": "stdout"
        }
      ]
    },
    {
      "cell_type": "code",
      "metadata": {
        "id": "R1Roy2wX-WdI",
        "colab_type": "code",
        "colab": {}
      },
      "source": [
        "import pickle\n",
        "\n",
        "pickle.dump(clustering.cluster_centers_,open(\"cs_cluster_centers.dat\",\"wb\"))\n",
        "pickle.dump(clustering.cluster_centers_indices_,open(\"cs_cluster_centers_indices.dat\",\"wb\"))\n",
        "pickle.dump(clustering.labels_,open(\"cs_cluster_labels.dat\",\"wb\"))"
      ],
      "execution_count": 0,
      "outputs": []
    },
    {
      "cell_type": "code",
      "metadata": {
        "id": "FZ1phKcX-jXX",
        "colab_type": "code",
        "outputId": "5495ea90-a569-4ece-848e-c5e39cb55944",
        "colab": {
          "base_uri": "https://localhost:8080/",
          "height": 221
        }
      },
      "source": [
        "clustering.cluster_centers_[:1]"
      ],
      "execution_count": 0,
      "outputs": [
        {
          "output_type": "execute_result",
          "data": {
            "text/plain": [
              "array([[1.00000000e+00, 1.00000000e+01, 2.00000000e+00, 4.90000000e+01,\n",
              "        0.00000000e+00, 4.00000000e+00, 5.00000000e+00, 0.00000000e+00,\n",
              "        0.00000000e+00, 0.00000000e+00, 0.00000000e+00, 0.00000000e+00,\n",
              "        0.00000000e+00, 1.60000000e+01, 1.50000000e+01, 0.00000000e+00,\n",
              "        1.00000000e+00, 1.00000000e+00, 3.00000000e+00, 2.00000000e+00,\n",
              "        4.00000000e+00, 4.00000000e+00, 2.00000000e+00, 1.00000000e+00,\n",
              "        1.00000000e+00, 0.00000000e+00, 0.00000000e+00, 0.00000000e+00,\n",
              "        0.00000000e+00, 0.00000000e+00, 0.00000000e+00, 1.00000000e+00,\n",
              "        1.00000000e+01, 1.80000000e+01, 1.00000000e+00, 3.00000000e+00,\n",
              "        0.00000000e+00, 0.00000000e+00, 2.00000000e+00, 3.00000000e+00,\n",
              "        2.84764453e+04, 1.95666660e+04, 9.00000000e+00, 0.00000000e+00,\n",
              "        0.00000000e+00]])"
            ]
          },
          "metadata": {
            "tags": []
          },
          "execution_count": 14
        }
      ]
    },
    {
      "cell_type": "code",
      "metadata": {
        "id": "a5CfTsCDbM6i",
        "colab_type": "code",
        "outputId": "29b1317f-b9b5-4392-b02d-c582d370c6d1",
        "colab": {
          "base_uri": "https://localhost:8080/",
          "height": 34
        }
      },
      "source": [
        "len(clustering.labels_)"
      ],
      "execution_count": 0,
      "outputs": [
        {
          "output_type": "execute_result",
          "data": {
            "text/plain": [
              "20324"
            ]
          },
          "metadata": {
            "tags": []
          },
          "execution_count": 15
        }
      ]
    },
    {
      "cell_type": "code",
      "metadata": {
        "id": "nkGN12HYctrw",
        "colab_type": "code",
        "colab": {
          "base_uri": "https://localhost:8080/",
          "height": 445
        },
        "outputId": "e4900c16-a766-4b02-ab42-ec25ac667a1f"
      },
      "source": [
        "# clustering for EW16A (mother's literacy) and MH1A (literacy of the women)\n",
        "import pickle\n",
        "import matplotlib.pyplot as plt\n",
        "\n",
        "labels = pickle.load(open(\"cs_cluster_labels.dat\", \"rb\"))\n",
        "\n",
        "plt.figure(figsize=(10, 7))\n",
        "plt.scatter(df_matrix[:,10], df_matrix[:,32], c=labels, cmap='rainbow')"
      ],
      "execution_count": 16,
      "outputs": [
        {
          "output_type": "execute_result",
          "data": {
            "text/plain": [
              "<matplotlib.collections.PathCollection at 0x7fd840a36f28>"
            ]
          },
          "metadata": {
            "tags": []
          },
          "execution_count": 16
        },
        {
          "output_type": "display_data",
          "data": {
            "image/png": "[encoded data removed]",
            "text/plain": [
              "<Figure size 720x504 with 1 Axes>"
            ]
          },
          "metadata": {
            "tags": []
          }
        }
      ]
    },
    {
      "cell_type": "code",
      "metadata": {
        "id": "lc2hb4e2OjgU",
        "colab_type": "code",
        "colab": {}
      },
      "source": [
        ""
      ],
      "execution_count": 0,
      "outputs": []
    }
  ]
}