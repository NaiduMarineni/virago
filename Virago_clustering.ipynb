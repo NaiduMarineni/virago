{
  "nbformat": 4,
  "nbformat_minor": 0,
  "metadata": {
    "kernelspec": {
      "name": "python3",
      "display_name": "Python 3"
    },
    "language_info": {
      "codemirror_mode": {
        "name": "ipython",
        "version": 3
      },
      "file_extension": ".py",
      "mimetype": "text/x-python",
      "name": "python",
      "nbconvert_exporter": "python",
      "pygments_lexer": "ipython3",
      "version": "3.6.5"
    },
    "colab": {
      "name": "Virago_clustering.ipynb",
      "provenance": [],
      "collapsed_sections": [],
      "machine_shape": "hm"
    },
    "accelerator": "GPU"
  },
  "cells": [
    {
      "cell_type": "code",
      "metadata": {
        "id": "OkvSwNCQ16M2",
        "colab_type": "code",
        "colab": {}
      },
      "source": [
        "import pandas as pd\n",
        "import matplotlib.pyplot as plt\n",
        "from sklearn.cluster import KMeans\n",
        "from sklearn.decomposition import PCA\n",
        "from sklearn.preprocessing import StandardScaler"
      ],
      "execution_count": 0,
      "outputs": []
    },
    {
      "cell_type": "code",
      "metadata": {
        "id": "-axg_wpZzvLj",
        "colab_type": "code",
        "outputId": "895cea10-79b3-4cd3-faa6-849161fa8c2f",
        "colab": {}
      },
      "source": [
        "tsv_file='36151-0003-Data.tsv'\n",
        "csv_table=pd.read_table(tsv_file,sep='\\t')\n",
        "csv_table.to_csv('eligible_women.csv',index=False)"
      ],
      "execution_count": 0,
      "outputs": [
        {
          "output_type": "stream",
          "text": [
            "C:\\Users\\vkhanna\\Anaconda3\\lib\\site-packages\\IPython\\core\\interactiveshell.py:2785: DtypeWarning: Columns (15,16,17,18,19,20,21,28,29,30,31,32,33,34,35,40,41,42,43,44,45,46,47,48,49,50,51,52,53,54,55,62,63,65,66,68,78,79,80,81,82,84,85,86,87,88,89,91,99,100,101,102,105,106,107,108,109,110,113,114,115,116,119,134,135,139,140,145,157,158,161,162,163,164,165,166,167,168,170,171,172,173,174,179,180,181,191,192,193,194,195,196,197,202,203,209,213,217,218,219,220,221,223,224,225,226,227,228,229,232,233,234,235,236,237,248,249,250,251,252,253,254,255,256,257,258,259,260,261,278,425,426,427,428,429,430,431,432,433,434,435,436,437,438,439,440,453,454,458,459,460,461,468,476,510,511,512,513,515) have mixed types. Specify dtype option on import or set low_memory=False.\n",
            "  interactivity=interactivity, compiler=compiler, result=result)\n"
          ],
          "name": "stderr"
        }
      ]
    },
    {
      "cell_type": "code",
      "metadata": {
        "id": "t0h5NScpzvLp",
        "colab_type": "code",
        "outputId": "84c2baf1-354b-403b-a932-1192e173a1b1",
        "colab": {}
      },
      "source": [
        "df = pd.read_csv(\"eligible_women.csv\")"
      ],
      "execution_count": 0,
      "outputs": [
        {
          "output_type": "stream",
          "text": [
            "C:\\Users\\vkhanna\\Anaconda3\\lib\\site-packages\\IPython\\core\\interactiveshell.py:2785: DtypeWarning: Columns (15,16,17,18,19,20,21,28,29,30,31,32,33,34,35,40,41,42,43,44,45,46,47,48,49,50,51,52,53,54,55,62,63,65,66,68,78,79,80,81,82,84,85,86,87,88,89,91,99,100,101,102,105,106,107,108,109,110,113,114,115,116,119,134,135,139,140,145,157,158,161,162,163,164,165,166,167,168,170,171,172,173,174,179,180,181,191,192,193,194,195,196,197,202,203,209,213,217,218,219,220,221,223,224,225,226,227,228,229,232,233,234,235,236,237,248,249,250,251,252,253,254,255,256,257,258,259,260,261,278,425,426,427,428,429,430,431,432,433,434,435,436,437,438,439,440,453,454,458,459,460,461,468,476,510,511,512,513,515) have mixed types. Specify dtype option on import or set low_memory=False.\n",
            "  interactivity=interactivity, compiler=compiler, result=result)\n"
          ],
          "name": "stderr"
        }
      ]
    },
    {
      "cell_type": "code",
      "metadata": {
        "id": "fqydWi5CzvLs",
        "colab_type": "code",
        "outputId": "f4ffec5a-6044-44b7-a124-81aaa8925451",
        "colab": {}
      },
      "source": [
        "df.GE10A.unique()"
      ],
      "execution_count": 0,
      "outputs": [
        {
          "output_type": "execute_result",
          "data": {
            "text/plain": [
              "array(['1', ' ', '2'], dtype=object)"
            ]
          },
          "metadata": {
            "tags": []
          },
          "execution_count": 3
        }
      ]
    },
    {
      "cell_type": "code",
      "metadata": {
        "id": "SdsMZKk0zvLy",
        "colab_type": "code",
        "colab": {}
      },
      "source": [
        "df = pd.read_csv(\"eligible_women_cleaned.csv\")"
      ],
      "execution_count": 0,
      "outputs": []
    },
    {
      "cell_type": "code",
      "metadata": {
        "id": "CpVBEMUFzvL0",
        "colab_type": "code",
        "colab": {}
      },
      "source": [
        "df_ew5 = df[[\"STATEID\",\"EW5\",\"EW6\",\"EW8\",\"EW9\",\"EW10\",\"EW14A\",\"EW15A\",\"EW15B\",\"EW16A\",\"EW16B\",\"EW16C\",\"EW18A\",\"EW18B\",\"HB1\",\"HB2\",\"HB3\",\"HB4\",\"HB5\",\"HB6\",\"HB7\",\"HB8\",\"AI1\",\"GR9F\",\"GR13A\",\"GR16A\",\"GR17A\",\"GR18A\",\"GR18B\",\"GR22\",\"GR27A\",\"MH1A\",\"MH1E\",\"MH2\",\"MH4A\",\"URBAN2011\",\"METRO\",\"ID11\",\"ID13\",\"COPC\",\"INCOMEPC\",\"NPERSONS\",\"ED2\",\"ED4\"]]"
      ],
      "execution_count": 0,
      "outputs": []
    },
    {
      "cell_type": "code",
      "metadata": {
        "id": "xENaxhXYzvL2",
        "colab_type": "code",
        "colab": {}
      },
      "source": [
        "df_ew5_dropped_na = df_ew5.dropna()"
      ],
      "execution_count": 0,
      "outputs": []
    },
    {
      "cell_type": "code",
      "metadata": {
        "id": "4zLnrZk8CY-U",
        "colab_type": "code",
        "outputId": "d099059d-84c8-47bc-e1a4-f60cc6c9cf4c",
        "colab": {
          "base_uri": "https://localhost:8080/",
          "height": 222
        }
      },
      "source": [
        "df_ew5_dropped_na.head()"
      ],
      "execution_count": 0,
      "outputs": [
        {
          "output_type": "execute_result",
          "data": {
            "text/html": [
              "<div>\n",
              "<style scoped>\n",
              "    .dataframe tbody tr th:only-of-type {\n",
              "        vertical-align: middle;\n",
              "    }\n",
              "\n",
              "    .dataframe tbody tr th {\n",
              "        vertical-align: top;\n",
              "    }\n",
              "\n",
              "    .dataframe thead th {\n",
              "        text-align: right;\n",
              "    }\n",
              "</style>\n",
              "<table border=\"1\" class=\"dataframe\">\n",
              "  <thead>\n",
              "    <tr style=\"text-align: right;\">\n",
              "      <th></th>\n",
              "      <th>EW5</th>\n",
              "      <th>EW6</th>\n",
              "      <th>EW8</th>\n",
              "      <th>EW9</th>\n",
              "      <th>EW10</th>\n",
              "      <th>EW14A</th>\n",
              "      <th>EW15A</th>\n",
              "      <th>EW15B</th>\n",
              "      <th>EW16A</th>\n",
              "      <th>EW16B</th>\n",
              "      <th>EW16C</th>\n",
              "      <th>EW18A</th>\n",
              "      <th>EW18B</th>\n",
              "      <th>HB1</th>\n",
              "      <th>HB2</th>\n",
              "      <th>HB3</th>\n",
              "      <th>HB4</th>\n",
              "      <th>HB5</th>\n",
              "      <th>HB6</th>\n",
              "      <th>HB7</th>\n",
              "      <th>HB8</th>\n",
              "      <th>AI1</th>\n",
              "      <th>GR9F</th>\n",
              "      <th>GR13A</th>\n",
              "      <th>GR16A</th>\n",
              "      <th>GR18A</th>\n",
              "      <th>GR18B</th>\n",
              "      <th>GR22</th>\n",
              "      <th>GR27A</th>\n",
              "      <th>MH1A</th>\n",
              "      <th>MH1E</th>\n",
              "      <th>MH2</th>\n",
              "      <th>MH4A</th>\n",
              "      <th>FP2A</th>\n",
              "      <th>URBAN2011</th>\n",
              "      <th>METRO</th>\n",
              "      <th>ID11</th>\n",
              "      <th>ID13</th>\n",
              "      <th>COPC</th>\n",
              "      <th>INCOMEPC</th>\n",
              "      <th>NPERSONS</th>\n",
              "      <th>ED2</th>\n",
              "      <th>ED4</th>\n",
              "    </tr>\n",
              "  </thead>\n",
              "  <tbody>\n",
              "    <tr>\n",
              "      <th>0</th>\n",
              "      <td>2</td>\n",
              "      <td>4</td>\n",
              "      <td>1</td>\n",
              "      <td>4.0</td>\n",
              "      <td>5.0</td>\n",
              "      <td>0.0</td>\n",
              "      <td>1</td>\n",
              "      <td>1</td>\n",
              "      <td>0.0</td>\n",
              "      <td>0.0</td>\n",
              "      <td>0.0</td>\n",
              "      <td>16</td>\n",
              "      <td>3</td>\n",
              "      <td>0.0</td>\n",
              "      <td>1.0</td>\n",
              "      <td>1.0</td>\n",
              "      <td>3.0</td>\n",
              "      <td>2.0</td>\n",
              "      <td>4.0</td>\n",
              "      <td>4.0</td>\n",
              "      <td>2.0</td>\n",
              "      <td>1.0</td>\n",
              "      <td>1.0</td>\n",
              "      <td>0.0</td>\n",
              "      <td>0.0</td>\n",
              "      <td>0.0</td>\n",
              "      <td>0.0</td>\n",
              "      <td>0.0</td>\n",
              "      <td>1.0</td>\n",
              "      <td>0</td>\n",
              "      <td>2.0</td>\n",
              "      <td>1.0</td>\n",
              "      <td>3.0</td>\n",
              "      <td>1.0</td>\n",
              "      <td>0</td>\n",
              "      <td>0</td>\n",
              "      <td>2</td>\n",
              "      <td>3.0</td>\n",
              "      <td>2.0</td>\n",
              "      <td>2.0</td>\n",
              "      <td>9</td>\n",
              "      <td>0.0</td>\n",
              "      <td>0.0</td>\n",
              "    </tr>\n",
              "    <tr>\n",
              "      <th>1</th>\n",
              "      <td>4</td>\n",
              "      <td>2</td>\n",
              "      <td>1</td>\n",
              "      <td>3.0</td>\n",
              "      <td>5.0</td>\n",
              "      <td>0.0</td>\n",
              "      <td>1</td>\n",
              "      <td>1</td>\n",
              "      <td>0.0</td>\n",
              "      <td>1.0</td>\n",
              "      <td>0.0</td>\n",
              "      <td>1</td>\n",
              "      <td>1</td>\n",
              "      <td>1.0</td>\n",
              "      <td>0.0</td>\n",
              "      <td>1.0</td>\n",
              "      <td>3.0</td>\n",
              "      <td>2.0</td>\n",
              "      <td>4.0</td>\n",
              "      <td>3.0</td>\n",
              "      <td>2.0</td>\n",
              "      <td>1.0</td>\n",
              "      <td>1.0</td>\n",
              "      <td>0.0</td>\n",
              "      <td>0.0</td>\n",
              "      <td>0.0</td>\n",
              "      <td>0.0</td>\n",
              "      <td>1.0</td>\n",
              "      <td>1.0</td>\n",
              "      <td>1</td>\n",
              "      <td>1.0</td>\n",
              "      <td>1.0</td>\n",
              "      <td>3.0</td>\n",
              "      <td>1.0</td>\n",
              "      <td>0</td>\n",
              "      <td>0</td>\n",
              "      <td>2</td>\n",
              "      <td>3.0</td>\n",
              "      <td>2.0</td>\n",
              "      <td>2.0</td>\n",
              "      <td>9</td>\n",
              "      <td>1.0</td>\n",
              "      <td>1.0</td>\n",
              "    </tr>\n",
              "    <tr>\n",
              "      <th>6</th>\n",
              "      <td>4</td>\n",
              "      <td>2</td>\n",
              "      <td>1</td>\n",
              "      <td>1.0</td>\n",
              "      <td>2.0</td>\n",
              "      <td>0.0</td>\n",
              "      <td>1</td>\n",
              "      <td>1</td>\n",
              "      <td>0.0</td>\n",
              "      <td>0.0</td>\n",
              "      <td>0.0</td>\n",
              "      <td>1</td>\n",
              "      <td>1</td>\n",
              "      <td>0.0</td>\n",
              "      <td>0.0</td>\n",
              "      <td>2.0</td>\n",
              "      <td>2.0</td>\n",
              "      <td>3.0</td>\n",
              "      <td>4.0</td>\n",
              "      <td>4.0</td>\n",
              "      <td>5.0</td>\n",
              "      <td>0.0</td>\n",
              "      <td>1.0</td>\n",
              "      <td>0.0</td>\n",
              "      <td>0.0</td>\n",
              "      <td>0.0</td>\n",
              "      <td>0.0</td>\n",
              "      <td>1.0</td>\n",
              "      <td>1.0</td>\n",
              "      <td>1</td>\n",
              "      <td>1.0</td>\n",
              "      <td>1.0</td>\n",
              "      <td>3.0</td>\n",
              "      <td>1.0</td>\n",
              "      <td>0</td>\n",
              "      <td>0</td>\n",
              "      <td>2</td>\n",
              "      <td>2.0</td>\n",
              "      <td>2.0</td>\n",
              "      <td>2.0</td>\n",
              "      <td>10</td>\n",
              "      <td>0.0</td>\n",
              "      <td>0.0</td>\n",
              "    </tr>\n",
              "    <tr>\n",
              "      <th>7</th>\n",
              "      <td>4</td>\n",
              "      <td>2</td>\n",
              "      <td>1</td>\n",
              "      <td>2.0</td>\n",
              "      <td>4.0</td>\n",
              "      <td>0.0</td>\n",
              "      <td>1</td>\n",
              "      <td>1</td>\n",
              "      <td>0.0</td>\n",
              "      <td>0.0</td>\n",
              "      <td>0.0</td>\n",
              "      <td>1</td>\n",
              "      <td>1</td>\n",
              "      <td>0.0</td>\n",
              "      <td>1.0</td>\n",
              "      <td>1.0</td>\n",
              "      <td>2.0</td>\n",
              "      <td>2.0</td>\n",
              "      <td>4.0</td>\n",
              "      <td>4.0</td>\n",
              "      <td>2.0</td>\n",
              "      <td>1.0</td>\n",
              "      <td>0.0</td>\n",
              "      <td>0.0</td>\n",
              "      <td>0.0</td>\n",
              "      <td>0.0</td>\n",
              "      <td>0.0</td>\n",
              "      <td>0.0</td>\n",
              "      <td>1.0</td>\n",
              "      <td>2</td>\n",
              "      <td>1.0</td>\n",
              "      <td>1.0</td>\n",
              "      <td>3.0</td>\n",
              "      <td>1.0</td>\n",
              "      <td>0</td>\n",
              "      <td>0</td>\n",
              "      <td>2</td>\n",
              "      <td>3.0</td>\n",
              "      <td>2.0</td>\n",
              "      <td>2.0</td>\n",
              "      <td>11</td>\n",
              "      <td>0.0</td>\n",
              "      <td>0.0</td>\n",
              "    </tr>\n",
              "    <tr>\n",
              "      <th>9</th>\n",
              "      <td>2</td>\n",
              "      <td>3</td>\n",
              "      <td>1</td>\n",
              "      <td>6.0</td>\n",
              "      <td>5.0</td>\n",
              "      <td>0.0</td>\n",
              "      <td>1</td>\n",
              "      <td>1</td>\n",
              "      <td>0.0</td>\n",
              "      <td>0.0</td>\n",
              "      <td>0.0</td>\n",
              "      <td>1</td>\n",
              "      <td>1</td>\n",
              "      <td>1.0</td>\n",
              "      <td>0.0</td>\n",
              "      <td>1.0</td>\n",
              "      <td>2.0</td>\n",
              "      <td>2.0</td>\n",
              "      <td>2.0</td>\n",
              "      <td>3.0</td>\n",
              "      <td>3.0</td>\n",
              "      <td>0.0</td>\n",
              "      <td>1.0</td>\n",
              "      <td>0.0</td>\n",
              "      <td>0.0</td>\n",
              "      <td>0.0</td>\n",
              "      <td>0.0</td>\n",
              "      <td>0.0</td>\n",
              "      <td>0.0</td>\n",
              "      <td>0</td>\n",
              "      <td>1.0</td>\n",
              "      <td>1.0</td>\n",
              "      <td>3.0</td>\n",
              "      <td>1.0</td>\n",
              "      <td>0</td>\n",
              "      <td>0</td>\n",
              "      <td>2</td>\n",
              "      <td>2.0</td>\n",
              "      <td>1.0</td>\n",
              "      <td>1.0</td>\n",
              "      <td>8</td>\n",
              "      <td>0.0</td>\n",
              "      <td>0.0</td>\n",
              "    </tr>\n",
              "  </tbody>\n",
              "</table>\n",
              "</div>"
            ],
            "text/plain": [
              "   EW5  EW6  EW8  EW9  EW10  EW14A  ...  ID13  COPC  INCOMEPC  NPERSONS  ED2  ED4\n",
              "0    2    4    1  4.0   5.0    0.0  ...   3.0   2.0       2.0         9  0.0  0.0\n",
              "1    4    2    1  3.0   5.0    0.0  ...   3.0   2.0       2.0         9  1.0  1.0\n",
              "6    4    2    1  1.0   2.0    0.0  ...   2.0   2.0       2.0        10  0.0  0.0\n",
              "7    4    2    1  2.0   4.0    0.0  ...   3.0   2.0       2.0        11  0.0  0.0\n",
              "9    2    3    1  6.0   5.0    0.0  ...   2.0   1.0       1.0         8  0.0  0.0\n",
              "\n",
              "[5 rows x 43 columns]"
            ]
          },
          "metadata": {
            "tags": []
          },
          "execution_count": 23
        }
      ]
    },
    {
      "cell_type": "code",
      "metadata": {
        "id": "QtVFfFDczvL4",
        "colab_type": "code",
        "colab": {}
      },
      "source": [
        "df_ew5 = pd.read_csv(\"cleaned_data.csv.txt\", index_col = 0)"
      ],
      "execution_count": 0,
      "outputs": []
    },
    {
      "cell_type": "code",
      "metadata": {
        "id": "U1I8JSC0zvL8",
        "colab_type": "code",
        "colab": {}
      },
      "source": [
        "df_ew5_dropped_na = df_ew5.dropna()"
      ],
      "execution_count": 0,
      "outputs": []
    },
    {
      "cell_type": "code",
      "metadata": {
        "id": "Yaz4A17b6d0d",
        "colab_type": "code",
        "outputId": "4894dc74-a18b-480c-ef96-b3364f828e74",
        "colab": {
          "base_uri": "https://localhost:8080/",
          "height": 34
        }
      },
      "source": [
        "df_ew5_dropped_na.shape"
      ],
      "execution_count": 4,
      "outputs": [
        {
          "output_type": "execute_result",
          "data": {
            "text/plain": [
              "(22345, 43)"
            ]
          },
          "metadata": {
            "tags": []
          },
          "execution_count": 4
        }
      ]
    },
    {
      "cell_type": "code",
      "metadata": {
        "id": "GzUaJ2Wc2QUq",
        "colab_type": "code",
        "outputId": "5f518d4a-92c7-4b7a-f1cd-f4c7f276bc15",
        "colab": {
          "base_uri": "https://localhost:8080/",
          "height": 280
        }
      },
      "source": [
        "# Standardize the data to have a mean of ~0 and a variance of 1\n",
        "X_std = StandardScaler().fit_transform(df_ew5_dropped_na)\n",
        "# Create a PCA instance: pca\n",
        "pca = PCA(n_components=20)\n",
        "principalComponents = pca.fit_transform(X_std)\n",
        "# Plot the explained variances\n",
        "features = range(pca.n_components_)\n",
        "plt.bar(features, pca.explained_variance_ratio_, color='black')\n",
        "plt.xlabel('PCA features')\n",
        "plt.ylabel('variance %')\n",
        "plt.xticks(features)\n",
        "# Save components to a DataFrame\n",
        "PCA_components = pd.DataFrame(principalComponents)"
      ],
      "execution_count": 0,
      "outputs": [
        {
          "output_type": "display_data",
          "data": {
            "image/png": "[encoded data removed]",
            "text/plain": [
              "<Figure size 432x288 with 1 Axes>"
            ]
          },
          "metadata": {
            "tags": []
          }
        }
      ]
    },
    {
      "cell_type": "code",
      "metadata": {
        "id": "JBs5z-VB2p7B",
        "colab_type": "code",
        "outputId": "6b441d5e-8467-4889-fa67-5a74de73789a",
        "colab": {
          "base_uri": "https://localhost:8080/",
          "height": 296
        }
      },
      "source": [
        "plt.scatter(PCA_components[0], PCA_components[1], alpha=.1, color='black')\n",
        "plt.xlabel('PCA 1')\n",
        "plt.ylabel('PCA 2')"
      ],
      "execution_count": 0,
      "outputs": [
        {
          "output_type": "execute_result",
          "data": {
            "text/plain": [
              "Text(0, 0.5, 'PCA 2')"
            ]
          },
          "metadata": {
            "tags": []
          },
          "execution_count": 8
        },
        {
          "output_type": "display_data",
          "data": {
            "image/png": "[encoded data removed]",
            "text/plain": [
              "<Figure size 432x288 with 1 Axes>"
            ]
          },
          "metadata": {
            "tags": []
          }
        }
      ]
    },
    {
      "cell_type": "code",
      "metadata": {
        "id": "1kbmxvyS3AzN",
        "colab_type": "code",
        "outputId": "cc30bb96-85cd-4300-c736-4aea2a6b3417",
        "colab": {
          "base_uri": "https://localhost:8080/",
          "height": 280
        }
      },
      "source": [
        "ks = range(1, 10)\n",
        "inertias = []\n",
        "for k in ks:\n",
        "    # Create a KMeans instance with k clusters: model\n",
        "    model = KMeans(n_clusters=k)\n",
        "    \n",
        "    # Fit model to samples\n",
        "    model.fit(PCA_components.iloc[:,:3])\n",
        "    \n",
        "    # Append the inertia to the list of inertias\n",
        "    inertias.append(model.inertia_)\n",
        "    \n",
        "plt.plot(ks, inertias, '-o', color='black')\n",
        "plt.xlabel('number of clusters, k')\n",
        "plt.ylabel('inertia')\n",
        "plt.xticks(ks)\n",
        "plt.show()"
      ],
      "execution_count": 0,
      "outputs": [
        {
          "output_type": "display_data",
          "data": {
            "image/png": "[encoded data removed]",
            "text/plain": [
              "<Figure size 432x288 with 1 Axes>"
            ]
          },
          "metadata": {
            "tags": []
          }
        }
      ]
    },
    {
      "cell_type": "code",
      "metadata": {
        "id": "nUuxM9F35pIe",
        "colab_type": "code",
        "colab": {}
      },
      "source": [
        "pca = PCA(n_components=3)\n",
        "new_df_pca = pca.fit_transform(df_ew5_dropped_na)"
      ],
      "execution_count": 0,
      "outputs": []
    },
    {
      "cell_type": "code",
      "metadata": {
        "id": "Sn5LtzKE6Slw",
        "colab_type": "code",
        "outputId": "9bab6c5d-d402-43c0-a0e1-544d1a2060d2",
        "colab": {
          "base_uri": "https://localhost:8080/",
          "height": 138
        }
      },
      "source": [
        "existing_df_2d = pd.DataFrame(new_df_pca)\n",
        "existing_df_2d.index = df_ew5_dropped_na.index\n",
        "existing_df_2d.columns = ['PC1','PC2']\n",
        "print(existing_df_2d.head())\n",
        "print(existing_df_2d.shape)"
      ],
      "execution_count": 0,
      "outputs": [
        {
          "output_type": "stream",
          "text": [
            "             PC1          PC2\n",
            "0   -8336.171010 -4665.973871\n",
            "1   -8336.171567 -4665.972916\n",
            "6   -9820.398411  7440.944874\n",
            "7  -17661.554468  7992.017257\n",
            "11 -22984.290601 -1029.195320\n",
            "(20324, 2)\n"
          ],
          "name": "stdout"
        }
      ]
    },
    {
      "cell_type": "code",
      "metadata": {
        "id": "sdCzud0oDToK",
        "colab_type": "code",
        "colab": {}
      },
      "source": [
        " import numpy as np \n",
        " \n",
        " df_matrix = np.array(df_ew5_dropped_na.to_numpy())"
      ],
      "execution_count": 0,
      "outputs": []
    },
    {
      "cell_type": "code",
      "metadata": {
        "id": "zE-CGhQ0Daa5",
        "colab_type": "code",
        "outputId": "4113eb46-27ef-453b-9cc0-45700c524f6d",
        "colab": {
          "base_uri": "https://localhost:8080/",
          "height": 34
        }
      },
      "source": [
        "df_matrix.shape"
      ],
      "execution_count": 0,
      "outputs": [
        {
          "output_type": "execute_result",
          "data": {
            "text/plain": [
              "(22345, 43)"
            ]
          },
          "metadata": {
            "tags": []
          },
          "execution_count": 9
        }
      ]
    },
    {
      "cell_type": "code",
      "metadata": {
        "id": "_Wc7SQ_uzvL-",
        "colab_type": "code",
        "colab": {}
      },
      "source": [
        "from sklearn.cluster import AffinityPropagation\n",
        "clustering = AffinityPropagation().fit(df_matrix)"
      ],
      "execution_count": 0,
      "outputs": []
    },
    {
      "cell_type": "code",
      "metadata": {
        "id": "X1-5vocV-C2g",
        "colab_type": "code",
        "colab": {}
      },
      "source": [
        "cluster_centers_indices = clustering.cluster_centers_indices_\n",
        "labels = clustering.labels_\n",
        "\n",
        "n_clusters_ = len(cluster_centers_indices)\n",
        "\n",
        "print('Estimated number of clusters: %d' % n_clusters_)"
      ],
      "execution_count": 0,
      "outputs": []
    },
    {
      "cell_type": "code",
      "metadata": {
        "id": "R1Roy2wX-WdI",
        "colab_type": "code",
        "colab": {}
      },
      "source": [
        "import pickle\n",
        "\n",
        "pickle.dump(clustering.cluster_centers_,open(\"cs_cluster_centers.dat\",\"wb\"))\n",
        "pickle.dump(clustering.cluster_centers_indices_,open(\"cs_cluster_centers_indices.dat\",\"wb\"))\n",
        "pickle.dump(clustering.labels_,open(\"cs_cluster_labels.dat\",\"wb\"))"
      ],
      "execution_count": 0,
      "outputs": []
    },
    {
      "cell_type": "code",
      "metadata": {
        "id": "FZ1phKcX-jXX",
        "colab_type": "code",
        "outputId": "5495ea90-a569-4ece-848e-c5e39cb55944",
        "colab": {
          "base_uri": "https://localhost:8080/",
          "height": 221
        }
      },
      "source": [
        "clustering.cluster_centers_[:1]"
      ],
      "execution_count": 0,
      "outputs": [
        {
          "output_type": "execute_result",
          "data": {
            "text/plain": [
              "array([[1.00000000e+00, 1.00000000e+01, 2.00000000e+00, 4.90000000e+01,\n",
              "        0.00000000e+00, 4.00000000e+00, 5.00000000e+00, 0.00000000e+00,\n",
              "        0.00000000e+00, 0.00000000e+00, 0.00000000e+00, 0.00000000e+00,\n",
              "        0.00000000e+00, 1.60000000e+01, 1.50000000e+01, 0.00000000e+00,\n",
              "        1.00000000e+00, 1.00000000e+00, 3.00000000e+00, 2.00000000e+00,\n",
              "        4.00000000e+00, 4.00000000e+00, 2.00000000e+00, 1.00000000e+00,\n",
              "        1.00000000e+00, 0.00000000e+00, 0.00000000e+00, 0.00000000e+00,\n",
              "        0.00000000e+00, 0.00000000e+00, 0.00000000e+00, 1.00000000e+00,\n",
              "        1.00000000e+01, 1.80000000e+01, 1.00000000e+00, 3.00000000e+00,\n",
              "        0.00000000e+00, 0.00000000e+00, 2.00000000e+00, 3.00000000e+00,\n",
              "        2.84764453e+04, 1.95666660e+04, 9.00000000e+00, 0.00000000e+00,\n",
              "        0.00000000e+00]])"
            ]
          },
          "metadata": {
            "tags": []
          },
          "execution_count": 14
        }
      ]
    },
    {
      "cell_type": "code",
      "metadata": {
        "id": "a5CfTsCDbM6i",
        "colab_type": "code",
        "outputId": "29b1317f-b9b5-4392-b02d-c582d370c6d1",
        "colab": {
          "base_uri": "https://localhost:8080/",
          "height": 34
        }
      },
      "source": [
        "len(clustering.labels_)"
      ],
      "execution_count": 0,
      "outputs": [
        {
          "output_type": "execute_result",
          "data": {
            "text/plain": [
              "20324"
            ]
          },
          "metadata": {
            "tags": []
          },
          "execution_count": 15
        }
      ]
    },
    {
      "cell_type": "code",
      "metadata": {
        "id": "nkGN12HYctrw",
        "colab_type": "code",
        "outputId": "e4900c16-a766-4b02-ab42-ec25ac667a1f",
        "colab": {
          "base_uri": "https://localhost:8080/",
          "height": 445
        }
      },
      "source": [
        "# clustering for EW16A (mother's literacy) and MH1A (literacy of the women)\n",
        "import pickle\n",
        "import matplotlib.pyplot as plt\n",
        "\n",
        "labels = pickle.load(open(\"cs_cluster_labels.dat\", \"rb\"))\n",
        "\n",
        "plt.figure(figsize=(10, 7))\n",
        "plt.scatter(df_matrix[:,10], df_matrix[:,32], c=labels, cmap='rainbow')"
      ],
      "execution_count": 0,
      "outputs": [
        {
          "output_type": "execute_result",
          "data": {
            "text/plain": [
              "<matplotlib.collections.PathCollection at 0x7fd840a36f28>"
            ]
          },
          "metadata": {
            "tags": []
          },
          "execution_count": 16
        },
        {
          "output_type": "display_data",
          "data": {
            "image/png": "[encoded data removed]",
            "text/plain": [
              "<Figure size 720x504 with 1 Axes>"
            ]
          },
          "metadata": {
            "tags": []
          }
        }
      ]
    },
    {
      "cell_type": "code",
      "metadata": {
        "id": "lc2hb4e2OjgU",
        "colab_type": "code",
        "colab": {}
      },
      "source": [
        ""
      ],
      "execution_count": 0,
      "outputs": []
    }
  ]
}