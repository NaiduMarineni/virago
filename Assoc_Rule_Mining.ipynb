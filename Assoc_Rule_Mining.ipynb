{
  "nbformat": 4,
  "nbformat_minor": 0,
  "metadata": {
    "colab": {
      "name": "Assoc_Rule_Mining.ipynb",
      "provenance": [],
      "collapsed_sections": [
        "NYqQ4i-LoQNw",
        "qzinfxGkogR1",
        "vIYya8cpu0Mo",
        "YAy29kgBu0ND",
        "wm5tf6JuxoqC"
      ],
      "toc_visible": true
    },
    "kernelspec": {
      "name": "python3",
      "display_name": "Python 3"
    }
  },
  "cells": [
    {
      "cell_type": "code",
      "metadata": {
        "id": "R36H0fffUyNI",
        "colab_type": "code",
        "colab": {}
      },
      "source": [
        "import pandas as pd\n",
        "import numpy as np\n",
        "from mlxtend.preprocessing import TransactionEncoder\n",
        "from mlxtend.frequent_patterns import apriori\n",
        "from mlxtend.frequent_patterns import association_rules"
      ],
      "execution_count": 0,
      "outputs": []
    },
    {
      "cell_type": "code",
      "metadata": {
        "id": "TgJtvBNbU_vN",
        "colab_type": "code",
        "colab": {}
      },
      "source": [
        "def get_clean_data(file_name):\n",
        "  df = pd.read_csv(file_name, sep='\\t', engine='python')\n",
        "\n",
        "  # Replace the empty values by NaN value\n",
        "  df = df.replace(r'^\\s*$', np.nan, regex=True)\n",
        "\n",
        "  # Find the number of valid values for each column\n",
        "  counts = df.count().to_frame('count')\n",
        "  print(\"NUmber of columns in the given data = \", counts.shape[0])\n",
        "\n",
        "  # Select the columns that have 3/4 th values as valid\n",
        "  filter_columns_df = counts.loc[counts['count']>=int(df.shape[0]*0.70)]\n",
        "  filter_columns_list = filter_columns_df.index.tolist()\n",
        "  print(\"Number of columns chosen for analysis = \", filter_columns_df.shape[0])\n",
        "\n",
        "  # Drop the remaining columns from data frame\n",
        "  df = df[filter_columns_list]\n",
        "  return df"
      ],
      "execution_count": 0,
      "outputs": []
    },
    {
      "cell_type": "code",
      "metadata": {
        "id": "lcfJvkrpVNog",
        "colab_type": "code",
        "colab": {}
      },
      "source": [
        "def filter_dataframe(dataframe, filter):\n",
        "  return dataframe[filter]"
      ],
      "execution_count": 0,
      "outputs": []
    },
    {
      "cell_type": "code",
      "metadata": {
        "id": "YeP6DP3aVnrY",
        "colab_type": "code",
        "colab": {}
      },
      "source": [
        "def format_data(format_df):\n",
        "  dataframe = format_df.copy()\n",
        "  if 'EW6' in dataframe.columns:\n",
        "    bins= [0, 18, 30, 40, 50, 60, 150]\n",
        "    labels = [0, 1, 2, 3, 4, 5]\n",
        "    dataframe['EW6'] = pd.cut(dataframe['EW6'], bins=bins, labels=labels, right=False)\n",
        "    dataframe.head()\n",
        "\n",
        "  if 'EW8' in dataframe.columns:\n",
        "    dataframe['EW8'].fillna(0, inplace=True)\n",
        "    dataframe['EW8'] = dataframe['EW8'].astype(int)\n",
        "    dataframe.loc[dataframe['EW8'].between(1,10), 'EW8'] = 1\n",
        "    dataframe.loc[dataframe['EW8'].between(11,12), 'EW8'] = 2\n",
        "    dataframe.loc[dataframe['EW8'].between(13,14), 'EW8'] = 3\n",
        "\n",
        "  if 'EW10' in dataframe.columns:\n",
        "    dataframe['EW10'].fillna(0, inplace=True)\n",
        "    dataframe['EW10'] = dataframe['EW10'].astype(int)\n",
        "    dataframe.loc[dataframe['EW10'].between(1,3), 'EW10'] = 1\n",
        "    dataframe.loc[dataframe['EW10'].between(4,5), 'EW10'] = 2\n",
        "\n",
        "  if 'EW15A' in dataframe.columns:\n",
        "    dataframe['EW15A'].fillna(0, inplace=True)\n",
        "    dataframe['EW15A'] = dataframe['EW15A'].astype(int)\n",
        "    dataframe.loc[dataframe['EW15A'].between(1,10), 'EW15A'] = 1\n",
        "    dataframe.loc[dataframe['EW15A'].between(11,12), 'EW15A'] = 2\n",
        "    dataframe.loc[dataframe['EW15A'].between(13,14), 'EW15A'] = 3\n",
        "\n",
        "  if 'EW15B' in dataframe.columns:\n",
        "    dataframe['EW15B'].fillna(0, inplace=True)\n",
        "    dataframe['EW15B'] = dataframe['EW15B'].astype(int)\n",
        "    dataframe.loc[dataframe['EW15B'].between(1,10), 'EW15B'] = 1\n",
        "    dataframe.loc[dataframe['EW15B'].between(11,12), 'EW15B'] = 2\n",
        "    dataframe.loc[dataframe['EW15B'].between(13,14), 'EW15B'] = 3\n",
        "\n",
        "  if 'MH1A' in dataframe.columns:\n",
        "    bins= [1, 18, 30, 40, 50, 60]\n",
        "    labels = [1, 2, 3, 4, 5]     \n",
        "    dataframe['MH1A'].fillna(0, inplace=True)\n",
        "    dataframe['MH1A'] = dataframe['MH1A'].astype(int)\n",
        "    dataframe['MH1A'] = pd.cut(dataframe['MH1A'], bins=bins, labels=labels, right=False)\n",
        "\n",
        "  if 'COPC' in dataframe.columns:\n",
        "    dataframe['COPC'] = df['COPC'].astype(float)\n",
        "    quant = dataframe['COPC'].quantile([0.25,0.75])\n",
        "    dataframe.loc[dataframe['COPC'] < quant[0.25], 'COPC'] = 1\n",
        "    dataframe.loc[dataframe['COPC'].between(quant[0.25],quant[0.75]), 'COPC'] = 2\n",
        "    dataframe.loc[dataframe['COPC'] >  quant[0.75], 'COPC'] = 3\n",
        "    dataframe['COPC'].unique()\n",
        "\n",
        "  if 'INCOMEPC' in dataframe.columns:\n",
        "    quant = dataframe['INCOMEPC'].quantile([0.25,0.75])\n",
        "    dataframe.loc[dataframe['INCOMEPC'] < quant[0.25], 'INCOMEPC'] = 1\n",
        "    dataframe.loc[dataframe['INCOMEPC'].between(quant[0.25],quant[0.75]), 'INCOMEPC'] = 2\n",
        "    dataframe.loc[dataframe['INCOMEPC'] >  quant[0.75], 'INCOMEPC'] = 3\n",
        "    dataframe['INCOMEPC'].unique()\n",
        "  \n",
        "  return dataframe"
      ],
      "execution_count": 0,
      "outputs": []
    },
    {
      "cell_type": "code",
      "metadata": {
        "id": "entE8XB0WrNT",
        "colab_type": "code",
        "colab": {}
      },
      "source": [
        "def is_nan(x):\n",
        "  return (x is np.nan or x != x)"
      ],
      "execution_count": 0,
      "outputs": []
    },
    {
      "cell_type": "code",
      "metadata": {
        "id": "kXxNEuz_WQaW",
        "colab_type": "code",
        "colab": {}
      },
      "source": [
        "def get_transaction_df(df_filtered):\n",
        "  transactions = []\n",
        "  for index, row in df_filtered.iterrows():\n",
        "    tran = []\n",
        "    for col in df_filtered.columns:\n",
        "      if not is_nan(row[col]):\n",
        "        tran.append(col + \"_\" + str(row[col]))\n",
        "    transactions.append(tran)\n",
        "\n",
        "  te = TransactionEncoder()\n",
        "  te_ary = te.fit(transactions).transform(transactions)\n",
        "  trans_df = pd.DataFrame(te_ary, columns=te.columns_)\n",
        "  return trans_df"
      ],
      "execution_count": 0,
      "outputs": []
    },
    {
      "cell_type": "code",
      "metadata": {
        "id": "9erPNLIvXEYV",
        "colab_type": "code",
        "colab": {}
      },
      "source": [
        "def get_frequent_itemsets(trans_df, min_sup):\n",
        "  frequent_itemsets = apriori(trans_df, min_support=min_sup, use_colnames=True)\n",
        "  frequent_itemsets['length'] = frequent_itemsets['itemsets'].apply(lambda x: len(x))\n",
        "  return frequent_itemsets"
      ],
      "execution_count": 0,
      "outputs": []
    },
    {
      "cell_type": "code",
      "metadata": {
        "id": "Vnr11TgwXWtN",
        "colab_type": "code",
        "colab": {}
      },
      "source": [
        "def get_assoc_rules(freq_itemsets, min_conf):\n",
        "  rules = association_rules(freq_itemsets, metric=\"confidence\", min_threshold=min_conf)\n",
        "  rules[\"antecedent_len\"] = rules[\"antecedents\"].apply(lambda x: len(x))\n",
        "  return rules"
      ],
      "execution_count": 0,
      "outputs": []
    },
    {
      "cell_type": "code",
      "metadata": {
        "id": "IBd8oYSEYAH1",
        "colab_type": "code",
        "colab": {}
      },
      "source": [
        "def get_lookup():\n",
        "  lookup = dict()\n",
        "  lookup['EW5'] = \"Relationship to Household head\"\n",
        "  lookup['EW6'] = \"Age (in years)\"\n",
        "  lookup['EW7Y'] = \"Year of birth\"\n",
        "  lookup['EW8'] = \"Years of education completed\"\n",
        "  lookup['EW9'] = \"N children alive\"\n",
        "  lookup['EW10'] = \"Your general health\"\n",
        "  lookup['EW13A'] = \"Mother lives in household\"\n",
        "  lookup['EW13B'] = \"Father lives in household\"\n",
        "  lookup['EW14A'] = \"Mother attended school\"\n",
        "  lookup['EW15A'] = \"Mother education\"\n",
        "  lookup['EW15B'] = \"Father education\"\n",
        "  lookup['EW16A'] = \"Mother literate\"\n",
        "  lookup['EW16B'] = \"Father literate\"\n",
        "  lookup['EW16C'] = \"Mother-in-law literate\"\n",
        "  lookup['EW18A'] = \"Brother highest education\"\n",
        "  lookup['EW18B'] = \"Sister highest education\"\n",
        "  lookup['HB1'] = \"glasses of milk daily harmful during pregnancy\"\n",
        "  lookup['HB2'] = \"Belief: Men physically weak months after sterilization\"\n",
        "  lookup['HB3'] = \"Belief: 1st milk after birth good for baby\"\n",
        "  lookup['HB4'] = \"Belief: Chulha smoke good for health\"\n",
        "  lookup['HB5'] = \"Belief: Child diarrhea more to drink\"\n",
        "  lookup['HB6'] = \"Belief: Illness spread through impure water\"\n",
        "  lookup['HB7'] = \"Belief: How Malaria spreads\"\n",
        "  lookup['HB8'] = \"Belief: Pregnancy most likely during menstrual cycle\"\n",
        "  lookup['AI1'] = \"HIV/AIDS Awareness\"\n",
        "  lookup['GR9F'] = \"Can visit health centre alone (permission needed or not)\"\n",
        "  lookup['GR13A'] = \"Past 5 years: Been to metro city (beside current residence)\"\n",
        "  lookup['GR16A'] = \"Past 5 years: Been to another state\"\n",
        "  lookup['GR17A'] = \"Past 5 years: Been abroad\"\n",
        "  lookup['GR18A'] = \"Are you a member of a: Mahila Mandal\"\n",
        "  lookup['GR18B'] = \"Are you a member of a: Self-help group\"\n",
        "  lookup['GR22'] = \"Family outings to cinema, mela, or restaurant\"\n",
        "  lookup['GR27A'] = \"Family member has bank account\"\n",
        "  lookup['MH1A'] = \"Age at marriage (in years)\"\n",
        "  lookup['MH1E'] = \"Age first started menarche (in years)\"\n",
        "  lookup['MH2'] = \"Marriage status\"\n",
        "  lookup['MH4A'] = \"Who chose your husband\"\n",
        "  lookup['MH4B'] = \"Did you have any say in choosing your husband\"\n",
        "  lookup['FP2A'] = \"Currently use contraceptives\"\n",
        "  lookup['URBAN2011'] = \"Urban residence from census 2011\"\n",
        "  lookup['METRO'] = \"Largest 6 metro areas 0/1\"\n",
        "  lookup['ID11'] = \"Religion\"\n",
        "  lookup['ID13'] = \"Caste category\"\n",
        "  lookup['COPC'] = \"Household expenditure /capita\"\n",
        "  lookup['INCOMEPC'] = \"per capita income\"\n",
        "  lookup['NPERSONS'] = \"N in household\"\n",
        "  lookup['ED2'] = \"Education: Literacy\"\n",
        "  lookup['ED4'] = \"Education: Attended school\"\n",
        "  lookup['boyEducated'] = \"Boy Educated\"\n",
        "  lookup['girlEducated'] = \"Girl Educated\"\n",
        "  return lookup"
      ],
      "execution_count": 0,
      "outputs": []
    },
    {
      "cell_type": "code",
      "metadata": {
        "id": "xPBP7qMBiZ26",
        "colab_type": "code",
        "colab": {}
      },
      "source": [
        "def format_item(item):\n",
        "  return item.split(\"_\")"
      ],
      "execution_count": 0,
      "outputs": []
    },
    {
      "cell_type": "code",
      "metadata": {
        "id": "0cnQUXPmiQee",
        "colab_type": "code",
        "colab": {}
      },
      "source": [
        "def print_freq_itemsets(freq_itemsets, lookup):\n",
        "  for index, row in freq_itemsets.iterrows():\n",
        "    items = row['itemsets']\n",
        "    for a in items:\n",
        "      item = format_item(a)\n",
        "      print(lookup[item[0]],\" \\\"\", item[1], \"\\\", \", end =\" \") \n",
        "    print(\"  Support : \", row['support'])"
      ],
      "execution_count": 0,
      "outputs": []
    },
    {
      "cell_type": "code",
      "metadata": {
        "id": "iuKa9mK0iqYt",
        "colab_type": "code",
        "colab": {}
      },
      "source": [
        "def print_assoc_rules(assoc_rules, lookup):\n",
        "  for index, row in assoc_rules.iterrows():\n",
        "    ant = row['antecedents']\n",
        "    con = row['consequents']\n",
        "    for a in ant:\n",
        "      item = format_item(a)\n",
        "      print(lookup[item[0]],\" \\\"\", item[1], \"\\\", \", end =\" \") \n",
        "    print(\" =====> \", end =\" \") \n",
        "    for c in con:\n",
        "      item = format_item(c)\n",
        "      print(lookup[item[0]],\" \\\"\", item[1], \"\\\", \", end =\" \") \n",
        "    print()"
      ],
      "execution_count": 0,
      "outputs": []
    },
    {
      "cell_type": "code",
      "metadata": {
        "id": "pqpoZCeUm72K",
        "colab_type": "code",
        "colab": {}
      },
      "source": [
        "def print_items(items, lookup):\n",
        "  for item in items:\n",
        "    print(item, \" ==> \", lookup[item])"
      ],
      "execution_count": 0,
      "outputs": []
    },
    {
      "cell_type": "code",
      "metadata": {
        "id": "Ft6peLqRm8mT",
        "colab_type": "code",
        "colab": {}
      },
      "source": [
        ""
      ],
      "execution_count": 0,
      "outputs": []
    },
    {
      "cell_type": "code",
      "metadata": {
        "id": "3wqId93Cm8pQ",
        "colab_type": "code",
        "colab": {}
      },
      "source": [
        ""
      ],
      "execution_count": 0,
      "outputs": []
    },
    {
      "cell_type": "code",
      "metadata": {
        "id": "Jy5G5NQgm9Yh",
        "colab_type": "code",
        "colab": {}
      },
      "source": [
        ""
      ],
      "execution_count": 0,
      "outputs": []
    },
    {
      "cell_type": "code",
      "metadata": {
        "id": "yWdgcHrFm9bi",
        "colab_type": "code",
        "colab": {}
      },
      "source": [
        ""
      ],
      "execution_count": 0,
      "outputs": []
    },
    {
      "cell_type": "code",
      "metadata": {
        "id": "3EYbagrlZV40",
        "colab_type": "code",
        "outputId": "5be4a5fa-1df2-4cc8-a22a-aa8b83ed89c1",
        "colab": {
          "base_uri": "https://localhost:8080/",
          "height": 287
        }
      },
      "source": [
        "df = get_clean_data(\"36151-0003-Data.tsv\")\n",
        "df.head()"
      ],
      "execution_count": 0,
      "outputs": [
        {
          "output_type": "stream",
          "text": [
            "NUmber of columns in the given data =  580\n",
            "Number of columns chosen for analysis =  350\n"
          ],
          "name": "stdout"
        },
        {
          "output_type": "execute_result",
          "data": {
            "text/html": [
              "<div>\n",
              "<style scoped>\n",
              "    .dataframe tbody tr th:only-of-type {\n",
              "        vertical-align: middle;\n",
              "    }\n",
              "\n",
              "    .dataframe tbody tr th {\n",
              "        vertical-align: top;\n",
              "    }\n",
              "\n",
              "    .dataframe thead th {\n",
              "        text-align: right;\n",
              "    }\n",
              "</style>\n",
              "<table border=\"1\" class=\"dataframe\">\n",
              "  <thead>\n",
              "    <tr style=\"text-align: right;\">\n",
              "      <th></th>\n",
              "      <th>SURVEY</th>\n",
              "      <th>STATEID</th>\n",
              "      <th>DISTID</th>\n",
              "      <th>PSUID</th>\n",
              "      <th>HHID</th>\n",
              "      <th>HHSPLITID</th>\n",
              "      <th>PERSONID</th>\n",
              "      <th>IDPSU</th>\n",
              "      <th>IDHH</th>\n",
              "      <th>IDPERSON</th>\n",
              "      <th>GE10A</th>\n",
              "      <th>GE10B</th>\n",
              "      <th>GE11</th>\n",
              "      <th>GE12</th>\n",
              "      <th>GE13</th>\n",
              "      <th>CD3D</th>\n",
              "      <th>CD3M</th>\n",
              "      <th>CD3Y</th>\n",
              "      <th>CD3DATE</th>\n",
              "      <th>CD4A</th>\n",
              "      <th>CD4B</th>\n",
              "      <th>CD4C</th>\n",
              "      <th>EW5</th>\n",
              "      <th>EW6</th>\n",
              "      <th>EW8</th>\n",
              "      <th>EW9</th>\n",
              "      <th>EW10</th>\n",
              "      <th>EW11</th>\n",
              "      <th>EW12A</th>\n",
              "      <th>EW12B</th>\n",
              "      <th>EW12C</th>\n",
              "      <th>EW12D</th>\n",
              "      <th>EW13A</th>\n",
              "      <th>EW14A</th>\n",
              "      <th>EW14B</th>\n",
              "      <th>EW14C</th>\n",
              "      <th>EW14D</th>\n",
              "      <th>EW15A</th>\n",
              "      <th>EW15B</th>\n",
              "      <th>EW15C</th>\n",
              "      <th>...</th>\n",
              "      <th>AP9</th>\n",
              "      <th>EWELIGIBLE</th>\n",
              "      <th>WKANY5</th>\n",
              "      <th>WKANIMAL</th>\n",
              "      <th>WKBUSINESS</th>\n",
              "      <th>WKAGLAB</th>\n",
              "      <th>WKFARM</th>\n",
              "      <th>WKNONAG</th>\n",
              "      <th>WKSALARY</th>\n",
              "      <th>WKNREGA</th>\n",
              "      <th>WKHOURS</th>\n",
              "      <th>NFHOURS</th>\n",
              "      <th>WKDAYS</th>\n",
              "      <th>NFDAYS</th>\n",
              "      <th>RSUNEARN</th>\n",
              "      <th>SPRO10</th>\n",
              "      <th>SPRO3</th>\n",
              "      <th>SPRO4</th>\n",
              "      <th>SPRO5</th>\n",
              "      <th>SPRO6</th>\n",
              "      <th>SPRO8</th>\n",
              "      <th>SPED2</th>\n",
              "      <th>SPED3</th>\n",
              "      <th>SPED4</th>\n",
              "      <th>SPED6</th>\n",
              "      <th>SPWKANY5</th>\n",
              "      <th>SPWKANIMAL</th>\n",
              "      <th>SPWKBUSINESS</th>\n",
              "      <th>SPWKAGLAB</th>\n",
              "      <th>SPWKFARM</th>\n",
              "      <th>SPWKNONAG</th>\n",
              "      <th>SPWKHOURS</th>\n",
              "      <th>SPWKDAYS</th>\n",
              "      <th>EWQELIGIBLE</th>\n",
              "      <th>AGERANK</th>\n",
              "      <th>NEVMFEM</th>\n",
              "      <th>EWPOSITION</th>\n",
              "      <th>NEWQELIGIBLE</th>\n",
              "      <th>WTEW</th>\n",
              "      <th>FWTEW</th>\n",
              "    </tr>\n",
              "  </thead>\n",
              "  <tbody>\n",
              "    <tr>\n",
              "      <th>0</th>\n",
              "      <td>2</td>\n",
              "      <td>1</td>\n",
              "      <td>2</td>\n",
              "      <td>1</td>\n",
              "      <td>10</td>\n",
              "      <td>1</td>\n",
              "      <td>2</td>\n",
              "      <td>10201</td>\n",
              "      <td>102010101</td>\n",
              "      <td>10201010102</td>\n",
              "      <td>1</td>\n",
              "      <td>1</td>\n",
              "      <td>2</td>\n",
              "      <td>2</td>\n",
              "      <td>9</td>\n",
              "      <td>3</td>\n",
              "      <td>7</td>\n",
              "      <td>2012</td>\n",
              "      <td>19177</td>\n",
              "      <td>10</td>\n",
              "      <td>50</td>\n",
              "      <td>1</td>\n",
              "      <td>2</td>\n",
              "      <td>49</td>\n",
              "      <td>0</td>\n",
              "      <td>4</td>\n",
              "      <td>5</td>\n",
              "      <td>2</td>\n",
              "      <td>1</td>\n",
              "      <td>0</td>\n",
              "      <td>1</td>\n",
              "      <td>1</td>\n",
              "      <td>2</td>\n",
              "      <td>0</td>\n",
              "      <td>0</td>\n",
              "      <td>0</td>\n",
              "      <td>0</td>\n",
              "      <td>0</td>\n",
              "      <td>0</td>\n",
              "      <td>0</td>\n",
              "      <td>...</td>\n",
              "      <td>65.69999694825</td>\n",
              "      <td>1</td>\n",
              "      <td>2</td>\n",
              "      <td>3</td>\n",
              "      <td>0</td>\n",
              "      <td>0</td>\n",
              "      <td>2</td>\n",
              "      <td>0</td>\n",
              "      <td>0</td>\n",
              "      <td>0</td>\n",
              "      <td>24</td>\n",
              "      <td>0</td>\n",
              "      <td>6</td>\n",
              "      <td>0</td>\n",
              "      <td>175804.109375</td>\n",
              "      <td>69</td>\n",
              "      <td>1</td>\n",
              "      <td>1</td>\n",
              "      <td>57</td>\n",
              "      <td>1</td>\n",
              "      <td>2</td>\n",
              "      <td>0</td>\n",
              "      <td>0</td>\n",
              "      <td>0</td>\n",
              "      <td>0</td>\n",
              "      <td>4</td>\n",
              "      <td>0</td>\n",
              "      <td>0</td>\n",
              "      <td>0</td>\n",
              "      <td>0</td>\n",
              "      <td>3</td>\n",
              "      <td>4000</td>\n",
              "      <td>365</td>\n",
              "      <td>1</td>\n",
              "      <td>1</td>\n",
              "      <td>2</td>\n",
              "      <td>2</td>\n",
              "      <td>2</td>\n",
              "      <td>3687.926270</td>\n",
              "      <td>3688</td>\n",
              "    </tr>\n",
              "    <tr>\n",
              "      <th>1</th>\n",
              "      <td>2</td>\n",
              "      <td>1</td>\n",
              "      <td>2</td>\n",
              "      <td>1</td>\n",
              "      <td>10</td>\n",
              "      <td>1</td>\n",
              "      <td>6</td>\n",
              "      <td>10201</td>\n",
              "      <td>102010101</td>\n",
              "      <td>10201010106</td>\n",
              "      <td>NaN</td>\n",
              "      <td>NaN</td>\n",
              "      <td>NaN</td>\n",
              "      <td>NaN</td>\n",
              "      <td>NaN</td>\n",
              "      <td>3</td>\n",
              "      <td>7</td>\n",
              "      <td>2012</td>\n",
              "      <td>19177</td>\n",
              "      <td>10</td>\n",
              "      <td>15</td>\n",
              "      <td>1</td>\n",
              "      <td>4</td>\n",
              "      <td>26</td>\n",
              "      <td>8</td>\n",
              "      <td>3</td>\n",
              "      <td>5</td>\n",
              "      <td>2</td>\n",
              "      <td>1</td>\n",
              "      <td>1</td>\n",
              "      <td>1</td>\n",
              "      <td>1</td>\n",
              "      <td>2</td>\n",
              "      <td>0</td>\n",
              "      <td>1</td>\n",
              "      <td>0</td>\n",
              "      <td>0</td>\n",
              "      <td>0</td>\n",
              "      <td>6</td>\n",
              "      <td>0</td>\n",
              "      <td>...</td>\n",
              "      <td>60</td>\n",
              "      <td>1</td>\n",
              "      <td>0</td>\n",
              "      <td>0</td>\n",
              "      <td>0</td>\n",
              "      <td>0</td>\n",
              "      <td>0</td>\n",
              "      <td>0</td>\n",
              "      <td>0</td>\n",
              "      <td>0</td>\n",
              "      <td>0</td>\n",
              "      <td>0</td>\n",
              "      <td>0</td>\n",
              "      <td>0</td>\n",
              "      <td>176100.000000</td>\n",
              "      <td>2</td>\n",
              "      <td>1</td>\n",
              "      <td>3</td>\n",
              "      <td>29</td>\n",
              "      <td>1</td>\n",
              "      <td>6</td>\n",
              "      <td>1</td>\n",
              "      <td>1</td>\n",
              "      <td>1</td>\n",
              "      <td>9</td>\n",
              "      <td>4</td>\n",
              "      <td>0</td>\n",
              "      <td>0</td>\n",
              "      <td>0</td>\n",
              "      <td>0</td>\n",
              "      <td>3</td>\n",
              "      <td>3300</td>\n",
              "      <td>275</td>\n",
              "      <td>1</td>\n",
              "      <td>2</td>\n",
              "      <td>2</td>\n",
              "      <td>3</td>\n",
              "      <td>2</td>\n",
              "      <td>3687.926270</td>\n",
              "      <td>3688</td>\n",
              "    </tr>\n",
              "    <tr>\n",
              "      <th>2</th>\n",
              "      <td>2</td>\n",
              "      <td>1</td>\n",
              "      <td>2</td>\n",
              "      <td>1</td>\n",
              "      <td>20</td>\n",
              "      <td>1</td>\n",
              "      <td>8</td>\n",
              "      <td>10201</td>\n",
              "      <td>102010201</td>\n",
              "      <td>10201020108</td>\n",
              "      <td>1</td>\n",
              "      <td>1</td>\n",
              "      <td>1</td>\n",
              "      <td>3</td>\n",
              "      <td>3</td>\n",
              "      <td>3</td>\n",
              "      <td>7</td>\n",
              "      <td>2012</td>\n",
              "      <td>19177</td>\n",
              "      <td>10</td>\n",
              "      <td>0</td>\n",
              "      <td>1</td>\n",
              "      <td>4</td>\n",
              "      <td>33</td>\n",
              "      <td>12</td>\n",
              "      <td>3</td>\n",
              "      <td>3</td>\n",
              "      <td>3</td>\n",
              "      <td>1</td>\n",
              "      <td>1</td>\n",
              "      <td>0</td>\n",
              "      <td>1</td>\n",
              "      <td>2</td>\n",
              "      <td>0</td>\n",
              "      <td>0</td>\n",
              "      <td>0</td>\n",
              "      <td>1</td>\n",
              "      <td>0</td>\n",
              "      <td>0</td>\n",
              "      <td>0</td>\n",
              "      <td>...</td>\n",
              "      <td>60.29999923707</td>\n",
              "      <td>1</td>\n",
              "      <td>4</td>\n",
              "      <td>0</td>\n",
              "      <td>0</td>\n",
              "      <td>0</td>\n",
              "      <td>0</td>\n",
              "      <td>0</td>\n",
              "      <td>4</td>\n",
              "      <td>0</td>\n",
              "      <td>2555</td>\n",
              "      <td>0</td>\n",
              "      <td>365</td>\n",
              "      <td>0</td>\n",
              "      <td>999500.000000</td>\n",
              "      <td>75</td>\n",
              "      <td>1</td>\n",
              "      <td>3</td>\n",
              "      <td>37</td>\n",
              "      <td>1</td>\n",
              "      <td>8</td>\n",
              "      <td>1</td>\n",
              "      <td>2</td>\n",
              "      <td>1</td>\n",
              "      <td>16</td>\n",
              "      <td>4</td>\n",
              "      <td>0</td>\n",
              "      <td>0</td>\n",
              "      <td>0</td>\n",
              "      <td>0</td>\n",
              "      <td>0</td>\n",
              "      <td>2555</td>\n",
              "      <td>365</td>\n",
              "      <td>1</td>\n",
              "      <td>2</td>\n",
              "      <td>3</td>\n",
              "      <td>3</td>\n",
              "      <td>1</td>\n",
              "      <td>11063.779297</td>\n",
              "      <td>11064</td>\n",
              "    </tr>\n",
              "    <tr>\n",
              "      <th>3</th>\n",
              "      <td>2</td>\n",
              "      <td>1</td>\n",
              "      <td>2</td>\n",
              "      <td>1</td>\n",
              "      <td>30</td>\n",
              "      <td>1</td>\n",
              "      <td>2</td>\n",
              "      <td>10201</td>\n",
              "      <td>102010301</td>\n",
              "      <td>10201030102</td>\n",
              "      <td>1</td>\n",
              "      <td>1</td>\n",
              "      <td>1</td>\n",
              "      <td>2</td>\n",
              "      <td>9</td>\n",
              "      <td>3</td>\n",
              "      <td>7</td>\n",
              "      <td>2012</td>\n",
              "      <td>19177</td>\n",
              "      <td>12</td>\n",
              "      <td>25</td>\n",
              "      <td>2</td>\n",
              "      <td>2</td>\n",
              "      <td>43</td>\n",
              "      <td>0</td>\n",
              "      <td>5</td>\n",
              "      <td>3</td>\n",
              "      <td>2</td>\n",
              "      <td>0</td>\n",
              "      <td>0</td>\n",
              "      <td>0</td>\n",
              "      <td>0</td>\n",
              "      <td>NaN</td>\n",
              "      <td>0</td>\n",
              "      <td>0</td>\n",
              "      <td>0</td>\n",
              "      <td>0</td>\n",
              "      <td>0</td>\n",
              "      <td>0</td>\n",
              "      <td>0</td>\n",
              "      <td>...</td>\n",
              "      <td>79.09999847413</td>\n",
              "      <td>1</td>\n",
              "      <td>3</td>\n",
              "      <td>3</td>\n",
              "      <td>0</td>\n",
              "      <td>0</td>\n",
              "      <td>3</td>\n",
              "      <td>0</td>\n",
              "      <td>0</td>\n",
              "      <td>0</td>\n",
              "      <td>240</td>\n",
              "      <td>0</td>\n",
              "      <td>60</td>\n",
              "      <td>0</td>\n",
              "      <td>178200.000000</td>\n",
              "      <td>75</td>\n",
              "      <td>1</td>\n",
              "      <td>1</td>\n",
              "      <td>45</td>\n",
              "      <td>1</td>\n",
              "      <td>2</td>\n",
              "      <td>1</td>\n",
              "      <td>2</td>\n",
              "      <td>1</td>\n",
              "      <td>10</td>\n",
              "      <td>4</td>\n",
              "      <td>0</td>\n",
              "      <td>0</td>\n",
              "      <td>0</td>\n",
              "      <td>0</td>\n",
              "      <td>0</td>\n",
              "      <td>2555</td>\n",
              "      <td>365</td>\n",
              "      <td>1</td>\n",
              "      <td>1</td>\n",
              "      <td>1</td>\n",
              "      <td>1</td>\n",
              "      <td>1</td>\n",
              "      <td>3687.926270</td>\n",
              "      <td>3688</td>\n",
              "    </tr>\n",
              "    <tr>\n",
              "      <th>4</th>\n",
              "      <td>2</td>\n",
              "      <td>1</td>\n",
              "      <td>2</td>\n",
              "      <td>1</td>\n",
              "      <td>40</td>\n",
              "      <td>1</td>\n",
              "      <td>2</td>\n",
              "      <td>10201</td>\n",
              "      <td>102010401</td>\n",
              "      <td>10201040102</td>\n",
              "      <td>1</td>\n",
              "      <td>1</td>\n",
              "      <td>1</td>\n",
              "      <td>3</td>\n",
              "      <td>9</td>\n",
              "      <td>3</td>\n",
              "      <td>7</td>\n",
              "      <td>2012</td>\n",
              "      <td>19177</td>\n",
              "      <td>1</td>\n",
              "      <td>20</td>\n",
              "      <td>2</td>\n",
              "      <td>2</td>\n",
              "      <td>47</td>\n",
              "      <td>0</td>\n",
              "      <td>3</td>\n",
              "      <td>3</td>\n",
              "      <td>2</td>\n",
              "      <td>0</td>\n",
              "      <td>0</td>\n",
              "      <td>1</td>\n",
              "      <td>0</td>\n",
              "      <td>NaN</td>\n",
              "      <td>0</td>\n",
              "      <td>0</td>\n",
              "      <td>0</td>\n",
              "      <td>0</td>\n",
              "      <td>0</td>\n",
              "      <td>0</td>\n",
              "      <td>0</td>\n",
              "      <td>...</td>\n",
              "      <td>56.40000152588</td>\n",
              "      <td>1</td>\n",
              "      <td>3</td>\n",
              "      <td>3</td>\n",
              "      <td>0</td>\n",
              "      <td>0</td>\n",
              "      <td>3</td>\n",
              "      <td>0</td>\n",
              "      <td>0</td>\n",
              "      <td>0</td>\n",
              "      <td>450</td>\n",
              "      <td>0</td>\n",
              "      <td>90</td>\n",
              "      <td>0</td>\n",
              "      <td>89568.335938</td>\n",
              "      <td>69</td>\n",
              "      <td>1</td>\n",
              "      <td>1</td>\n",
              "      <td>57</td>\n",
              "      <td>1</td>\n",
              "      <td>2</td>\n",
              "      <td>0</td>\n",
              "      <td>0</td>\n",
              "      <td>0</td>\n",
              "      <td>0</td>\n",
              "      <td>4</td>\n",
              "      <td>0</td>\n",
              "      <td>0</td>\n",
              "      <td>0</td>\n",
              "      <td>3</td>\n",
              "      <td>4</td>\n",
              "      <td>2710</td>\n",
              "      <td>350</td>\n",
              "      <td>1</td>\n",
              "      <td>1</td>\n",
              "      <td>1</td>\n",
              "      <td>1</td>\n",
              "      <td>1</td>\n",
              "      <td>3687.926270</td>\n",
              "      <td>3688</td>\n",
              "    </tr>\n",
              "  </tbody>\n",
              "</table>\n",
              "<p>5 rows × 350 columns</p>\n",
              "</div>"
            ],
            "text/plain": [
              "   SURVEY  STATEID  DISTID  PSUID  ...  EWPOSITION  NEWQELIGIBLE          WTEW  FWTEW\n",
              "0       2        1       2      1  ...           2             2   3687.926270   3688\n",
              "1       2        1       2      1  ...           3             2   3687.926270   3688\n",
              "2       2        1       2      1  ...           3             1  11063.779297  11064\n",
              "3       2        1       2      1  ...           1             1   3687.926270   3688\n",
              "4       2        1       2      1  ...           1             1   3687.926270   3688\n",
              "\n",
              "[5 rows x 350 columns]"
            ]
          },
          "metadata": {
            "tags": []
          },
          "execution_count": 166
        }
      ]
    },
    {
      "cell_type": "code",
      "metadata": {
        "id": "gTcx3dNDc8Dh",
        "colab_type": "code",
        "outputId": "f4f25b6e-8168-49ae-a577-5f59d9b3396f",
        "colab": {
          "base_uri": "https://localhost:8080/",
          "height": 253
        }
      },
      "source": [
        "format_df = format_data(df)\n",
        "format_df.head()"
      ],
      "execution_count": 0,
      "outputs": [
        {
          "output_type": "execute_result",
          "data": {
            "text/html": [
              "<div>\n",
              "<style scoped>\n",
              "    .dataframe tbody tr th:only-of-type {\n",
              "        vertical-align: middle;\n",
              "    }\n",
              "\n",
              "    .dataframe tbody tr th {\n",
              "        vertical-align: top;\n",
              "    }\n",
              "\n",
              "    .dataframe thead th {\n",
              "        text-align: right;\n",
              "    }\n",
              "</style>\n",
              "<table border=\"1\" class=\"dataframe\">\n",
              "  <thead>\n",
              "    <tr style=\"text-align: right;\">\n",
              "      <th></th>\n",
              "      <th>SURVEY</th>\n",
              "      <th>STATEID</th>\n",
              "      <th>DISTID</th>\n",
              "      <th>PSUID</th>\n",
              "      <th>HHID</th>\n",
              "      <th>HHSPLITID</th>\n",
              "      <th>PERSONID</th>\n",
              "      <th>IDPSU</th>\n",
              "      <th>IDHH</th>\n",
              "      <th>IDPERSON</th>\n",
              "      <th>GE10A</th>\n",
              "      <th>GE10B</th>\n",
              "      <th>GE11</th>\n",
              "      <th>GE12</th>\n",
              "      <th>GE13</th>\n",
              "      <th>CD3D</th>\n",
              "      <th>CD3M</th>\n",
              "      <th>CD3Y</th>\n",
              "      <th>CD3DATE</th>\n",
              "      <th>CD4A</th>\n",
              "      <th>CD4B</th>\n",
              "      <th>CD4C</th>\n",
              "      <th>EW5</th>\n",
              "      <th>EW6</th>\n",
              "      <th>EW8</th>\n",
              "      <th>EW9</th>\n",
              "      <th>EW10</th>\n",
              "      <th>EW11</th>\n",
              "      <th>EW12A</th>\n",
              "      <th>EW12B</th>\n",
              "      <th>EW12C</th>\n",
              "      <th>EW12D</th>\n",
              "      <th>EW13A</th>\n",
              "      <th>EW14A</th>\n",
              "      <th>EW14B</th>\n",
              "      <th>EW14C</th>\n",
              "      <th>EW14D</th>\n",
              "      <th>EW15A</th>\n",
              "      <th>EW15B</th>\n",
              "      <th>EW15C</th>\n",
              "      <th>...</th>\n",
              "      <th>AP9</th>\n",
              "      <th>EWELIGIBLE</th>\n",
              "      <th>WKANY5</th>\n",
              "      <th>WKANIMAL</th>\n",
              "      <th>WKBUSINESS</th>\n",
              "      <th>WKAGLAB</th>\n",
              "      <th>WKFARM</th>\n",
              "      <th>WKNONAG</th>\n",
              "      <th>WKSALARY</th>\n",
              "      <th>WKNREGA</th>\n",
              "      <th>WKHOURS</th>\n",
              "      <th>NFHOURS</th>\n",
              "      <th>WKDAYS</th>\n",
              "      <th>NFDAYS</th>\n",
              "      <th>RSUNEARN</th>\n",
              "      <th>SPRO10</th>\n",
              "      <th>SPRO3</th>\n",
              "      <th>SPRO4</th>\n",
              "      <th>SPRO5</th>\n",
              "      <th>SPRO6</th>\n",
              "      <th>SPRO8</th>\n",
              "      <th>SPED2</th>\n",
              "      <th>SPED3</th>\n",
              "      <th>SPED4</th>\n",
              "      <th>SPED6</th>\n",
              "      <th>SPWKANY5</th>\n",
              "      <th>SPWKANIMAL</th>\n",
              "      <th>SPWKBUSINESS</th>\n",
              "      <th>SPWKAGLAB</th>\n",
              "      <th>SPWKFARM</th>\n",
              "      <th>SPWKNONAG</th>\n",
              "      <th>SPWKHOURS</th>\n",
              "      <th>SPWKDAYS</th>\n",
              "      <th>EWQELIGIBLE</th>\n",
              "      <th>AGERANK</th>\n",
              "      <th>NEVMFEM</th>\n",
              "      <th>EWPOSITION</th>\n",
              "      <th>NEWQELIGIBLE</th>\n",
              "      <th>WTEW</th>\n",
              "      <th>FWTEW</th>\n",
              "    </tr>\n",
              "  </thead>\n",
              "  <tbody>\n",
              "    <tr>\n",
              "      <th>0</th>\n",
              "      <td>2</td>\n",
              "      <td>1</td>\n",
              "      <td>2</td>\n",
              "      <td>1</td>\n",
              "      <td>10</td>\n",
              "      <td>1</td>\n",
              "      <td>2</td>\n",
              "      <td>10201</td>\n",
              "      <td>102010101</td>\n",
              "      <td>10201010102</td>\n",
              "      <td>1</td>\n",
              "      <td>1</td>\n",
              "      <td>2</td>\n",
              "      <td>2</td>\n",
              "      <td>9</td>\n",
              "      <td>3</td>\n",
              "      <td>7</td>\n",
              "      <td>2012</td>\n",
              "      <td>19177</td>\n",
              "      <td>10</td>\n",
              "      <td>50</td>\n",
              "      <td>1</td>\n",
              "      <td>2</td>\n",
              "      <td>3</td>\n",
              "      <td>0</td>\n",
              "      <td>4</td>\n",
              "      <td>2</td>\n",
              "      <td>2</td>\n",
              "      <td>1</td>\n",
              "      <td>0</td>\n",
              "      <td>1</td>\n",
              "      <td>1</td>\n",
              "      <td>2</td>\n",
              "      <td>0</td>\n",
              "      <td>0</td>\n",
              "      <td>0</td>\n",
              "      <td>0</td>\n",
              "      <td>0</td>\n",
              "      <td>0</td>\n",
              "      <td>0</td>\n",
              "      <td>...</td>\n",
              "      <td>65.69999694825</td>\n",
              "      <td>1</td>\n",
              "      <td>2</td>\n",
              "      <td>3</td>\n",
              "      <td>0</td>\n",
              "      <td>0</td>\n",
              "      <td>2</td>\n",
              "      <td>0</td>\n",
              "      <td>0</td>\n",
              "      <td>0</td>\n",
              "      <td>24</td>\n",
              "      <td>0</td>\n",
              "      <td>6</td>\n",
              "      <td>0</td>\n",
              "      <td>175804.109375</td>\n",
              "      <td>69</td>\n",
              "      <td>1</td>\n",
              "      <td>1</td>\n",
              "      <td>57</td>\n",
              "      <td>1</td>\n",
              "      <td>2</td>\n",
              "      <td>0</td>\n",
              "      <td>0</td>\n",
              "      <td>0</td>\n",
              "      <td>0</td>\n",
              "      <td>4</td>\n",
              "      <td>0</td>\n",
              "      <td>0</td>\n",
              "      <td>0</td>\n",
              "      <td>0</td>\n",
              "      <td>3</td>\n",
              "      <td>4000</td>\n",
              "      <td>365</td>\n",
              "      <td>1</td>\n",
              "      <td>1</td>\n",
              "      <td>2</td>\n",
              "      <td>2</td>\n",
              "      <td>2</td>\n",
              "      <td>3687.926270</td>\n",
              "      <td>3688</td>\n",
              "    </tr>\n",
              "    <tr>\n",
              "      <th>1</th>\n",
              "      <td>2</td>\n",
              "      <td>1</td>\n",
              "      <td>2</td>\n",
              "      <td>1</td>\n",
              "      <td>10</td>\n",
              "      <td>1</td>\n",
              "      <td>6</td>\n",
              "      <td>10201</td>\n",
              "      <td>102010101</td>\n",
              "      <td>10201010106</td>\n",
              "      <td>NaN</td>\n",
              "      <td>NaN</td>\n",
              "      <td>NaN</td>\n",
              "      <td>NaN</td>\n",
              "      <td>NaN</td>\n",
              "      <td>3</td>\n",
              "      <td>7</td>\n",
              "      <td>2012</td>\n",
              "      <td>19177</td>\n",
              "      <td>10</td>\n",
              "      <td>15</td>\n",
              "      <td>1</td>\n",
              "      <td>4</td>\n",
              "      <td>1</td>\n",
              "      <td>1</td>\n",
              "      <td>3</td>\n",
              "      <td>2</td>\n",
              "      <td>2</td>\n",
              "      <td>1</td>\n",
              "      <td>1</td>\n",
              "      <td>1</td>\n",
              "      <td>1</td>\n",
              "      <td>2</td>\n",
              "      <td>0</td>\n",
              "      <td>1</td>\n",
              "      <td>0</td>\n",
              "      <td>0</td>\n",
              "      <td>0</td>\n",
              "      <td>1</td>\n",
              "      <td>0</td>\n",
              "      <td>...</td>\n",
              "      <td>60</td>\n",
              "      <td>1</td>\n",
              "      <td>0</td>\n",
              "      <td>0</td>\n",
              "      <td>0</td>\n",
              "      <td>0</td>\n",
              "      <td>0</td>\n",
              "      <td>0</td>\n",
              "      <td>0</td>\n",
              "      <td>0</td>\n",
              "      <td>0</td>\n",
              "      <td>0</td>\n",
              "      <td>0</td>\n",
              "      <td>0</td>\n",
              "      <td>176100.000000</td>\n",
              "      <td>2</td>\n",
              "      <td>1</td>\n",
              "      <td>3</td>\n",
              "      <td>29</td>\n",
              "      <td>1</td>\n",
              "      <td>6</td>\n",
              "      <td>1</td>\n",
              "      <td>1</td>\n",
              "      <td>1</td>\n",
              "      <td>9</td>\n",
              "      <td>4</td>\n",
              "      <td>0</td>\n",
              "      <td>0</td>\n",
              "      <td>0</td>\n",
              "      <td>0</td>\n",
              "      <td>3</td>\n",
              "      <td>3300</td>\n",
              "      <td>275</td>\n",
              "      <td>1</td>\n",
              "      <td>2</td>\n",
              "      <td>2</td>\n",
              "      <td>3</td>\n",
              "      <td>2</td>\n",
              "      <td>3687.926270</td>\n",
              "      <td>3688</td>\n",
              "    </tr>\n",
              "    <tr>\n",
              "      <th>2</th>\n",
              "      <td>2</td>\n",
              "      <td>1</td>\n",
              "      <td>2</td>\n",
              "      <td>1</td>\n",
              "      <td>20</td>\n",
              "      <td>1</td>\n",
              "      <td>8</td>\n",
              "      <td>10201</td>\n",
              "      <td>102010201</td>\n",
              "      <td>10201020108</td>\n",
              "      <td>1</td>\n",
              "      <td>1</td>\n",
              "      <td>1</td>\n",
              "      <td>3</td>\n",
              "      <td>3</td>\n",
              "      <td>3</td>\n",
              "      <td>7</td>\n",
              "      <td>2012</td>\n",
              "      <td>19177</td>\n",
              "      <td>10</td>\n",
              "      <td>0</td>\n",
              "      <td>1</td>\n",
              "      <td>4</td>\n",
              "      <td>2</td>\n",
              "      <td>2</td>\n",
              "      <td>3</td>\n",
              "      <td>1</td>\n",
              "      <td>3</td>\n",
              "      <td>1</td>\n",
              "      <td>1</td>\n",
              "      <td>0</td>\n",
              "      <td>1</td>\n",
              "      <td>2</td>\n",
              "      <td>0</td>\n",
              "      <td>0</td>\n",
              "      <td>0</td>\n",
              "      <td>1</td>\n",
              "      <td>0</td>\n",
              "      <td>0</td>\n",
              "      <td>0</td>\n",
              "      <td>...</td>\n",
              "      <td>60.29999923707</td>\n",
              "      <td>1</td>\n",
              "      <td>4</td>\n",
              "      <td>0</td>\n",
              "      <td>0</td>\n",
              "      <td>0</td>\n",
              "      <td>0</td>\n",
              "      <td>0</td>\n",
              "      <td>4</td>\n",
              "      <td>0</td>\n",
              "      <td>2555</td>\n",
              "      <td>0</td>\n",
              "      <td>365</td>\n",
              "      <td>0</td>\n",
              "      <td>999500.000000</td>\n",
              "      <td>75</td>\n",
              "      <td>1</td>\n",
              "      <td>3</td>\n",
              "      <td>37</td>\n",
              "      <td>1</td>\n",
              "      <td>8</td>\n",
              "      <td>1</td>\n",
              "      <td>2</td>\n",
              "      <td>1</td>\n",
              "      <td>16</td>\n",
              "      <td>4</td>\n",
              "      <td>0</td>\n",
              "      <td>0</td>\n",
              "      <td>0</td>\n",
              "      <td>0</td>\n",
              "      <td>0</td>\n",
              "      <td>2555</td>\n",
              "      <td>365</td>\n",
              "      <td>1</td>\n",
              "      <td>2</td>\n",
              "      <td>3</td>\n",
              "      <td>3</td>\n",
              "      <td>1</td>\n",
              "      <td>11063.779297</td>\n",
              "      <td>11064</td>\n",
              "    </tr>\n",
              "    <tr>\n",
              "      <th>3</th>\n",
              "      <td>2</td>\n",
              "      <td>1</td>\n",
              "      <td>2</td>\n",
              "      <td>1</td>\n",
              "      <td>30</td>\n",
              "      <td>1</td>\n",
              "      <td>2</td>\n",
              "      <td>10201</td>\n",
              "      <td>102010301</td>\n",
              "      <td>10201030102</td>\n",
              "      <td>1</td>\n",
              "      <td>1</td>\n",
              "      <td>1</td>\n",
              "      <td>2</td>\n",
              "      <td>9</td>\n",
              "      <td>3</td>\n",
              "      <td>7</td>\n",
              "      <td>2012</td>\n",
              "      <td>19177</td>\n",
              "      <td>12</td>\n",
              "      <td>25</td>\n",
              "      <td>2</td>\n",
              "      <td>2</td>\n",
              "      <td>3</td>\n",
              "      <td>0</td>\n",
              "      <td>5</td>\n",
              "      <td>1</td>\n",
              "      <td>2</td>\n",
              "      <td>0</td>\n",
              "      <td>0</td>\n",
              "      <td>0</td>\n",
              "      <td>0</td>\n",
              "      <td>NaN</td>\n",
              "      <td>0</td>\n",
              "      <td>0</td>\n",
              "      <td>0</td>\n",
              "      <td>0</td>\n",
              "      <td>0</td>\n",
              "      <td>0</td>\n",
              "      <td>0</td>\n",
              "      <td>...</td>\n",
              "      <td>79.09999847413</td>\n",
              "      <td>1</td>\n",
              "      <td>3</td>\n",
              "      <td>3</td>\n",
              "      <td>0</td>\n",
              "      <td>0</td>\n",
              "      <td>3</td>\n",
              "      <td>0</td>\n",
              "      <td>0</td>\n",
              "      <td>0</td>\n",
              "      <td>240</td>\n",
              "      <td>0</td>\n",
              "      <td>60</td>\n",
              "      <td>0</td>\n",
              "      <td>178200.000000</td>\n",
              "      <td>75</td>\n",
              "      <td>1</td>\n",
              "      <td>1</td>\n",
              "      <td>45</td>\n",
              "      <td>1</td>\n",
              "      <td>2</td>\n",
              "      <td>1</td>\n",
              "      <td>2</td>\n",
              "      <td>1</td>\n",
              "      <td>10</td>\n",
              "      <td>4</td>\n",
              "      <td>0</td>\n",
              "      <td>0</td>\n",
              "      <td>0</td>\n",
              "      <td>0</td>\n",
              "      <td>0</td>\n",
              "      <td>2555</td>\n",
              "      <td>365</td>\n",
              "      <td>1</td>\n",
              "      <td>1</td>\n",
              "      <td>1</td>\n",
              "      <td>1</td>\n",
              "      <td>1</td>\n",
              "      <td>3687.926270</td>\n",
              "      <td>3688</td>\n",
              "    </tr>\n",
              "    <tr>\n",
              "      <th>4</th>\n",
              "      <td>2</td>\n",
              "      <td>1</td>\n",
              "      <td>2</td>\n",
              "      <td>1</td>\n",
              "      <td>40</td>\n",
              "      <td>1</td>\n",
              "      <td>2</td>\n",
              "      <td>10201</td>\n",
              "      <td>102010401</td>\n",
              "      <td>10201040102</td>\n",
              "      <td>1</td>\n",
              "      <td>1</td>\n",
              "      <td>1</td>\n",
              "      <td>3</td>\n",
              "      <td>9</td>\n",
              "      <td>3</td>\n",
              "      <td>7</td>\n",
              "      <td>2012</td>\n",
              "      <td>19177</td>\n",
              "      <td>1</td>\n",
              "      <td>20</td>\n",
              "      <td>2</td>\n",
              "      <td>2</td>\n",
              "      <td>3</td>\n",
              "      <td>0</td>\n",
              "      <td>3</td>\n",
              "      <td>1</td>\n",
              "      <td>2</td>\n",
              "      <td>0</td>\n",
              "      <td>0</td>\n",
              "      <td>1</td>\n",
              "      <td>0</td>\n",
              "      <td>NaN</td>\n",
              "      <td>0</td>\n",
              "      <td>0</td>\n",
              "      <td>0</td>\n",
              "      <td>0</td>\n",
              "      <td>0</td>\n",
              "      <td>0</td>\n",
              "      <td>0</td>\n",
              "      <td>...</td>\n",
              "      <td>56.40000152588</td>\n",
              "      <td>1</td>\n",
              "      <td>3</td>\n",
              "      <td>3</td>\n",
              "      <td>0</td>\n",
              "      <td>0</td>\n",
              "      <td>3</td>\n",
              "      <td>0</td>\n",
              "      <td>0</td>\n",
              "      <td>0</td>\n",
              "      <td>450</td>\n",
              "      <td>0</td>\n",
              "      <td>90</td>\n",
              "      <td>0</td>\n",
              "      <td>89568.335938</td>\n",
              "      <td>69</td>\n",
              "      <td>1</td>\n",
              "      <td>1</td>\n",
              "      <td>57</td>\n",
              "      <td>1</td>\n",
              "      <td>2</td>\n",
              "      <td>0</td>\n",
              "      <td>0</td>\n",
              "      <td>0</td>\n",
              "      <td>0</td>\n",
              "      <td>4</td>\n",
              "      <td>0</td>\n",
              "      <td>0</td>\n",
              "      <td>0</td>\n",
              "      <td>3</td>\n",
              "      <td>4</td>\n",
              "      <td>2710</td>\n",
              "      <td>350</td>\n",
              "      <td>1</td>\n",
              "      <td>1</td>\n",
              "      <td>1</td>\n",
              "      <td>1</td>\n",
              "      <td>1</td>\n",
              "      <td>3687.926270</td>\n",
              "      <td>3688</td>\n",
              "    </tr>\n",
              "  </tbody>\n",
              "</table>\n",
              "<p>5 rows × 350 columns</p>\n",
              "</div>"
            ],
            "text/plain": [
              "   SURVEY  STATEID  DISTID  PSUID  ...  EWPOSITION  NEWQELIGIBLE          WTEW  FWTEW\n",
              "0       2        1       2      1  ...           2             2   3687.926270   3688\n",
              "1       2        1       2      1  ...           3             2   3687.926270   3688\n",
              "2       2        1       2      1  ...           3             1  11063.779297  11064\n",
              "3       2        1       2      1  ...           1             1   3687.926270   3688\n",
              "4       2        1       2      1  ...           1             1   3687.926270   3688\n",
              "\n",
              "[5 rows x 350 columns]"
            ]
          },
          "metadata": {
            "tags": []
          },
          "execution_count": 94
        }
      ]
    },
    {
      "cell_type": "code",
      "metadata": {
        "id": "L111vgE1kJNE",
        "colab_type": "code",
        "outputId": "25251785-965d-4463-acf3-2f727c35ed3f",
        "colab": {
          "base_uri": "https://localhost:8080/",
          "height": 306
        }
      },
      "source": [
        "filter = [\n",
        "'EW8',\n",
        "'EW15A',\n",
        "'EW15B',\n",
        "'EW10',\n",
        "'MH1A',\n",
        "'MH4B'\n",
        "]\n",
        "\n",
        "lookup = get_lookup()\n",
        "\n",
        "print_items(filter, lookup)\n",
        "\n",
        "filtered_df = filter_dataframe(format_df, filter)\n",
        "filtered_df.head()"
      ],
      "execution_count": 0,
      "outputs": [
        {
          "output_type": "stream",
          "text": [
            "EW8  ==>  Years of education completed\n",
            "EW15A  ==>  Mother education\n",
            "EW15B  ==>  Father education\n",
            "EW10  ==>  Your general health\n",
            "MH1A  ==>  Age at marriage (in years)\n",
            "MH4B  ==>  Did you have any say in choosing your husband\n"
          ],
          "name": "stdout"
        },
        {
          "output_type": "execute_result",
          "data": {
            "text/html": [
              "<div>\n",
              "<style scoped>\n",
              "    .dataframe tbody tr th:only-of-type {\n",
              "        vertical-align: middle;\n",
              "    }\n",
              "\n",
              "    .dataframe tbody tr th {\n",
              "        vertical-align: top;\n",
              "    }\n",
              "\n",
              "    .dataframe thead th {\n",
              "        text-align: right;\n",
              "    }\n",
              "</style>\n",
              "<table border=\"1\" class=\"dataframe\">\n",
              "  <thead>\n",
              "    <tr style=\"text-align: right;\">\n",
              "      <th></th>\n",
              "      <th>EW8</th>\n",
              "      <th>EW15A</th>\n",
              "      <th>EW15B</th>\n",
              "      <th>EW10</th>\n",
              "      <th>MH1A</th>\n",
              "      <th>MH4B</th>\n",
              "    </tr>\n",
              "  </thead>\n",
              "  <tbody>\n",
              "    <tr>\n",
              "      <th>0</th>\n",
              "      <td>0</td>\n",
              "      <td>0</td>\n",
              "      <td>0</td>\n",
              "      <td>5</td>\n",
              "      <td>1</td>\n",
              "      <td>0</td>\n",
              "    </tr>\n",
              "    <tr>\n",
              "      <th>1</th>\n",
              "      <td>1</td>\n",
              "      <td>0</td>\n",
              "      <td>1</td>\n",
              "      <td>5</td>\n",
              "      <td>2</td>\n",
              "      <td>0</td>\n",
              "    </tr>\n",
              "    <tr>\n",
              "      <th>2</th>\n",
              "      <td>2</td>\n",
              "      <td>0</td>\n",
              "      <td>0</td>\n",
              "      <td>3</td>\n",
              "      <td>3</td>\n",
              "      <td>NaN</td>\n",
              "    </tr>\n",
              "    <tr>\n",
              "      <th>3</th>\n",
              "      <td>0</td>\n",
              "      <td>0</td>\n",
              "      <td>0</td>\n",
              "      <td>3</td>\n",
              "      <td>3</td>\n",
              "      <td>NaN</td>\n",
              "    </tr>\n",
              "    <tr>\n",
              "      <th>4</th>\n",
              "      <td>0</td>\n",
              "      <td>0</td>\n",
              "      <td>0</td>\n",
              "      <td>3</td>\n",
              "      <td>3</td>\n",
              "      <td>0</td>\n",
              "    </tr>\n",
              "  </tbody>\n",
              "</table>\n",
              "</div>"
            ],
            "text/plain": [
              "   EW8  EW15A  EW15B EW10 MH1A MH4B\n",
              "0    0      0      0    5    1    0\n",
              "1    1      0      1    5    2    0\n",
              "2    2      0      0    3    3  NaN\n",
              "3    0      0      0    3    3  NaN\n",
              "4    0      0      0    3    3    0"
            ]
          },
          "metadata": {
            "tags": []
          },
          "execution_count": 22
        }
      ]
    },
    {
      "cell_type": "code",
      "metadata": {
        "id": "2BemjVOT9jrh",
        "colab_type": "code",
        "colab": {}
      },
      "source": [
        "trans_df = get_transaction_df(filtered_df)"
      ],
      "execution_count": 0,
      "outputs": []
    },
    {
      "cell_type": "code",
      "metadata": {
        "id": "Zrn4G-56pTrS",
        "colab_type": "code",
        "outputId": "bb000b03-ab12-48db-fabe-0510fada3cb1",
        "colab": {
          "base_uri": "https://localhost:8080/",
          "height": 425
        }
      },
      "source": [
        "lookup = get_lookup()\n",
        "frequent_itemsets = get_frequent_itemsets(trans_df, 0.2)\n",
        "frequent_itemsets_filtered = frequent_itemsets[ (frequent_itemsets['support'] < 0.3) ]\n",
        "print_freq_itemsets(frequent_itemsets_filtered, lookup)\n",
        "\n",
        "# Years of education completed  \" 0 \",  Father education  \" 0 \",  Mother education  \" 0 \",    Support :  0.31450041747843027\n",
        "# Father education  \" 0 \",  Age at marriage (in years)  \" 1.0 \",  Mother education  \" 0 \",    Support :  0.3032664524454115\n",
        "# Years of education completed  \" 0 \",  Father education  \" 0 \",  Age at marriage (in years)  \" 1.0 \",  Mother education  \" 0 \",    Support :  0.20739822381904208\n",
        "# Did you have any say in choosing your husband  \" 0 \",  Father education  \" 0 \",  Mother education  \" 0 \",    Support :  0.2597727905270349"
      ],
      "execution_count": 0,
      "outputs": [
        {
          "output_type": "stream",
          "text": [
            "Your general health  \" 1 \",    Support :  0.2389747741821218\n",
            "Mother education  \" 1 \",    Support :  0.21718999063836247\n",
            "Age at marriage (in years)  \" 2.0 \",    Support :  0.2544594286870936\n",
            "Age at marriage (in years)  \" 3.0 \",    Support :  0.27965994484224377\n",
            "Your general health  \" 2 \",  Years of education completed  \" 1 \",    Support :  0.25736912683753765\n",
            "Your general health  \" 2 \",  Age at marriage (in years)  \" 1.0 \",    Support :  0.241150722364193\n",
            "Your general health  \" 2 \",  Did you have any say in choosing your husband  \" 0 \",    Support :  0.21086455987652758\n",
            "Father education  \" 1 \",  Mother education  \" 0 \",    Support :  0.20026313791969233\n",
            "Did you have any say in choosing your husband  \" 1 \",  Mother education  \" 0 \",    Support :  0.2129139994433621\n",
            "Father education  \" 0 \",  Years of education completed  \" 1 \",    Support :  0.22814563671786048\n",
            "Did you have any say in choosing your husband  \" 0 \",  Father education  \" 0 \",    Support :  0.265668091997065\n",
            "Father education  \" 1 \",  Years of education completed  \" 1 \",    Support :  0.22612149887407332\n",
            "Years of education completed  \" 0 \",  Age at marriage (in years)  \" 1.0 \",    Support :  0.2531943425347266\n",
            "Years of education completed  \" 0 \",  Did you have any say in choosing your husband  \" 0 \",    Support :  0.22602029198188398\n",
            "Age at marriage (in years)  \" 1.0 \",  Did you have any say in choosing your husband  \" 0 \",    Support :  0.2524858942894011\n",
            "Your general health  \" 2 \",  Mother education  \" 0 \",  Father education  \" 0 \",    Support :  0.2933987804569491\n",
            "Your general health  \" 2 \",  Mother education  \" 0 \",  Age at marriage (in years)  \" 1.0 \",    Support :  0.21367305113478227\n",
            "Father education  \" 0 \",  Mother education  \" 0 \",  Years of education completed  \" 1 \",    Support :  0.2142549907648711\n",
            "Mother education  \" 0 \",  Did you have any say in choosing your husband  \" 0 \",  Father education  \" 0 \",    Support :  0.2597727905270349\n",
            "Years of education completed  \" 0 \",  Mother education  \" 0 \",  Age at marriage (in years)  \" 1.0 \",    Support :  0.24699542038812844\n",
            "Years of education completed  \" 0 \",  Did you have any say in choosing your husband  \" 0 \",  Mother education  \" 0 \",    Support :  0.22068162841889533\n",
            "Mother education  \" 0 \",  Did you have any say in choosing your husband  \" 0 \",  Age at marriage (in years)  \" 1.0 \",    Support :  0.23211800723629278\n",
            "Years of education completed  \" 0 \",  Father education  \" 0 \",  Age at marriage (in years)  \" 1.0 \",    Support :  0.20916934443235585\n",
            "Years of education completed  \" 0 \",  Mother education  \" 0 \",  Father education  \" 0 \",  Age at marriage (in years)  \" 1.0 \",    Support :  0.20739822381904208\n"
          ],
          "name": "stdout"
        }
      ]
    },
    {
      "cell_type": "code",
      "metadata": {
        "id": "N2lwmoluTjg2",
        "colab_type": "code",
        "colab": {}
      },
      "source": [
        ""
      ],
      "execution_count": 0,
      "outputs": []
    },
    {
      "cell_type": "code",
      "metadata": {
        "id": "Or4hpcmATjj-",
        "colab_type": "code",
        "colab": {}
      },
      "source": [
        ""
      ],
      "execution_count": 0,
      "outputs": []
    },
    {
      "cell_type": "code",
      "metadata": {
        "id": "DUv5ViUo3ckE",
        "colab_type": "code",
        "colab": {}
      },
      "source": [
        ""
      ],
      "execution_count": 0,
      "outputs": []
    },
    {
      "cell_type": "code",
      "metadata": {
        "id": "4rzvgwhgTjeW",
        "colab_type": "code",
        "colab": {}
      },
      "source": [
        ""
      ],
      "execution_count": 0,
      "outputs": []
    },
    {
      "cell_type": "code",
      "metadata": {
        "id": "3PD19I8LrDwf",
        "colab_type": "code",
        "outputId": "5f7ad2ec-0651-4da1-e376-2e7fcc439fea",
        "colab": {
          "base_uri": "https://localhost:8080/",
          "height": 272
        }
      },
      "source": [
        "filter = [\n",
        "'EW8',\n",
        "'EW15A',\n",
        "'EW15B',\n",
        "'EW10',\n",
        "]\n",
        "\n",
        "print_items(filter, lookup)\n",
        "\n",
        "filtered_df = filter_dataframe(format_df, filter)\n",
        "filtered_df.head()"
      ],
      "execution_count": 0,
      "outputs": [
        {
          "output_type": "stream",
          "text": [
            "EW8  ==>  Years of education completed\n",
            "EW15A  ==>  Mother education\n",
            "EW15B  ==>  Father education\n",
            "EW10  ==>  Your general health\n"
          ],
          "name": "stdout"
        },
        {
          "output_type": "execute_result",
          "data": {
            "text/html": [
              "<div>\n",
              "<style scoped>\n",
              "    .dataframe tbody tr th:only-of-type {\n",
              "        vertical-align: middle;\n",
              "    }\n",
              "\n",
              "    .dataframe tbody tr th {\n",
              "        vertical-align: top;\n",
              "    }\n",
              "\n",
              "    .dataframe thead th {\n",
              "        text-align: right;\n",
              "    }\n",
              "</style>\n",
              "<table border=\"1\" class=\"dataframe\">\n",
              "  <thead>\n",
              "    <tr style=\"text-align: right;\">\n",
              "      <th></th>\n",
              "      <th>EW8</th>\n",
              "      <th>EW15A</th>\n",
              "      <th>EW15B</th>\n",
              "      <th>EW10</th>\n",
              "    </tr>\n",
              "  </thead>\n",
              "  <tbody>\n",
              "    <tr>\n",
              "      <th>0</th>\n",
              "      <td>0</td>\n",
              "      <td>0</td>\n",
              "      <td>0</td>\n",
              "      <td>5</td>\n",
              "    </tr>\n",
              "    <tr>\n",
              "      <th>1</th>\n",
              "      <td>1</td>\n",
              "      <td>0</td>\n",
              "      <td>1</td>\n",
              "      <td>5</td>\n",
              "    </tr>\n",
              "    <tr>\n",
              "      <th>2</th>\n",
              "      <td>2</td>\n",
              "      <td>0</td>\n",
              "      <td>0</td>\n",
              "      <td>3</td>\n",
              "    </tr>\n",
              "    <tr>\n",
              "      <th>3</th>\n",
              "      <td>0</td>\n",
              "      <td>0</td>\n",
              "      <td>0</td>\n",
              "      <td>3</td>\n",
              "    </tr>\n",
              "    <tr>\n",
              "      <th>4</th>\n",
              "      <td>0</td>\n",
              "      <td>0</td>\n",
              "      <td>0</td>\n",
              "      <td>3</td>\n",
              "    </tr>\n",
              "  </tbody>\n",
              "</table>\n",
              "</div>"
            ],
            "text/plain": [
              "   EW8  EW15A  EW15B EW10\n",
              "0    0      0      0    5\n",
              "1    1      0      1    5\n",
              "2    2      0      0    3\n",
              "3    0      0      0    3\n",
              "4    0      0      0    3"
            ]
          },
          "metadata": {
            "tags": []
          },
          "execution_count": 42
        }
      ]
    },
    {
      "cell_type": "code",
      "metadata": {
        "id": "0Dmh8IOATrat",
        "colab_type": "code",
        "colab": {}
      },
      "source": [
        "trans_df = get_transaction_df(filtered_df)"
      ],
      "execution_count": 0,
      "outputs": []
    },
    {
      "cell_type": "code",
      "metadata": {
        "id": "klOfU4HiTwua",
        "colab_type": "code",
        "outputId": "8dc79540-dcd5-4cc2-f240-adea344799a1",
        "colab": {
          "base_uri": "https://localhost:8080/",
          "height": 595
        }
      },
      "source": [
        "lookup = get_lookup()\n",
        "frequent_itemsets = get_frequent_itemsets(trans_df, 0.02)\n",
        "frequent_itemsets_filtered = frequent_itemsets[ (frequent_itemsets['support'] < 0.05) ]\n",
        "print_freq_itemsets(frequent_itemsets_filtered, lookup)\n",
        "\n",
        "# Years of education completed  \" 0 \",  Mother education  \" 0 \",  Father education  \" 0 \",  Your general health  \" 3 \",    Support :  0.05525896313538952\n",
        "# Years of education completed  \" 2 \",  Father education  \" 1 \",  Mother education  \" 1 \",    Support :  0.028337929813020267\n",
        "# Your general health  \" 4 \",  Father education  \" 0 \",  Mother education  \" 0 \",    Support :  0.04354426536447132"
      ],
      "execution_count": 0,
      "outputs": [
        {
          "output_type": "stream",
          "text": [
            "Father education  \" 15 \",    Support :  0.020899223237102447\n",
            "Father education  \" 2 \",    Support :  0.0373200414948258\n",
            "Years of education completed  \" 15 \",    Support :  0.038711636262429475\n",
            "Your general health  \" 1 \",  Years of education completed  \" 2 \",    Support :  0.021885990435948688\n",
            "Your general health  \" 2 \",  Years of education completed  \" 2 \",    Support :  0.035473015712370014\n",
            "Mother education  \" 1 \",  Your general health  \" 3 \",    Support :  0.031095817625180273\n",
            "Your general health  \" 4 \",  Father education  \" 0 \",    Support :  0.0446828429016016\n",
            "Your general health  \" 4 \",  Father education  \" 1 \",    Support :  0.023606507603167775\n",
            "Years of education completed  \" 0 \",  Your general health  \" 4 \",    Support :  0.037952584571009286\n",
            "Your general health  \" 4 \",  Years of education completed  \" 1 \",    Support :  0.02978012802671862\n",
            "Mother education  \" 0 \",  Years of education completed  \" 2 \",    Support :  0.02866685221263568\n",
            "Mother education  \" 1 \",  Father education  \" 2 \",    Support :  0.02117754219062318\n",
            "Years of education completed  \" 15 \",  Mother education  \" 1 \",    Support :  0.024087240341067226\n",
            "Mother education  \" 1 \",  Years of education completed  \" 2 \",    Support :  0.03823090352453002\n",
            "Father education  \" 1 \",  Years of education completed  \" 2 \",    Support :  0.042127368873820306\n",
            "Mother education  \" 1 \",  Your general health  \" 1 \",  Father education  \" 1 \",    Support :  0.04334185158009261\n",
            "Your general health  \" 1 \",  Mother education  \" 1 \",  Years of education completed  \" 1 \",    Support :  0.03324646408420413\n",
            "Your general health  \" 2 \",  Mother education  \" 1 \",  Years of education completed  \" 2 \",    Support :  0.02014017154568226\n",
            "Your general health  \" 2 \",  Years of education completed  \" 0 \",  Father education  \" 1 \",    Support :  0.030210257318523392\n",
            "Your general health  \" 2 \",  Father education  \" 1 \",  Years of education completed  \" 2 \",    Support :  0.022265516281658782\n",
            "Mother education  \" 0 \",  Father education  \" 1 \",  Your general health  \" 3 \",    Support :  0.03246211066973661\n",
            "Mother education  \" 1 \",  Father education  \" 1 \",  Your general health  \" 3 \",    Support :  0.023075171419173646\n",
            "Father education  \" 0 \",  Your general health  \" 3 \",  Years of education completed  \" 1 \",    Support :  0.034713964020949825\n",
            "Father education  \" 1 \",  Your general health  \" 3 \",  Years of education completed  \" 1 \",    Support :  0.034713964020949825\n",
            "Your general health  \" 4 \",  Mother education  \" 0 \",  Father education  \" 0 \",    Support :  0.04354426536447132\n",
            "Years of education completed  \" 0 \",  Your general health  \" 4 \",  Mother education  \" 0 \",    Support :  0.03696581737216304\n",
            "Your general health  \" 4 \",  Mother education  \" 0 \",  Years of education completed  \" 1 \",    Support :  0.021936593882043366\n",
            "Years of education completed  \" 0 \",  Your general health  \" 4 \",  Father education  \" 0 \",    Support :  0.030539179718138805\n",
            "Father education  \" 1 \",  Mother education  \" 1 \",  Years of education completed  \" 2 \",    Support :  0.028337929813020267\n",
            "Mother education  \" 0 \",  Your general health  \" 1 \",  Father education  \" 1 \",  Years of education completed  \" 1 \",    Support :  0.031247627963464312\n",
            "Mother education  \" 1 \",  Your general health  \" 1 \",  Father education  \" 1 \",  Years of education completed  \" 1 \",    Support :  0.02550413683171824\n",
            "Your general health  \" 2 \",  Years of education completed  \" 0 \",  Father education  \" 1 \",  Mother education  \" 0 \",    Support :  0.026921033322369253\n",
            "Mother education  \" 0 \",  Father education  \" 0 \",  Your general health  \" 3 \",  Years of education completed  \" 1 \",    Support :  0.032639222731067986\n",
            "Years of education completed  \" 0 \",  Your general health  \" 4 \",  Mother education  \" 0 \",  Father education  \" 0 \",    Support :  0.03031146421071275\n"
          ],
          "name": "stdout"
        }
      ]
    },
    {
      "cell_type": "code",
      "metadata": {
        "id": "Ymlb_2-IT3rO",
        "colab_type": "code",
        "colab": {}
      },
      "source": [
        ""
      ],
      "execution_count": 0,
      "outputs": []
    },
    {
      "cell_type": "code",
      "metadata": {
        "id": "gG1UMEuIW7UK",
        "colab_type": "code",
        "colab": {}
      },
      "source": [
        ""
      ],
      "execution_count": 0,
      "outputs": []
    },
    {
      "cell_type": "code",
      "metadata": {
        "id": "6cnd8dbyW7Xe",
        "colab_type": "code",
        "colab": {}
      },
      "source": [
        ""
      ],
      "execution_count": 0,
      "outputs": []
    },
    {
      "cell_type": "code",
      "metadata": {
        "id": "JjEFSlF2W8De",
        "colab_type": "code",
        "outputId": "dc5732c0-dc38-489c-f2ff-b791e8e895c2",
        "colab": {
          "base_uri": "https://localhost:8080/",
          "height": 34
        }
      },
      "source": [
        "format_df = format_data(df)\n",
        "format_df.head()\n",
        "format_df = format_df[format_df.EW10 > '3']\n",
        "format_df.shape"
      ],
      "execution_count": 0,
      "outputs": [
        {
          "output_type": "execute_result",
          "data": {
            "text/plain": [
              "(2973, 350)"
            ]
          },
          "metadata": {
            "tags": []
          },
          "execution_count": 58
        }
      ]
    },
    {
      "cell_type": "code",
      "metadata": {
        "id": "4ZpGXK_aePNB",
        "colab_type": "code",
        "outputId": "c8cc6c67-9320-4bdb-c67a-2ac21d1164e1",
        "colab": {
          "base_uri": "https://localhost:8080/",
          "height": 255
        }
      },
      "source": [
        "filter = [\n",
        "'EW8',\n",
        "'EW15A',\n",
        "'EW15B'\n",
        "]\n",
        "\n",
        "lookup = get_lookup()\n",
        "\n",
        "print_items(filter, lookup)\n",
        "\n",
        "filtered_df = filter_dataframe(format_df, filter)\n",
        "filtered_df.head()"
      ],
      "execution_count": 0,
      "outputs": [
        {
          "output_type": "stream",
          "text": [
            "EW8  ==>  Years of education completed\n",
            "EW15A  ==>  Mother education\n",
            "EW15B  ==>  Father education\n"
          ],
          "name": "stdout"
        },
        {
          "output_type": "execute_result",
          "data": {
            "text/html": [
              "<div>\n",
              "<style scoped>\n",
              "    .dataframe tbody tr th:only-of-type {\n",
              "        vertical-align: middle;\n",
              "    }\n",
              "\n",
              "    .dataframe tbody tr th {\n",
              "        vertical-align: top;\n",
              "    }\n",
              "\n",
              "    .dataframe thead th {\n",
              "        text-align: right;\n",
              "    }\n",
              "</style>\n",
              "<table border=\"1\" class=\"dataframe\">\n",
              "  <thead>\n",
              "    <tr style=\"text-align: right;\">\n",
              "      <th></th>\n",
              "      <th>EW8</th>\n",
              "      <th>EW15A</th>\n",
              "      <th>EW15B</th>\n",
              "    </tr>\n",
              "  </thead>\n",
              "  <tbody>\n",
              "    <tr>\n",
              "      <th>0</th>\n",
              "      <td>0</td>\n",
              "      <td>0</td>\n",
              "      <td>0</td>\n",
              "    </tr>\n",
              "    <tr>\n",
              "      <th>1</th>\n",
              "      <td>1</td>\n",
              "      <td>0</td>\n",
              "      <td>1</td>\n",
              "    </tr>\n",
              "    <tr>\n",
              "      <th>7</th>\n",
              "      <td>0</td>\n",
              "      <td>0</td>\n",
              "      <td>0</td>\n",
              "    </tr>\n",
              "    <tr>\n",
              "      <th>8</th>\n",
              "      <td>0</td>\n",
              "      <td>0</td>\n",
              "      <td>0</td>\n",
              "    </tr>\n",
              "    <tr>\n",
              "      <th>9</th>\n",
              "      <td>0</td>\n",
              "      <td>0</td>\n",
              "      <td>0</td>\n",
              "    </tr>\n",
              "  </tbody>\n",
              "</table>\n",
              "</div>"
            ],
            "text/plain": [
              "   EW8  EW15A  EW15B\n",
              "0    0      0      0\n",
              "1    1      0      1\n",
              "7    0      0      0\n",
              "8    0      0      0\n",
              "9    0      0      0"
            ]
          },
          "metadata": {
            "tags": []
          },
          "execution_count": 59
        }
      ]
    },
    {
      "cell_type": "code",
      "metadata": {
        "colab_type": "code",
        "id": "9ZM_KsEudKXT",
        "colab": {}
      },
      "source": [
        "trans_df = get_transaction_df(filtered_df)"
      ],
      "execution_count": 0,
      "outputs": []
    },
    {
      "cell_type": "code",
      "metadata": {
        "colab_type": "code",
        "outputId": "7363d3f8-7cc6-47b1-8881-07de97c57840",
        "id": "i4krCEIOdKXY",
        "colab": {
          "base_uri": "https://localhost:8080/",
          "height": 221
        }
      },
      "source": [
        "lookup = get_lookup()\n",
        "frequent_itemsets = get_frequent_itemsets(trans_df, 0.2)\n",
        "frequent_itemsets_filtered = frequent_itemsets#[ (frequent_itemsets['support'] < 0.05) ]\n",
        "print_freq_itemsets(frequent_itemsets_filtered, lookup)\n",
        "\n",
        "# Mother education  \" 0 \",  Father education  \" 0 \",    Support :  0.6098217288933737\n",
        "# Father education  \" 1 \",  Mother education  \" 0 \",    Support :  0.2125798856374033\n",
        "# Years of education completed  \" 0 \",  Mother education  \" 0 \",  Father education  \" 0 \",    Support :  0.42751429532458796"
      ],
      "execution_count": 0,
      "outputs": [
        {
          "output_type": "stream",
          "text": [
            "Mother education  \" 0 \",    Support :  0.8456104944500504\n",
            "Father education  \" 0 \",    Support :  0.6259670366633031\n",
            "Father education  \" 1 \",    Support :  0.32795156407669024\n",
            "Years of education completed  \" 0 \",    Support :  0.53447695930037\n",
            "Years of education completed  \" 1 \",    Support :  0.4117053481331988\n",
            "Mother education  \" 0 \",  Father education  \" 0 \",    Support :  0.6098217288933737\n",
            "Father education  \" 1 \",  Mother education  \" 0 \",    Support :  0.2125798856374033\n",
            "Years of education completed  \" 0 \",  Mother education  \" 0 \",    Support :  0.5200134544231416\n",
            "Mother education  \" 0 \",  Years of education completed  \" 1 \",    Support :  0.30205179952909517\n",
            "Years of education completed  \" 0 \",  Father education  \" 0 \",    Support :  0.4308779011099899\n",
            "Father education  \" 1 \",  Years of education completed  \" 1 \",    Support :  0.20181634712411706\n",
            "Years of education completed  \" 0 \",  Mother education  \" 0 \",  Father education  \" 0 \",    Support :  0.42751429532458796\n"
          ],
          "name": "stdout"
        }
      ]
    },
    {
      "cell_type": "code",
      "metadata": {
        "id": "XVOli42id6SM",
        "colab_type": "code",
        "colab": {}
      },
      "source": [
        ""
      ],
      "execution_count": 0,
      "outputs": []
    },
    {
      "cell_type": "code",
      "metadata": {
        "id": "g8SRCAs7emQP",
        "colab_type": "code",
        "colab": {}
      },
      "source": [
        ""
      ],
      "execution_count": 0,
      "outputs": []
    },
    {
      "cell_type": "code",
      "metadata": {
        "id": "jEHEdIyHemTb",
        "colab_type": "code",
        "colab": {}
      },
      "source": [
        ""
      ],
      "execution_count": 0,
      "outputs": []
    },
    {
      "cell_type": "code",
      "metadata": {
        "id": "oIMmeIh0emWf",
        "colab_type": "code",
        "colab": {}
      },
      "source": [
        ""
      ],
      "execution_count": 0,
      "outputs": []
    },
    {
      "cell_type": "code",
      "metadata": {
        "id": "RKrhfqjcemcv",
        "colab_type": "code",
        "colab": {}
      },
      "source": [
        ""
      ],
      "execution_count": 0,
      "outputs": []
    },
    {
      "cell_type": "code",
      "metadata": {
        "id": "MRjTOPIjemaa",
        "colab_type": "code",
        "outputId": "a4064daa-7c80-4d46-e95f-95f5b3c671cd",
        "colab": {
          "base_uri": "https://localhost:8080/",
          "height": 34
        }
      },
      "source": [
        "format_df = format_data(df)\n",
        "format_df.head()\n",
        "format_df = format_df[format_df.EW10 < '4']\n",
        "format_df.shape"
      ],
      "execution_count": 0,
      "outputs": [
        {
          "output_type": "execute_result",
          "data": {
            "text/plain": [
              "(36412, 350)"
            ]
          },
          "metadata": {
            "tags": []
          },
          "execution_count": 67
        }
      ]
    },
    {
      "cell_type": "code",
      "metadata": {
        "id": "wZhZwiHjYYsw",
        "colab_type": "code",
        "outputId": "aa3d69db-0a9f-4f69-c818-550a5f89ebc1",
        "colab": {
          "base_uri": "https://localhost:8080/",
          "height": 255
        }
      },
      "source": [
        "filter = [\n",
        "'EW8',\n",
        "'EW15A',\n",
        "'EW15B'\n",
        "]\n",
        "\n",
        "lookup = get_lookup()\n",
        "\n",
        "print_items(filter, lookup)\n",
        "\n",
        "filtered_df = filter_dataframe(format_df, filter)\n",
        "filtered_df.head()"
      ],
      "execution_count": 0,
      "outputs": [
        {
          "output_type": "stream",
          "text": [
            "EW8  ==>  Years of education completed\n",
            "EW15A  ==>  Mother education\n",
            "EW15B  ==>  Father education\n"
          ],
          "name": "stdout"
        },
        {
          "output_type": "execute_result",
          "data": {
            "text/html": [
              "<div>\n",
              "<style scoped>\n",
              "    .dataframe tbody tr th:only-of-type {\n",
              "        vertical-align: middle;\n",
              "    }\n",
              "\n",
              "    .dataframe tbody tr th {\n",
              "        vertical-align: top;\n",
              "    }\n",
              "\n",
              "    .dataframe thead th {\n",
              "        text-align: right;\n",
              "    }\n",
              "</style>\n",
              "<table border=\"1\" class=\"dataframe\">\n",
              "  <thead>\n",
              "    <tr style=\"text-align: right;\">\n",
              "      <th></th>\n",
              "      <th>EW8</th>\n",
              "      <th>EW15A</th>\n",
              "      <th>EW15B</th>\n",
              "    </tr>\n",
              "  </thead>\n",
              "  <tbody>\n",
              "    <tr>\n",
              "      <th>2</th>\n",
              "      <td>2</td>\n",
              "      <td>0</td>\n",
              "      <td>0</td>\n",
              "    </tr>\n",
              "    <tr>\n",
              "      <th>3</th>\n",
              "      <td>0</td>\n",
              "      <td>0</td>\n",
              "      <td>0</td>\n",
              "    </tr>\n",
              "    <tr>\n",
              "      <th>4</th>\n",
              "      <td>0</td>\n",
              "      <td>0</td>\n",
              "      <td>0</td>\n",
              "    </tr>\n",
              "    <tr>\n",
              "      <th>5</th>\n",
              "      <td>0</td>\n",
              "      <td>0</td>\n",
              "      <td>0</td>\n",
              "    </tr>\n",
              "    <tr>\n",
              "      <th>6</th>\n",
              "      <td>0</td>\n",
              "      <td>0</td>\n",
              "      <td>0</td>\n",
              "    </tr>\n",
              "  </tbody>\n",
              "</table>\n",
              "</div>"
            ],
            "text/plain": [
              "   EW8  EW15A  EW15B\n",
              "2    2      0      0\n",
              "3    0      0      0\n",
              "4    0      0      0\n",
              "5    0      0      0\n",
              "6    0      0      0"
            ]
          },
          "metadata": {
            "tags": []
          },
          "execution_count": 68
        }
      ]
    },
    {
      "cell_type": "code",
      "metadata": {
        "id": "fDK-EKpUYwC3",
        "colab_type": "code",
        "colab": {}
      },
      "source": [
        "trans_df = get_transaction_df(filtered_df)"
      ],
      "execution_count": 0,
      "outputs": []
    },
    {
      "cell_type": "code",
      "metadata": {
        "id": "pJ1NRq3hYkum",
        "colab_type": "code",
        "outputId": "dd11ded0-33fd-427c-e618-3c2b6602fa7f",
        "colab": {
          "base_uri": "https://localhost:8080/",
          "height": 340
        }
      },
      "source": [
        "lookup = get_lookup()\n",
        "frequent_itemsets = get_frequent_itemsets(trans_df, 0.1)\n",
        "frequent_itemsets_filtered = frequent_itemsets#[ (frequent_itemsets['support'] < 0.05) ]\n",
        "print_freq_itemsets(frequent_itemsets_filtered, lookup)\n",
        "\n",
        "\n",
        "# Years of education completed  \" 0 \",  Your general health  \" 4 \",  Mother education  \" 0 \",  Father education  \" 0 \",    Support :  0.4029599730911537"
      ],
      "execution_count": 0,
      "outputs": [
        {
          "output_type": "stream",
          "text": [
            "Mother education  \" 0 \",    Support :  0.7625233439525431\n",
            "Mother education  \" 1 \",    Support :  0.22250906294628145\n",
            "Father education  \" 0 \",    Support :  0.5624519389212348\n",
            "Father education  \" 1 \",    Support :  0.36633527408546634\n",
            "Years of education completed  \" 0 \",    Support :  0.3716906514335933\n",
            "Years of education completed  \" 1 \",    Support :  0.4868449961551137\n",
            "Mother education  \" 0 \",  Father education  \" 0 \",    Support :  0.5419916511040317\n",
            "Father education  \" 1 \",  Mother education  \" 0 \",    Support :  0.19971437987476656\n",
            "Years of education completed  \" 0 \",  Mother education  \" 0 \",    Support :  0.3617488739975832\n",
            "Mother education  \" 0 \",  Years of education completed  \" 1 \",    Support :  0.3538119301329232\n",
            "Father education  \" 1 \",  Mother education  \" 1 \",    Support :  0.1633527408546633\n",
            "Mother education  \" 1 \",  Years of education completed  \" 1 \",    Support :  0.13050642645281776\n",
            "Years of education completed  \" 0 \",  Father education  \" 0 \",    Support :  0.3082774909370537\n",
            "Father education  \" 0 \",  Years of education completed  \" 1 \",    Support :  0.23132483796550588\n",
            "Father education  \" 1 \",  Years of education completed  \" 1 \",    Support :  0.2283313193452708\n",
            "Years of education completed  \" 0 \",  Mother education  \" 0 \",  Father education  \" 0 \",    Support :  0.3053938262111392\n",
            "Father education  \" 0 \",  Mother education  \" 0 \",  Years of education completed  \" 1 \",    Support :  0.21715368559815446\n",
            "Father education  \" 1 \",  Mother education  \" 0 \",  Years of education completed  \" 1 \",    Support :  0.12515104910469077\n",
            "Father education  \" 1 \",  Mother education  \" 1 \",  Years of education completed  \" 1 \",    Support :  0.10224651213885533\n"
          ],
          "name": "stdout"
        }
      ]
    },
    {
      "cell_type": "code",
      "metadata": {
        "id": "u7MPg4vAZGzf",
        "colab_type": "code",
        "colab": {}
      },
      "source": [
        ""
      ],
      "execution_count": 0,
      "outputs": []
    },
    {
      "cell_type": "code",
      "metadata": {
        "id": "ALpBxSCLZG2d",
        "colab_type": "code",
        "colab": {}
      },
      "source": [
        ""
      ],
      "execution_count": 0,
      "outputs": []
    },
    {
      "cell_type": "code",
      "metadata": {
        "id": "w2Gw44CicgMu",
        "colab_type": "code",
        "colab": {}
      },
      "source": [
        ""
      ],
      "execution_count": 0,
      "outputs": []
    },
    {
      "cell_type": "code",
      "metadata": {
        "id": "zz0iBI_yYrmp",
        "colab_type": "code",
        "colab": {}
      },
      "source": [
        ""
      ],
      "execution_count": 0,
      "outputs": []
    },
    {
      "cell_type": "code",
      "metadata": {
        "id": "Z2NSqyplZQBG",
        "colab_type": "code",
        "outputId": "93efc9ab-afcd-4b5a-df49-60f16b480a58",
        "colab": {
          "base_uri": "https://localhost:8080/",
          "height": 34
        }
      },
      "source": [
        "format_df = format_data(df)\n",
        "format_df.head()\n",
        "format_df = format_df[format_df.INCOMEPC == 3.00]\n",
        "format_df.shape"
      ],
      "execution_count": 0,
      "outputs": [
        {
          "output_type": "execute_result",
          "data": {
            "text/plain": [
              "(9879, 350)"
            ]
          },
          "metadata": {
            "tags": []
          },
          "execution_count": 74
        }
      ]
    },
    {
      "cell_type": "code",
      "metadata": {
        "id": "S5gNhzvyZQD9",
        "colab_type": "code",
        "outputId": "579bc551-49b1-4de2-8e29-6c9b7750ae44",
        "colab": {
          "base_uri": "https://localhost:8080/",
          "height": 255
        }
      },
      "source": [
        "filter = [\n",
        "'EW8',\n",
        "'EW15A',\n",
        "'EW15B',\n",
        "]\n",
        "\n",
        "lookup = get_lookup()\n",
        "\n",
        "print_items(filter, lookup)\n",
        "\n",
        "filtered_df = filter_dataframe(format_df, filter)\n",
        "filtered_df.head()"
      ],
      "execution_count": 0,
      "outputs": [
        {
          "output_type": "stream",
          "text": [
            "EW8  ==>  Years of education completed\n",
            "EW15A  ==>  Mother education\n",
            "EW15B  ==>  Father education\n"
          ],
          "name": "stdout"
        },
        {
          "output_type": "execute_result",
          "data": {
            "text/html": [
              "<div>\n",
              "<style scoped>\n",
              "    .dataframe tbody tr th:only-of-type {\n",
              "        vertical-align: middle;\n",
              "    }\n",
              "\n",
              "    .dataframe tbody tr th {\n",
              "        vertical-align: top;\n",
              "    }\n",
              "\n",
              "    .dataframe thead th {\n",
              "        text-align: right;\n",
              "    }\n",
              "</style>\n",
              "<table border=\"1\" class=\"dataframe\">\n",
              "  <thead>\n",
              "    <tr style=\"text-align: right;\">\n",
              "      <th></th>\n",
              "      <th>EW8</th>\n",
              "      <th>EW15A</th>\n",
              "      <th>EW15B</th>\n",
              "    </tr>\n",
              "  </thead>\n",
              "  <tbody>\n",
              "    <tr>\n",
              "      <th>2</th>\n",
              "      <td>2</td>\n",
              "      <td>0</td>\n",
              "      <td>0</td>\n",
              "    </tr>\n",
              "    <tr>\n",
              "      <th>15</th>\n",
              "      <td>0</td>\n",
              "      <td>0</td>\n",
              "      <td>1</td>\n",
              "    </tr>\n",
              "    <tr>\n",
              "      <th>19</th>\n",
              "      <td>0</td>\n",
              "      <td>0</td>\n",
              "      <td>0</td>\n",
              "    </tr>\n",
              "    <tr>\n",
              "      <th>23</th>\n",
              "      <td>0</td>\n",
              "      <td>0</td>\n",
              "      <td>0</td>\n",
              "    </tr>\n",
              "    <tr>\n",
              "      <th>25</th>\n",
              "      <td>0</td>\n",
              "      <td>0</td>\n",
              "      <td>0</td>\n",
              "    </tr>\n",
              "  </tbody>\n",
              "</table>\n",
              "</div>"
            ],
            "text/plain": [
              "    EW8  EW15A  EW15B\n",
              "2     2      0      0\n",
              "15    0      0      1\n",
              "19    0      0      0\n",
              "23    0      0      0\n",
              "25    0      0      0"
            ]
          },
          "metadata": {
            "tags": []
          },
          "execution_count": 76
        }
      ]
    },
    {
      "cell_type": "code",
      "metadata": {
        "id": "3q0ge7KVZqec",
        "colab_type": "code",
        "colab": {}
      },
      "source": [
        "trans_df = get_transaction_df(filtered_df)"
      ],
      "execution_count": 0,
      "outputs": []
    },
    {
      "cell_type": "code",
      "metadata": {
        "id": "s1gIC74VZuxO",
        "colab_type": "code",
        "outputId": "7e1e1da7-5cba-439d-8424-74bf84dc1247",
        "colab": {
          "base_uri": "https://localhost:8080/",
          "height": 374
        }
      },
      "source": [
        "lookup = get_lookup()\n",
        "frequent_itemsets = get_frequent_itemsets(trans_df, 0.1)\n",
        "frequent_itemsets_filtered = frequent_itemsets#[ (frequent_itemsets['support'] < 0.05) ]\n",
        "print_freq_itemsets(frequent_itemsets_filtered, lookup)\n",
        "\n",
        "# Mother education  \" 0 \",  Father education  \" 0 \",  Years of education completed  \" 0 \",    Support :  0.15679724668488712\n",
        "# Father education  \" 0 \",  Mother education  \" 0 \",  Years of education completed  \" 1 \",    Support :  0.18939163882984109\n",
        "# Father education  \" 1 \",  Mother education  \" 0 \",  Years of education completed  \" 1 \",    Support :  0.12248203259439215\n",
        "# Father education  \" 1 \",  Mother education  \" 1 \",  Years of education completed  \" 1 \",    Support :  0.13098491750177144"
      ],
      "execution_count": 0,
      "outputs": [
        {
          "output_type": "stream",
          "text": [
            "Mother education  \" 0 \",    Support :  0.6022876809393664\n",
            "Mother education  \" 1 \",    Support :  0.3597530114384047\n",
            "Father education  \" 0 \",    Support :  0.3994331410061747\n",
            "Father education  \" 1 \",    Support :  0.45045045045045046\n",
            "Years of education completed  \" 0 \",    Support :  0.19344063164287884\n",
            "Years of education completed  \" 1 \",    Support :  0.500050612410163\n",
            "Years of education completed  \" 15 \",    Support :  0.1000101224820326\n",
            "Years of education completed  \" 2 \",    Support :  0.13189594088470494\n",
            "Mother education  \" 0 \",  Father education  \" 0 \",    Support :  0.37908695212065996\n",
            "Father education  \" 1 \",  Mother education  \" 0 \",    Support :  0.19050511185342647\n",
            "Years of education completed  \" 0 \",  Mother education  \" 0 \",    Support :  0.1871646927826703\n",
            "Mother education  \" 0 \",  Years of education completed  \" 1 \",    Support :  0.32786719303573236\n",
            "Father education  \" 1 \",  Mother education  \" 1 \",    Support :  0.25316327563518576\n",
            "Mother education  \" 1 \",  Years of education completed  \" 1 \",    Support :  0.1682356513817188\n",
            "Years of education completed  \" 0 \",  Father education  \" 0 \",    Support :  0.15821439416945035\n",
            "Father education  \" 0 \",  Years of education completed  \" 1 \",    Support :  0.2025508654722138\n",
            "Father education  \" 1 \",  Years of education completed  \" 1 \",    Support :  0.25498532240105276\n",
            "Years of education completed  \" 0 \",  Mother education  \" 0 \",  Father education  \" 0 \",    Support :  0.15679724668488712\n",
            "Father education  \" 0 \",  Mother education  \" 0 \",  Years of education completed  \" 1 \",    Support :  0.18939163882984109\n",
            "Father education  \" 1 \",  Mother education  \" 0 \",  Years of education completed  \" 1 \",    Support :  0.12248203259439215\n",
            "Father education  \" 1 \",  Mother education  \" 1 \",  Years of education completed  \" 1 \",    Support :  0.13098491750177144\n"
          ],
          "name": "stdout"
        }
      ]
    },
    {
      "cell_type": "code",
      "metadata": {
        "id": "4toicKCjiwrU",
        "colab_type": "code",
        "colab": {}
      },
      "source": [
        ""
      ],
      "execution_count": 0,
      "outputs": []
    },
    {
      "cell_type": "code",
      "metadata": {
        "id": "Y1g20AZaixDg",
        "colab_type": "code",
        "colab": {}
      },
      "source": [
        ""
      ],
      "execution_count": 0,
      "outputs": []
    },
    {
      "cell_type": "code",
      "metadata": {
        "id": "1p_ka4m8ixGv",
        "colab_type": "code",
        "colab": {}
      },
      "source": [
        ""
      ],
      "execution_count": 0,
      "outputs": []
    },
    {
      "cell_type": "code",
      "metadata": {
        "id": "nBCKE8UqbmsE",
        "colab_type": "code",
        "colab": {}
      },
      "source": [
        ""
      ],
      "execution_count": 0,
      "outputs": []
    },
    {
      "cell_type": "code",
      "metadata": {
        "colab_type": "code",
        "outputId": "cd78f66b-19fc-4ecb-c33d-995a59a51e02",
        "id": "fbJptngEiz2L",
        "colab": {
          "base_uri": "https://localhost:8080/",
          "height": 34
        }
      },
      "source": [
        "format_df = format_data(df)\n",
        "format_df.head()\n",
        "format_df = format_df[format_df.INCOMEPC == 2.00]\n",
        "format_df.shape"
      ],
      "execution_count": 0,
      "outputs": [
        {
          "output_type": "execute_result",
          "data": {
            "text/plain": [
              "(19790, 350)"
            ]
          },
          "metadata": {
            "tags": []
          },
          "execution_count": 80
        }
      ]
    },
    {
      "cell_type": "code",
      "metadata": {
        "colab_type": "code",
        "outputId": "bd7b2579-19b3-49d4-ad16-d1fcad839a9a",
        "id": "gRCO9Jifiz2b",
        "colab": {
          "base_uri": "https://localhost:8080/",
          "height": 255
        }
      },
      "source": [
        "filter = [\n",
        "'EW8',\n",
        "'EW15A',\n",
        "'EW15B',\n",
        "]\n",
        "\n",
        "lookup = get_lookup()\n",
        "\n",
        "print_items(filter, lookup)\n",
        "\n",
        "filtered_df = filter_dataframe(format_df, filter)\n",
        "filtered_df.head()"
      ],
      "execution_count": 0,
      "outputs": [
        {
          "output_type": "stream",
          "text": [
            "EW8  ==>  Years of education completed\n",
            "EW15A  ==>  Mother education\n",
            "EW15B  ==>  Father education\n"
          ],
          "name": "stdout"
        },
        {
          "output_type": "execute_result",
          "data": {
            "text/html": [
              "<div>\n",
              "<style scoped>\n",
              "    .dataframe tbody tr th:only-of-type {\n",
              "        vertical-align: middle;\n",
              "    }\n",
              "\n",
              "    .dataframe tbody tr th {\n",
              "        vertical-align: top;\n",
              "    }\n",
              "\n",
              "    .dataframe thead th {\n",
              "        text-align: right;\n",
              "    }\n",
              "</style>\n",
              "<table border=\"1\" class=\"dataframe\">\n",
              "  <thead>\n",
              "    <tr style=\"text-align: right;\">\n",
              "      <th></th>\n",
              "      <th>EW8</th>\n",
              "      <th>EW15A</th>\n",
              "      <th>EW15B</th>\n",
              "    </tr>\n",
              "  </thead>\n",
              "  <tbody>\n",
              "    <tr>\n",
              "      <th>0</th>\n",
              "      <td>0</td>\n",
              "      <td>0</td>\n",
              "      <td>0</td>\n",
              "    </tr>\n",
              "    <tr>\n",
              "      <th>1</th>\n",
              "      <td>1</td>\n",
              "      <td>0</td>\n",
              "      <td>1</td>\n",
              "    </tr>\n",
              "    <tr>\n",
              "      <th>3</th>\n",
              "      <td>0</td>\n",
              "      <td>0</td>\n",
              "      <td>0</td>\n",
              "    </tr>\n",
              "    <tr>\n",
              "      <th>4</th>\n",
              "      <td>0</td>\n",
              "      <td>0</td>\n",
              "      <td>0</td>\n",
              "    </tr>\n",
              "    <tr>\n",
              "      <th>5</th>\n",
              "      <td>0</td>\n",
              "      <td>0</td>\n",
              "      <td>0</td>\n",
              "    </tr>\n",
              "  </tbody>\n",
              "</table>\n",
              "</div>"
            ],
            "text/plain": [
              "   EW8  EW15A  EW15B\n",
              "0    0      0      0\n",
              "1    1      0      1\n",
              "3    0      0      0\n",
              "4    0      0      0\n",
              "5    0      0      0"
            ]
          },
          "metadata": {
            "tags": []
          },
          "execution_count": 81
        }
      ]
    },
    {
      "cell_type": "code",
      "metadata": {
        "colab_type": "code",
        "id": "05whsagiiz2j",
        "colab": {}
      },
      "source": [
        "trans_df = get_transaction_df(filtered_df)"
      ],
      "execution_count": 0,
      "outputs": []
    },
    {
      "cell_type": "code",
      "metadata": {
        "colab_type": "code",
        "outputId": "b0221512-0c16-4936-9f5f-8f69abef0261",
        "id": "-Hzqr4C8iz2p",
        "colab": {
          "base_uri": "https://localhost:8080/",
          "height": 340
        }
      },
      "source": [
        "lookup = get_lookup()\n",
        "frequent_itemsets = get_frequent_itemsets(trans_df, 0.1)\n",
        "frequent_itemsets_filtered = frequent_itemsets#[ (frequent_itemsets['support'] < 0.05) ]\n",
        "print_freq_itemsets(frequent_itemsets_filtered, lookup)\n",
        "\n",
        "# Mother education  \" 0 \",  Father education  \" 0 \",  Years of education completed  \" 0 \",    Support :  0.15679724668488712\n",
        "# Father education  \" 0 \",  Mother education  \" 0 \",  Years of education completed  \" 1 \",    Support :  0.18939163882984109\n",
        "# Father education  \" 1 \",  Mother education  \" 0 \",  Years of education completed  \" 1 \",    Support :  0.12248203259439215\n",
        "# Father education  \" 1 \",  Mother education  \" 1 \",  Years of education completed  \" 1 \",    Support :  0.13098491750177144"
      ],
      "execution_count": 0,
      "outputs": [
        {
          "output_type": "stream",
          "text": [
            "Mother education  \" 0 \",    Support :  0.8020212228398181\n",
            "Mother education  \" 1 \",    Support :  0.19115715007579587\n",
            "Father education  \" 0 \",    Support :  0.606922688226377\n",
            "Father education  \" 1 \",    Support :  0.3471955533097524\n",
            "Years of education completed  \" 0 \",    Support :  0.405255179383527\n",
            "Years of education completed  \" 1 \",    Support :  0.5031834259727135\n",
            "Mother education  \" 0 \",  Father education  \" 0 \",    Support :  0.5855482566953006\n",
            "Father education  \" 1 \",  Mother education  \" 0 \",    Support :  0.1994946942900455\n",
            "Years of education completed  \" 0 \",  Mother education  \" 0 \",    Support :  0.3940373926225366\n",
            "Mother education  \" 0 \",  Years of education completed  \" 1 \",    Support :  0.3720565942395149\n",
            "Father education  \" 1 \",  Mother education  \" 1 \",    Support :  0.14547751389590702\n",
            "Mother education  \" 1 \",  Years of education completed  \" 1 \",    Support :  0.12905507832238505\n",
            "Years of education completed  \" 0 \",  Father education  \" 0 \",    Support :  0.33678625568468923\n",
            "Father education  \" 0 \",  Years of education completed  \" 1 \",    Support :  0.25053057099545223\n",
            "Father education  \" 1 \",  Years of education completed  \" 1 \",    Support :  0.22950985346134412\n",
            "Years of education completed  \" 0 \",  Mother education  \" 0 \",  Father education  \" 0 \",    Support :  0.3337038908539666\n",
            "Father education  \" 0 \",  Mother education  \" 0 \",  Years of education completed  \" 1 \",    Support :  0.23521980798383021\n",
            "Father education  \" 1 \",  Mother education  \" 0 \",  Years of education completed  \" 1 \",    Support :  0.12642748863062153\n",
            "Father education  \" 1 \",  Mother education  \" 1 \",  Years of education completed  \" 1 \",    Support :  0.1023244062657908\n"
          ],
          "name": "stdout"
        }
      ]
    },
    {
      "cell_type": "code",
      "metadata": {
        "id": "Mj23QC4vi2K3",
        "colab_type": "code",
        "colab": {}
      },
      "source": [
        ""
      ],
      "execution_count": 0,
      "outputs": []
    },
    {
      "cell_type": "code",
      "metadata": {
        "id": "Rt6lPoUjjX9H",
        "colab_type": "code",
        "colab": {}
      },
      "source": [
        ""
      ],
      "execution_count": 0,
      "outputs": []
    },
    {
      "cell_type": "code",
      "metadata": {
        "id": "vRb25t5RjYBa",
        "colab_type": "code",
        "colab": {}
      },
      "source": [
        ""
      ],
      "execution_count": 0,
      "outputs": []
    },
    {
      "cell_type": "code",
      "metadata": {
        "id": "4CQEL4AUjYFS",
        "colab_type": "code",
        "colab": {}
      },
      "source": [
        ""
      ],
      "execution_count": 0,
      "outputs": []
    },
    {
      "cell_type": "markdown",
      "metadata": {
        "id": "Sb63eDIpt-1Q",
        "colab_type": "text"
      },
      "source": [
        "# EW10  ==>  Your general health\n",
        "# MH1A  ==>  Age at marriage (in years)\n",
        "# MH4B  ==>  Did you have any say in choosing your husband\n",
        "# COPC  ==>  Household expenditure /capita\n",
        "# INCOMEPC  ==>  per capita income"
      ]
    },
    {
      "cell_type": "markdown",
      "metadata": {
        "id": "Nkc5CxBln6OE",
        "colab_type": "text"
      },
      "source": [
        "## **Father, Mother, Daughter Educated**"
      ]
    },
    {
      "cell_type": "code",
      "metadata": {
        "colab_type": "code",
        "outputId": "7528b2ae-30ce-493f-a3bc-196d7cc74cb5",
        "id": "TDMt-auLjaXg",
        "colab": {
          "base_uri": "https://localhost:8080/",
          "height": 34
        }
      },
      "source": [
        "format_df = format_data(df)\n",
        "format_df.head()\n",
        "format_df = format_df[format_df.EW8 != 0]\n",
        "format_df = format_df[format_df.EW15A != 0]\n",
        "format_df = format_df[format_df.EW15B != 0]\n",
        "format_df.shape"
      ],
      "execution_count": 0,
      "outputs": [
        {
          "output_type": "execute_result",
          "data": {
            "text/plain": [
              "(8056, 350)"
            ]
          },
          "metadata": {
            "tags": []
          },
          "execution_count": 117
        }
      ]
    },
    {
      "cell_type": "code",
      "metadata": {
        "colab_type": "code",
        "outputId": "ba4800da-bb6c-425f-8187-9c841b590c50",
        "id": "pnhmVYDQjaXz",
        "colab": {
          "base_uri": "https://localhost:8080/",
          "height": 289
        }
      },
      "source": [
        "filter = [\n",
        "'EW10',\n",
        "'MH1A',\n",
        "'MH4B',\n",
        "'COPC',\n",
        "'INCOMEPC'\n",
        "]\n",
        "\n",
        "lookup = get_lookup()\n",
        "\n",
        "print_items(filter, lookup)\n",
        "\n",
        "filtered_df = filter_dataframe(format_df, filter)\n",
        "filtered_df.head()"
      ],
      "execution_count": 0,
      "outputs": [
        {
          "output_type": "stream",
          "text": [
            "EW10  ==>  Your general health\n",
            "MH1A  ==>  Age at marriage (in years)\n",
            "MH4B  ==>  Did you have any say in choosing your husband\n",
            "COPC  ==>  Household expenditure /capita\n",
            "INCOMEPC  ==>  per capita income\n"
          ],
          "name": "stdout"
        },
        {
          "output_type": "execute_result",
          "data": {
            "text/html": [
              "<div>\n",
              "<style scoped>\n",
              "    .dataframe tbody tr th:only-of-type {\n",
              "        vertical-align: middle;\n",
              "    }\n",
              "\n",
              "    .dataframe tbody tr th {\n",
              "        vertical-align: top;\n",
              "    }\n",
              "\n",
              "    .dataframe thead th {\n",
              "        text-align: right;\n",
              "    }\n",
              "</style>\n",
              "<table border=\"1\" class=\"dataframe\">\n",
              "  <thead>\n",
              "    <tr style=\"text-align: right;\">\n",
              "      <th></th>\n",
              "      <th>EW10</th>\n",
              "      <th>MH1A</th>\n",
              "      <th>MH4B</th>\n",
              "      <th>COPC</th>\n",
              "      <th>INCOMEPC</th>\n",
              "    </tr>\n",
              "  </thead>\n",
              "  <tbody>\n",
              "    <tr>\n",
              "      <th>29</th>\n",
              "      <td>2</td>\n",
              "      <td>2</td>\n",
              "      <td>1</td>\n",
              "      <td>3.0</td>\n",
              "      <td>3.0</td>\n",
              "    </tr>\n",
              "    <tr>\n",
              "      <th>118</th>\n",
              "      <td>1</td>\n",
              "      <td>2</td>\n",
              "      <td>NaN</td>\n",
              "      <td>3.0</td>\n",
              "      <td>3.0</td>\n",
              "    </tr>\n",
              "    <tr>\n",
              "      <th>166</th>\n",
              "      <td>2</td>\n",
              "      <td>2</td>\n",
              "      <td>1</td>\n",
              "      <td>3.0</td>\n",
              "      <td>3.0</td>\n",
              "    </tr>\n",
              "    <tr>\n",
              "      <th>170</th>\n",
              "      <td>1</td>\n",
              "      <td>2</td>\n",
              "      <td>1</td>\n",
              "      <td>3.0</td>\n",
              "      <td>3.0</td>\n",
              "    </tr>\n",
              "    <tr>\n",
              "      <th>217</th>\n",
              "      <td>1</td>\n",
              "      <td>2</td>\n",
              "      <td>NaN</td>\n",
              "      <td>3.0</td>\n",
              "      <td>3.0</td>\n",
              "    </tr>\n",
              "  </tbody>\n",
              "</table>\n",
              "</div>"
            ],
            "text/plain": [
              "     EW10 MH1A MH4B  COPC  INCOMEPC\n",
              "29      2    2    1   3.0       3.0\n",
              "118     1    2  NaN   3.0       3.0\n",
              "166     2    2    1   3.0       3.0\n",
              "170     1    2    1   3.0       3.0\n",
              "217     1    2  NaN   3.0       3.0"
            ]
          },
          "metadata": {
            "tags": []
          },
          "execution_count": 118
        }
      ]
    },
    {
      "cell_type": "code",
      "metadata": {
        "colab_type": "code",
        "id": "zWxThXpljaX5",
        "colab": {}
      },
      "source": [
        "trans_df = get_transaction_df(filtered_df)"
      ],
      "execution_count": 0,
      "outputs": []
    },
    {
      "cell_type": "code",
      "metadata": {
        "colab_type": "code",
        "outputId": "4aa68f10-3ff2-46be-f84b-2f5e17263e3d",
        "id": "-LtgtYkljaX9",
        "colab": {
          "base_uri": "https://localhost:8080/",
          "height": 1000
        }
      },
      "source": [
        "lookup = get_lookup()\n",
        "frequent_itemsets = get_frequent_itemsets(trans_df, 0.1)\n",
        "frequent_itemsets_filtered = frequent_itemsets#[ (frequent_itemsets['support'] < 0.05) ]\n",
        "print_freq_itemsets(frequent_itemsets_filtered, lookup)\n",
        "\n",
        "# Did you have any say in choosing your husband  \" 0 \",    Support :  0.2163604766633565\n",
        "# Did you have any say in choosing your husband  \" 1 \",    Support :  0.4051638530287984\n",
        "\n",
        "# Age at marriage (in years)  \" 1.0 \",    Support :  0.2038232373386296\n",
        "# Age at marriage (in years)  \" 2.0 \",    Support :  0.7801638530287984\n",
        "\n",
        "# Your general health  \" 1 \",    Support :  0.948982125124131\n",
        "\n",
        "# Household expenditure /capita  \" 1.0 \",    Support :  0.10911122144985104\n",
        "# Household expenditure /capita  \" 2.0 \",    Support :  0.46387785501489576\n",
        "# Household expenditure /capita  \" 3.0 \",    Support :  0.4268867924528302\n",
        "\n",
        "# per capita income  \" 1.0 \",    Support :  0.12934458788480635\n",
        "# per capita income  \" 2.0 \",    Support :  0.4138530287984111\n",
        "# per capita income  \" 3.0 \",    Support :  0.4568023833167825"
      ],
      "execution_count": 0,
      "outputs": [
        {
          "output_type": "stream",
          "text": [
            "Household expenditure /capita  \" 1.0 \",    Support :  0.10911122144985104\n",
            "Household expenditure /capita  \" 2.0 \",    Support :  0.46387785501489576\n",
            "Household expenditure /capita  \" 3.0 \",    Support :  0.4268867924528302\n",
            "Your general health  \" 1 \",    Support :  0.948982125124131\n",
            "per capita income  \" 1.0 \",    Support :  0.12934458788480635\n",
            "per capita income  \" 2.0 \",    Support :  0.4138530287984111\n",
            "per capita income  \" 3.0 \",    Support :  0.4568023833167825\n",
            "Age at marriage (in years)  \" 1.0 \",    Support :  0.2038232373386296\n",
            "Age at marriage (in years)  \" 2.0 \",    Support :  0.7801638530287984\n",
            "Did you have any say in choosing your husband  \" 0 \",    Support :  0.2163604766633565\n",
            "Did you have any say in choosing your husband  \" 1 \",    Support :  0.4051638530287984\n",
            "Your general health  \" 1 \",  Household expenditure /capita  \" 1.0 \",    Support :  0.10315292949354518\n",
            "Your general health  \" 1 \",  Household expenditure /capita  \" 2.0 \",    Support :  0.4426514399205561\n",
            "per capita income  \" 2.0 \",  Household expenditure /capita  \" 2.0 \",    Support :  0.2548411122144985\n",
            "Household expenditure /capita  \" 2.0 \",  per capita income  \" 3.0 \",    Support :  0.1464746772591857\n",
            "Age at marriage (in years)  \" 1.0 \",  Household expenditure /capita  \" 2.0 \",    Support :  0.10786991062562065\n",
            "Age at marriage (in years)  \" 2.0 \",  Household expenditure /capita  \" 2.0 \",    Support :  0.34930486593843096\n",
            "Did you have any say in choosing your husband  \" 0 \",  Household expenditure /capita  \" 2.0 \",    Support :  0.10526315789473684\n",
            "Did you have any say in choosing your husband  \" 1 \",  Household expenditure /capita  \" 2.0 \",    Support :  0.18929990069513405\n",
            "Your general health  \" 1 \",  Household expenditure /capita  \" 3.0 \",    Support :  0.40305362462760674\n",
            "per capita income  \" 2.0 \",  Household expenditure /capita  \" 3.0 \",    Support :  0.10215988083416087\n",
            "Household expenditure /capita  \" 3.0 \",  per capita income  \" 3.0 \",    Support :  0.3018867924528302\n",
            "Age at marriage (in years)  \" 2.0 \",  Household expenditure /capita  \" 3.0 \",    Support :  0.3527805362462761\n",
            "Did you have any say in choosing your husband  \" 1 \",  Household expenditure /capita  \" 3.0 \",    Support :  0.1821002979145978\n",
            "Your general health  \" 1 \",  per capita income  \" 1.0 \",    Support :  0.12102780536246276\n",
            "per capita income  \" 2.0 \",  Your general health  \" 1 \",    Support :  0.3926266137040715\n",
            "Your general health  \" 1 \",  per capita income  \" 3.0 \",    Support :  0.4353277060575968\n",
            "Age at marriage (in years)  \" 1.0 \",  Your general health  \" 1 \",    Support :  0.18731380337636544\n",
            "Age at marriage (in years)  \" 2.0 \",  Your general health  \" 1 \",    Support :  0.746772591857001\n",
            "Your general health  \" 1 \",  Did you have any say in choosing your husband  \" 0 \",    Support :  0.19972691161866932\n",
            "Did you have any say in choosing your husband  \" 1 \",  Your general health  \" 1 \",    Support :  0.38803376365441905\n",
            "Age at marriage (in years)  \" 1.0 \",  per capita income  \" 2.0 \",    Support :  0.10153922542204569\n",
            "per capita income  \" 2.0 \",  Age at marriage (in years)  \" 2.0 \",    Support :  0.3073485600794439\n",
            "per capita income  \" 2.0 \",  Did you have any say in choosing your husband  \" 1 \",    Support :  0.16385302879841113\n",
            "Age at marriage (in years)  \" 2.0 \",  per capita income  \" 3.0 \",    Support :  0.38232373386295926\n",
            "Did you have any say in choosing your husband  \" 1 \",  per capita income  \" 3.0 \",    Support :  0.19352035749751736\n",
            "Age at marriage (in years)  \" 2.0 \",  Did you have any say in choosing your husband  \" 0 \",    Support :  0.14250248262164847\n",
            "Did you have any say in choosing your husband  \" 1 \",  Age at marriage (in years)  \" 2.0 \",    Support :  0.3288232373386296\n",
            "per capita income  \" 2.0 \",  Your general health  \" 1 \",  Household expenditure /capita  \" 2.0 \",    Support :  0.243545183714002\n",
            "Your general health  \" 1 \",  Household expenditure /capita  \" 2.0 \",  per capita income  \" 3.0 \",    Support :  0.13989572989076465\n",
            "Age at marriage (in years)  \" 2.0 \",  Your general health  \" 1 \",  Household expenditure /capita  \" 2.0 \",    Support :  0.336519364448858\n",
            "Did you have any say in choosing your husband  \" 1 \",  Your general health  \" 1 \",  Household expenditure /capita  \" 2.0 \",    Support :  0.18222442899702085\n",
            "per capita income  \" 2.0 \",  Age at marriage (in years)  \" 2.0 \",  Household expenditure /capita  \" 2.0 \",    Support :  0.1871896722939424\n",
            "per capita income  \" 2.0 \",  Did you have any say in choosing your husband  \" 1 \",  Household expenditure /capita  \" 2.0 \",    Support :  0.10302879841112214\n",
            "Age at marriage (in years)  \" 2.0 \",  Household expenditure /capita  \" 2.0 \",  per capita income  \" 3.0 \",    Support :  0.11866931479642502\n",
            "Did you have any say in choosing your husband  \" 1 \",  Age at marriage (in years)  \" 2.0 \",  Household expenditure /capita  \" 2.0 \",    Support :  0.15081926514399205\n",
            "Your general health  \" 1 \",  Household expenditure /capita  \" 3.0 \",  per capita income  \" 3.0 \",    Support :  0.28711519364448856\n",
            "Age at marriage (in years)  \" 2.0 \",  Your general health  \" 1 \",  Household expenditure /capita  \" 3.0 \",    Support :  0.33577457795431975\n",
            "Did you have any say in choosing your husband  \" 1 \",  Your general health  \" 1 \",  Household expenditure /capita  \" 3.0 \",    Support :  0.1736593843098312\n",
            "Age at marriage (in years)  \" 2.0 \",  Household expenditure /capita  \" 3.0 \",  per capita income  \" 3.0 \",    Support :  0.25645481628599803\n",
            "Did you have any say in choosing your husband  \" 1 \",  Household expenditure /capita  \" 3.0 \",  per capita income  \" 3.0 \",    Support :  0.1298411122144985\n",
            "Did you have any say in choosing your husband  \" 1 \",  Age at marriage (in years)  \" 2.0 \",  Household expenditure /capita  \" 3.0 \",    Support :  0.1535501489572989\n",
            "per capita income  \" 2.0 \",  Age at marriage (in years)  \" 2.0 \",  Your general health  \" 1 \",    Support :  0.2938182720953327\n",
            "per capita income  \" 2.0 \",  Did you have any say in choosing your husband  \" 1 \",  Your general health  \" 1 \",    Support :  0.15777060575968221\n",
            "Age at marriage (in years)  \" 2.0 \",  Your general health  \" 1 \",  per capita income  \" 3.0 \",    Support :  0.36705561072492554\n",
            "Did you have any say in choosing your husband  \" 1 \",  Your general health  \" 1 \",  per capita income  \" 3.0 \",    Support :  0.18570009930486595\n",
            "Age at marriage (in years)  \" 2.0 \",  Your general health  \" 1 \",  Did you have any say in choosing your husband  \" 0 \",    Support :  0.1329443892750745\n",
            "Did you have any say in choosing your husband  \" 1 \",  Age at marriage (in years)  \" 2.0 \",  Your general health  \" 1 \",    Support :  0.31777557100297915\n",
            "per capita income  \" 2.0 \",  Did you have any say in choosing your husband  \" 1 \",  Age at marriage (in years)  \" 2.0 \",    Support :  0.12797914597815294\n",
            "Did you have any say in choosing your husband  \" 1 \",  Age at marriage (in years)  \" 2.0 \",  per capita income  \" 3.0 \",    Support :  0.16559086395233366\n",
            "per capita income  \" 2.0 \",  Age at marriage (in years)  \" 2.0 \",  Your general health  \" 1 \",  Household expenditure /capita  \" 2.0 \",    Support :  0.18061072492552135\n",
            "Age at marriage (in years)  \" 2.0 \",  Your general health  \" 1 \",  Household expenditure /capita  \" 2.0 \",  per capita income  \" 3.0 \",    Support :  0.11444885799404171\n",
            "Did you have any say in choosing your husband  \" 1 \",  Age at marriage (in years)  \" 2.0 \",  Your general health  \" 1 \",  Household expenditure /capita  \" 2.0 \",    Support :  0.14697120158887786\n",
            "Age at marriage (in years)  \" 2.0 \",  Your general health  \" 1 \",  Household expenditure /capita  \" 3.0 \",  per capita income  \" 3.0 \",    Support :  0.2455312810327706\n",
            "Did you have any say in choosing your husband  \" 1 \",  Your general health  \" 1 \",  Household expenditure /capita  \" 3.0 \",  per capita income  \" 3.0 \",    Support :  0.12462760675273088\n",
            "Did you have any say in choosing your husband  \" 1 \",  Age at marriage (in years)  \" 2.0 \",  Your general health  \" 1 \",  Household expenditure /capita  \" 3.0 \",    Support :  0.14759185700099306\n",
            "Did you have any say in choosing your husband  \" 1 \",  Age at marriage (in years)  \" 2.0 \",  Household expenditure /capita  \" 3.0 \",  per capita income  \" 3.0 \",    Support :  0.11196623634558094\n",
            "per capita income  \" 2.0 \",  Did you have any say in choosing your husband  \" 1 \",  Age at marriage (in years)  \" 2.0 \",  Your general health  \" 1 \",    Support :  0.12413108242303873\n",
            "Did you have any say in choosing your husband  \" 1 \",  Age at marriage (in years)  \" 2.0 \",  Your general health  \" 1 \",  per capita income  \" 3.0 \",    Support :  0.1600049652432969\n",
            "Did you have any say in choosing your husband  \" 1 \",  Household expenditure /capita  \" 3.0 \",  Age at marriage (in years)  \" 2.0 \",  Your general health  \" 1 \",  per capita income  \" 3.0 \",    Support :  0.10774577954319761\n"
          ],
          "name": "stdout"
        }
      ]
    },
    {
      "cell_type": "code",
      "metadata": {
        "id": "whRGkaQLj8uC",
        "colab_type": "code",
        "colab": {}
      },
      "source": [
        ""
      ],
      "execution_count": 0,
      "outputs": []
    },
    {
      "cell_type": "code",
      "metadata": {
        "id": "tC_dCzQWmcGx",
        "colab_type": "code",
        "colab": {}
      },
      "source": [
        ""
      ],
      "execution_count": 0,
      "outputs": []
    },
    {
      "cell_type": "code",
      "metadata": {
        "id": "lxSBaIaimcKw",
        "colab_type": "code",
        "colab": {}
      },
      "source": [
        ""
      ],
      "execution_count": 0,
      "outputs": []
    },
    {
      "cell_type": "code",
      "metadata": {
        "id": "ShrRbyQ4mek3",
        "colab_type": "code",
        "colab": {}
      },
      "source": [
        ""
      ],
      "execution_count": 0,
      "outputs": []
    },
    {
      "cell_type": "code",
      "metadata": {
        "id": "FDhSN6Qnmeou",
        "colab_type": "code",
        "colab": {}
      },
      "source": [
        ""
      ],
      "execution_count": 0,
      "outputs": []
    },
    {
      "cell_type": "markdown",
      "metadata": {
        "id": "NYqQ4i-LoQNw",
        "colab_type": "text"
      },
      "source": [
        "## **Father, Mother Uneducated** \n",
        "## **Daughter Educated**"
      ]
    },
    {
      "cell_type": "code",
      "metadata": {
        "colab_type": "code",
        "outputId": "f090315d-ac78-45c9-9ef4-cdbcd89c5133",
        "id": "ntqbOXT_mcY-",
        "colab": {
          "base_uri": "https://localhost:8080/",
          "height": 34
        }
      },
      "source": [
        "format_df = format_data(df)\n",
        "format_df.head()\n",
        "format_df = format_df[format_df.EW8 != 0]\n",
        "format_df = format_df[format_df.EW15A == 0]\n",
        "format_df = format_df[format_df.EW15B == 0]\n",
        "format_df.shape"
      ],
      "execution_count": 0,
      "outputs": [
        {
          "output_type": "execute_result",
          "data": {
            "text/plain": [
              "(9209, 350)"
            ]
          },
          "metadata": {
            "tags": []
          },
          "execution_count": 121
        }
      ]
    },
    {
      "cell_type": "code",
      "metadata": {
        "colab_type": "code",
        "outputId": "066d775f-8349-4115-b3b2-9ef7a9e137c8",
        "id": "vS2qo5yymcZL",
        "colab": {
          "base_uri": "https://localhost:8080/",
          "height": 289
        }
      },
      "source": [
        "filter = [\n",
        "'HB1',\n",
        "'HB2',\n",
        "'HB3',\n",
        "'HB4',\n",
        "'HB5',\n",
        "'HB6'\n",
        "]\n",
        "\n",
        "lookup = get_lookup()\n",
        "\n",
        "print_items(filter, lookup)\n",
        "\n",
        "filtered_df = filter_dataframe(format_df, filter)\n",
        "filtered_df.head()"
      ],
      "execution_count": 0,
      "outputs": [
        {
          "output_type": "stream",
          "text": [
            "EW10  ==>  Your general health\n",
            "MH1A  ==>  Age at marriage (in years)\n",
            "MH4B  ==>  Did you have any say in choosing your husband\n",
            "COPC  ==>  Household expenditure /capita\n",
            "INCOMEPC  ==>  per capita income\n"
          ],
          "name": "stdout"
        },
        {
          "output_type": "execute_result",
          "data": {
            "text/html": [
              "<div>\n",
              "<style scoped>\n",
              "    .dataframe tbody tr th:only-of-type {\n",
              "        vertical-align: middle;\n",
              "    }\n",
              "\n",
              "    .dataframe tbody tr th {\n",
              "        vertical-align: top;\n",
              "    }\n",
              "\n",
              "    .dataframe thead th {\n",
              "        text-align: right;\n",
              "    }\n",
              "</style>\n",
              "<table border=\"1\" class=\"dataframe\">\n",
              "  <thead>\n",
              "    <tr style=\"text-align: right;\">\n",
              "      <th></th>\n",
              "      <th>EW10</th>\n",
              "      <th>MH1A</th>\n",
              "      <th>MH4B</th>\n",
              "      <th>COPC</th>\n",
              "      <th>INCOMEPC</th>\n",
              "    </tr>\n",
              "  </thead>\n",
              "  <tbody>\n",
              "    <tr>\n",
              "      <th>2</th>\n",
              "      <td>1</td>\n",
              "      <td>2</td>\n",
              "      <td>NaN</td>\n",
              "      <td>3.0</td>\n",
              "      <td>3.0</td>\n",
              "    </tr>\n",
              "    <tr>\n",
              "      <th>49</th>\n",
              "      <td>2</td>\n",
              "      <td>2</td>\n",
              "      <td>1</td>\n",
              "      <td>3.0</td>\n",
              "      <td>1.0</td>\n",
              "    </tr>\n",
              "    <tr>\n",
              "      <th>54</th>\n",
              "      <td>2</td>\n",
              "      <td>2</td>\n",
              "      <td>1</td>\n",
              "      <td>3.0</td>\n",
              "      <td>2.0</td>\n",
              "    </tr>\n",
              "    <tr>\n",
              "      <th>58</th>\n",
              "      <td>2</td>\n",
              "      <td>1</td>\n",
              "      <td>0</td>\n",
              "      <td>3.0</td>\n",
              "      <td>2.0</td>\n",
              "    </tr>\n",
              "    <tr>\n",
              "      <th>64</th>\n",
              "      <td>2</td>\n",
              "      <td>2</td>\n",
              "      <td>1</td>\n",
              "      <td>2.0</td>\n",
              "      <td>2.0</td>\n",
              "    </tr>\n",
              "  </tbody>\n",
              "</table>\n",
              "</div>"
            ],
            "text/plain": [
              "    EW10 MH1A MH4B  COPC  INCOMEPC\n",
              "2      1    2  NaN   3.0       3.0\n",
              "49     2    2    1   3.0       1.0\n",
              "54     2    2    1   3.0       2.0\n",
              "58     2    1    0   3.0       2.0\n",
              "64     2    2    1   2.0       2.0"
            ]
          },
          "metadata": {
            "tags": []
          },
          "execution_count": 122
        }
      ]
    },
    {
      "cell_type": "code",
      "metadata": {
        "colab_type": "code",
        "id": "rLsUDRrfmcZX",
        "colab": {}
      },
      "source": [
        "trans_df = get_transaction_df(filtered_df)"
      ],
      "execution_count": 0,
      "outputs": []
    },
    {
      "cell_type": "code",
      "metadata": {
        "colab_type": "code",
        "outputId": "2427c1db-1f65-440c-e7b4-83af1d528716",
        "id": "UKfSIjbwmcZc",
        "colab": {
          "base_uri": "https://localhost:8080/",
          "height": 1000
        }
      },
      "source": [
        "lookup = get_lookup()\n",
        "frequent_itemsets = get_frequent_itemsets(trans_df, 0.1)\n",
        "frequent_itemsets_filtered = frequent_itemsets#[ (frequent_itemsets['support'] < 0.05) ]\n",
        "print_freq_itemsets(frequent_itemsets_filtered, lookup)\n",
        "\n",
        "# Did you have any say in choosing your husband  \" 0 \",    Support :  0.3390161798240851\n",
        "# Did you have any say in choosing your husband  \" 1 \",    Support :  0.3630144423933109\n",
        "\n",
        "# Age at marriage (in years)  \" 1.0 \",    Support :  0.41144532522532307\n",
        "# Age at marriage (in years)  \" 2.0 \",    Support :  0.5817135411010967\n",
        "\n",
        "# Your general health  \" 1 \",    Support :  0.9354978825062439\n",
        "\n",
        "# Household expenditure /capita  \" 1.0 \",    Support :  0.23216418720816592\n",
        "# Household expenditure /capita  \" 2.0 \",    Support :  0.5225323053534586\n",
        "# Household expenditure /capita  \" 3.0 \",    Support :  0.244977739168205\n",
        "\n",
        "# per capita income  \" 1.0 \",    Support :  0.2203279400586383\n",
        "# per capita income  \" 2.0 \",    Support :  0.5412096861765664\n",
        "# per capita income  \" 3.0 \",    Support :  0.23846237376479532\n"
      ],
      "execution_count": 0,
      "outputs": [
        {
          "output_type": "stream",
          "text": [
            "Household expenditure /capita  \" 1.0 \",    Support :  0.23216418720816592\n",
            "Household expenditure /capita  \" 2.0 \",    Support :  0.5225323053534586\n",
            "Household expenditure /capita  \" 3.0 \",    Support :  0.244977739168205\n",
            "Your general health  \" 1 \",    Support :  0.9354978825062439\n",
            "per capita income  \" 1.0 \",    Support :  0.2203279400586383\n",
            "per capita income  \" 2.0 \",    Support :  0.5412096861765664\n",
            "per capita income  \" 3.0 \",    Support :  0.23846237376479532\n",
            "Age at marriage (in years)  \" 1.0 \",    Support :  0.41144532522532307\n",
            "Age at marriage (in years)  \" 2.0 \",    Support :  0.5817135411010967\n",
            "Did you have any say in choosing your husband  \" 0 \",    Support :  0.3390161798240851\n",
            "Did you have any say in choosing your husband  \" 1 \",    Support :  0.3630144423933109\n",
            "Your general health  \" 1 \",  Household expenditure /capita  \" 1.0 \",    Support :  0.21707025735693344\n",
            "per capita income  \" 1.0 \",  Household expenditure /capita  \" 1.0 \",    Support :  0.10424584645455533\n",
            "per capita income  \" 2.0 \",  Household expenditure /capita  \" 1.0 \",    Support :  0.11988272342273862\n",
            "Age at marriage (in years)  \" 1.0 \",  Household expenditure /capita  \" 1.0 \",    Support :  0.10435443587794549\n",
            "Age at marriage (in years)  \" 2.0 \",  Household expenditure /capita  \" 1.0 \",    Support :  0.12661526767292866\n",
            "Your general health  \" 1 \",  Household expenditure /capita  \" 2.0 \",    Support :  0.48995547833641\n",
            "per capita income  \" 2.0 \",  Household expenditure /capita  \" 2.0 \",    Support :  0.3272885220979477\n",
            "Household expenditure /capita  \" 2.0 \",  per capita income  \" 3.0 \",    Support :  0.10229123683353242\n",
            "Age at marriage (in years)  \" 1.0 \",  Household expenditure /capita  \" 2.0 \",    Support :  0.21468129004234987\n",
            "Age at marriage (in years)  \" 2.0 \",  Household expenditure /capita  \" 2.0 \",    Support :  0.3050276903029645\n",
            "Did you have any say in choosing your husband  \" 0 \",  Household expenditure /capita  \" 2.0 \",    Support :  0.17493756108155065\n",
            "Did you have any say in choosing your husband  \" 1 \",  Household expenditure /capita  \" 2.0 \",    Support :  0.19459224671516995\n",
            "Your general health  \" 1 \",  Household expenditure /capita  \" 3.0 \",    Support :  0.22814637854272993\n",
            "Household expenditure /capita  \" 3.0 \",  per capita income  \" 3.0 \",    Support :  0.12813551960039093\n",
            "Age at marriage (in years)  \" 2.0 \",  Household expenditure /capita  \" 3.0 \",    Support :  0.14996199370181346\n",
            "Your general health  \" 1 \",  per capita income  \" 1.0 \",    Support :  0.20317081116299274\n",
            "per capita income  \" 2.0 \",  Your general health  \" 1 \",    Support :  0.5067868389618851\n",
            "Your general health  \" 1 \",  per capita income  \" 3.0 \",    Support :  0.22554023238136606\n",
            "Age at marriage (in years)  \" 1.0 \",  Your general health  \" 1 \",    Support :  0.37930285590183516\n",
            "Age at marriage (in years)  \" 2.0 \",  Your general health  \" 1 \",    Support :  0.5495710717776089\n",
            "Your general health  \" 1 \",  Did you have any say in choosing your husband  \" 0 \",    Support :  0.31143446628298405\n",
            "Did you have any say in choosing your husband  \" 1 \",  Your general health  \" 1 \",    Support :  0.3439027038766424\n",
            "Age at marriage (in years)  \" 1.0 \",  per capita income  \" 1.0 \",    Support :  0.10565750895862742\n",
            "Age at marriage (in years)  \" 2.0 \",  per capita income  \" 1.0 \",    Support :  0.11325876859593875\n",
            "Age at marriage (in years)  \" 1.0 \",  per capita income  \" 2.0 \",    Support :  0.2208708871755891\n",
            "per capita income  \" 2.0 \",  Age at marriage (in years)  \" 2.0 \",    Support :  0.31718970572266264\n",
            "per capita income  \" 2.0 \",  Did you have any say in choosing your husband  \" 0 \",    Support :  0.17949831686393744\n",
            "per capita income  \" 2.0 \",  Did you have any say in choosing your husband  \" 1 \",    Support :  0.2004560755782387\n",
            "Age at marriage (in years)  \" 2.0 \",  per capita income  \" 3.0 \",    Support :  0.15126506678249538\n",
            "Age at marriage (in years)  \" 1.0 \",  Did you have any say in choosing your husband  \" 0 \",    Support :  0.16722771202084916\n",
            "Age at marriage (in years)  \" 1.0 \",  Did you have any say in choosing your husband  \" 1 \",    Support :  0.12965577152785318\n",
            "Age at marriage (in years)  \" 2.0 \",  Did you have any say in choosing your husband  \" 0 \",    Support :  0.17091975241611468\n",
            "Did you have any say in choosing your husband  \" 1 \",  Age at marriage (in years)  \" 2.0 \",    Support :  0.23086111412748397\n",
            "per capita income  \" 2.0 \",  Your general health  \" 1 \",  Household expenditure /capita  \" 1.0 \",    Support :  0.11217287436203714\n",
            "Age at marriage (in years)  \" 2.0 \",  Your general health  \" 1 \",  Household expenditure /capita  \" 1.0 \",    Support :  0.11955695515256815\n",
            "per capita income  \" 2.0 \",  Your general health  \" 1 \",  Household expenditure /capita  \" 2.0 \",    Support :  0.3081767835812792\n",
            "Age at marriage (in years)  \" 1.0 \",  Your general health  \" 1 \",  Household expenditure /capita  \" 2.0 \",    Support :  0.1981756976870453\n",
            "Age at marriage (in years)  \" 2.0 \",  Your general health  \" 1 \",  Household expenditure /capita  \" 2.0 \",    Support :  0.2890650450646107\n",
            "Your general health  \" 1 \",  Did you have any say in choosing your husband  \" 0 \",  Household expenditure /capita  \" 2.0 \",    Support :  0.16049516777065914\n",
            "Did you have any say in choosing your husband  \" 1 \",  Your general health  \" 1 \",  Household expenditure /capita  \" 2.0 \",    Support :  0.18492778803344553\n",
            "Age at marriage (in years)  \" 1.0 \",  per capita income  \" 2.0 \",  Household expenditure /capita  \" 2.0 \",    Support :  0.13486806385058095\n",
            "per capita income  \" 2.0 \",  Age at marriage (in years)  \" 2.0 \",  Household expenditure /capita  \" 2.0 \",    Support :  0.19079161689651428\n",
            "per capita income  \" 2.0 \",  Did you have any say in choosing your husband  \" 0 \",  Household expenditure /capita  \" 2.0 \",    Support :  0.11032685416440438\n",
            "per capita income  \" 2.0 \",  Did you have any say in choosing your husband  \" 1 \",  Household expenditure /capita  \" 2.0 \",    Support :  0.12162015419698122\n",
            "Did you have any say in choosing your husband  \" 1 \",  Age at marriage (in years)  \" 2.0 \",  Household expenditure /capita  \" 2.0 \",    Support :  0.12650667824953848\n",
            "Your general health  \" 1 \",  Household expenditure /capita  \" 3.0 \",  per capita income  \" 3.0 \",    Support :  0.11999131284612878\n",
            "Age at marriage (in years)  \" 2.0 \",  Your general health  \" 1 \",  Household expenditure /capita  \" 3.0 \",    Support :  0.14084048213703984\n",
            "Age at marriage (in years)  \" 2.0 \",  Your general health  \" 1 \",  per capita income  \" 1.0 \",    Support :  0.10652622434574872\n",
            "Age at marriage (in years)  \" 1.0 \",  per capita income  \" 2.0 \",  Your general health  \" 1 \",    Support :  0.20469106309045498\n",
            "per capita income  \" 2.0 \",  Age at marriage (in years)  \" 2.0 \",  Your general health  \" 1 \",    Support :  0.2990552720165056\n",
            "per capita income  \" 2.0 \",  Your general health  \" 1 \",  Did you have any say in choosing your husband  \" 0 \",    Support :  0.1648387447062656\n",
            "per capita income  \" 2.0 \",  Did you have any say in choosing your husband  \" 1 \",  Your general health  \" 1 \",    Support :  0.1904658486263438\n",
            "Age at marriage (in years)  \" 2.0 \",  Your general health  \" 1 \",  per capita income  \" 3.0 \",    Support :  0.14398957541535454\n",
            "Age at marriage (in years)  \" 1.0 \",  Your general health  \" 1 \",  Did you have any say in choosing your husband  \" 0 \",    Support :  0.15104788793571505\n",
            "Age at marriage (in years)  \" 1.0 \",  Did you have any say in choosing your husband  \" 1 \",  Your general health  \" 1 \",    Support :  0.12118579650342057\n",
            "Age at marriage (in years)  \" 2.0 \",  Your general health  \" 1 \",  Did you have any say in choosing your husband  \" 0 \",    Support :  0.1595178629601477\n",
            "Did you have any say in choosing your husband  \" 1 \",  Age at marriage (in years)  \" 2.0 \",  Your general health  \" 1 \",    Support :  0.22021935063524814\n",
            "per capita income  \" 2.0 \",  Did you have any say in choosing your husband  \" 1 \",  Age at marriage (in years)  \" 2.0 \",    Support :  0.12824410902378108\n",
            "Age at marriage (in years)  \" 1.0 \",  per capita income  \" 2.0 \",  Your general health  \" 1 \",  Household expenditure /capita  \" 2.0 \",    Support :  0.12585514170919754\n",
            "per capita income  \" 2.0 \",  Age at marriage (in years)  \" 2.0 \",  Your general health  \" 1 \",  Household expenditure /capita  \" 2.0 \",    Support :  0.18069280052122924\n",
            "per capita income  \" 2.0 \",  Your general health  \" 1 \",  Did you have any say in choosing your husband  \" 0 \",  Household expenditure /capita  \" 2.0 \",    Support :  0.10163970029319144\n",
            "per capita income  \" 2.0 \",  Did you have any say in choosing your husband  \" 1 \",  Your general health  \" 1 \",  Household expenditure /capita  \" 2.0 \",    Support :  0.11640786187425345\n",
            "Did you have any say in choosing your husband  \" 1 \",  Age at marriage (in years)  \" 2.0 \",  Your general health  \" 1 \",  Household expenditure /capita  \" 2.0 \",    Support :  0.12129438592681073\n",
            "per capita income  \" 2.0 \",  Did you have any say in choosing your husband  \" 1 \",  Age at marriage (in years)  \" 2.0 \",  Your general health  \" 1 \",    Support :  0.12227169073732219\n"
          ],
          "name": "stdout"
        }
      ]
    },
    {
      "cell_type": "code",
      "metadata": {
        "id": "nqKenK17mjS5",
        "colab_type": "code",
        "colab": {}
      },
      "source": [
        ""
      ],
      "execution_count": 0,
      "outputs": []
    },
    {
      "cell_type": "code",
      "metadata": {
        "id": "NQn5O2QNnBvg",
        "colab_type": "code",
        "colab": {}
      },
      "source": [
        ""
      ],
      "execution_count": 0,
      "outputs": []
    },
    {
      "cell_type": "code",
      "metadata": {
        "id": "Q_v9g2JrnBzS",
        "colab_type": "code",
        "colab": {}
      },
      "source": [
        ""
      ],
      "execution_count": 0,
      "outputs": []
    },
    {
      "cell_type": "code",
      "metadata": {
        "id": "t0ivz1BLnBtG",
        "colab_type": "code",
        "colab": {}
      },
      "source": [
        ""
      ],
      "execution_count": 0,
      "outputs": []
    },
    {
      "cell_type": "code",
      "metadata": {
        "id": "aaYkYg66nBqW",
        "colab_type": "code",
        "colab": {}
      },
      "source": [
        ""
      ],
      "execution_count": 0,
      "outputs": []
    },
    {
      "cell_type": "markdown",
      "metadata": {
        "id": "qzinfxGkogR1",
        "colab_type": "text"
      },
      "source": [
        "## **Father, Mother, Daughter Uneducated**"
      ]
    },
    {
      "cell_type": "code",
      "metadata": {
        "colab_type": "code",
        "outputId": "52935a6f-63ed-4824-b308-4f1add748e1d",
        "id": "QWJZ_pg4nCT6",
        "colab": {
          "base_uri": "https://localhost:8080/",
          "height": 34
        }
      },
      "source": [
        "format_df = format_data(df)\n",
        "format_df.head()\n",
        "format_df = format_df[format_df.EW8 == 0]\n",
        "format_df = format_df[format_df.EW15A == 0]\n",
        "format_df = format_df[format_df.EW15B == 0]\n",
        "format_df.shape"
      ],
      "execution_count": 0,
      "outputs": [
        {
          "output_type": "execute_result",
          "data": {
            "text/plain": [
              "(12430, 350)"
            ]
          },
          "metadata": {
            "tags": []
          },
          "execution_count": 125
        }
      ]
    },
    {
      "cell_type": "code",
      "metadata": {
        "colab_type": "code",
        "outputId": "522060ac-365b-4dbf-c2e2-e13f694d60cf",
        "id": "-ZeGsmZDnCUJ",
        "colab": {
          "base_uri": "https://localhost:8080/",
          "height": 289
        }
      },
      "source": [
        "filter = [a\n",
        "'EW10',\n",
        "'MH1A',\n",
        "'MH4B',\n",
        "'COPC',\n",
        "'INCOMEPC'\n",
        "]\n",
        "\n",
        "lookup = get_lookup()\n",
        "\n",
        "print_items(filter, lookup)\n",
        "\n",
        "filtered_df = filter_dataframe(format_df, filter)\n",
        "filtered_df.head()"
      ],
      "execution_count": 0,
      "outputs": [
        {
          "output_type": "stream",
          "text": [
            "EW10  ==>  Your general health\n",
            "MH1A  ==>  Age at marriage (in years)\n",
            "MH4B  ==>  Did you have any say in choosing your husband\n",
            "COPC  ==>  Household expenditure /capita\n",
            "INCOMEPC  ==>  per capita income\n"
          ],
          "name": "stdout"
        },
        {
          "output_type": "execute_result",
          "data": {
            "text/html": [
              "<div>\n",
              "<style scoped>\n",
              "    .dataframe tbody tr th:only-of-type {\n",
              "        vertical-align: middle;\n",
              "    }\n",
              "\n",
              "    .dataframe tbody tr th {\n",
              "        vertical-align: top;\n",
              "    }\n",
              "\n",
              "    .dataframe thead th {\n",
              "        text-align: right;\n",
              "    }\n",
              "</style>\n",
              "<table border=\"1\" class=\"dataframe\">\n",
              "  <thead>\n",
              "    <tr style=\"text-align: right;\">\n",
              "      <th></th>\n",
              "      <th>EW10</th>\n",
              "      <th>MH1A</th>\n",
              "      <th>MH4B</th>\n",
              "      <th>COPC</th>\n",
              "      <th>INCOMEPC</th>\n",
              "    </tr>\n",
              "  </thead>\n",
              "  <tbody>\n",
              "    <tr>\n",
              "      <th>0</th>\n",
              "      <td>2</td>\n",
              "      <td>1</td>\n",
              "      <td>0</td>\n",
              "      <td>2.0</td>\n",
              "      <td>2.0</td>\n",
              "    </tr>\n",
              "    <tr>\n",
              "      <th>3</th>\n",
              "      <td>1</td>\n",
              "      <td>2</td>\n",
              "      <td>NaN</td>\n",
              "      <td>2.0</td>\n",
              "      <td>2.0</td>\n",
              "    </tr>\n",
              "    <tr>\n",
              "      <th>4</th>\n",
              "      <td>1</td>\n",
              "      <td>2</td>\n",
              "      <td>0</td>\n",
              "      <td>2.0</td>\n",
              "      <td>2.0</td>\n",
              "    </tr>\n",
              "    <tr>\n",
              "      <th>5</th>\n",
              "      <td>1</td>\n",
              "      <td>2</td>\n",
              "      <td>NaN</td>\n",
              "      <td>2.0</td>\n",
              "      <td>2.0</td>\n",
              "    </tr>\n",
              "    <tr>\n",
              "      <th>6</th>\n",
              "      <td>1</td>\n",
              "      <td>2</td>\n",
              "      <td>1</td>\n",
              "      <td>2.0</td>\n",
              "      <td>2.0</td>\n",
              "    </tr>\n",
              "  </tbody>\n",
              "</table>\n",
              "</div>"
            ],
            "text/plain": [
              "   EW10 MH1A MH4B  COPC  INCOMEPC\n",
              "0     2    1    0   2.0       2.0\n",
              "3     1    2  NaN   2.0       2.0\n",
              "4     1    2    0   2.0       2.0\n",
              "5     1    2  NaN   2.0       2.0\n",
              "6     1    2    1   2.0       2.0"
            ]
          },
          "metadata": {
            "tags": []
          },
          "execution_count": 126
        }
      ]
    },
    {
      "cell_type": "code",
      "metadata": {
        "colab_type": "code",
        "id": "lf0ALGZ1nCUP",
        "colab": {}
      },
      "source": [
        "trans_df = get_transaction_df(filtered_df)"
      ],
      "execution_count": 0,
      "outputs": []
    },
    {
      "cell_type": "code",
      "metadata": {
        "colab_type": "code",
        "outputId": "765ae3b3-4676-4374-9f1a-67a45dc203d8",
        "id": "cQQmIZhPnCUU",
        "colab": {
          "base_uri": "https://localhost:8080/",
          "height": 1000
        }
      },
      "source": [
        "lookup = get_lookup()\n",
        "frequent_itemsets = get_frequent_itemsets(trans_df, 0.1)\n",
        "frequent_itemsets_filtered = frequent_itemsets#[ (frequent_itemsets['support'] < 0.05) ]\n",
        "print_freq_itemsets(frequent_itemsets_filtered, lookup)\n",
        "\n",
        "# Did you have any say in choosing your husband  \" 0 \",    Support :  0.5748189863234111\n",
        "# Did you have any say in choosing your husband  \" 1 \",    Support :  0.21263073209975863\n",
        "\n",
        "# Age at marriage (in years)  \" 1.0 \",    Support :  0.6594529364440869\n",
        "# Age at marriage (in years)  \" 2.0 \",    Support :  0.33604183427192275\n",
        "\n",
        "# Your general health  \" 1 \",    Support :  0.8946098149637972\n",
        "\n",
        "# Household expenditure /capita  \" 1.0 \",    Support :  0.37248592115848755\n",
        "# Household expenditure /capita  \" 2.0 \",    Support :  0.48865647626709574\n",
        "# Household expenditure /capita  \" 3.0 \",    Support :  0.13861625100563155\n",
        "\n",
        "# per capita income  \" 1.0 \",    Support :  0.34408688656476266\n",
        "# per capita income  \" 2.0 \",    Support :  0.5312952534191472\n",
        "# per capita income  \" 3.0 \",    Support :  0.1246178600160901"
      ],
      "execution_count": 0,
      "outputs": [
        {
          "output_type": "stream",
          "text": [
            "Household expenditure /capita  \" 1.0 \",    Support :  0.37248592115848755\n",
            "Household expenditure /capita  \" 2.0 \",    Support :  0.48865647626709574\n",
            "Household expenditure /capita  \" 3.0 \",    Support :  0.13861625100563155\n",
            "Your general health  \" 1 \",    Support :  0.8946098149637972\n",
            "Your general health  \" 2 \",    Support :  0.10225261464199517\n",
            "per capita income  \" 1.0 \",    Support :  0.34408688656476266\n",
            "per capita income  \" 2.0 \",    Support :  0.5312952534191472\n",
            "per capita income  \" 3.0 \",    Support :  0.1246178600160901\n",
            "Age at marriage (in years)  \" 1.0 \",    Support :  0.6594529364440869\n",
            "Age at marriage (in years)  \" 2.0 \",    Support :  0.33604183427192275\n",
            "Did you have any say in choosing your husband  \" 0 \",    Support :  0.5748189863234111\n",
            "Did you have any say in choosing your husband  \" 1 \",    Support :  0.21263073209975863\n",
            "Your general health  \" 1 \",  Household expenditure /capita  \" 1.0 \",    Support :  0.3355591311343524\n",
            "per capita income  \" 1.0 \",  Household expenditure /capita  \" 1.0 \",    Support :  0.20088495575221238\n",
            "per capita income  \" 2.0 \",  Household expenditure /capita  \" 1.0 \",    Support :  0.16234915526950924\n",
            "Age at marriage (in years)  \" 1.0 \",  Household expenditure /capita  \" 1.0 \",    Support :  0.2494770716009654\n",
            "Age at marriage (in years)  \" 2.0 \",  Household expenditure /capita  \" 1.0 \",    Support :  0.12099758648431215\n",
            "Did you have any say in choosing your husband  \" 0 \",  Household expenditure /capita  \" 1.0 \",    Support :  0.22807723250201126\n",
            "Your general health  \" 1 \",  Household expenditure /capita  \" 2.0 \",    Support :  0.4374094931617056\n",
            "per capita income  \" 1.0 \",  Household expenditure /capita  \" 2.0 \",    Support :  0.1248592115848753\n",
            "per capita income  \" 2.0 \",  Household expenditure /capita  \" 2.0 \",    Support :  0.3020917135961384\n",
            "Age at marriage (in years)  \" 1.0 \",  Household expenditure /capita  \" 2.0 \",    Support :  0.319147224456959\n",
            "Age at marriage (in years)  \" 2.0 \",  Household expenditure /capita  \" 2.0 \",    Support :  0.1676588897827836\n",
            "Did you have any say in choosing your husband  \" 0 \",  Household expenditure /capita  \" 2.0 \",    Support :  0.2754625905068383\n",
            "Did you have any say in choosing your husband  \" 1 \",  Household expenditure /capita  \" 2.0 \",    Support :  0.10659694288012872\n",
            "Your general health  \" 1 \",  Household expenditure /capita  \" 3.0 \",    Support :  0.12139983909895415\n",
            "Your general health  \" 1 \",  per capita income  \" 1.0 \",    Support :  0.3013676588897828\n",
            "per capita income  \" 2.0 \",  Your general health  \" 1 \",    Support :  0.48020917135961383\n",
            "Your general health  \" 1 \",  per capita income  \" 3.0 \",    Support :  0.11303298471440064\n",
            "Age at marriage (in years)  \" 1.0 \",  Your general health  \" 1 \",    Support :  0.5853580048270314\n",
            "Age at marriage (in years)  \" 2.0 \",  Your general health  \" 1 \",    Support :  0.30514883346741756\n",
            "Your general health  \" 1 \",  Did you have any say in choosing your husband  \" 0 \",    Support :  0.5077232502011263\n",
            "Did you have any say in choosing your husband  \" 1 \",  Your general health  \" 1 \",    Support :  0.19444891391794047\n",
            "Age at marriage (in years)  \" 1.0 \",  per capita income  \" 1.0 \",    Support :  0.23821399839098953\n",
            "Age at marriage (in years)  \" 2.0 \",  per capita income  \" 1.0 \",    Support :  0.10434432823813355\n",
            "per capita income  \" 1.0 \",  Did you have any say in choosing your husband  \" 0 \",    Support :  0.2168141592920354\n",
            "Age at marriage (in years)  \" 1.0 \",  per capita income  \" 2.0 \",    Support :  0.34392598551890585\n",
            "per capita income  \" 2.0 \",  Age at marriage (in years)  \" 2.0 \",    Support :  0.18487530168946098\n",
            "per capita income  \" 2.0 \",  Did you have any say in choosing your husband  \" 0 \",    Support :  0.29436846339501205\n",
            "per capita income  \" 2.0 \",  Did you have any say in choosing your husband  \" 1 \",    Support :  0.11802091713596138\n",
            "Age at marriage (in years)  \" 1.0 \",  Did you have any say in choosing your husband  \" 0 \",    Support :  0.41246983105390184\n",
            "Age at marriage (in years)  \" 1.0 \",  Did you have any say in choosing your husband  \" 1 \",    Support :  0.12574416733708768\n",
            "Age at marriage (in years)  \" 2.0 \",  Did you have any say in choosing your husband  \" 0 \",    Support :  0.16049879324215607\n",
            "Your general health  \" 1 \",  per capita income  \" 1.0 \",  Household expenditure /capita  \" 1.0 \",    Support :  0.17739340305711987\n",
            "per capita income  \" 2.0 \",  Your general health  \" 1 \",  Household expenditure /capita  \" 1.0 \",    Support :  0.1495575221238938\n",
            "Age at marriage (in years)  \" 1.0 \",  Your general health  \" 1 \",  Household expenditure /capita  \" 1.0 \",    Support :  0.22220434432823813\n",
            "Age at marriage (in years)  \" 2.0 \",  Your general health  \" 1 \",  Household expenditure /capita  \" 1.0 \",    Support :  0.11142397425583267\n",
            "Your general health  \" 1 \",  Did you have any say in choosing your husband  \" 0 \",  Household expenditure /capita  \" 1.0 \",    Support :  0.20402252614641994\n",
            "Age at marriage (in years)  \" 1.0 \",  per capita income  \" 1.0 \",  Household expenditure /capita  \" 1.0 \",    Support :  0.13861625100563155\n",
            "per capita income  \" 1.0 \",  Did you have any say in choosing your husband  \" 0 \",  Household expenditure /capita  \" 1.0 \",    Support :  0.13145615446500403\n",
            "Age at marriage (in years)  \" 1.0 \",  per capita income  \" 2.0 \",  Household expenditure /capita  \" 1.0 \",    Support :  0.10547063555913114\n",
            "Age at marriage (in years)  \" 1.0 \",  Did you have any say in choosing your husband  \" 0 \",  Household expenditure /capita  \" 1.0 \",    Support :  0.1671761866452132\n",
            "Your general health  \" 1 \",  per capita income  \" 1.0 \",  Household expenditure /capita  \" 2.0 \",    Support :  0.1081255028157683\n",
            "per capita income  \" 2.0 \",  Your general health  \" 1 \",  Household expenditure /capita  \" 2.0 \",    Support :  0.27216411906677396\n",
            "Age at marriage (in years)  \" 1.0 \",  Your general health  \" 1 \",  Household expenditure /capita  \" 2.0 \",    Support :  0.2835076427996782\n",
            "Age at marriage (in years)  \" 2.0 \",  Your general health  \" 1 \",  Household expenditure /capita  \" 2.0 \",    Support :  0.15213193885760257\n",
            "Your general health  \" 1 \",  Did you have any say in choosing your husband  \" 0 \",  Household expenditure /capita  \" 2.0 \",    Support :  0.24344328238133547\n",
            "Age at marriage (in years)  \" 1.0 \",  per capita income  \" 2.0 \",  Household expenditure /capita  \" 2.0 \",    Support :  0.19460981496379726\n",
            "per capita income  \" 2.0 \",  Age at marriage (in years)  \" 2.0 \",  Household expenditure /capita  \" 2.0 \",    Support :  0.10611423974255833\n",
            "per capita income  \" 2.0 \",  Did you have any say in choosing your husband  \" 0 \",  Household expenditure /capita  \" 2.0 \",    Support :  0.16830249396621078\n",
            "Age at marriage (in years)  \" 1.0 \",  Did you have any say in choosing your husband  \" 0 \",  Household expenditure /capita  \" 2.0 \",    Support :  0.19549477071600965\n",
            "Age at marriage (in years)  \" 1.0 \",  Your general health  \" 1 \",  per capita income  \" 1.0 \",    Support :  0.20595333869670152\n",
            "per capita income  \" 1.0 \",  Your general health  \" 1 \",  Did you have any say in choosing your husband  \" 0 \",    Support :  0.18857602574416735\n",
            "Age at marriage (in years)  \" 1.0 \",  per capita income  \" 2.0 \",  Your general health  \" 1 \",    Support :  0.30973451327433627\n",
            "per capita income  \" 2.0 \",  Age at marriage (in years)  \" 2.0 \",  Your general health  \" 1 \",    Support :  0.16822204344328237\n",
            "per capita income  \" 2.0 \",  Your general health  \" 1 \",  Did you have any say in choosing your husband  \" 0 \",    Support :  0.26299275945293643\n",
            "per capita income  \" 2.0 \",  Did you have any say in choosing your husband  \" 1 \",  Your general health  \" 1 \",    Support :  0.1084473049074819\n",
            "Age at marriage (in years)  \" 1.0 \",  Your general health  \" 1 \",  Did you have any say in choosing your husband  \" 0 \",    Support :  0.36299275945293646\n",
            "Age at marriage (in years)  \" 1.0 \",  Did you have any say in choosing your husband  \" 1 \",  Your general health  \" 1 \",    Support :  0.11351568785197104\n",
            "Age at marriage (in years)  \" 2.0 \",  Your general health  \" 1 \",  Did you have any say in choosing your husband  \" 0 \",    Support :  0.14304102976669347\n",
            "Age at marriage (in years)  \" 1.0 \",  per capita income  \" 1.0 \",  Did you have any say in choosing your husband  \" 0 \",    Support :  0.16242960579243765\n",
            "Age at marriage (in years)  \" 1.0 \",  per capita income  \" 2.0 \",  Did you have any say in choosing your husband  \" 0 \",    Support :  0.2073209975864843\n",
            "Age at marriage (in years)  \" 1.0 \",  Your general health  \" 1 \",  per capita income  \" 1.0 \",  Household expenditure /capita  \" 1.0 \",    Support :  0.12131938857602574\n",
            "per capita income  \" 1.0 \",  Your general health  \" 1 \",  Did you have any say in choosing your husband  \" 0 \",  Household expenditure /capita  \" 1.0 \",    Support :  0.11552695092518102\n",
            "Age at marriage (in years)  \" 1.0 \",  Your general health  \" 1 \",  Did you have any say in choosing your husband  \" 0 \",  Household expenditure /capita  \" 1.0 \",    Support :  0.14915526950925181\n",
            "Age at marriage (in years)  \" 1.0 \",  per capita income  \" 2.0 \",  Your general health  \" 1 \",  Household expenditure /capita  \" 2.0 \",    Support :  0.1753821399839099\n",
            "per capita income  \" 2.0 \",  Your general health  \" 1 \",  Did you have any say in choosing your husband  \" 0 \",  Household expenditure /capita  \" 2.0 \",    Support :  0.1498793242156074\n",
            "Age at marriage (in years)  \" 1.0 \",  Your general health  \" 1 \",  Did you have any say in choosing your husband  \" 0 \",  Household expenditure /capita  \" 2.0 \",    Support :  0.17176186645213193\n",
            "Age at marriage (in years)  \" 1.0 \",  per capita income  \" 2.0 \",  Did you have any say in choosing your husband  \" 0 \",  Household expenditure /capita  \" 2.0 \",    Support :  0.1170555108608206\n",
            "Age at marriage (in years)  \" 1.0 \",  per capita income  \" 1.0 \",  Your general health  \" 1 \",  Did you have any say in choosing your husband  \" 0 \",    Support :  0.13998390989541432\n",
            "Age at marriage (in years)  \" 1.0 \",  per capita income  \" 2.0 \",  Your general health  \" 1 \",  Did you have any say in choosing your husband  \" 0 \",    Support :  0.18551890587288816\n",
            "Household expenditure /capita  \" 2.0 \",  per capita income  \" 2.0 \",  Age at marriage (in years)  \" 1.0 \",  Your general health  \" 1 \",  Did you have any say in choosing your husband  \" 0 \",    Support :  0.10442477876106195\n"
          ],
          "name": "stdout"
        }
      ]
    },
    {
      "cell_type": "code",
      "metadata": {
        "id": "ilo0kmiWnEsM",
        "colab_type": "code",
        "colab": {}
      },
      "source": [
        ""
      ],
      "execution_count": 0,
      "outputs": []
    },
    {
      "cell_type": "code",
      "metadata": {
        "id": "FBaCHLNGn2Ub",
        "colab_type": "code",
        "colab": {}
      },
      "source": [
        ""
      ],
      "execution_count": 0,
      "outputs": []
    },
    {
      "cell_type": "code",
      "metadata": {
        "id": "d6Ic-rACn2kz",
        "colab_type": "code",
        "colab": {}
      },
      "source": [
        ""
      ],
      "execution_count": 0,
      "outputs": []
    },
    {
      "cell_type": "code",
      "metadata": {
        "id": "sJI2GUAIn2or",
        "colab_type": "code",
        "colab": {}
      },
      "source": [
        ""
      ],
      "execution_count": 0,
      "outputs": []
    },
    {
      "cell_type": "code",
      "metadata": {
        "id": "SJ0fq7k1n2R1",
        "colab_type": "code",
        "colab": {}
      },
      "source": [
        ""
      ],
      "execution_count": 0,
      "outputs": []
    },
    {
      "cell_type": "code",
      "metadata": {
        "id": "3QYN1_fsskLY",
        "colab_type": "code",
        "colab": {}
      },
      "source": [
        ""
      ],
      "execution_count": 0,
      "outputs": []
    },
    {
      "cell_type": "code",
      "metadata": {
        "colab_type": "code",
        "id": "SQ9OdzhGtCOC",
        "colab": {}
      },
      "source": [
        ""
      ],
      "execution_count": 0,
      "outputs": []
    },
    {
      "cell_type": "code",
      "metadata": {
        "colab_type": "code",
        "id": "Hv2Bjzr0tCOG",
        "colab": {}
      },
      "source": [
        ""
      ],
      "execution_count": 0,
      "outputs": []
    },
    {
      "cell_type": "code",
      "metadata": {
        "colab_type": "code",
        "id": "P2CSsvb3tCOJ",
        "colab": {}
      },
      "source": [
        ""
      ],
      "execution_count": 0,
      "outputs": []
    },
    {
      "cell_type": "code",
      "metadata": {
        "colab_type": "code",
        "id": "uRf_Tn1OtCOL",
        "colab": {}
      },
      "source": [
        ""
      ],
      "execution_count": 0,
      "outputs": []
    },
    {
      "cell_type": "markdown",
      "metadata": {
        "id": "1AaWZat1tLev",
        "colab_type": "text"
      },
      "source": [
        "# HB1  ==>  glasses of milk daily harmful during pregnancy\n",
        "# HB2  ==>  Belief: Men physically weak months after sterilization\n",
        "# HB3  ==>  Belief: 1st milk after birth good for baby\n",
        "# HB4  ==>  Belief: Chulha smoke good for health\n",
        "# HB5  ==>  Belief: Child diarrhea more to drink\n",
        "# HB6  ==>  Belief: Illness spread through impure water\n",
        "# AI1  ==>  HIV/AIDS Awareness"
      ]
    },
    {
      "cell_type": "markdown",
      "metadata": {
        "colab_type": "text",
        "id": "jtepmm85u0MR"
      },
      "source": [
        "## **Father, Mother, Daughter Educated**"
      ]
    },
    {
      "cell_type": "code",
      "metadata": {
        "colab_type": "code",
        "outputId": "023ce4fe-1bc5-40ae-cead-65c943eeac72",
        "id": "u9L5gnXfu0MS",
        "colab": {
          "base_uri": "https://localhost:8080/",
          "height": 34
        }
      },
      "source": [
        "format_df = format_data(df)\n",
        "format_df.head()\n",
        "format_df = format_df[format_df.EW8 != 0]\n",
        "format_df = format_df[format_df.EW15A != 0]\n",
        "format_df = format_df[format_df.EW15B != 0]\n",
        "format_df.shape"
      ],
      "execution_count": 0,
      "outputs": [
        {
          "output_type": "execute_result",
          "data": {
            "text/plain": [
              "(8056, 350)"
            ]
          },
          "metadata": {
            "tags": []
          },
          "execution_count": 134
        }
      ]
    },
    {
      "cell_type": "code",
      "metadata": {
        "colab_type": "code",
        "outputId": "3a8e486d-0da0-4d65-9ce2-3815405f51e0",
        "id": "55CAkAnZu0MV",
        "colab": {
          "base_uri": "https://localhost:8080/",
          "height": 323
        }
      },
      "source": [
        "filter = [\n",
        "'HB1',\n",
        "'HB2',\n",
        "'HB3',\n",
        "'HB4',\n",
        "'HB5',\n",
        "'HB6',\n",
        "'AI1'\n",
        "]\n",
        "\n",
        "lookup = get_lookup()\n",
        "\n",
        "print_items(filter, lookup)\n",
        "\n",
        "filtered_df = filter_dataframe(format_df, filter)\n",
        "filtered_df.head()"
      ],
      "execution_count": 0,
      "outputs": [
        {
          "output_type": "stream",
          "text": [
            "HB1  ==>  glasses of milk daily harmful during pregnancy\n",
            "HB2  ==>  Belief: Men physically weak months after sterilization\n",
            "HB3  ==>  Belief: 1st milk after birth good for baby\n",
            "HB4  ==>  Belief: Chulha smoke good for health\n",
            "HB5  ==>  Belief: Child diarrhea more to drink\n",
            "HB6  ==>  Belief: Illness spread through impure water\n",
            "AI1  ==>  HIV/AIDS Awareness\n"
          ],
          "name": "stdout"
        },
        {
          "output_type": "execute_result",
          "data": {
            "text/html": [
              "<div>\n",
              "<style scoped>\n",
              "    .dataframe tbody tr th:only-of-type {\n",
              "        vertical-align: middle;\n",
              "    }\n",
              "\n",
              "    .dataframe tbody tr th {\n",
              "        vertical-align: top;\n",
              "    }\n",
              "\n",
              "    .dataframe thead th {\n",
              "        text-align: right;\n",
              "    }\n",
              "</style>\n",
              "<table border=\"1\" class=\"dataframe\">\n",
              "  <thead>\n",
              "    <tr style=\"text-align: right;\">\n",
              "      <th></th>\n",
              "      <th>HB1</th>\n",
              "      <th>HB2</th>\n",
              "      <th>HB3</th>\n",
              "      <th>HB4</th>\n",
              "      <th>HB5</th>\n",
              "      <th>HB6</th>\n",
              "      <th>AI1</th>\n",
              "    </tr>\n",
              "  </thead>\n",
              "  <tbody>\n",
              "    <tr>\n",
              "      <th>29</th>\n",
              "      <td>1</td>\n",
              "      <td>0</td>\n",
              "      <td>1</td>\n",
              "      <td>2</td>\n",
              "      <td>2</td>\n",
              "      <td>2</td>\n",
              "      <td>1</td>\n",
              "    </tr>\n",
              "    <tr>\n",
              "      <th>118</th>\n",
              "      <td>0</td>\n",
              "      <td>1</td>\n",
              "      <td>1</td>\n",
              "      <td>2</td>\n",
              "      <td>2</td>\n",
              "      <td>1</td>\n",
              "      <td>1</td>\n",
              "    </tr>\n",
              "    <tr>\n",
              "      <th>166</th>\n",
              "      <td>1</td>\n",
              "      <td>NaN</td>\n",
              "      <td>1</td>\n",
              "      <td>2</td>\n",
              "      <td>2</td>\n",
              "      <td>2</td>\n",
              "      <td>1</td>\n",
              "    </tr>\n",
              "    <tr>\n",
              "      <th>170</th>\n",
              "      <td>0</td>\n",
              "      <td>0</td>\n",
              "      <td>1</td>\n",
              "      <td>2</td>\n",
              "      <td>2</td>\n",
              "      <td>2</td>\n",
              "      <td>1</td>\n",
              "    </tr>\n",
              "    <tr>\n",
              "      <th>217</th>\n",
              "      <td>0</td>\n",
              "      <td>0</td>\n",
              "      <td>1</td>\n",
              "      <td>2</td>\n",
              "      <td>2</td>\n",
              "      <td>2</td>\n",
              "      <td>1</td>\n",
              "    </tr>\n",
              "  </tbody>\n",
              "</table>\n",
              "</div>"
            ],
            "text/plain": [
              "    HB1  HB2 HB3 HB4 HB5 HB6 AI1\n",
              "29    1    0   1   2   2   2   1\n",
              "118   0    1   1   2   2   1   1\n",
              "166   1  NaN   1   2   2   2   1\n",
              "170   0    0   1   2   2   2   1\n",
              "217   0    0   1   2   2   2   1"
            ]
          },
          "metadata": {
            "tags": []
          },
          "execution_count": 136
        }
      ]
    },
    {
      "cell_type": "code",
      "metadata": {
        "colab_type": "code",
        "id": "OAz93dlwu0MZ",
        "colab": {}
      },
      "source": [
        "trans_df = get_transaction_df(filtered_df)"
      ],
      "execution_count": 0,
      "outputs": []
    },
    {
      "cell_type": "code",
      "metadata": {
        "colab_type": "code",
        "outputId": "299d696c-76b6-4893-bb6a-1f5bad1d14e9",
        "id": "ANAklBlMu0Mb",
        "colab": {
          "base_uri": "https://localhost:8080/",
          "height": 1000
        }
      },
      "source": [
        "lookup = get_lookup()\n",
        "frequent_itemsets = get_frequent_itemsets(trans_df, 0.1)\n",
        "frequent_itemsets_filtered = frequent_itemsets#[ (frequent_itemsets['support'] < 0.05) ]\n",
        "print_freq_itemsets(frequent_itemsets_filtered, lookup)\n",
        "\n",
        "# HIV/AIDS Awareness  \" 1 \",    Support :  0.9234111221449851\n",
        "\n",
        "# glasses of milk daily harmful during pregnancy  \" 0 \",    Support :  0.756578947368421\n",
        "# glasses of milk daily harmful during pregnancy  \" 1 \",    Support :  0.22902184707050646\n",
        "\n",
        "# Belief: Men physically weak months after sterilization  \" 0 \",    Support :  0.4637537239324727\n",
        "# Belief: Men physically weak months after sterilization  \" 1 \",    Support :  0.33887785501489576\n",
        "\n",
        "# Belief: 1st milk after birth good for baby  \" 1 \",    Support :  0.9073982125124131\n",
        "\n",
        "# Belief: Chulha smoke good for health  \" 2 \",    Support :  0.8138033763654419\n",
        "# Belief: Chulha smoke good for health  \" 3 \",    Support :  0.12487586891757696\n",
        "\n",
        "# Belief: Child diarrhea more to drink  \" 1 \",    Support :  0.10911122144985104\n",
        "# Belief: Child diarrhea more to drink  \" 2 \",    Support :  0.7218222442899702\n",
        "# Belief: Child diarrhea more to drink  \" 3 \",    Support :  0.1413853028798411\n",
        "\n",
        "# Belief: Illness spread through impure water  \" 2 \",    Support :  0.7841360476663356"
      ],
      "execution_count": 0,
      "outputs": [
        {
          "output_type": "stream",
          "text": [
            "HIV/AIDS Awareness  \" 1 \",    Support :  0.9234111221449851\n",
            "glasses of milk daily harmful during pregnancy  \" 0 \",    Support :  0.756578947368421\n",
            "glasses of milk daily harmful during pregnancy  \" 1 \",    Support :  0.22902184707050646\n",
            "Belief: Men physically weak months after sterilization  \" 0 \",    Support :  0.4637537239324727\n",
            "Belief: Men physically weak months after sterilization  \" 1 \",    Support :  0.33887785501489576\n",
            "Belief: 1st milk after birth good for baby  \" 1 \",    Support :  0.9073982125124131\n",
            "Belief: Chulha smoke good for health  \" 2 \",    Support :  0.8138033763654419\n",
            "Belief: Chulha smoke good for health  \" 3 \",    Support :  0.12487586891757696\n",
            "Belief: Child diarrhea more to drink  \" 1 \",    Support :  0.10911122144985104\n",
            "Belief: Child diarrhea more to drink  \" 2 \",    Support :  0.7218222442899702\n",
            "Belief: Child diarrhea more to drink  \" 3 \",    Support :  0.1413853028798411\n",
            "Belief: Illness spread through impure water  \" 2 \",    Support :  0.7841360476663356\n",
            "HIV/AIDS Awareness  \" 1 \",  glasses of milk daily harmful during pregnancy  \" 0 \",    Support :  0.698857994041708\n",
            "glasses of milk daily harmful during pregnancy  \" 1 \",  HIV/AIDS Awareness  \" 1 \",    Support :  0.21263654419066536\n",
            "HIV/AIDS Awareness  \" 1 \",  Belief: Men physically weak months after sterilization  \" 0 \",    Support :  0.44252730883813307\n",
            "HIV/AIDS Awareness  \" 1 \",  Belief: Men physically weak months after sterilization  \" 1 \",    Support :  0.3031281032770606\n",
            "Belief: 1st milk after birth good for baby  \" 1 \",  HIV/AIDS Awareness  \" 1 \",    Support :  0.8443396226415094\n",
            "HIV/AIDS Awareness  \" 1 \",  Belief: Chulha smoke good for health  \" 2 \",    Support :  0.7483862959285005\n",
            "Belief: Chulha smoke good for health  \" 3 \",  HIV/AIDS Awareness  \" 1 \",    Support :  0.11817279046673287\n",
            "Belief: Child diarrhea more to drink  \" 2 \",  HIV/AIDS Awareness  \" 1 \",    Support :  0.676017874875869\n",
            "Belief: Child diarrhea more to drink  \" 3 \",  HIV/AIDS Awareness  \" 1 \",    Support :  0.131454816285998\n",
            "Belief: Illness spread through impure water  \" 2 \",  HIV/AIDS Awareness  \" 1 \",    Support :  0.7421797418073486\n",
            "glasses of milk daily harmful during pregnancy  \" 0 \",  Belief: Men physically weak months after sterilization  \" 0 \",    Support :  0.3682969215491559\n",
            "Belief: Men physically weak months after sterilization  \" 1 \",  glasses of milk daily harmful during pregnancy  \" 0 \",    Support :  0.25136544190665344\n",
            "Belief: 1st milk after birth good for baby  \" 1 \",  glasses of milk daily harmful during pregnancy  \" 0 \",    Support :  0.6909136047666335\n",
            "Belief: Chulha smoke good for health  \" 2 \",  glasses of milk daily harmful during pregnancy  \" 0 \",    Support :  0.6290963257199603\n",
            "Belief: Child diarrhea more to drink  \" 2 \",  glasses of milk daily harmful during pregnancy  \" 0 \",    Support :  0.5631827209533267\n",
            "Belief: Child diarrhea more to drink  \" 3 \",  glasses of milk daily harmful during pregnancy  \" 0 \",    Support :  0.10178748758689175\n",
            "Belief: Illness spread through impure water  \" 2 \",  glasses of milk daily harmful during pregnancy  \" 0 \",    Support :  0.6031529294935452\n",
            "Belief: 1st milk after birth good for baby  \" 1 \",  glasses of milk daily harmful during pregnancy  \" 1 \",    Support :  0.20556107249255212\n",
            "glasses of milk daily harmful during pregnancy  \" 1 \",  Belief: Chulha smoke good for health  \" 2 \",    Support :  0.17514895729890764\n",
            "glasses of milk daily harmful during pregnancy  \" 1 \",  Belief: Child diarrhea more to drink  \" 2 \",    Support :  0.15106752730883813\n",
            "Belief: Illness spread through impure water  \" 2 \",  glasses of milk daily harmful during pregnancy  \" 1 \",    Support :  0.1717974180734856\n",
            "Belief: 1st milk after birth good for baby  \" 1 \",  Belief: Men physically weak months after sterilization  \" 0 \",    Support :  0.42415590863952335\n",
            "Belief: Chulha smoke good for health  \" 2 \",  Belief: Men physically weak months after sterilization  \" 0 \",    Support :  0.36705561072492554\n",
            "Belief: Child diarrhea more to drink  \" 2 \",  Belief: Men physically weak months after sterilization  \" 0 \",    Support :  0.3434707050645482\n",
            "Belief: Illness spread through impure water  \" 2 \",  Belief: Men physically weak months after sterilization  \" 0 \",    Support :  0.39051638530287985\n",
            "Belief: 1st milk after birth good for baby  \" 1 \",  Belief: Men physically weak months after sterilization  \" 1 \",    Support :  0.307720953326713\n",
            "Belief: Chulha smoke good for health  \" 2 \",  Belief: Men physically weak months after sterilization  \" 1 \",    Support :  0.298038728897716\n",
            "Belief: Child diarrhea more to drink  \" 2 \",  Belief: Men physically weak months after sterilization  \" 1 \",    Support :  0.23125620655412116\n",
            "Belief: Illness spread through impure water  \" 2 \",  Belief: Men physically weak months after sterilization  \" 1 \",    Support :  0.2457795431976167\n",
            "Belief: 1st milk after birth good for baby  \" 1 \",  Belief: Chulha smoke good for health  \" 2 \",    Support :  0.7452830188679245\n",
            "Belief: 1st milk after birth good for baby  \" 1 \",  Belief: Chulha smoke good for health  \" 3 \",    Support :  0.11109731876861967\n",
            "Belief: 1st milk after birth good for baby  \" 1 \",  Belief: Child diarrhea more to drink  \" 2 \",    Support :  0.6616186693147964\n",
            "Belief: 1st milk after birth good for baby  \" 1 \",  Belief: Child diarrhea more to drink  \" 3 \",    Support :  0.12996524329692155\n",
            "Belief: Illness spread through impure water  \" 2 \",  Belief: 1st milk after birth good for baby  \" 1 \",    Support :  0.718222442899702\n",
            "Belief: Child diarrhea more to drink  \" 2 \",  Belief: Chulha smoke good for health  \" 2 \",    Support :  0.5847815292949354\n",
            "Belief: Child diarrhea more to drink  \" 3 \",  Belief: Chulha smoke good for health  \" 2 \",    Support :  0.12425521350546177\n",
            "Belief: Illness spread through impure water  \" 2 \",  Belief: Chulha smoke good for health  \" 2 \",    Support :  0.6434955312810328\n",
            "Belief: Illness spread through impure water  \" 2 \",  Belief: Chulha smoke good for health  \" 3 \",    Support :  0.10104270109235353\n",
            "Belief: Illness spread through impure water  \" 2 \",  Belief: Child diarrhea more to drink  \" 2 \",    Support :  0.5821747765640516\n",
            "Belief: Illness spread through impure water  \" 2 \",  Belief: Child diarrhea more to drink  \" 3 \",    Support :  0.1096077457795432\n",
            "HIV/AIDS Awareness  \" 1 \",  glasses of milk daily harmful during pregnancy  \" 0 \",  Belief: Men physically weak months after sterilization  \" 0 \",    Support :  0.35054617676266137\n",
            "Belief: Men physically weak months after sterilization  \" 1 \",  HIV/AIDS Awareness  \" 1 \",  glasses of milk daily harmful during pregnancy  \" 0 \",    Support :  0.22542204568023833\n",
            "Belief: 1st milk after birth good for baby  \" 1 \",  HIV/AIDS Awareness  \" 1 \",  glasses of milk daily harmful during pregnancy  \" 0 \",    Support :  0.6421300893743793\n",
            "Belief: Chulha smoke good for health  \" 2 \",  HIV/AIDS Awareness  \" 1 \",  glasses of milk daily harmful during pregnancy  \" 0 \",    Support :  0.5773336643495531\n",
            "Belief: Child diarrhea more to drink  \" 2 \",  HIV/AIDS Awareness  \" 1 \",  glasses of milk daily harmful during pregnancy  \" 0 \",    Support :  0.5280536246276067\n",
            "Belief: Illness spread through impure water  \" 2 \",  HIV/AIDS Awareness  \" 1 \",  glasses of milk daily harmful during pregnancy  \" 0 \",    Support :  0.5706305858987091\n",
            "Belief: 1st milk after birth good for baby  \" 1 \",  glasses of milk daily harmful during pregnancy  \" 1 \",  HIV/AIDS Awareness  \" 1 \",    Support :  0.19314796425024827\n",
            "glasses of milk daily harmful during pregnancy  \" 1 \",  HIV/AIDS Awareness  \" 1 \",  Belief: Chulha smoke good for health  \" 2 \",    Support :  0.16298411122144985\n",
            "glasses of milk daily harmful during pregnancy  \" 1 \",  HIV/AIDS Awareness  \" 1 \",  Belief: Child diarrhea more to drink  \" 2 \",    Support :  0.14126117179741807\n",
            "Belief: Illness spread through impure water  \" 2 \",  glasses of milk daily harmful during pregnancy  \" 1 \",  HIV/AIDS Awareness  \" 1 \",    Support :  0.16310824230387289\n",
            "Belief: 1st milk after birth good for baby  \" 1 \",  HIV/AIDS Awareness  \" 1 \",  Belief: Men physically weak months after sterilization  \" 0 \",    Support :  0.4067775571002979\n",
            "HIV/AIDS Awareness  \" 1 \",  Belief: Chulha smoke good for health  \" 2 \",  Belief: Men physically weak months after sterilization  \" 0 \",    Support :  0.34893247269116184\n",
            "Belief: Child diarrhea more to drink  \" 2 \",  HIV/AIDS Awareness  \" 1 \",  Belief: Men physically weak months after sterilization  \" 0 \",    Support :  0.3305610724925521\n",
            "Belief: Illness spread through impure water  \" 2 \",  HIV/AIDS Awareness  \" 1 \",  Belief: Men physically weak months after sterilization  \" 0 \",    Support :  0.37773088381330683\n",
            "Belief: 1st milk after birth good for baby  \" 1 \",  HIV/AIDS Awareness  \" 1 \",  Belief: Men physically weak months after sterilization  \" 1 \",    Support :  0.2776812313803376\n",
            "Belief: Men physically weak months after sterilization  \" 1 \",  HIV/AIDS Awareness  \" 1 \",  Belief: Chulha smoke good for health  \" 2 \",    Support :  0.26613704071499505\n",
            "Belief: Child diarrhea more to drink  \" 2 \",  HIV/AIDS Awareness  \" 1 \",  Belief: Men physically weak months after sterilization  \" 1 \",    Support :  0.20940913604766634\n",
            "Belief: Illness spread through impure water  \" 2 \",  HIV/AIDS Awareness  \" 1 \",  Belief: Men physically weak months after sterilization  \" 1 \",    Support :  0.22840119165839126\n",
            "Belief: 1st milk after birth good for baby  \" 1 \",  HIV/AIDS Awareness  \" 1 \",  Belief: Chulha smoke good for health  \" 2 \",    Support :  0.6896722939424031\n",
            "Belief: Chulha smoke good for health  \" 3 \",  Belief: 1st milk after birth good for baby  \" 1 \",  HIV/AIDS Awareness  \" 1 \",    Support :  0.10625620655412116\n",
            "Belief: 1st milk after birth good for baby  \" 1 \",  Belief: Child diarrhea more to drink  \" 2 \",  HIV/AIDS Awareness  \" 1 \",    Support :  0.6230139026812314\n",
            "Belief: 1st milk after birth good for baby  \" 1 \",  Belief: Child diarrhea more to drink  \" 3 \",  HIV/AIDS Awareness  \" 1 \",    Support :  0.1211519364448858\n",
            "Belief: 1st milk after birth good for baby  \" 1 \",  Belief: Illness spread through impure water  \" 2 \",  HIV/AIDS Awareness  \" 1 \",    Support :  0.6822244289970208\n",
            "Belief: Child diarrhea more to drink  \" 2 \",  HIV/AIDS Awareness  \" 1 \",  Belief: Chulha smoke good for health  \" 2 \",    Support :  0.5436941410129096\n",
            "Belief: Child diarrhea more to drink  \" 3 \",  HIV/AIDS Awareness  \" 1 \",  Belief: Chulha smoke good for health  \" 2 \",    Support :  0.11556603773584906\n",
            "Belief: Illness spread through impure water  \" 2 \",  HIV/AIDS Awareness  \" 1 \",  Belief: Chulha smoke good for health  \" 2 \",    Support :  0.6072492552135055\n",
            "Belief: Illness spread through impure water  \" 2 \",  Belief: Child diarrhea more to drink  \" 2 \",  HIV/AIDS Awareness  \" 1 \",    Support :  0.5559831181727904\n",
            "Belief: Illness spread through impure water  \" 2 \",  Belief: Child diarrhea more to drink  \" 3 \",  HIV/AIDS Awareness  \" 1 \",    Support :  0.10414597815292949\n",
            "Belief: 1st milk after birth good for baby  \" 1 \",  glasses of milk daily harmful during pregnancy  \" 0 \",  Belief: Men physically weak months after sterilization  \" 0 \",    Support :  0.3380089374379345\n",
            "Belief: Chulha smoke good for health  \" 2 \",  glasses of milk daily harmful during pregnancy  \" 0 \",  Belief: Men physically weak months after sterilization  \" 0 \",    Support :  0.29530784508440916\n",
            "Belief: Child diarrhea more to drink  \" 2 \",  glasses of milk daily harmful during pregnancy  \" 0 \",  Belief: Men physically weak months after sterilization  \" 0 \",    Support :  0.28227408142999005\n",
            "Belief: Illness spread through impure water  \" 2 \",  glasses of milk daily harmful during pregnancy  \" 0 \",  Belief: Men physically weak months after sterilization  \" 0 \",    Support :  0.31107249255213504\n",
            "Belief: Men physically weak months after sterilization  \" 1 \",  Belief: 1st milk after birth good for baby  \" 1 \",  glasses of milk daily harmful during pregnancy  \" 0 \",    Support :  0.22989076464746772\n",
            "Belief: Men physically weak months after sterilization  \" 1 \",  Belief: Chulha smoke good for health  \" 2 \",  glasses of milk daily harmful during pregnancy  \" 0 \",    Support :  0.22616683217477657\n",
            "Belief: Men physically weak months after sterilization  \" 1 \",  Belief: Child diarrhea more to drink  \" 2 \",  glasses of milk daily harmful during pregnancy  \" 0 \",    Support :  0.17738331678252234\n",
            "Belief: Illness spread through impure water  \" 2 \",  Belief: Men physically weak months after sterilization  \" 1 \",  glasses of milk daily harmful during pregnancy  \" 0 \",    Support :  0.18892750744786493\n",
            "Belief: 1st milk after birth good for baby  \" 1 \",  Belief: Chulha smoke good for health  \" 2 \",  glasses of milk daily harmful during pregnancy  \" 0 \",    Support :  0.5783267130089375\n",
            "Belief: 1st milk after birth good for baby  \" 1 \",  Belief: Child diarrhea more to drink  \" 2 \",  glasses of milk daily harmful during pregnancy  \" 0 \",    Support :  0.5184955312810328\n",
            "Belief: Illness spread through impure water  \" 2 \",  Belief: 1st milk after birth good for baby  \" 1 \",  glasses of milk daily harmful during pregnancy  \" 0 \",    Support :  0.5552383316782522\n",
            "Belief: Child diarrhea more to drink  \" 2 \",  Belief: Chulha smoke good for health  \" 2 \",  glasses of milk daily harmful during pregnancy  \" 0 \",    Support :  0.46561569016881826\n",
            "Belief: Illness spread through impure water  \" 2 \",  Belief: Chulha smoke good for health  \" 2 \",  glasses of milk daily harmful during pregnancy  \" 0 \",    Support :  0.5040963257199603\n",
            "Belief: Illness spread through impure water  \" 2 \",  Belief: Child diarrhea more to drink  \" 2 \",  glasses of milk daily harmful during pregnancy  \" 0 \",    Support :  0.4623882820258193\n",
            "Belief: 1st milk after birth good for baby  \" 1 \",  glasses of milk daily harmful during pregnancy  \" 1 \",  Belief: Chulha smoke good for health  \" 2 \",    Support :  0.1592601787487587\n",
            "Belief: 1st milk after birth good for baby  \" 1 \",  glasses of milk daily harmful during pregnancy  \" 1 \",  Belief: Child diarrhea more to drink  \" 2 \",    Support :  0.13666832174776564\n",
            "Belief: Illness spread through impure water  \" 2 \",  glasses of milk daily harmful during pregnancy  \" 1 \",  Belief: 1st milk after birth good for baby  \" 1 \",    Support :  0.15541211519364448\n",
            "glasses of milk daily harmful during pregnancy  \" 1 \",  Belief: Chulha smoke good for health  \" 2 \",  Belief: Child diarrhea more to drink  \" 2 \",    Support :  0.11370407149950347\n",
            "Belief: Illness spread through impure water  \" 2 \",  glasses of milk daily harmful during pregnancy  \" 1 \",  Belief: Chulha smoke good for health  \" 2 \",    Support :  0.13319265143992057\n",
            "Belief: Illness spread through impure water  \" 2 \",  glasses of milk daily harmful during pregnancy  \" 1 \",  Belief: Child diarrhea more to drink  \" 2 \",    Support :  0.11457298907646475\n",
            "Belief: 1st milk after birth good for baby  \" 1 \",  Belief: Chulha smoke good for health  \" 2 \",  Belief: Men physically weak months after sterilization  \" 0 \",    Support :  0.33962264150943394\n",
            "Belief: 1st milk after birth good for baby  \" 1 \",  Belief: Child diarrhea more to drink  \" 2 \",  Belief: Men physically weak months after sterilization  \" 0 \",    Support :  0.3154170804369414\n",
            "Belief: Illness spread through impure water  \" 2 \",  Belief: 1st milk after birth good for baby  \" 1 \",  Belief: Men physically weak months after sterilization  \" 0 \",    Support :  0.3583664349553128\n",
            "Belief: Child diarrhea more to drink  \" 2 \",  Belief: Chulha smoke good for health  \" 2 \",  Belief: Men physically weak months after sterilization  \" 0 \",    Support :  0.27035749751737836\n",
            "Belief: Illness spread through impure water  \" 2 \",  Belief: Chulha smoke good for health  \" 2 \",  Belief: Men physically weak months after sterilization  \" 0 \",    Support :  0.30995531281032773\n",
            "Belief: Illness spread through impure water  \" 2 \",  Belief: Child diarrhea more to drink  \" 2 \",  Belief: Men physically weak months after sterilization  \" 0 \",    Support :  0.29406653426017876\n",
            "Belief: 1st milk after birth good for baby  \" 1 \",  Belief: Chulha smoke good for health  \" 2 \",  Belief: Men physically weak months after sterilization  \" 1 \",    Support :  0.27358490566037735\n",
            "Belief: 1st milk after birth good for baby  \" 1 \",  Belief: Child diarrhea more to drink  \" 2 \",  Belief: Men physically weak months after sterilization  \" 1 \",    Support :  0.2106504468718967\n",
            "Belief: Illness spread through impure water  \" 2 \",  Belief: 1st milk after birth good for baby  \" 1 \",  Belief: Men physically weak months after sterilization  \" 1 \",    Support :  0.2271598808341609\n",
            "Belief: Child diarrhea more to drink  \" 2 \",  Belief: Chulha smoke good for health  \" 2 \",  Belief: Men physically weak months after sterilization  \" 1 \",    Support :  0.20469215491559087\n",
            "Belief: Illness spread through impure water  \" 2 \",  Belief: Chulha smoke good for health  \" 2 \",  Belief: Men physically weak months after sterilization  \" 1 \",    Support :  0.22058093346573981\n",
            "Belief: Illness spread through impure water  \" 2 \",  Belief: Child diarrhea more to drink  \" 2 \",  Belief: Men physically weak months after sterilization  \" 1 \",    Support :  0.17576961271102284\n",
            "Belief: 1st milk after birth good for baby  \" 1 \",  Belief: Child diarrhea more to drink  \" 2 \",  Belief: Chulha smoke good for health  \" 2 \",    Support :  0.5394736842105263\n",
            "Belief: 1st milk after birth good for baby  \" 1 \",  Belief: Child diarrhea more to drink  \" 3 \",  Belief: Chulha smoke good for health  \" 2 \",    Support :  0.11581429990069514\n",
            "Belief: Illness spread through impure water  \" 2 \",  Belief: 1st milk after birth good for baby  \" 1 \",  Belief: Chulha smoke good for health  \" 2 \",    Support :  0.593222442899702\n",
            "Belief: Illness spread through impure water  \" 2 \",  Belief: Child diarrhea more to drink  \" 2 \",  Belief: 1st milk after birth good for baby  \" 1 \",    Support :  0.538356504468719\n",
            "Belief: Illness spread through impure water  \" 2 \",  Belief: Child diarrhea more to drink  \" 3 \",  Belief: 1st milk after birth good for baby  \" 1 \",    Support :  0.10104270109235353\n",
            "Belief: Illness spread through impure water  \" 2 \",  Belief: Child diarrhea more to drink  \" 2 \",  Belief: Chulha smoke good for health  \" 2 \",    Support :  0.4724428997020854\n",
            "Belief: 1st milk after birth good for baby  \" 1 \",  HIV/AIDS Awareness  \" 1 \",  glasses of milk daily harmful during pregnancy  \" 0 \",  Belief: Men physically weak months after sterilization  \" 0 \",    Support :  0.32323733862959286\n",
            "Belief: Chulha smoke good for health  \" 2 \",  HIV/AIDS Awareness  \" 1 \",  glasses of milk daily harmful during pregnancy  \" 0 \",  Belief: Men physically weak months after sterilization  \" 0 \",    Support :  0.27991559086395235\n",
            "Belief: Child diarrhea more to drink  \" 2 \",  HIV/AIDS Awareness  \" 1 \",  glasses of milk daily harmful during pregnancy  \" 0 \",  Belief: Men physically weak months after sterilization  \" 0 \",    Support :  0.27159880834160877\n",
            "Belief: Illness spread through impure water  \" 2 \",  HIV/AIDS Awareness  \" 1 \",  glasses of milk daily harmful during pregnancy  \" 0 \",  Belief: Men physically weak months after sterilization  \" 0 \",    Support :  0.2999006951340616\n",
            "Belief: Men physically weak months after sterilization  \" 1 \",  Belief: 1st milk after birth good for baby  \" 1 \",  HIV/AIDS Awareness  \" 1 \",  glasses of milk daily harmful during pregnancy  \" 0 \",    Support :  0.2076713008937438\n",
            "Belief: Chulha smoke good for health  \" 2 \",  HIV/AIDS Awareness  \" 1 \",  Belief: Men physically weak months after sterilization  \" 1 \",  glasses of milk daily harmful during pregnancy  \" 0 \",    Support :  0.20183714001986097\n",
            "Belief: Men physically weak months after sterilization  \" 1 \",  Belief: Child diarrhea more to drink  \" 2 \",  HIV/AIDS Awareness  \" 1 \",  glasses of milk daily harmful during pregnancy  \" 0 \",    Support :  0.1612462760675273\n",
            "Belief: Men physically weak months after sterilization  \" 1 \",  Belief: Illness spread through impure water  \" 2 \",  HIV/AIDS Awareness  \" 1 \",  glasses of milk daily harmful during pregnancy  \" 0 \",    Support :  0.176266137040715\n",
            "Belief: Chulha smoke good for health  \" 2 \",  Belief: 1st milk after birth good for baby  \" 1 \",  HIV/AIDS Awareness  \" 1 \",  glasses of milk daily harmful during pregnancy  \" 0 \",    Support :  0.5337636544190665\n",
            "Belief: 1st milk after birth good for baby  \" 1 \",  Belief: Child diarrhea more to drink  \" 2 \",  HIV/AIDS Awareness  \" 1 \",  glasses of milk daily harmful during pregnancy  \" 0 \",    Support :  0.48795928500496527\n",
            "Belief: 1st milk after birth good for baby  \" 1 \",  Belief: Illness spread through impure water  \" 2 \",  HIV/AIDS Awareness  \" 1 \",  glasses of milk daily harmful during pregnancy  \" 0 \",    Support :  0.5265640516385303\n",
            "Belief: Chulha smoke good for health  \" 2 \",  Belief: Child diarrhea more to drink  \" 2 \",  HIV/AIDS Awareness  \" 1 \",  glasses of milk daily harmful during pregnancy  \" 0 \",    Support :  0.43309334657398213\n",
            "Belief: Chulha smoke good for health  \" 2 \",  Belief: Illness spread through impure water  \" 2 \",  HIV/AIDS Awareness  \" 1 \",  glasses of milk daily harmful during pregnancy  \" 0 \",    Support :  0.4748013902681231\n",
            "Belief: Illness spread through impure water  \" 2 \",  Belief: Child diarrhea more to drink  \" 2 \",  HIV/AIDS Awareness  \" 1 \",  glasses of milk daily harmful during pregnancy  \" 0 \",    Support :  0.44153426017874875\n",
            "Belief: 1st milk after birth good for baby  \" 1 \",  glasses of milk daily harmful during pregnancy  \" 1 \",  HIV/AIDS Awareness  \" 1 \",  Belief: Chulha smoke good for health  \" 2 \",    Support :  0.14970208540218471\n",
            "Belief: 1st milk after birth good for baby  \" 1 \",  glasses of milk daily harmful during pregnancy  \" 1 \",  HIV/AIDS Awareness  \" 1 \",  Belief: Child diarrhea more to drink  \" 2 \",    Support :  0.12934458788480635\n",
            "Belief: 1st milk after birth good for baby  \" 1 \",  glasses of milk daily harmful during pregnancy  \" 1 \",  Belief: Illness spread through impure water  \" 2 \",  HIV/AIDS Awareness  \" 1 \",    Support :  0.1487090367428004\n",
            "glasses of milk daily harmful during pregnancy  \" 1 \",  HIV/AIDS Awareness  \" 1 \",  Belief: Child diarrhea more to drink  \" 2 \",  Belief: Chulha smoke good for health  \" 2 \",    Support :  0.10588381330685204\n",
            "Belief: Illness spread through impure water  \" 2 \",  glasses of milk daily harmful during pregnancy  \" 1 \",  HIV/AIDS Awareness  \" 1 \",  Belief: Chulha smoke good for health  \" 2 \",    Support :  0.1266137040714995\n",
            "Belief: Illness spread through impure water  \" 2 \",  glasses of milk daily harmful during pregnancy  \" 1 \",  HIV/AIDS Awareness  \" 1 \",  Belief: Child diarrhea more to drink  \" 2 \",    Support :  0.1096077457795432\n",
            "Belief: 1st milk after birth good for baby  \" 1 \",  HIV/AIDS Awareness  \" 1 \",  Belief: Chulha smoke good for health  \" 2 \",  Belief: Men physically weak months after sterilization  \" 0 \",    Support :  0.32410625620655414\n",
            "Belief: 1st milk after birth good for baby  \" 1 \",  Belief: Child diarrhea more to drink  \" 2 \",  HIV/AIDS Awareness  \" 1 \",  Belief: Men physically weak months after sterilization  \" 0 \",    Support :  0.30424528301886794\n",
            "Belief: 1st milk after birth good for baby  \" 1 \",  Belief: Illness spread through impure water  \" 2 \",  HIV/AIDS Awareness  \" 1 \",  Belief: Men physically weak months after sterilization  \" 0 \",    Support :  0.3476911618669315\n",
            "Belief: Child diarrhea more to drink  \" 2 \",  HIV/AIDS Awareness  \" 1 \",  Belief: Chulha smoke good for health  \" 2 \",  Belief: Men physically weak months after sterilization  \" 0 \",    Support :  0.25918570009930486\n",
            "Belief: Illness spread through impure water  \" 2 \",  HIV/AIDS Awareness  \" 1 \",  Belief: Chulha smoke good for health  \" 2 \",  Belief: Men physically weak months after sterilization  \" 0 \",    Support :  0.29890764647467727\n",
            "Belief: Illness spread through impure water  \" 2 \",  Belief: Child diarrhea more to drink  \" 2 \",  HIV/AIDS Awareness  \" 1 \",  Belief: Men physically weak months after sterilization  \" 0 \",    Support :  0.28649453823237336\n",
            "Belief: Men physically weak months after sterilization  \" 1 \",  Belief: 1st milk after birth good for baby  \" 1 \",  HIV/AIDS Awareness  \" 1 \",  Belief: Chulha smoke good for health  \" 2 \",    Support :  0.24664846077457794\n",
            "Belief: 1st milk after birth good for baby  \" 1 \",  Belief: Child diarrhea more to drink  \" 2 \",  HIV/AIDS Awareness  \" 1 \",  Belief: Men physically weak months after sterilization  \" 1 \",    Support :  0.19252730883813307\n",
            "Belief: 1st milk after birth good for baby  \" 1 \",  Belief: Illness spread through impure water  \" 2 \",  HIV/AIDS Awareness  \" 1 \",  Belief: Men physically weak months after sterilization  \" 1 \",    Support :  0.21164349553128103\n",
            "Belief: Men physically weak months after sterilization  \" 1 \",  Belief: Child diarrhea more to drink  \" 2 \",  HIV/AIDS Awareness  \" 1 \",  Belief: Chulha smoke good for health  \" 2 \",    Support :  0.18421052631578946\n",
            "Belief: Men physically weak months after sterilization  \" 1 \",  Belief: Illness spread through impure water  \" 2 \",  HIV/AIDS Awareness  \" 1 \",  Belief: Chulha smoke good for health  \" 2 \",    Support :  0.2048162859980139\n",
            "Belief: Illness spread through impure water  \" 2 \",  Belief: Child diarrhea more to drink  \" 2 \",  HIV/AIDS Awareness  \" 1 \",  Belief: Men physically weak months after sterilization  \" 1 \",    Support :  0.16459781529294937\n",
            "Belief: 1st milk after birth good for baby  \" 1 \",  Belief: Child diarrhea more to drink  \" 2 \",  HIV/AIDS Awareness  \" 1 \",  Belief: Chulha smoke good for health  \" 2 \",    Support :  0.5040963257199603\n",
            "Belief: 1st milk after birth good for baby  \" 1 \",  Belief: Child diarrhea more to drink  \" 3 \",  HIV/AIDS Awareness  \" 1 \",  Belief: Chulha smoke good for health  \" 2 \",    Support :  0.10799404170804369\n",
            "Belief: 1st milk after birth good for baby  \" 1 \",  Belief: Illness spread through impure water  \" 2 \",  HIV/AIDS Awareness  \" 1 \",  Belief: Chulha smoke good for health  \" 2 \",    Support :  0.5613207547169812\n",
            "Belief: 1st milk after birth good for baby  \" 1 \",  Belief: Child diarrhea more to drink  \" 2 \",  Belief: Illness spread through impure water  \" 2 \",  HIV/AIDS Awareness  \" 1 \",    Support :  0.5151439920556107\n",
            "Belief: Illness spread through impure water  \" 2 \",  Belief: Child diarrhea more to drink  \" 2 \",  HIV/AIDS Awareness  \" 1 \",  Belief: Chulha smoke good for health  \" 2 \",    Support :  0.4489821251241311\n",
            "Belief: 1st milk after birth good for baby  \" 1 \",  Belief: Chulha smoke good for health  \" 2 \",  glasses of milk daily harmful during pregnancy  \" 0 \",  Belief: Men physically weak months after sterilization  \" 0 \",    Support :  0.27358490566037735\n",
            "Belief: 1st milk after birth good for baby  \" 1 \",  Belief: Child diarrhea more to drink  \" 2 \",  glasses of milk daily harmful during pregnancy  \" 0 \",  Belief: Men physically weak months after sterilization  \" 0 \",    Support :  0.259558093346574\n",
            "Belief: Illness spread through impure water  \" 2 \",  Belief: 1st milk after birth good for baby  \" 1 \",  glasses of milk daily harmful during pregnancy  \" 0 \",  Belief: Men physically weak months after sterilization  \" 0 \",    Support :  0.2858738828202582\n",
            "Belief: Child diarrhea more to drink  \" 2 \",  Belief: Chulha smoke good for health  \" 2 \",  glasses of milk daily harmful during pregnancy  \" 0 \",  Belief: Men physically weak months after sterilization  \" 0 \",    Support :  0.22591857000993049\n",
            "Belief: Illness spread through impure water  \" 2 \",  Belief: Chulha smoke good for health  \" 2 \",  glasses of milk daily harmful during pregnancy  \" 0 \",  Belief: Men physically weak months after sterilization  \" 0 \",    Support :  0.2506206554121152\n",
            "Belief: Illness spread through impure water  \" 2 \",  Belief: Child diarrhea more to drink  \" 2 \",  glasses of milk daily harmful during pregnancy  \" 0 \",  Belief: Men physically weak months after sterilization  \" 0 \",    Support :  0.243545183714002\n",
            "Belief: Men physically weak months after sterilization  \" 1 \",  Belief: 1st milk after birth good for baby  \" 1 \",  Belief: Chulha smoke good for health  \" 2 \",  glasses of milk daily harmful during pregnancy  \" 0 \",    Support :  0.20903674280039722\n",
            "Belief: Men physically weak months after sterilization  \" 1 \",  Belief: Child diarrhea more to drink  \" 2 \",  Belief: 1st milk after birth good for baby  \" 1 \",  glasses of milk daily harmful during pregnancy  \" 0 \",    Support :  0.16298411122144985\n",
            "Belief: Illness spread through impure water  \" 2 \",  Belief: 1st milk after birth good for baby  \" 1 \",  Belief: Men physically weak months after sterilization  \" 1 \",  glasses of milk daily harmful during pregnancy  \" 0 \",    Support :  0.17614200595829196\n",
            "Belief: Men physically weak months after sterilization  \" 1 \",  Belief: Child diarrhea more to drink  \" 2 \",  Belief: Chulha smoke good for health  \" 2 \",  glasses of milk daily harmful during pregnancy  \" 0 \",    Support :  0.15938430983118174\n",
            "Belief: Illness spread through impure water  \" 2 \",  Belief: Chulha smoke good for health  \" 2 \",  Belief: Men physically weak months after sterilization  \" 1 \",  glasses of milk daily harmful during pregnancy  \" 0 \",    Support :  0.17167328699106257\n",
            "Belief: Illness spread through impure water  \" 2 \",  Belief: Child diarrhea more to drink  \" 2 \",  Belief: Men physically weak months after sterilization  \" 1 \",  glasses of milk daily harmful during pregnancy  \" 0 \",    Support :  0.1391509433962264\n",
            "Belief: 1st milk after birth good for baby  \" 1 \",  Belief: Child diarrhea more to drink  \" 2 \",  Belief: Chulha smoke good for health  \" 2 \",  glasses of milk daily harmful during pregnancy  \" 0 \",    Support :  0.43135551142005957\n",
            "Belief: Illness spread through impure water  \" 2 \",  Belief: 1st milk after birth good for baby  \" 1 \",  Belief: Chulha smoke good for health  \" 2 \",  glasses of milk daily harmful during pregnancy  \" 0 \",    Support :  0.4661122144985104\n",
            "Belief: Illness spread through impure water  \" 2 \",  Belief: Child diarrhea more to drink  \" 2 \",  Belief: 1st milk after birth good for baby  \" 1 \",  glasses of milk daily harmful during pregnancy  \" 0 \",    Support :  0.42899702085402186\n",
            "Belief: Illness spread through impure water  \" 2 \",  Belief: Child diarrhea more to drink  \" 2 \",  Belief: Chulha smoke good for health  \" 2 \",  glasses of milk daily harmful during pregnancy  \" 0 \",    Support :  0.38207547169811323\n",
            "Belief: 1st milk after birth good for baby  \" 1 \",  glasses of milk daily harmful during pregnancy  \" 1 \",  Belief: Chulha smoke good for health  \" 2 \",  Belief: Child diarrhea more to drink  \" 2 \",    Support :  0.1035253227408143\n",
            "Belief: Illness spread through impure water  \" 2 \",  glasses of milk daily harmful during pregnancy  \" 1 \",  Belief: 1st milk after birth good for baby  \" 1 \",  Belief: Chulha smoke good for health  \" 2 \",    Support :  0.12226911618669314\n",
            "Belief: Illness spread through impure water  \" 2 \",  glasses of milk daily harmful during pregnancy  \" 1 \",  Belief: 1st milk after birth good for baby  \" 1 \",  Belief: Child diarrhea more to drink  \" 2 \",    Support :  0.10464250248262165\n",
            "Belief: 1st milk after birth good for baby  \" 1 \",  Belief: Child diarrhea more to drink  \" 2 \",  Belief: Chulha smoke good for health  \" 2 \",  Belief: Men physically weak months after sterilization  \" 0 \",    Support :  0.2508689175769613\n",
            "Belief: Illness spread through impure water  \" 2 \",  Belief: 1st milk after birth good for baby  \" 1 \",  Belief: Chulha smoke good for health  \" 2 \",  Belief: Men physically weak months after sterilization  \" 0 \",    Support :  0.2876117179741807\n",
            "Belief: Illness spread through impure water  \" 2 \",  Belief: Child diarrhea more to drink  \" 2 \",  Belief: 1st milk after birth good for baby  \" 1 \",  Belief: Men physically weak months after sterilization  \" 0 \",    Support :  0.2707298907646475\n",
            "Belief: Illness spread through impure water  \" 2 \",  Belief: Child diarrhea more to drink  \" 2 \",  Belief: Chulha smoke good for health  \" 2 \",  Belief: Men physically weak months after sterilization  \" 0 \",    Support :  0.230759682224429\n",
            "Belief: 1st milk after birth good for baby  \" 1 \",  Belief: Child diarrhea more to drink  \" 2 \",  Belief: Chulha smoke good for health  \" 2 \",  Belief: Men physically weak months after sterilization  \" 1 \",    Support :  0.18830685203574976\n",
            "Belief: Illness spread through impure water  \" 2 \",  Belief: 1st milk after birth good for baby  \" 1 \",  Belief: Chulha smoke good for health  \" 2 \",  Belief: Men physically weak months after sterilization  \" 1 \",    Support :  0.20556107249255212\n",
            "Belief: Illness spread through impure water  \" 2 \",  Belief: Child diarrhea more to drink  \" 2 \",  Belief: 1st milk after birth good for baby  \" 1 \",  Belief: Men physically weak months after sterilization  \" 1 \",    Support :  0.16310824230387289\n",
            "Belief: Illness spread through impure water  \" 2 \",  Belief: Child diarrhea more to drink  \" 2 \",  Belief: Chulha smoke good for health  \" 2 \",  Belief: Men physically weak months after sterilization  \" 1 \",    Support :  0.15789473684210525\n",
            "Belief: Illness spread through impure water  \" 2 \",  Belief: Child diarrhea more to drink  \" 2 \",  Belief: 1st milk after birth good for baby  \" 1 \",  Belief: Chulha smoke good for health  \" 2 \",    Support :  0.43954816285998016\n",
            "HIV/AIDS Awareness  \" 1 \",  glasses of milk daily harmful during pregnancy  \" 0 \",  Belief: Men physically weak months after sterilization  \" 0 \",  Belief: 1st milk after birth good for baby  \" 1 \",  Belief: Chulha smoke good for health  \" 2 \",    Support :  0.2601787487586892\n",
            "Belief: Child diarrhea more to drink  \" 2 \",  HIV/AIDS Awareness  \" 1 \",  glasses of milk daily harmful during pregnancy  \" 0 \",  Belief: Men physically weak months after sterilization  \" 0 \",  Belief: 1st milk after birth good for baby  \" 1 \",    Support :  0.25\n",
            "HIV/AIDS Awareness  \" 1 \",  glasses of milk daily harmful during pregnancy  \" 0 \",  Belief: Men physically weak months after sterilization  \" 0 \",  Belief: Illness spread through impure water  \" 2 \",  Belief: 1st milk after birth good for baby  \" 1 \",    Support :  0.2764399205561073\n",
            "Belief: Child diarrhea more to drink  \" 2 \",  HIV/AIDS Awareness  \" 1 \",  glasses of milk daily harmful during pregnancy  \" 0 \",  Belief: Men physically weak months after sterilization  \" 0 \",  Belief: Chulha smoke good for health  \" 2 \",    Support :  0.2163604766633565\n",
            "HIV/AIDS Awareness  \" 1 \",  glasses of milk daily harmful during pregnancy  \" 0 \",  Belief: Men physically weak months after sterilization  \" 0 \",  Belief: Illness spread through impure water  \" 2 \",  Belief: Chulha smoke good for health  \" 2 \",    Support :  0.24081429990069514\n",
            "Belief: Child diarrhea more to drink  \" 2 \",  HIV/AIDS Awareness  \" 1 \",  glasses of milk daily harmful during pregnancy  \" 0 \",  Belief: Men physically weak months after sterilization  \" 0 \",  Belief: Illness spread through impure water  \" 2 \",    Support :  0.23671797418073487\n",
            "HIV/AIDS Awareness  \" 1 \",  glasses of milk daily harmful during pregnancy  \" 0 \",  Belief: 1st milk after birth good for baby  \" 1 \",  Belief: Chulha smoke good for health  \" 2 \",  Belief: Men physically weak months after sterilization  \" 1 \",    Support :  0.18818272095332672\n",
            "Belief: Child diarrhea more to drink  \" 2 \",  HIV/AIDS Awareness  \" 1 \",  glasses of milk daily harmful during pregnancy  \" 0 \",  Belief: 1st milk after birth good for baby  \" 1 \",  Belief: Men physically weak months after sterilization  \" 1 \",    Support :  0.14908142999006951\n",
            "HIV/AIDS Awareness  \" 1 \",  glasses of milk daily harmful during pregnancy  \" 0 \",  Belief: Illness spread through impure water  \" 2 \",  Belief: 1st milk after birth good for baby  \" 1 \",  Belief: Men physically weak months after sterilization  \" 1 \",    Support :  0.16447368421052633\n",
            "Belief: Child diarrhea more to drink  \" 2 \",  HIV/AIDS Awareness  \" 1 \",  glasses of milk daily harmful during pregnancy  \" 0 \",  Belief: Chulha smoke good for health  \" 2 \",  Belief: Men physically weak months after sterilization  \" 1 \",    Support :  0.14386792452830188\n",
            "HIV/AIDS Awareness  \" 1 \",  glasses of milk daily harmful during pregnancy  \" 0 \",  Belief: Illness spread through impure water  \" 2 \",  Belief: Chulha smoke good for health  \" 2 \",  Belief: Men physically weak months after sterilization  \" 1 \",    Support :  0.15975670307845086\n",
            "Belief: Child diarrhea more to drink  \" 2 \",  HIV/AIDS Awareness  \" 1 \",  glasses of milk daily harmful during pregnancy  \" 0 \",  Belief: Illness spread through impure water  \" 2 \",  Belief: Men physically weak months after sterilization  \" 1 \",    Support :  0.13095829195630587\n",
            "Belief: Child diarrhea more to drink  \" 2 \",  HIV/AIDS Awareness  \" 1 \",  glasses of milk daily harmful during pregnancy  \" 0 \",  Belief: 1st milk after birth good for baby  \" 1 \",  Belief: Chulha smoke good for health  \" 2 \",    Support :  0.4026812313803376\n",
            "HIV/AIDS Awareness  \" 1 \",  glasses of milk daily harmful during pregnancy  \" 0 \",  Belief: Illness spread through impure water  \" 2 \",  Belief: 1st milk after birth good for baby  \" 1 \",  Belief: Chulha smoke good for health  \" 2 \",    Support :  0.44004468718967227\n",
            "Belief: Child diarrhea more to drink  \" 2 \",  HIV/AIDS Awareness  \" 1 \",  glasses of milk daily harmful during pregnancy  \" 0 \",  Belief: Illness spread through impure water  \" 2 \",  Belief: 1st milk after birth good for baby  \" 1 \",    Support :  0.41012909632572\n",
            "Belief: Child diarrhea more to drink  \" 2 \",  HIV/AIDS Awareness  \" 1 \",  glasses of milk daily harmful during pregnancy  \" 0 \",  Belief: Illness spread through impure water  \" 2 \",  Belief: Chulha smoke good for health  \" 2 \",    Support :  0.36258689175769615\n",
            "HIV/AIDS Awareness  \" 1 \",  Belief: Illness spread through impure water  \" 2 \",  glasses of milk daily harmful during pregnancy  \" 1 \",  Belief: 1st milk after birth good for baby  \" 1 \",  Belief: Chulha smoke good for health  \" 2 \",    Support :  0.11680734856007945\n",
            "Belief: Child diarrhea more to drink  \" 2 \",  HIV/AIDS Awareness  \" 1 \",  Belief: Illness spread through impure water  \" 2 \",  glasses of milk daily harmful during pregnancy  \" 1 \",  Belief: 1st milk after birth good for baby  \" 1 \",    Support :  0.10054617676266137\n",
            "Belief: Child diarrhea more to drink  \" 2 \",  HIV/AIDS Awareness  \" 1 \",  Belief: Men physically weak months after sterilization  \" 0 \",  Belief: 1st milk after birth good for baby  \" 1 \",  Belief: Chulha smoke good for health  \" 2 \",    Support :  0.24081429990069514\n",
            "HIV/AIDS Awareness  \" 1 \",  Belief: Men physically weak months after sterilization  \" 0 \",  Belief: Illness spread through impure water  \" 2 \",  Belief: 1st milk after birth good for baby  \" 1 \",  Belief: Chulha smoke good for health  \" 2 \",    Support :  0.27805362462760674\n",
            "Belief: Child diarrhea more to drink  \" 2 \",  HIV/AIDS Awareness  \" 1 \",  Belief: Men physically weak months after sterilization  \" 0 \",  Belief: Illness spread through impure water  \" 2 \",  Belief: 1st milk after birth good for baby  \" 1 \",    Support :  0.26402681231380337\n",
            "Belief: Child diarrhea more to drink  \" 2 \",  HIV/AIDS Awareness  \" 1 \",  Belief: Men physically weak months after sterilization  \" 0 \",  Belief: Illness spread through impure water  \" 2 \",  Belief: Chulha smoke good for health  \" 2 \",    Support :  0.224304865938431\n",
            "Belief: Child diarrhea more to drink  \" 2 \",  HIV/AIDS Awareness  \" 1 \",  Belief: 1st milk after birth good for baby  \" 1 \",  Belief: Chulha smoke good for health  \" 2 \",  Belief: Men physically weak months after sterilization  \" 1 \",    Support :  0.1711767626613704\n",
            "HIV/AIDS Awareness  \" 1 \",  Belief: Illness spread through impure water  \" 2 \",  Belief: 1st milk after birth good for baby  \" 1 \",  Belief: Chulha smoke good for health  \" 2 \",  Belief: Men physically weak months after sterilization  \" 1 \",    Support :  0.19128599801390267\n",
            "Belief: Child diarrhea more to drink  \" 2 \",  HIV/AIDS Awareness  \" 1 \",  Belief: Illness spread through impure water  \" 2 \",  Belief: 1st milk after birth good for baby  \" 1 \",  Belief: Men physically weak months after sterilization  \" 1 \",    Support :  0.15317775571002978\n",
            "Belief: Child diarrhea more to drink  \" 2 \",  HIV/AIDS Awareness  \" 1 \",  Belief: Illness spread through impure water  \" 2 \",  Belief: Chulha smoke good for health  \" 2 \",  Belief: Men physically weak months after sterilization  \" 1 \",    Support :  0.14746772591857002\n",
            "Belief: Child diarrhea more to drink  \" 2 \",  HIV/AIDS Awareness  \" 1 \",  Belief: Illness spread through impure water  \" 2 \",  Belief: 1st milk after birth good for baby  \" 1 \",  Belief: Chulha smoke good for health  \" 2 \",    Support :  0.4183217477656405\n",
            "Belief: Child diarrhea more to drink  \" 2 \",  glasses of milk daily harmful during pregnancy  \" 0 \",  Belief: Men physically weak months after sterilization  \" 0 \",  Belief: 1st milk after birth good for baby  \" 1 \",  Belief: Chulha smoke good for health  \" 2 \",    Support :  0.20965739821251242\n",
            "glasses of milk daily harmful during pregnancy  \" 0 \",  Belief: Men physically weak months after sterilization  \" 0 \",  Belief: Illness spread through impure water  \" 2 \",  Belief: 1st milk after birth good for baby  \" 1 \",  Belief: Chulha smoke good for health  \" 2 \",    Support :  0.23224925521350545\n",
            "Belief: Child diarrhea more to drink  \" 2 \",  glasses of milk daily harmful during pregnancy  \" 0 \",  Belief: Men physically weak months after sterilization  \" 0 \",  Belief: Illness spread through impure water  \" 2 \",  Belief: 1st milk after birth good for baby  \" 1 \",    Support :  0.224304865938431\n",
            "Belief: Child diarrhea more to drink  \" 2 \",  glasses of milk daily harmful during pregnancy  \" 0 \",  Belief: Men physically weak months after sterilization  \" 0 \",  Belief: Illness spread through impure water  \" 2 \",  Belief: Chulha smoke good for health  \" 2 \",    Support :  0.19451340615690169\n",
            "Belief: Child diarrhea more to drink  \" 2 \",  glasses of milk daily harmful during pregnancy  \" 0 \",  Belief: 1st milk after birth good for baby  \" 1 \",  Belief: Chulha smoke good for health  \" 2 \",  Belief: Men physically weak months after sterilization  \" 1 \",    Support :  0.14796425024826215\n",
            "glasses of milk daily harmful during pregnancy  \" 0 \",  Belief: Illness spread through impure water  \" 2 \",  Belief: 1st milk after birth good for baby  \" 1 \",  Belief: Chulha smoke good for health  \" 2 \",  Belief: Men physically weak months after sterilization  \" 1 \",    Support :  0.16099801390268123\n",
            "Belief: Child diarrhea more to drink  \" 2 \",  glasses of milk daily harmful during pregnancy  \" 0 \",  Belief: Illness spread through impure water  \" 2 \",  Belief: 1st milk after birth good for baby  \" 1 \",  Belief: Men physically weak months after sterilization  \" 1 \",    Support :  0.1300893743793446\n",
            "Belief: Child diarrhea more to drink  \" 2 \",  glasses of milk daily harmful during pregnancy  \" 0 \",  Belief: Illness spread through impure water  \" 2 \",  Belief: Chulha smoke good for health  \" 2 \",  Belief: Men physically weak months after sterilization  \" 1 \",    Support :  0.1256206554121152\n",
            "Belief: Child diarrhea more to drink  \" 2 \",  glasses of milk daily harmful during pregnancy  \" 0 \",  Belief: Illness spread through impure water  \" 2 \",  Belief: 1st milk after birth good for baby  \" 1 \",  Belief: Chulha smoke good for health  \" 2 \",    Support :  0.3563803376365442\n",
            "Belief: Child diarrhea more to drink  \" 2 \",  Belief: Men physically weak months after sterilization  \" 0 \",  Belief: Illness spread through impure water  \" 2 \",  Belief: 1st milk after birth good for baby  \" 1 \",  Belief: Chulha smoke good for health  \" 2 \",    Support :  0.214746772591857\n",
            "Belief: Child diarrhea more to drink  \" 2 \",  Belief: Illness spread through impure water  \" 2 \",  Belief: 1st milk after birth good for baby  \" 1 \",  Belief: Chulha smoke good for health  \" 2 \",  Belief: Men physically weak months after sterilization  \" 1 \",    Support :  0.1477159880834161\n",
            "Belief: Child diarrhea more to drink  \" 2 \",  HIV/AIDS Awareness  \" 1 \",  glasses of milk daily harmful during pregnancy  \" 0 \",  Belief: Men physically weak months after sterilization  \" 0 \",  Belief: 1st milk after birth good for baby  \" 1 \",  Belief: Chulha smoke good for health  \" 2 \",    Support :  0.20084409136047665\n",
            "HIV/AIDS Awareness  \" 1 \",  glasses of milk daily harmful during pregnancy  \" 0 \",  Belief: Men physically weak months after sterilization  \" 0 \",  Belief: Illness spread through impure water  \" 2 \",  Belief: 1st milk after birth good for baby  \" 1 \",  Belief: Chulha smoke good for health  \" 2 \",    Support :  0.22380834160873883\n",
            "Belief: Child diarrhea more to drink  \" 2 \",  HIV/AIDS Awareness  \" 1 \",  glasses of milk daily harmful during pregnancy  \" 0 \",  Belief: Men physically weak months after sterilization  \" 0 \",  Belief: Illness spread through impure water  \" 2 \",  Belief: 1st milk after birth good for baby  \" 1 \",    Support :  0.21809831181727904\n",
            "Belief: Child diarrhea more to drink  \" 2 \",  HIV/AIDS Awareness  \" 1 \",  glasses of milk daily harmful during pregnancy  \" 0 \",  Belief: Men physically weak months after sterilization  \" 0 \",  Belief: Illness spread through impure water  \" 2 \",  Belief: Chulha smoke good for health  \" 2 \",    Support :  0.1884309831181728\n",
            "Belief: Child diarrhea more to drink  \" 2 \",  HIV/AIDS Awareness  \" 1 \",  glasses of milk daily harmful during pregnancy  \" 0 \",  Belief: 1st milk after birth good for baby  \" 1 \",  Belief: Chulha smoke good for health  \" 2 \",  Belief: Men physically weak months after sterilization  \" 1 \",    Support :  0.13455809334657398\n",
            "HIV/AIDS Awareness  \" 1 \",  glasses of milk daily harmful during pregnancy  \" 0 \",  Belief: Illness spread through impure water  \" 2 \",  Belief: 1st milk after birth good for baby  \" 1 \",  Belief: Chulha smoke good for health  \" 2 \",  Belief: Men physically weak months after sterilization  \" 1 \",    Support :  0.1499503475670308\n",
            "Belief: Child diarrhea more to drink  \" 2 \",  HIV/AIDS Awareness  \" 1 \",  glasses of milk daily harmful during pregnancy  \" 0 \",  Belief: Illness spread through impure water  \" 2 \",  Belief: 1st milk after birth good for baby  \" 1 \",  Belief: Men physically weak months after sterilization  \" 1 \",    Support :  0.12264150943396226\n",
            "Belief: Child diarrhea more to drink  \" 2 \",  HIV/AIDS Awareness  \" 1 \",  glasses of milk daily harmful during pregnancy  \" 0 \",  Belief: Illness spread through impure water  \" 2 \",  Belief: Chulha smoke good for health  \" 2 \",  Belief: Men physically weak months after sterilization  \" 1 \",    Support :  0.11767626613704071\n",
            "Belief: Child diarrhea more to drink  \" 2 \",  HIV/AIDS Awareness  \" 1 \",  glasses of milk daily harmful during pregnancy  \" 0 \",  Belief: Illness spread through impure water  \" 2 \",  Belief: 1st milk after birth good for baby  \" 1 \",  Belief: Chulha smoke good for health  \" 2 \",    Support :  0.3386295928500497\n",
            "Belief: Child diarrhea more to drink  \" 2 \",  HIV/AIDS Awareness  \" 1 \",  Belief: Men physically weak months after sterilization  \" 0 \",  Belief: Illness spread through impure water  \" 2 \",  Belief: 1st milk after birth good for baby  \" 1 \",  Belief: Chulha smoke good for health  \" 2 \",    Support :  0.20878848063555114\n",
            "Belief: Child diarrhea more to drink  \" 2 \",  HIV/AIDS Awareness  \" 1 \",  Belief: Illness spread through impure water  \" 2 \",  Belief: 1st milk after birth good for baby  \" 1 \",  Belief: Chulha smoke good for health  \" 2 \",  Belief: Men physically weak months after sterilization  \" 1 \",    Support :  0.13828202581926513\n",
            "Belief: Child diarrhea more to drink  \" 2 \",  glasses of milk daily harmful during pregnancy  \" 0 \",  Belief: Men physically weak months after sterilization  \" 0 \",  Belief: Illness spread through impure water  \" 2 \",  Belief: 1st milk after birth good for baby  \" 1 \",  Belief: Chulha smoke good for health  \" 2 \",    Support :  0.1807348560079444\n",
            "Belief: Child diarrhea more to drink  \" 2 \",  glasses of milk daily harmful during pregnancy  \" 0 \",  Belief: Illness spread through impure water  \" 2 \",  Belief: 1st milk after birth good for baby  \" 1 \",  Belief: Chulha smoke good for health  \" 2 \",  Belief: Men physically weak months after sterilization  \" 1 \",    Support :  0.11829692154915591\n",
            "Belief: Child diarrhea more to drink  \" 2 \",  HIV/AIDS Awareness  \" 1 \",  glasses of milk daily harmful during pregnancy  \" 0 \",  Belief: Men physically weak months after sterilization  \" 0 \",  Belief: Illness spread through impure water  \" 2 \",  Belief: 1st milk after birth good for baby  \" 1 \",  Belief: Chulha smoke good for health  \" 2 \",    Support :  0.17514895729890764\n",
            "Belief: Child diarrhea more to drink  \" 2 \",  HIV/AIDS Awareness  \" 1 \",  glasses of milk daily harmful during pregnancy  \" 0 \",  Belief: Illness spread through impure water  \" 2 \",  Belief: 1st milk after birth good for baby  \" 1 \",  Belief: Chulha smoke good for health  \" 2 \",  Belief: Men physically weak months after sterilization  \" 1 \",    Support :  0.11097318768619663\n"
          ],
          "name": "stdout"
        }
      ]
    },
    {
      "cell_type": "code",
      "metadata": {
        "colab_type": "code",
        "id": "9BzheNOcu0Md",
        "colab": {}
      },
      "source": [
        ""
      ],
      "execution_count": 0,
      "outputs": []
    },
    {
      "cell_type": "code",
      "metadata": {
        "colab_type": "code",
        "id": "j-vcJ50lu0Mf",
        "colab": {}
      },
      "source": [
        ""
      ],
      "execution_count": 0,
      "outputs": []
    },
    {
      "cell_type": "code",
      "metadata": {
        "colab_type": "code",
        "id": "pM2hOuu6u0Mh",
        "colab": {}
      },
      "source": [
        ""
      ],
      "execution_count": 0,
      "outputs": []
    },
    {
      "cell_type": "code",
      "metadata": {
        "colab_type": "code",
        "id": "-Wy5XCmVu0Mk",
        "colab": {}
      },
      "source": [
        ""
      ],
      "execution_count": 0,
      "outputs": []
    },
    {
      "cell_type": "code",
      "metadata": {
        "colab_type": "code",
        "id": "pXOEaxaBu0Mm",
        "colab": {}
      },
      "source": [
        ""
      ],
      "execution_count": 0,
      "outputs": []
    },
    {
      "cell_type": "markdown",
      "metadata": {
        "colab_type": "text",
        "id": "vIYya8cpu0Mo"
      },
      "source": [
        "## **Father, Mother Uneducated** \n",
        "## **Daughter Educated**"
      ]
    },
    {
      "cell_type": "code",
      "metadata": {
        "colab_type": "code",
        "outputId": "54d0e51c-2be1-435b-d75c-465548ad53f6",
        "id": "zeWUIB2vu0Mo",
        "colab": {
          "base_uri": "https://localhost:8080/",
          "height": 34
        }
      },
      "source": [
        "format_df = format_data(df)\n",
        "format_df.head()\n",
        "format_df = format_df[format_df.EW8 != 0]\n",
        "format_df = format_df[format_df.EW15A == 0]\n",
        "format_df = format_df[format_df.EW15B == 0]\n",
        "format_df.shape"
      ],
      "execution_count": 0,
      "outputs": [
        {
          "output_type": "execute_result",
          "data": {
            "text/plain": [
              "(9209, 350)"
            ]
          },
          "metadata": {
            "tags": []
          },
          "execution_count": 146
        }
      ]
    },
    {
      "cell_type": "code",
      "metadata": {
        "colab_type": "code",
        "outputId": "4445307c-5231-4cae-82cf-dc59d4c8f6ca",
        "id": "5Bet4vZRu0Mr",
        "colab": {
          "base_uri": "https://localhost:8080/",
          "height": 323
        }
      },
      "source": [
        "filter = [\n",
        "'HB1',\n",
        "'HB2',\n",
        "'HB3',\n",
        "'HB4',\n",
        "'HB5',\n",
        "'HB6',\n",
        "'AI1'\n",
        "]\n",
        "\n",
        "lookup = get_lookup()\n",
        "\n",
        "print_items(filter, lookup)\n",
        "\n",
        "filtered_df = filter_dataframe(format_df, filter)\n",
        "filtered_df.head()"
      ],
      "execution_count": 0,
      "outputs": [
        {
          "output_type": "stream",
          "text": [
            "HB1  ==>  glasses of milk daily harmful during pregnancy\n",
            "HB2  ==>  Belief: Men physically weak months after sterilization\n",
            "HB3  ==>  Belief: 1st milk after birth good for baby\n",
            "HB4  ==>  Belief: Chulha smoke good for health\n",
            "HB5  ==>  Belief: Child diarrhea more to drink\n",
            "HB6  ==>  Belief: Illness spread through impure water\n",
            "AI1  ==>  HIV/AIDS Awareness\n"
          ],
          "name": "stdout"
        },
        {
          "output_type": "execute_result",
          "data": {
            "text/html": [
              "<div>\n",
              "<style scoped>\n",
              "    .dataframe tbody tr th:only-of-type {\n",
              "        vertical-align: middle;\n",
              "    }\n",
              "\n",
              "    .dataframe tbody tr th {\n",
              "        vertical-align: top;\n",
              "    }\n",
              "\n",
              "    .dataframe thead th {\n",
              "        text-align: right;\n",
              "    }\n",
              "</style>\n",
              "<table border=\"1\" class=\"dataframe\">\n",
              "  <thead>\n",
              "    <tr style=\"text-align: right;\">\n",
              "      <th></th>\n",
              "      <th>HB1</th>\n",
              "      <th>HB2</th>\n",
              "      <th>HB3</th>\n",
              "      <th>HB4</th>\n",
              "      <th>HB5</th>\n",
              "      <th>HB6</th>\n",
              "      <th>AI1</th>\n",
              "    </tr>\n",
              "  </thead>\n",
              "  <tbody>\n",
              "    <tr>\n",
              "      <th>2</th>\n",
              "      <td>0</td>\n",
              "      <td>NaN</td>\n",
              "      <td>1</td>\n",
              "      <td>2</td>\n",
              "      <td>2</td>\n",
              "      <td>4</td>\n",
              "      <td>1</td>\n",
              "    </tr>\n",
              "    <tr>\n",
              "      <th>49</th>\n",
              "      <td>0</td>\n",
              "      <td>1</td>\n",
              "      <td>1</td>\n",
              "      <td>2</td>\n",
              "      <td>3</td>\n",
              "      <td>4</td>\n",
              "      <td>0</td>\n",
              "    </tr>\n",
              "    <tr>\n",
              "      <th>54</th>\n",
              "      <td>0</td>\n",
              "      <td>1</td>\n",
              "      <td>1</td>\n",
              "      <td>2</td>\n",
              "      <td>2</td>\n",
              "      <td>4</td>\n",
              "      <td>1</td>\n",
              "    </tr>\n",
              "    <tr>\n",
              "      <th>58</th>\n",
              "      <td>0</td>\n",
              "      <td>1</td>\n",
              "      <td>2</td>\n",
              "      <td>2</td>\n",
              "      <td>2</td>\n",
              "      <td>4</td>\n",
              "      <td>1</td>\n",
              "    </tr>\n",
              "    <tr>\n",
              "      <th>64</th>\n",
              "      <td>0</td>\n",
              "      <td>0</td>\n",
              "      <td>3</td>\n",
              "      <td>3</td>\n",
              "      <td>3</td>\n",
              "      <td>4</td>\n",
              "      <td>1</td>\n",
              "    </tr>\n",
              "  </tbody>\n",
              "</table>\n",
              "</div>"
            ],
            "text/plain": [
              "   HB1  HB2 HB3 HB4 HB5 HB6 AI1\n",
              "2    0  NaN   1   2   2   4   1\n",
              "49   0    1   1   2   3   4   0\n",
              "54   0    1   1   2   2   4   1\n",
              "58   0    1   2   2   2   4   1\n",
              "64   0    0   3   3   3   4   1"
            ]
          },
          "metadata": {
            "tags": []
          },
          "execution_count": 147
        }
      ]
    },
    {
      "cell_type": "code",
      "metadata": {
        "colab_type": "code",
        "id": "zL-H62dGu0Mt",
        "colab": {}
      },
      "source": [
        "trans_df = get_transaction_df(filtered_df)"
      ],
      "execution_count": 0,
      "outputs": []
    },
    {
      "cell_type": "code",
      "metadata": {
        "colab_type": "code",
        "outputId": "65b2f803-ef80-40c6-d2cf-0f422c496549",
        "id": "2k-N2N46u0Mv",
        "colab": {
          "base_uri": "https://localhost:8080/",
          "height": 1000
        }
      },
      "source": [
        "lookup = get_lookup()\n",
        "frequent_itemsets = get_frequent_itemsets(trans_df, 0.1)\n",
        "frequent_itemsets_filtered = frequent_itemsets#[ (frequent_itemsets['support'] < 0.05) ]\n",
        "print_freq_itemsets(frequent_itemsets_filtered, lookup)\n",
        "\n",
        "# HIV/AIDS Awareness  \" 0 \",    Support :  0.2625692257574112\n",
        "# HIV/AIDS Awareness  \" 1 \",    Support :  0.7362362905852969\n",
        "\n",
        "# glasses of milk daily harmful during pregnancy  \" 0 \",    Support :  0.7293951569117167\n",
        "# glasses of milk daily harmful during pregnancy  \" 1 \",    Support :  0.2430231295471821\n",
        "\n",
        "# Belief: Men physically weak months after sterilization  \" 0 \",    Support :  0.3697469866435009\n",
        "# Belief: Men physically weak months after sterilization  \" 1 \",    Support :  0.41448582908024756\n",
        "\n",
        "# Belief: 1st milk after birth good for baby  \" 1 \",    Support :  0.8656748832663699\n",
        "# Belief: 1st milk after birth good for baby  \" 2 \",    Support :  0.10305136279726354\n",
        "\n",
        "# Belief: Chulha smoke good for health  \" 2 \",    Support :  0.8245194918014985\n",
        "# Belief: Chulha smoke good for health  \" 3 \",    Support :  0.1122814637854273\n",
        "\n",
        "# Belief: Child diarrhea more to drink  \" 1 \",    Support :  0.15387121294385928\n",
        "# Belief: Child diarrhea more to drink  \" 2 \",    Support :  0.640894776848735\n",
        "# Belief: Child diarrhea more to drink  \" 3 \",    Support :  0.1572374850689543\n",
        "\n",
        "# Belief: Illness spread through impure water  \" 1 \",    Support :  0.11380171571288956\n",
        "# Belief: Illness spread through impure water  \" 2 \",    Support :  0.6071234661743946\n",
        "# Belief: Illness spread through impure water  \" 4 \",    Support :  0.18373330437615376\n"
      ],
      "execution_count": 0,
      "outputs": [
        {
          "output_type": "stream",
          "text": [
            "HIV/AIDS Awareness  \" 0 \",    Support :  0.2625692257574112\n",
            "HIV/AIDS Awareness  \" 1 \",    Support :  0.7362362905852969\n",
            "glasses of milk daily harmful during pregnancy  \" 0 \",    Support :  0.7293951569117167\n",
            "glasses of milk daily harmful during pregnancy  \" 1 \",    Support :  0.2430231295471821\n",
            "Belief: Men physically weak months after sterilization  \" 0 \",    Support :  0.3697469866435009\n",
            "Belief: Men physically weak months after sterilization  \" 1 \",    Support :  0.41448582908024756\n",
            "Belief: 1st milk after birth good for baby  \" 1 \",    Support :  0.8656748832663699\n",
            "Belief: 1st milk after birth good for baby  \" 2 \",    Support :  0.10305136279726354\n",
            "Belief: Chulha smoke good for health  \" 2 \",    Support :  0.8245194918014985\n",
            "Belief: Chulha smoke good for health  \" 3 \",    Support :  0.1122814637854273\n",
            "Belief: Child diarrhea more to drink  \" 1 \",    Support :  0.15387121294385928\n",
            "Belief: Child diarrhea more to drink  \" 2 \",    Support :  0.640894776848735\n",
            "Belief: Child diarrhea more to drink  \" 3 \",    Support :  0.1572374850689543\n",
            "Belief: Illness spread through impure water  \" 1 \",    Support :  0.11380171571288956\n",
            "Belief: Illness spread through impure water  \" 2 \",    Support :  0.6071234661743946\n",
            "Belief: Illness spread through impure water  \" 4 \",    Support :  0.18373330437615376\n",
            "HIV/AIDS Awareness  \" 0 \",  glasses of milk daily harmful during pregnancy  \" 0 \",    Support :  0.19535237267890107\n",
            "HIV/AIDS Awareness  \" 0 \",  Belief: Men physically weak months after sterilization  \" 1 \",    Support :  0.12379194266478445\n",
            "HIV/AIDS Awareness  \" 0 \",  Belief: 1st milk after birth good for baby  \" 1 \",    Support :  0.2063199044413074\n",
            "HIV/AIDS Awareness  \" 0 \",  Belief: Chulha smoke good for health  \" 2 \",    Support :  0.21935063524812684\n",
            "HIV/AIDS Awareness  \" 0 \",  Belief: Child diarrhea more to drink  \" 2 \",    Support :  0.15995222065370832\n",
            "HIV/AIDS Awareness  \" 0 \",  Belief: Illness spread through impure water  \" 2 \",    Support :  0.11467043110001086\n",
            "HIV/AIDS Awareness  \" 1 \",  glasses of milk daily harmful during pregnancy  \" 0 \",    Support :  0.5337170159626452\n",
            "glasses of milk daily harmful during pregnancy  \" 1 \",  HIV/AIDS Awareness  \" 1 \",    Support :  0.18970572266261265\n",
            "HIV/AIDS Awareness  \" 1 \",  Belief: Men physically weak months after sterilization  \" 0 \",    Support :  0.30057552394396786\n",
            "HIV/AIDS Awareness  \" 1 \",  Belief: Men physically weak months after sterilization  \" 1 \",    Support :  0.2906938864154631\n",
            "Belief: 1st milk after birth good for baby  \" 1 \",  HIV/AIDS Awareness  \" 1 \",    Support :  0.6588120317081116\n",
            "HIV/AIDS Awareness  \" 1 \",  Belief: Chulha smoke good for health  \" 2 \",    Support :  0.6048430882832012\n",
            "HIV/AIDS Awareness  \" 1 \",  Belief: Child diarrhea more to drink  \" 1 \",    Support :  0.11651645129764361\n",
            "Belief: Child diarrhea more to drink  \" 2 \",  HIV/AIDS Awareness  \" 1 \",    Support :  0.4806167879248561\n",
            "Belief: Child diarrhea more to drink  \" 3 \",  HIV/AIDS Awareness  \" 1 \",    Support :  0.111412748398306\n",
            "Belief: Illness spread through impure water  \" 2 \",  HIV/AIDS Awareness  \" 1 \",    Support :  0.49245303507438376\n",
            "HIV/AIDS Awareness  \" 1 \",  Belief: Illness spread through impure water  \" 4 \",    Support :  0.11184710609186665\n",
            "glasses of milk daily harmful during pregnancy  \" 0 \",  Belief: Men physically weak months after sterilization  \" 0 \",    Support :  0.2837441633184928\n",
            "Belief: Men physically weak months after sterilization  \" 1 \",  glasses of milk daily harmful during pregnancy  \" 0 \",    Support :  0.30198718644803996\n",
            "Belief: 1st milk after birth good for baby  \" 1 \",  glasses of milk daily harmful during pregnancy  \" 0 \",    Support :  0.6399174720382235\n",
            "Belief: Chulha smoke good for health  \" 2 \",  glasses of milk daily harmful during pregnancy  \" 0 \",    Support :  0.6104897382994896\n",
            "Belief: Child diarrhea more to drink  \" 2 \",  glasses of milk daily harmful during pregnancy  \" 0 \",    Support :  0.4931045716147247\n",
            "Belief: Child diarrhea more to drink  \" 3 \",  glasses of milk daily harmful during pregnancy  \" 0 \",    Support :  0.11521337821696166\n",
            "Belief: Illness spread through impure water  \" 2 \",  glasses of milk daily harmful during pregnancy  \" 0 \",    Support :  0.4436963839722011\n",
            "Belief: Illness spread through impure water  \" 4 \",  glasses of milk daily harmful during pregnancy  \" 0 \",    Support :  0.14279509175806276\n",
            "glasses of milk daily harmful during pregnancy  \" 1 \",  Belief: Men physically weak months after sterilization  \" 1 \",    Support :  0.10685199261591921\n",
            "Belief: 1st milk after birth good for baby  \" 1 \",  glasses of milk daily harmful during pregnancy  \" 1 \",    Support :  0.2112064284938647\n",
            "glasses of milk daily harmful during pregnancy  \" 1 \",  Belief: Chulha smoke good for health  \" 2 \",    Support :  0.19654685633619284\n",
            "glasses of milk daily harmful during pregnancy  \" 1 \",  Belief: Child diarrhea more to drink  \" 2 \",    Support :  0.13573677923770225\n",
            "Belief: Illness spread through impure water  \" 2 \",  glasses of milk daily harmful during pregnancy  \" 1 \",    Support :  0.15387121294385928\n",
            "Belief: 1st milk after birth good for baby  \" 1 \",  Belief: Men physically weak months after sterilization  \" 0 \",    Support :  0.32924313171897057\n",
            "Belief: Chulha smoke good for health  \" 2 \",  Belief: Men physically weak months after sterilization  \" 0 \",    Support :  0.29851232489955476\n",
            "Belief: Child diarrhea more to drink  \" 2 \",  Belief: Men physically weak months after sterilization  \" 0 \",    Support :  0.23585622760343142\n",
            "Belief: Illness spread through impure water  \" 2 \",  Belief: Men physically weak months after sterilization  \" 0 \",    Support :  0.25703116516451296\n",
            "Belief: 1st milk after birth good for baby  \" 1 \",  Belief: Men physically weak months after sterilization  \" 1 \",    Support :  0.35584754044956024\n",
            "Belief: Chulha smoke good for health  \" 2 \",  Belief: Men physically weak months after sterilization  \" 1 \",    Support :  0.36062547507872733\n",
            "Belief: Child diarrhea more to drink  \" 2 \",  Belief: Men physically weak months after sterilization  \" 1 \",    Support :  0.27049625366489305\n",
            "Belief: Illness spread through impure water  \" 2 \",  Belief: Men physically weak months after sterilization  \" 1 \",    Support :  0.23542186990987077\n",
            "Belief: 1st milk after birth good for baby  \" 1 \",  Belief: Chulha smoke good for health  \" 2 \",    Support :  0.728852209794766\n",
            "Belief: 1st milk after birth good for baby  \" 1 \",  Belief: Child diarrhea more to drink  \" 1 \",    Support :  0.1316103811488761\n",
            "Belief: 1st milk after birth good for baby  \" 1 \",  Belief: Child diarrhea more to drink  \" 2 \",    Support :  0.5668367900966446\n",
            "Belief: 1st milk after birth good for baby  \" 1 \",  Belief: Child diarrhea more to drink  \" 3 \",    Support :  0.13551960039092192\n",
            "Belief: Illness spread through impure water  \" 2 \",  Belief: 1st milk after birth good for baby  \" 1 \",    Support :  0.5425127592572483\n",
            "Belief: 1st milk after birth good for baby  \" 1 \",  Belief: Illness spread through impure water  \" 4 \",    Support :  0.15343685525029863\n",
            "Belief: Chulha smoke good for health  \" 2 \",  Belief: Child diarrhea more to drink  \" 1 \",    Support :  0.12183733304376154\n",
            "Belief: Child diarrhea more to drink  \" 2 \",  Belief: Chulha smoke good for health  \" 2 \",    Support :  0.5430557063741992\n",
            "Belief: Child diarrhea more to drink  \" 3 \",  Belief: Chulha smoke good for health  \" 2 \",    Support :  0.12965577152785318\n",
            "Belief: Illness spread through impure water  \" 2 \",  Belief: Chulha smoke good for health  \" 2 \",    Support :  0.5104788793571506\n",
            "Belief: Chulha smoke good for health  \" 2 \",  Belief: Illness spread through impure water  \" 4 \",    Support :  0.14735584754044956\n",
            "Belief: Illness spread through impure water  \" 2 \",  Belief: Child diarrhea more to drink  \" 2 \",    Support :  0.4118796829188837\n",
            "Belief: Child diarrhea more to drink  \" 2 \",  Belief: Illness spread through impure water  \" 4 \",    Support :  0.10478879357150614\n",
            "HIV/AIDS Awareness  \" 0 \",  Belief: 1st milk after birth good for baby  \" 1 \",  glasses of milk daily harmful during pregnancy  \" 0 \",    Support :  0.15897491584319687\n",
            "HIV/AIDS Awareness  \" 0 \",  Belief: Chulha smoke good for health  \" 2 \",  glasses of milk daily harmful during pregnancy  \" 0 \",    Support :  0.16896514279509176\n",
            "HIV/AIDS Awareness  \" 0 \",  Belief: Child diarrhea more to drink  \" 2 \",  glasses of milk daily harmful during pregnancy  \" 0 \",    Support :  0.1253121945922467\n",
            "HIV/AIDS Awareness  \" 0 \",  Belief: Chulha smoke good for health  \" 2 \",  Belief: Men physically weak months after sterilization  \" 1 \",    Support :  0.11000108589423391\n",
            "HIV/AIDS Awareness  \" 0 \",  Belief: 1st milk after birth good for baby  \" 1 \",  Belief: Chulha smoke good for health  \" 2 \",    Support :  0.17873819090020632\n",
            "HIV/AIDS Awareness  \" 0 \",  Belief: Child diarrhea more to drink  \" 2 \",  Belief: 1st milk after birth good for baby  \" 1 \",    Support :  0.13182755999565643\n",
            "HIV/AIDS Awareness  \" 0 \",  Belief: Child diarrhea more to drink  \" 2 \",  Belief: Chulha smoke good for health  \" 2 \",    Support :  0.13910305136279727\n",
            "HIV/AIDS Awareness  \" 1 \",  glasses of milk daily harmful during pregnancy  \" 0 \",  Belief: Men physically weak months after sterilization  \" 0 \",    Support :  0.22977521989358238\n",
            "Belief: Men physically weak months after sterilization  \" 1 \",  HIV/AIDS Awareness  \" 1 \",  glasses of milk daily harmful during pregnancy  \" 0 \",    Support :  0.20903464002606145\n",
            "Belief: 1st milk after birth good for baby  \" 1 \",  HIV/AIDS Awareness  \" 1 \",  glasses of milk daily harmful during pregnancy  \" 0 \",    Support :  0.4806167879248561\n",
            "Belief: Chulha smoke good for health  \" 2 \",  HIV/AIDS Awareness  \" 1 \",  glasses of milk daily harmful during pregnancy  \" 0 \",    Support :  0.44141600608100773\n",
            "Belief: Child diarrhea more to drink  \" 2 \",  HIV/AIDS Awareness  \" 1 \",  glasses of milk daily harmful during pregnancy  \" 0 \",    Support :  0.36757519817569767\n",
            "Belief: Illness spread through impure water  \" 2 \",  HIV/AIDS Awareness  \" 1 \",  glasses of milk daily harmful during pregnancy  \" 0 \",    Support :  0.3567162558366815\n",
            "Belief: 1st milk after birth good for baby  \" 1 \",  glasses of milk daily harmful during pregnancy  \" 1 \",  HIV/AIDS Awareness  \" 1 \",    Support :  0.17015962645238353\n",
            "glasses of milk daily harmful during pregnancy  \" 1 \",  HIV/AIDS Awareness  \" 1 \",  Belief: Chulha smoke good for health  \" 2 \",    Support :  0.1546313389075904\n",
            "glasses of milk daily harmful during pregnancy  \" 1 \",  HIV/AIDS Awareness  \" 1 \",  Belief: Child diarrhea more to drink  \" 2 \",    Support :  0.1063090454989684\n",
            "Belief: Illness spread through impure water  \" 2 \",  glasses of milk daily harmful during pregnancy  \" 1 \",  HIV/AIDS Awareness  \" 1 \",    Support :  0.12998153979802368\n",
            "Belief: 1st milk after birth good for baby  \" 1 \",  HIV/AIDS Awareness  \" 1 \",  Belief: Men physically weak months after sterilization  \" 0 \",    Support :  0.27418829406015854\n",
            "HIV/AIDS Awareness  \" 1 \",  Belief: Chulha smoke good for health  \" 2 \",  Belief: Men physically weak months after sterilization  \" 0 \",    Support :  0.24161146704311\n",
            "Belief: Child diarrhea more to drink  \" 2 \",  HIV/AIDS Awareness  \" 1 \",  Belief: Men physically weak months after sterilization  \" 0 \",    Support :  0.1955695515256814\n",
            "Belief: Illness spread through impure water  \" 2 \",  HIV/AIDS Awareness  \" 1 \",  Belief: Men physically weak months after sterilization  \" 0 \",    Support :  0.22163101313932024\n",
            "Belief: 1st milk after birth good for baby  \" 1 \",  HIV/AIDS Awareness  \" 1 \",  Belief: Men physically weak months after sterilization  \" 1 \",    Support :  0.25768270170485397\n",
            "Belief: Men physically weak months after sterilization  \" 1 \",  HIV/AIDS Awareness  \" 1 \",  Belief: Chulha smoke good for health  \" 2 \",    Support :  0.2506243891844934\n",
            "Belief: Child diarrhea more to drink  \" 2 \",  HIV/AIDS Awareness  \" 1 \",  Belief: Men physically weak months after sterilization  \" 1 \",    Support :  0.19133456401346507\n",
            "Belief: Illness spread through impure water  \" 2 \",  HIV/AIDS Awareness  \" 1 \",  Belief: Men physically weak months after sterilization  \" 1 \",    Support :  0.18536214572700618\n",
            "Belief: 1st milk after birth good for baby  \" 1 \",  HIV/AIDS Awareness  \" 1 \",  Belief: Chulha smoke good for health  \" 2 \",    Support :  0.5497882506243892\n",
            "Belief: 1st milk after birth good for baby  \" 1 \",  HIV/AIDS Awareness  \" 1 \",  Belief: Child diarrhea more to drink  \" 1 \",    Support :  0.1031599522206537\n",
            "Belief: 1st milk after birth good for baby  \" 1 \",  Belief: Child diarrhea more to drink  \" 2 \",  HIV/AIDS Awareness  \" 1 \",    Support :  0.4346834618308177\n",
            "Belief: 1st milk after birth good for baby  \" 1 \",  Belief: Illness spread through impure water  \" 2 \",  HIV/AIDS Awareness  \" 1 \",    Support :  0.44630253013356497\n",
            "Belief: Child diarrhea more to drink  \" 2 \",  HIV/AIDS Awareness  \" 1 \",  Belief: Chulha smoke good for health  \" 2 \",    Support :  0.4037354761646216\n",
            "Belief: Illness spread through impure water  \" 2 \",  HIV/AIDS Awareness  \" 1 \",  Belief: Chulha smoke good for health  \" 2 \",    Support :  0.4140514713866869\n",
            "Belief: Illness spread through impure water  \" 2 \",  Belief: Child diarrhea more to drink  \" 2 \",  HIV/AIDS Awareness  \" 1 \",    Support :  0.33499837115864917\n",
            "Belief: 1st milk after birth good for baby  \" 1 \",  glasses of milk daily harmful during pregnancy  \" 0 \",  Belief: Men physically weak months after sterilization  \" 0 \",    Support :  0.2539906613095885\n",
            "Belief: Chulha smoke good for health  \" 2 \",  glasses of milk daily harmful during pregnancy  \" 0 \",  Belief: Men physically weak months after sterilization  \" 0 \",    Support :  0.22923227277663155\n",
            "Belief: Child diarrhea more to drink  \" 2 \",  glasses of milk daily harmful during pregnancy  \" 0 \",  Belief: Men physically weak months after sterilization  \" 0 \",    Support :  0.18981431208600283\n",
            "Belief: Illness spread through impure water  \" 2 \",  glasses of milk daily harmful during pregnancy  \" 0 \",  Belief: Men physically weak months after sterilization  \" 0 \",    Support :  0.19708980345314367\n",
            "Belief: Men physically weak months after sterilization  \" 1 \",  Belief: 1st milk after birth good for baby  \" 1 \",  glasses of milk daily harmful during pregnancy  \" 0 \",    Support :  0.26224345748724076\n",
            "Belief: Men physically weak months after sterilization  \" 1 \",  Belief: Chulha smoke good for health  \" 2 \",  glasses of milk daily harmful during pregnancy  \" 0 \",    Support :  0.2665870344228472\n",
            "Belief: Men physically weak months after sterilization  \" 1 \",  Belief: Child diarrhea more to drink  \" 2 \",  glasses of milk daily harmful during pregnancy  \" 0 \",    Support :  0.20838310348572048\n",
            "Belief: Illness spread through impure water  \" 2 \",  Belief: Men physically weak months after sterilization  \" 1 \",  glasses of milk daily harmful during pregnancy  \" 0 \",    Support :  0.17363448800086873\n",
            "Belief: 1st milk after birth good for baby  \" 1 \",  Belief: Chulha smoke good for health  \" 2 \",  glasses of milk daily harmful during pregnancy  \" 0 \",    Support :  0.5437072429145401\n",
            "Belief: 1st milk after birth good for baby  \" 1 \",  Belief: Child diarrhea more to drink  \" 2 \",  glasses of milk daily harmful during pregnancy  \" 0 \",    Support :  0.4406558801172766\n",
            "Belief: 1st milk after birth good for baby  \" 1 \",  Belief: Child diarrhea more to drink  \" 3 \",  glasses of milk daily harmful during pregnancy  \" 0 \",    Support :  0.1008795743294603\n",
            "Belief: Illness spread through impure water  \" 2 \",  Belief: 1st milk after birth good for baby  \" 1 \",  glasses of milk daily harmful during pregnancy  \" 0 \",    Support :  0.398631773265284\n",
            "Belief: 1st milk after birth good for baby  \" 1 \",  Belief: Illness spread through impure water  \" 4 \",  glasses of milk daily harmful during pregnancy  \" 0 \",    Support :  0.1224888695841025\n",
            "Belief: Child diarrhea more to drink  \" 2 \",  Belief: Chulha smoke good for health  \" 2 \",  glasses of milk daily harmful during pregnancy  \" 0 \",    Support :  0.42393310891519165\n",
            "Belief: Illness spread through impure water  \" 2 \",  Belief: Chulha smoke good for health  \" 2 \",  glasses of milk daily harmful during pregnancy  \" 0 \",    Support :  0.37734824628081226\n",
            "glasses of milk daily harmful during pregnancy  \" 0 \",  Belief: Chulha smoke good for health  \" 2 \",  Belief: Illness spread through impure water  \" 4 \",    Support :  0.11792811380171571\n",
            "Belief: Illness spread through impure water  \" 2 \",  Belief: Child diarrhea more to drink  \" 2 \",  glasses of milk daily harmful during pregnancy  \" 0 \",    Support :  0.3213161038114888\n",
            "Belief: 1st milk after birth good for baby  \" 1 \",  glasses of milk daily harmful during pregnancy  \" 1 \",  Belief: Chulha smoke good for health  \" 2 \",    Support :  0.17406884569442937\n",
            "Belief: 1st milk after birth good for baby  \" 1 \",  glasses of milk daily harmful during pregnancy  \" 1 \",  Belief: Child diarrhea more to drink  \" 2 \",    Support :  0.11760234553154522\n",
            "Belief: Illness spread through impure water  \" 2 \",  glasses of milk daily harmful during pregnancy  \" 1 \",  Belief: 1st milk after birth good for baby  \" 1 \",    Support :  0.13779997828211532\n",
            "glasses of milk daily harmful during pregnancy  \" 1 \",  Belief: Chulha smoke good for health  \" 2 \",  Belief: Child diarrhea more to drink  \" 2 \",    Support :  0.10978390704745358\n",
            "Belief: Illness spread through impure water  \" 2 \",  glasses of milk daily harmful during pregnancy  \" 1 \",  Belief: Chulha smoke good for health  \" 2 \",    Support :  0.1267238570963188\n",
            "Belief: 1st milk after birth good for baby  \" 1 \",  Belief: Chulha smoke good for health  \" 2 \",  Belief: Men physically weak months after sterilization  \" 0 \",    Support :  0.2709306113584537\n",
            "Belief: 1st milk after birth good for baby  \" 1 \",  Belief: Child diarrhea more to drink  \" 2 \",  Belief: Men physically weak months after sterilization  \" 0 \",    Support :  0.2134868063850581\n",
            "Belief: Illness spread through impure water  \" 2 \",  Belief: 1st milk after birth good for baby  \" 1 \",  Belief: Men physically weak months after sterilization  \" 0 \",    Support :  0.2333586708654577\n",
            "Belief: Child diarrhea more to drink  \" 2 \",  Belief: Chulha smoke good for health  \" 2 \",  Belief: Men physically weak months after sterilization  \" 0 \",    Support :  0.19752416114670432\n",
            "Belief: Illness spread through impure water  \" 2 \",  Belief: Chulha smoke good for health  \" 2 \",  Belief: Men physically weak months after sterilization  \" 0 \",    Support :  0.21250950157454665\n",
            "Belief: Illness spread through impure water  \" 2 \",  Belief: Child diarrhea more to drink  \" 2 \",  Belief: Men physically weak months after sterilization  \" 0 \",    Support :  0.16950808991204255\n",
            "Belief: 1st milk after birth good for baby  \" 1 \",  Belief: Chulha smoke good for health  \" 2 \",  Belief: Men physically weak months after sterilization  \" 1 \",    Support :  0.3149093278314692\n",
            "Belief: 1st milk after birth good for baby  \" 1 \",  Belief: Child diarrhea more to drink  \" 2 \",  Belief: Men physically weak months after sterilization  \" 1 \",    Support :  0.2356390487566511\n",
            "Belief: Illness spread through impure water  \" 2 \",  Belief: 1st milk after birth good for baby  \" 1 \",  Belief: Men physically weak months after sterilization  \" 1 \",    Support :  0.20708003040503856\n",
            "Belief: Child diarrhea more to drink  \" 2 \",  Belief: Chulha smoke good for health  \" 2 \",  Belief: Men physically weak months after sterilization  \" 1 \",    Support :  0.23639917472038224\n",
            "Belief: Illness spread through impure water  \" 2 \",  Belief: Chulha smoke good for health  \" 2 \",  Belief: Men physically weak months after sterilization  \" 1 \",    Support :  0.20621131501791726\n",
            "Belief: Illness spread through impure water  \" 2 \",  Belief: Child diarrhea more to drink  \" 2 \",  Belief: Men physically weak months after sterilization  \" 1 \",    Support :  0.16353567162558366\n",
            "Belief: 1st milk after birth good for baby  \" 1 \",  Belief: Chulha smoke good for health  \" 2 \",  Belief: Child diarrhea more to drink  \" 1 \",    Support :  0.10272559452709307\n",
            "Belief: 1st milk after birth good for baby  \" 1 \",  Belief: Child diarrhea more to drink  \" 2 \",  Belief: Chulha smoke good for health  \" 2 \",    Support :  0.4877836898686068\n",
            "Belief: 1st milk after birth good for baby  \" 1 \",  Belief: Child diarrhea more to drink  \" 3 \",  Belief: Chulha smoke good for health  \" 2 \",    Support :  0.11575632533391247\n",
            "Belief: Illness spread through impure water  \" 2 \",  Belief: 1st milk after birth good for baby  \" 1 \",  Belief: Chulha smoke good for health  \" 2 \",    Support :  0.4649799109566728\n",
            "Belief: 1st milk after birth good for baby  \" 1 \",  Belief: Chulha smoke good for health  \" 2 \",  Belief: Illness spread through impure water  \" 4 \",    Support :  0.12292322727766315\n",
            "Belief: Illness spread through impure water  \" 2 \",  Belief: Child diarrhea more to drink  \" 2 \",  Belief: 1st milk after birth good for baby  \" 1 \",    Support :  0.37278749049842547\n",
            "Belief: Illness spread through impure water  \" 2 \",  Belief: Child diarrhea more to drink  \" 2 \",  Belief: Chulha smoke good for health  \" 2 \",    Support :  0.3512867846671734\n",
            "HIV/AIDS Awareness  \" 0 \",  Belief: 1st milk after birth good for baby  \" 1 \",  Belief: Chulha smoke good for health  \" 2 \",  glasses of milk daily harmful during pregnancy  \" 0 \",    Support :  0.14062330329025952\n",
            "HIV/AIDS Awareness  \" 0 \",  Belief: Child diarrhea more to drink  \" 2 \",  Belief: 1st milk after birth good for baby  \" 1 \",  glasses of milk daily harmful during pregnancy  \" 0 \",    Support :  0.10565750895862742\n",
            "HIV/AIDS Awareness  \" 0 \",  Belief: Child diarrhea more to drink  \" 2 \",  Belief: Chulha smoke good for health  \" 2 \",  glasses of milk daily harmful during pregnancy  \" 0 \",    Support :  0.11239005320881747\n",
            "HIV/AIDS Awareness  \" 0 \",  Belief: Child diarrhea more to drink  \" 2 \",  Belief: 1st milk after birth good for baby  \" 1 \",  Belief: Chulha smoke good for health  \" 2 \",    Support :  0.11727657726137475\n",
            "Belief: 1st milk after birth good for baby  \" 1 \",  HIV/AIDS Awareness  \" 1 \",  glasses of milk daily harmful during pregnancy  \" 0 \",  Belief: Men physically weak months after sterilization  \" 0 \",    Support :  0.21066348137691387\n",
            "Belief: Chulha smoke good for health  \" 2 \",  HIV/AIDS Awareness  \" 1 \",  glasses of milk daily harmful during pregnancy  \" 0 \",  Belief: Men physically weak months after sterilization  \" 0 \",    Support :  0.1841676620697144\n",
            "Belief: Child diarrhea more to drink  \" 2 \",  HIV/AIDS Awareness  \" 1 \",  glasses of milk daily harmful during pregnancy  \" 0 \",  Belief: Men physically weak months after sterilization  \" 0 \",    Support :  0.1577804321859051\n",
            "Belief: Illness spread through impure water  \" 2 \",  HIV/AIDS Awareness  \" 1 \",  glasses of milk daily harmful during pregnancy  \" 0 \",  Belief: Men physically weak months after sterilization  \" 0 \",    Support :  0.16896514279509176\n",
            "Belief: Men physically weak months after sterilization  \" 1 \",  Belief: 1st milk after birth good for baby  \" 1 \",  HIV/AIDS Awareness  \" 1 \",  glasses of milk daily harmful during pregnancy  \" 0 \",    Support :  0.18688239765446846\n",
            "Belief: Chulha smoke good for health  \" 2 \",  HIV/AIDS Awareness  \" 1 \",  Belief: Men physically weak months after sterilization  \" 1 \",  glasses of milk daily harmful during pregnancy  \" 0 \",    Support :  0.18199587360191116\n",
            "Belief: Men physically weak months after sterilization  \" 1 \",  Belief: Child diarrhea more to drink  \" 2 \",  HIV/AIDS Awareness  \" 1 \",  glasses of milk daily harmful during pregnancy  \" 0 \",    Support :  0.1460527744597676\n",
            "Belief: Men physically weak months after sterilization  \" 1 \",  Belief: Illness spread through impure water  \" 2 \",  HIV/AIDS Awareness  \" 1 \",  glasses of milk daily harmful during pregnancy  \" 0 \",    Support :  0.13638831577804322\n",
            "Belief: Chulha smoke good for health  \" 2 \",  Belief: 1st milk after birth good for baby  \" 1 \",  HIV/AIDS Awareness  \" 1 \",  glasses of milk daily harmful during pregnancy  \" 0 \",    Support :  0.4029753502008904\n",
            "Belief: 1st milk after birth good for baby  \" 1 \",  Belief: Child diarrhea more to drink  \" 2 \",  HIV/AIDS Awareness  \" 1 \",  glasses of milk daily harmful during pregnancy  \" 0 \",    Support :  0.3347811923118688\n",
            "Belief: 1st milk after birth good for baby  \" 1 \",  Belief: Illness spread through impure water  \" 2 \",  HIV/AIDS Awareness  \" 1 \",  glasses of milk daily harmful during pregnancy  \" 0 \",    Support :  0.32370507112607233\n",
            "Belief: Chulha smoke good for health  \" 2 \",  Belief: Child diarrhea more to drink  \" 2 \",  HIV/AIDS Awareness  \" 1 \",  glasses of milk daily harmful during pregnancy  \" 0 \",    Support :  0.31143446628298405\n",
            "Belief: Chulha smoke good for health  \" 2 \",  Belief: Illness spread through impure water  \" 2 \",  HIV/AIDS Awareness  \" 1 \",  glasses of milk daily harmful during pregnancy  \" 0 \",    Support :  0.30079270279074816\n",
            "Belief: Illness spread through impure water  \" 2 \",  Belief: Child diarrhea more to drink  \" 2 \",  HIV/AIDS Awareness  \" 1 \",  glasses of milk daily harmful during pregnancy  \" 0 \",    Support :  0.2586600065153654\n",
            "Belief: 1st milk after birth good for baby  \" 1 \",  glasses of milk daily harmful during pregnancy  \" 1 \",  HIV/AIDS Awareness  \" 1 \",  Belief: Chulha smoke good for health  \" 2 \",    Support :  0.14116625040721034\n",
            "Belief: 1st milk after birth good for baby  \" 1 \",  glasses of milk daily harmful during pregnancy  \" 1 \",  Belief: Illness spread through impure water  \" 2 \",  HIV/AIDS Awareness  \" 1 \",    Support :  0.11857965034205668\n",
            "Belief: Illness spread through impure water  \" 2 \",  glasses of milk daily harmful during pregnancy  \" 1 \",  HIV/AIDS Awareness  \" 1 \",  Belief: Chulha smoke good for health  \" 2 \",    Support :  0.10913237050711261\n",
            "Belief: 1st milk after birth good for baby  \" 1 \",  HIV/AIDS Awareness  \" 1 \",  Belief: Chulha smoke good for health  \" 2 \",  Belief: Men physically weak months after sterilization  \" 0 \",    Support :  0.2245629275708546\n",
            "Belief: 1st milk after birth good for baby  \" 1 \",  Belief: Child diarrhea more to drink  \" 2 \",  HIV/AIDS Awareness  \" 1 \",  Belief: Men physically weak months after sterilization  \" 0 \",    Support :  0.18004126398088827\n",
            "Belief: 1st milk after birth good for baby  \" 1 \",  Belief: Illness spread through impure water  \" 2 \",  HIV/AIDS Awareness  \" 1 \",  Belief: Men physically weak months after sterilization  \" 0 \",    Support :  0.20382234770333368\n",
            "Belief: Child diarrhea more to drink  \" 2 \",  HIV/AIDS Awareness  \" 1 \",  Belief: Chulha smoke good for health  \" 2 \",  Belief: Men physically weak months after sterilization  \" 0 \",    Support :  0.1625583668150722\n",
            "Belief: Illness spread through impure water  \" 2 \",  HIV/AIDS Awareness  \" 1 \",  Belief: Chulha smoke good for health  \" 2 \",  Belief: Men physically weak months after sterilization  \" 0 \",    Support :  0.18286458898903246\n",
            "Belief: Illness spread through impure water  \" 2 \",  Belief: Child diarrhea more to drink  \" 2 \",  HIV/AIDS Awareness  \" 1 \",  Belief: Men physically weak months after sterilization  \" 0 \",    Support :  0.14887609946791183\n",
            "Belief: Men physically weak months after sterilization  \" 1 \",  Belief: 1st milk after birth good for baby  \" 1 \",  HIV/AIDS Awareness  \" 1 \",  Belief: Chulha smoke good for health  \" 2 \",    Support :  0.2256488218047562\n",
            "Belief: 1st milk after birth good for baby  \" 1 \",  Belief: Child diarrhea more to drink  \" 2 \",  HIV/AIDS Awareness  \" 1 \",  Belief: Men physically weak months after sterilization  \" 1 \",    Support :  0.17124552068628515\n",
            "Belief: 1st milk after birth good for baby  \" 1 \",  Belief: Illness spread through impure water  \" 2 \",  HIV/AIDS Awareness  \" 1 \",  Belief: Men physically weak months after sterilization  \" 1 \",    Support :  0.16592463894016724\n",
            "Belief: Men physically weak months after sterilization  \" 1 \",  Belief: Child diarrhea more to drink  \" 2 \",  HIV/AIDS Awareness  \" 1 \",  Belief: Chulha smoke good for health  \" 2 \",    Support :  0.16549028124660659\n",
            "Belief: Men physically weak months after sterilization  \" 1 \",  Belief: Illness spread through impure water  \" 2 \",  HIV/AIDS Awareness  \" 1 \",  Belief: Chulha smoke good for health  \" 2 \",    Support :  0.1617982408513411\n",
            "Belief: Illness spread through impure water  \" 2 \",  Belief: Child diarrhea more to drink  \" 2 \",  HIV/AIDS Awareness  \" 1 \",  Belief: Men physically weak months after sterilization  \" 1 \",    Support :  0.1279183407536106\n",
            "Belief: 1st milk after birth good for baby  \" 1 \",  Belief: Child diarrhea more to drink  \" 2 \",  HIV/AIDS Awareness  \" 1 \",  Belief: Chulha smoke good for health  \" 2 \",    Support :  0.3702899337604517\n",
            "Belief: 1st milk after birth good for baby  \" 1 \",  Belief: Illness spread through impure water  \" 2 \",  HIV/AIDS Awareness  \" 1 \",  Belief: Chulha smoke good for health  \" 2 \",    Support :  0.3816918232164187\n",
            "Belief: 1st milk after birth good for baby  \" 1 \",  Belief: Child diarrhea more to drink  \" 2 \",  Belief: Illness spread through impure water  \" 2 \",  HIV/AIDS Awareness  \" 1 \",    Support :  0.30622217396025625\n",
            "Belief: Illness spread through impure water  \" 2 \",  Belief: Child diarrhea more to drink  \" 2 \",  HIV/AIDS Awareness  \" 1 \",  Belief: Chulha smoke good for health  \" 2 \",    Support :  0.28439569985883373\n",
            "Belief: 1st milk after birth good for baby  \" 1 \",  Belief: Chulha smoke good for health  \" 2 \",  glasses of milk daily harmful during pregnancy  \" 0 \",  Belief: Men physically weak months after sterilization  \" 0 \",    Support :  0.20881746117928113\n",
            "Belief: 1st milk after birth good for baby  \" 1 \",  Belief: Child diarrhea more to drink  \" 2 \",  glasses of milk daily harmful during pregnancy  \" 0 \",  Belief: Men physically weak months after sterilization  \" 0 \",    Support :  0.17287436203713757\n",
            "Belief: Illness spread through impure water  \" 2 \",  Belief: 1st milk after birth good for baby  \" 1 \",  glasses of milk daily harmful during pregnancy  \" 0 \",  Belief: Men physically weak months after sterilization  \" 0 \",    Support :  0.17895536974698664\n",
            "Belief: Child diarrhea more to drink  \" 2 \",  Belief: Chulha smoke good for health  \" 2 \",  glasses of milk daily harmful during pregnancy  \" 0 \",  Belief: Men physically weak months after sterilization  \" 0 \",    Support :  0.16016939950048864\n",
            "Belief: Illness spread through impure water  \" 2 \",  Belief: Chulha smoke good for health  \" 2 \",  glasses of milk daily harmful during pregnancy  \" 0 \",  Belief: Men physically weak months after sterilization  \" 0 \",    Support :  0.16212400912151156\n",
            "Belief: Illness spread through impure water  \" 2 \",  Belief: Child diarrhea more to drink  \" 2 \",  glasses of milk daily harmful during pregnancy  \" 0 \",  Belief: Men physically weak months after sterilization  \" 0 \",    Support :  0.13888587251601694\n",
            "Belief: Men physically weak months after sterilization  \" 1 \",  Belief: 1st milk after birth good for baby  \" 1 \",  Belief: Chulha smoke good for health  \" 2 \",  glasses of milk daily harmful during pregnancy  \" 0 \",    Support :  0.23553045933326094\n",
            "Belief: Men physically weak months after sterilization  \" 1 \",  Belief: Child diarrhea more to drink  \" 2 \",  Belief: 1st milk after birth good for baby  \" 1 \",  glasses of milk daily harmful during pregnancy  \" 0 \",    Support :  0.1847106091866652\n",
            "Belief: Illness spread through impure water  \" 2 \",  Belief: 1st milk after birth good for baby  \" 1 \",  Belief: Men physically weak months after sterilization  \" 1 \",  glasses of milk daily harmful during pregnancy  \" 0 \",    Support :  0.15441416006081007\n",
            "Belief: Men physically weak months after sterilization  \" 1 \",  Belief: Child diarrhea more to drink  \" 2 \",  Belief: Chulha smoke good for health  \" 2 \",  glasses of milk daily harmful during pregnancy  \" 0 \",    Support :  0.18492778803344553\n",
            "Belief: Illness spread through impure water  \" 2 \",  Belief: Chulha smoke good for health  \" 2 \",  Belief: Men physically weak months after sterilization  \" 1 \",  glasses of milk daily harmful during pregnancy  \" 0 \",    Support :  0.15528287544793137\n",
            "Belief: Illness spread through impure water  \" 2 \",  Belief: Child diarrhea more to drink  \" 2 \",  Belief: Men physically weak months after sterilization  \" 1 \",  glasses of milk daily harmful during pregnancy  \" 0 \",    Support :  0.1293300032576827\n",
            "Belief: 1st milk after birth good for baby  \" 1 \",  Belief: Child diarrhea more to drink  \" 2 \",  Belief: Chulha smoke good for health  \" 2 \",  glasses of milk daily harmful during pregnancy  \" 0 \",    Support :  0.38505809534151375\n",
            "Belief: Illness spread through impure water  \" 2 \",  Belief: 1st milk after birth good for baby  \" 1 \",  Belief: Chulha smoke good for health  \" 2 \",  glasses of milk daily harmful during pregnancy  \" 0 \",    Support :  0.3450971875339342\n",
            "glasses of milk daily harmful during pregnancy  \" 0 \",  Belief: 1st milk after birth good for baby  \" 1 \",  Belief: Chulha smoke good for health  \" 2 \",  Belief: Illness spread through impure water  \" 4 \",    Support :  0.10044521663589967\n",
            "Belief: Illness spread through impure water  \" 2 \",  Belief: Child diarrhea more to drink  \" 2 \",  Belief: 1st milk after birth good for baby  \" 1 \",  glasses of milk daily harmful during pregnancy  \" 0 \",    Support :  0.2927570854598762\n",
            "Belief: Illness spread through impure water  \" 2 \",  Belief: Child diarrhea more to drink  \" 2 \",  Belief: Chulha smoke good for health  \" 2 \",  glasses of milk daily harmful during pregnancy  \" 0 \",    Support :  0.27820610272559454\n",
            "Belief: Illness spread through impure water  \" 2 \",  glasses of milk daily harmful during pregnancy  \" 1 \",  Belief: 1st milk after birth good for baby  \" 1 \",  Belief: Chulha smoke good for health  \" 2 \",    Support :  0.1159735041806928\n",
            "Belief: 1st milk after birth good for baby  \" 1 \",  Belief: Child diarrhea more to drink  \" 2 \",  Belief: Chulha smoke good for health  \" 2 \",  Belief: Men physically weak months after sterilization  \" 0 \",    Support :  0.18134433706157022\n",
            "Belief: Illness spread through impure water  \" 2 \",  Belief: 1st milk after birth good for baby  \" 1 \",  Belief: Chulha smoke good for health  \" 2 \",  Belief: Men physically weak months after sterilization  \" 0 \",    Support :  0.1969812140297535\n",
            "Belief: Illness spread through impure water  \" 2 \",  Belief: Child diarrhea more to drink  \" 2 \",  Belief: 1st milk after birth good for baby  \" 1 \",  Belief: Men physically weak months after sterilization  \" 0 \",    Support :  0.15658594852861332\n",
            "Belief: Illness spread through impure water  \" 2 \",  Belief: Child diarrhea more to drink  \" 2 \",  Belief: Chulha smoke good for health  \" 2 \",  Belief: Men physically weak months after sterilization  \" 0 \",    Support :  0.14236073406450211\n",
            "Belief: 1st milk after birth good for baby  \" 1 \",  Belief: Child diarrhea more to drink  \" 2 \",  Belief: Chulha smoke good for health  \" 2 \",  Belief: Men physically weak months after sterilization  \" 1 \",    Support :  0.21001194483657293\n",
            "Belief: Illness spread through impure water  \" 2 \",  Belief: 1st milk after birth good for baby  \" 1 \",  Belief: Chulha smoke good for health  \" 2 \",  Belief: Men physically weak months after sterilization  \" 1 \",    Support :  0.1847106091866652\n",
            "Belief: Illness spread through impure water  \" 2 \",  Belief: Child diarrhea more to drink  \" 2 \",  Belief: 1st milk after birth good for baby  \" 1 \",  Belief: Men physically weak months after sterilization  \" 1 \",    Support :  0.1447497013790857\n",
            "Belief: Illness spread through impure water  \" 2 \",  Belief: Child diarrhea more to drink  \" 2 \",  Belief: Chulha smoke good for health  \" 2 \",  Belief: Men physically weak months after sterilization  \" 1 \",    Support :  0.14344662829840374\n",
            "Belief: Illness spread through impure water  \" 2 \",  Belief: Child diarrhea more to drink  \" 2 \",  Belief: 1st milk after birth good for baby  \" 1 \",  Belief: Chulha smoke good for health  \" 2 \",    Support :  0.323487892279292\n",
            "HIV/AIDS Awareness  \" 1 \",  glasses of milk daily harmful during pregnancy  \" 0 \",  Belief: Men physically weak months after sterilization  \" 0 \",  Belief: 1st milk after birth good for baby  \" 1 \",  Belief: Chulha smoke good for health  \" 2 \",    Support :  0.17200564665001628\n",
            "Belief: Child diarrhea more to drink  \" 2 \",  HIV/AIDS Awareness  \" 1 \",  glasses of milk daily harmful during pregnancy  \" 0 \",  Belief: Men physically weak months after sterilization  \" 0 \",  Belief: 1st milk after birth good for baby  \" 1 \",    Support :  0.1460527744597676\n",
            "HIV/AIDS Awareness  \" 1 \",  glasses of milk daily harmful during pregnancy  \" 0 \",  Belief: Men physically weak months after sterilization  \" 0 \",  Belief: Illness spread through impure water  \" 2 \",  Belief: 1st milk after birth good for baby  \" 1 \",    Support :  0.15528287544793137\n",
            "Belief: Child diarrhea more to drink  \" 2 \",  HIV/AIDS Awareness  \" 1 \",  glasses of milk daily harmful during pregnancy  \" 0 \",  Belief: Men physically weak months after sterilization  \" 0 \",  Belief: Chulha smoke good for health  \" 2 \",    Support :  0.13171897057226625\n",
            "HIV/AIDS Awareness  \" 1 \",  glasses of milk daily harmful during pregnancy  \" 0 \",  Belief: Men physically weak months after sterilization  \" 0 \",  Belief: Illness spread through impure water  \" 2 \",  Belief: Chulha smoke good for health  \" 2 \",    Support :  0.1381257465522858\n",
            "Belief: Child diarrhea more to drink  \" 2 \",  HIV/AIDS Awareness  \" 1 \",  glasses of milk daily harmful during pregnancy  \" 0 \",  Belief: Men physically weak months after sterilization  \" 0 \",  Belief: Illness spread through impure water  \" 2 \",    Support :  0.12151156477359105\n",
            "HIV/AIDS Awareness  \" 1 \",  glasses of milk daily harmful during pregnancy  \" 0 \",  Belief: 1st milk after birth good for baby  \" 1 \",  Belief: Chulha smoke good for health  \" 2 \",  Belief: Men physically weak months after sterilization  \" 1 \",    Support :  0.16516451297643608\n",
            "Belief: Child diarrhea more to drink  \" 2 \",  HIV/AIDS Awareness  \" 1 \",  glasses of milk daily harmful during pregnancy  \" 0 \",  Belief: 1st milk after birth good for baby  \" 1 \",  Belief: Men physically weak months after sterilization  \" 1 \",    Support :  0.13258768595938755\n",
            "HIV/AIDS Awareness  \" 1 \",  glasses of milk daily harmful during pregnancy  \" 0 \",  Belief: Illness spread through impure water  \" 2 \",  Belief: 1st milk after birth good for baby  \" 1 \",  Belief: Men physically weak months after sterilization  \" 1 \",    Support :  0.12303181670105331\n",
            "Belief: Child diarrhea more to drink  \" 2 \",  HIV/AIDS Awareness  \" 1 \",  glasses of milk daily harmful during pregnancy  \" 0 \",  Belief: Chulha smoke good for health  \" 2 \",  Belief: Men physically weak months after sterilization  \" 1 \",    Support :  0.1275925724834401\n",
            "HIV/AIDS Awareness  \" 1 \",  glasses of milk daily harmful during pregnancy  \" 0 \",  Belief: Illness spread through impure water  \" 2 \",  Belief: Chulha smoke good for health  \" 2 \",  Belief: Men physically weak months after sterilization  \" 1 \",    Support :  0.12053425996307959\n",
            "Belief: Child diarrhea more to drink  \" 2 \",  HIV/AIDS Awareness  \" 1 \",  glasses of milk daily harmful during pregnancy  \" 0 \",  Belief: Illness spread through impure water  \" 2 \",  Belief: Men physically weak months after sterilization  \" 1 \",    Support :  0.10055380605928982\n",
            "Belief: Child diarrhea more to drink  \" 2 \",  HIV/AIDS Awareness  \" 1 \",  glasses of milk daily harmful during pregnancy  \" 0 \",  Belief: 1st milk after birth good for baby  \" 1 \",  Belief: Chulha smoke good for health  \" 2 \",    Support :  0.2880877402540993\n",
            "HIV/AIDS Awareness  \" 1 \",  glasses of milk daily harmful during pregnancy  \" 0 \",  Belief: Illness spread through impure water  \" 2 \",  Belief: 1st milk after birth good for baby  \" 1 \",  Belief: Chulha smoke good for health  \" 2 \",    Support :  0.2779889238788142\n",
            "Belief: Child diarrhea more to drink  \" 2 \",  HIV/AIDS Awareness  \" 1 \",  glasses of milk daily harmful during pregnancy  \" 0 \",  Belief: Illness spread through impure water  \" 2 \",  Belief: 1st milk after birth good for baby  \" 1 \",    Support :  0.23748506895428384\n",
            "Belief: Child diarrhea more to drink  \" 2 \",  HIV/AIDS Awareness  \" 1 \",  glasses of milk daily harmful during pregnancy  \" 0 \",  Belief: Illness spread through impure water  \" 2 \",  Belief: Chulha smoke good for health  \" 2 \",    Support :  0.2214138342925399\n",
            "HIV/AIDS Awareness  \" 1 \",  Belief: Illness spread through impure water  \" 2 \",  glasses of milk daily harmful during pregnancy  \" 1 \",  Belief: 1st milk after birth good for baby  \" 1 \",  Belief: Chulha smoke good for health  \" 2 \",    Support :  0.10131393202302096\n",
            "Belief: Child diarrhea more to drink  \" 2 \",  HIV/AIDS Awareness  \" 1 \",  Belief: Men physically weak months after sterilization  \" 0 \",  Belief: 1st milk after birth good for baby  \" 1 \",  Belief: Chulha smoke good for health  \" 2 \",    Support :  0.1518080138994462\n",
            "HIV/AIDS Awareness  \" 1 \",  Belief: Men physically weak months after sterilization  \" 0 \",  Belief: Illness spread through impure water  \" 2 \",  Belief: 1st milk after birth good for baby  \" 1 \",  Belief: Chulha smoke good for health  \" 2 \",    Support :  0.17157128895645565\n",
            "Belief: Child diarrhea more to drink  \" 2 \",  HIV/AIDS Awareness  \" 1 \",  Belief: Men physically weak months after sterilization  \" 0 \",  Belief: Illness spread through impure water  \" 2 \",  Belief: 1st milk after birth good for baby  \" 1 \",    Support :  0.13834292539906612\n",
            "Belief: Child diarrhea more to drink  \" 2 \",  HIV/AIDS Awareness  \" 1 \",  Belief: Men physically weak months after sterilization  \" 0 \",  Belief: Illness spread through impure water  \" 2 \",  Belief: Chulha smoke good for health  \" 2 \",    Support :  0.12444347920512543\n",
            "Belief: Child diarrhea more to drink  \" 2 \",  HIV/AIDS Awareness  \" 1 \",  Belief: 1st milk after birth good for baby  \" 1 \",  Belief: Chulha smoke good for health  \" 2 \",  Belief: Men physically weak months after sterilization  \" 1 \",    Support :  0.1509392985123249\n",
            "HIV/AIDS Awareness  \" 1 \",  Belief: Illness spread through impure water  \" 2 \",  Belief: 1st milk after birth good for baby  \" 1 \",  Belief: Chulha smoke good for health  \" 2 \",  Belief: Men physically weak months after sterilization  \" 1 \",    Support :  0.14757302638722988\n",
            "Belief: Child diarrhea more to drink  \" 2 \",  HIV/AIDS Awareness  \" 1 \",  Belief: Illness spread through impure water  \" 2 \",  Belief: 1st milk after birth good for baby  \" 1 \",  Belief: Men physically weak months after sterilization  \" 1 \",    Support :  0.11532196764035182\n",
            "Belief: Child diarrhea more to drink  \" 2 \",  HIV/AIDS Awareness  \" 1 \",  Belief: Illness spread through impure water  \" 2 \",  Belief: Chulha smoke good for health  \" 2 \",  Belief: Men physically weak months after sterilization  \" 1 \",    Support :  0.11162992724508633\n",
            "Belief: Child diarrhea more to drink  \" 2 \",  HIV/AIDS Awareness  \" 1 \",  Belief: Illness spread through impure water  \" 2 \",  Belief: 1st milk after birth good for baby  \" 1 \",  Belief: Chulha smoke good for health  \" 2 \",    Support :  0.26441524595504395\n",
            "Belief: Child diarrhea more to drink  \" 2 \",  glasses of milk daily harmful during pregnancy  \" 0 \",  Belief: Men physically weak months after sterilization  \" 0 \",  Belief: 1st milk after birth good for baby  \" 1 \",  Belief: Chulha smoke good for health  \" 2 \",    Support :  0.14800738408079053\n",
            "glasses of milk daily harmful during pregnancy  \" 0 \",  Belief: Men physically weak months after sterilization  \" 0 \",  Belief: Illness spread through impure water  \" 2 \",  Belief: 1st milk after birth good for baby  \" 1 \",  Belief: Chulha smoke good for health  \" 2 \",    Support :  0.15028776197198393\n",
            "Belief: Child diarrhea more to drink  \" 2 \",  glasses of milk daily harmful during pregnancy  \" 0 \",  Belief: Men physically weak months after sterilization  \" 0 \",  Belief: Illness spread through impure water  \" 2 \",  Belief: 1st milk after birth good for baby  \" 1 \",    Support :  0.12835269844717123\n",
            "Belief: Child diarrhea more to drink  \" 2 \",  glasses of milk daily harmful during pregnancy  \" 0 \",  Belief: Men physically weak months after sterilization  \" 0 \",  Belief: Illness spread through impure water  \" 2 \",  Belief: Chulha smoke good for health  \" 2 \",    Support :  0.11673363014442394\n",
            "Belief: Child diarrhea more to drink  \" 2 \",  glasses of milk daily harmful during pregnancy  \" 0 \",  Belief: 1st milk after birth good for baby  \" 1 \",  Belief: Chulha smoke good for health  \" 2 \",  Belief: Men physically weak months after sterilization  \" 1 \",    Support :  0.16744489086762948\n",
            "glasses of milk daily harmful during pregnancy  \" 0 \",  Belief: Illness spread through impure water  \" 2 \",  Belief: 1st milk after birth good for baby  \" 1 \",  Belief: Chulha smoke good for health  \" 2 \",  Belief: Men physically weak months after sterilization  \" 1 \",    Support :  0.14040612444347922\n",
            "Belief: Child diarrhea more to drink  \" 2 \",  glasses of milk daily harmful during pregnancy  \" 0 \",  Belief: Illness spread through impure water  \" 2 \",  Belief: 1st milk after birth good for baby  \" 1 \",  Belief: Men physically weak months after sterilization  \" 1 \",    Support :  0.11651645129764361\n",
            "Belief: Child diarrhea more to drink  \" 2 \",  glasses of milk daily harmful during pregnancy  \" 0 \",  Belief: Illness spread through impure water  \" 2 \",  Belief: Chulha smoke good for health  \" 2 \",  Belief: Men physically weak months after sterilization  \" 1 \",    Support :  0.11619068302747312\n",
            "Belief: Child diarrhea more to drink  \" 2 \",  glasses of milk daily harmful during pregnancy  \" 0 \",  Belief: Illness spread through impure water  \" 2 \",  Belief: 1st milk after birth good for baby  \" 1 \",  Belief: Chulha smoke good for health  \" 2 \",    Support :  0.2577912911282441\n",
            "Belief: Child diarrhea more to drink  \" 2 \",  Belief: Men physically weak months after sterilization  \" 0 \",  Belief: Illness spread through impure water  \" 2 \",  Belief: 1st milk after birth good for baby  \" 1 \",  Belief: Chulha smoke good for health  \" 2 \",    Support :  0.133564990769899\n",
            "Belief: Child diarrhea more to drink  \" 2 \",  Belief: Illness spread through impure water  \" 2 \",  Belief: 1st milk after birth good for baby  \" 1 \",  Belief: Chulha smoke good for health  \" 2 \",  Belief: Men physically weak months after sterilization  \" 1 \",    Support :  0.1298729503746335\n",
            "Belief: Child diarrhea more to drink  \" 2 \",  HIV/AIDS Awareness  \" 1 \",  glasses of milk daily harmful during pregnancy  \" 0 \",  Belief: Men physically weak months after sterilization  \" 0 \",  Belief: 1st milk after birth good for baby  \" 1 \",  Belief: Chulha smoke good for health  \" 2 \",    Support :  0.12379194266478445\n",
            "HIV/AIDS Awareness  \" 1 \",  glasses of milk daily harmful during pregnancy  \" 0 \",  Belief: Men physically weak months after sterilization  \" 0 \",  Belief: Illness spread through impure water  \" 2 \",  Belief: 1st milk after birth good for baby  \" 1 \",  Belief: Chulha smoke good for health  \" 2 \",    Support :  0.12965577152785318\n",
            "Belief: Child diarrhea more to drink  \" 2 \",  HIV/AIDS Awareness  \" 1 \",  glasses of milk daily harmful during pregnancy  \" 0 \",  Belief: Men physically weak months after sterilization  \" 0 \",  Belief: Illness spread through impure water  \" 2 \",  Belief: 1st milk after birth good for baby  \" 1 \",    Support :  0.11293300032576827\n",
            "Belief: Child diarrhea more to drink  \" 2 \",  HIV/AIDS Awareness  \" 1 \",  glasses of milk daily harmful during pregnancy  \" 0 \",  Belief: Men physically weak months after sterilization  \" 0 \",  Belief: Illness spread through impure water  \" 2 \",  Belief: Chulha smoke good for health  \" 2 \",    Support :  0.10131393202302096\n",
            "Belief: Child diarrhea more to drink  \" 2 \",  HIV/AIDS Awareness  \" 1 \",  glasses of milk daily harmful during pregnancy  \" 0 \",  Belief: 1st milk after birth good for baby  \" 1 \",  Belief: Chulha smoke good for health  \" 2 \",  Belief: Men physically weak months after sterilization  \" 1 \",    Support :  0.1182538820718862\n",
            "HIV/AIDS Awareness  \" 1 \",  glasses of milk daily harmful during pregnancy  \" 0 \",  Belief: Illness spread through impure water  \" 2 \",  Belief: 1st milk after birth good for baby  \" 1 \",  Belief: Chulha smoke good for health  \" 2 \",  Belief: Men physically weak months after sterilization  \" 1 \",    Support :  0.11076121185796503\n",
            "Belief: Child diarrhea more to drink  \" 2 \",  HIV/AIDS Awareness  \" 1 \",  glasses of milk daily harmful during pregnancy  \" 0 \",  Belief: Illness spread through impure water  \" 2 \",  Belief: 1st milk after birth good for baby  \" 1 \",  Belief: Chulha smoke good for health  \" 2 \",    Support :  0.20708003040503856\n",
            "Belief: Child diarrhea more to drink  \" 2 \",  HIV/AIDS Awareness  \" 1 \",  Belief: Men physically weak months after sterilization  \" 0 \",  Belief: Illness spread through impure water  \" 2 \",  Belief: 1st milk after birth good for baby  \" 1 \",  Belief: Chulha smoke good for health  \" 2 \",    Support :  0.11749375610815506\n",
            "Belief: Child diarrhea more to drink  \" 2 \",  HIV/AIDS Awareness  \" 1 \",  Belief: Illness spread through impure water  \" 2 \",  Belief: 1st milk after birth good for baby  \" 1 \",  Belief: Chulha smoke good for health  \" 2 \",  Belief: Men physically weak months after sterilization  \" 1 \",    Support :  0.10294277337387338\n",
            "Belief: Child diarrhea more to drink  \" 2 \",  glasses of milk daily harmful during pregnancy  \" 0 \",  Belief: Men physically weak months after sterilization  \" 0 \",  Belief: Illness spread through impure water  \" 2 \",  Belief: 1st milk after birth good for baby  \" 1 \",  Belief: Chulha smoke good for health  \" 2 \",    Support :  0.10967531762406342\n",
            "Belief: Child diarrhea more to drink  \" 2 \",  glasses of milk daily harmful during pregnancy  \" 0 \",  Belief: Illness spread through impure water  \" 2 \",  Belief: 1st milk after birth good for baby  \" 1 \",  Belief: Chulha smoke good for health  \" 2 \",  Belief: Men physically weak months after sterilization  \" 1 \",    Support :  0.10674340319252905\n"
          ],
          "name": "stdout"
        }
      ]
    },
    {
      "cell_type": "code",
      "metadata": {
        "colab_type": "code",
        "id": "qLEIg1mXu0My",
        "colab": {}
      },
      "source": [
        ""
      ],
      "execution_count": 0,
      "outputs": []
    },
    {
      "cell_type": "code",
      "metadata": {
        "colab_type": "code",
        "id": "Xs8qdp6Vu0M0",
        "colab": {}
      },
      "source": [
        ""
      ],
      "execution_count": 0,
      "outputs": []
    },
    {
      "cell_type": "code",
      "metadata": {
        "colab_type": "code",
        "id": "91IuWag1u0M2",
        "colab": {}
      },
      "source": [
        ""
      ],
      "execution_count": 0,
      "outputs": []
    },
    {
      "cell_type": "code",
      "metadata": {
        "colab_type": "code",
        "id": "2G9w4WIIu0M5",
        "colab": {}
      },
      "source": [
        ""
      ],
      "execution_count": 0,
      "outputs": []
    },
    {
      "cell_type": "code",
      "metadata": {
        "colab_type": "code",
        "id": "GSmiuuITu0NB",
        "colab": {}
      },
      "source": [
        ""
      ],
      "execution_count": 0,
      "outputs": []
    },
    {
      "cell_type": "markdown",
      "metadata": {
        "colab_type": "text",
        "id": "YAy29kgBu0ND"
      },
      "source": [
        "## **Father, Mother, Daughter Uneducated**"
      ]
    },
    {
      "cell_type": "code",
      "metadata": {
        "colab_type": "code",
        "outputId": "02259f96-b14b-4022-dd0e-df65276775ba",
        "id": "r9smZixKu0NE",
        "colab": {
          "base_uri": "https://localhost:8080/",
          "height": 34
        }
      },
      "source": [
        "format_df = format_data(df)\n",
        "format_df.head()\n",
        "format_df = format_df[format_df.EW8 == 0]\n",
        "format_df = format_df[format_df.EW15A == 0]\n",
        "format_df = format_df[format_df.EW15B == 0]\n",
        "format_df.shape"
      ],
      "execution_count": 0,
      "outputs": [
        {
          "output_type": "execute_result",
          "data": {
            "text/plain": [
              "(12430, 350)"
            ]
          },
          "metadata": {
            "tags": []
          },
          "execution_count": 150
        }
      ]
    },
    {
      "cell_type": "code",
      "metadata": {
        "colab_type": "code",
        "outputId": "1e2b50fe-904c-4e8e-bd18-4336a8f39e03",
        "id": "Hrl-nGXyu0NG",
        "colab": {
          "base_uri": "https://localhost:8080/",
          "height": 323
        }
      },
      "source": [
        "filter = [\n",
        "'HB1',\n",
        "'HB2',\n",
        "'HB3',\n",
        "'HB4',\n",
        "'HB5',\n",
        "'HB6',\n",
        "'AI1'\n",
        "]\n",
        "\n",
        "lookup = get_lookup()\n",
        "\n",
        "print_items(filter, lookup)\n",
        "\n",
        "filtered_df = filter_dataframe(format_df, filter)\n",
        "filtered_df.head()"
      ],
      "execution_count": 0,
      "outputs": [
        {
          "output_type": "stream",
          "text": [
            "HB1  ==>  glasses of milk daily harmful during pregnancy\n",
            "HB2  ==>  Belief: Men physically weak months after sterilization\n",
            "HB3  ==>  Belief: 1st milk after birth good for baby\n",
            "HB4  ==>  Belief: Chulha smoke good for health\n",
            "HB5  ==>  Belief: Child diarrhea more to drink\n",
            "HB6  ==>  Belief: Illness spread through impure water\n",
            "AI1  ==>  HIV/AIDS Awareness\n"
          ],
          "name": "stdout"
        },
        {
          "output_type": "execute_result",
          "data": {
            "text/html": [
              "<div>\n",
              "<style scoped>\n",
              "    .dataframe tbody tr th:only-of-type {\n",
              "        vertical-align: middle;\n",
              "    }\n",
              "\n",
              "    .dataframe tbody tr th {\n",
              "        vertical-align: top;\n",
              "    }\n",
              "\n",
              "    .dataframe thead th {\n",
              "        text-align: right;\n",
              "    }\n",
              "</style>\n",
              "<table border=\"1\" class=\"dataframe\">\n",
              "  <thead>\n",
              "    <tr style=\"text-align: right;\">\n",
              "      <th></th>\n",
              "      <th>HB1</th>\n",
              "      <th>HB2</th>\n",
              "      <th>HB3</th>\n",
              "      <th>HB4</th>\n",
              "      <th>HB5</th>\n",
              "      <th>HB6</th>\n",
              "      <th>AI1</th>\n",
              "    </tr>\n",
              "  </thead>\n",
              "  <tbody>\n",
              "    <tr>\n",
              "      <th>0</th>\n",
              "      <td>0</td>\n",
              "      <td>1</td>\n",
              "      <td>1</td>\n",
              "      <td>3</td>\n",
              "      <td>2</td>\n",
              "      <td>4</td>\n",
              "      <td>1</td>\n",
              "    </tr>\n",
              "    <tr>\n",
              "      <th>3</th>\n",
              "      <td>0</td>\n",
              "      <td>NaN</td>\n",
              "      <td>1</td>\n",
              "      <td>2</td>\n",
              "      <td>2</td>\n",
              "      <td>4</td>\n",
              "      <td>0</td>\n",
              "    </tr>\n",
              "    <tr>\n",
              "      <th>4</th>\n",
              "      <td>0</td>\n",
              "      <td>NaN</td>\n",
              "      <td>1</td>\n",
              "      <td>2</td>\n",
              "      <td>3</td>\n",
              "      <td>4</td>\n",
              "      <td>0</td>\n",
              "    </tr>\n",
              "    <tr>\n",
              "      <th>5</th>\n",
              "      <td>0</td>\n",
              "      <td>NaN</td>\n",
              "      <td>1</td>\n",
              "      <td>2</td>\n",
              "      <td>3</td>\n",
              "      <td>4</td>\n",
              "      <td>0</td>\n",
              "    </tr>\n",
              "    <tr>\n",
              "      <th>6</th>\n",
              "      <td>0</td>\n",
              "      <td>0</td>\n",
              "      <td>2</td>\n",
              "      <td>2</td>\n",
              "      <td>3</td>\n",
              "      <td>4</td>\n",
              "      <td>0</td>\n",
              "    </tr>\n",
              "  </tbody>\n",
              "</table>\n",
              "</div>"
            ],
            "text/plain": [
              "  HB1  HB2 HB3 HB4 HB5 HB6 AI1\n",
              "0   0    1   1   3   2   4   1\n",
              "3   0  NaN   1   2   2   4   0\n",
              "4   0  NaN   1   2   3   4   0\n",
              "5   0  NaN   1   2   3   4   0\n",
              "6   0    0   2   2   3   4   0"
            ]
          },
          "metadata": {
            "tags": []
          },
          "execution_count": 152
        }
      ]
    },
    {
      "cell_type": "code",
      "metadata": {
        "colab_type": "code",
        "id": "YlJ-tsy3u0NI",
        "colab": {}
      },
      "source": [
        "trans_df = get_transaction_df(filtered_df)"
      ],
      "execution_count": 0,
      "outputs": []
    },
    {
      "cell_type": "code",
      "metadata": {
        "colab_type": "code",
        "outputId": "3107b657-5c42-49d6-9fac-88ccbc6b836e",
        "id": "ZW-ldNsEu0NL",
        "colab": {
          "base_uri": "https://localhost:8080/",
          "height": 1000
        }
      },
      "source": [
        "lookup = get_lookup()\n",
        "frequent_itemsets = get_frequent_itemsets(trans_df, 0.1)\n",
        "frequent_itemsets_filtered = frequent_itemsets#[ (frequent_itemsets['support'] < 0.05) ]\n",
        "print_freq_itemsets(frequent_itemsets_filtered, lookup)\n",
        "\n",
        "# HIV/AIDS Awareness  \" 0 \",    Support :  0.651810136765889\n",
        "# HIV/AIDS Awareness  \" 1 \",    Support :  0.34746580852775544\n",
        "\n",
        "# glasses of milk daily harmful during pregnancy  \" 0 \",    Support :  0.7022526146419952\n",
        "# glasses of milk daily harmful during pregnancy  \" 1 \",    Support :  0.2424778761061947\n",
        "\n",
        "# Belief: Men physically weak months after sterilization  \" 0 \",    Support :  0.25583266291230894\n",
        "# Belief: Men physically weak months after sterilization  \" 1 \",    Support :  0.4966210780370072\n",
        "\n",
        "# Belief: 1st milk after birth good for baby  \" 1 \",    Support :  0.7568785197103781\n",
        "# Belief: 1st milk after birth good for baby  \" 2 \",    Support :  0.18640386162510056\n",
        "\n",
        "# Belief: Chulha smoke good for health  \" 2 \",    Support :  0.8340305711987128\n",
        "# Belief: Chulha smoke good for health  \" 3 \",    Support :  0.11134352373290426\n",
        "\n",
        "# Belief: Child diarrhea more to drink  \" 1 \",    Support :  0.21745776347546258\n",
        "# Belief: Child diarrhea more to drink  \" 2 \",    Support :  0.5287208366854385\n",
        "# Belief: Child diarrhea more to drink  \" 3 \",    Support :  0.1670957361222848\n",
        "\n",
        "# Belief: Illness spread through impure water  \" 1 \",    Support :  0.15591311343523734\n",
        "# Belief: Illness spread through impure water  \" 2 \",    Support :  0.3594529364440869\n",
        "# Belief: Illness spread through impure water  \" 3 \",    Support :  0.1001609010458568\n",
        "# Belief: Illness spread through impure water  \" 4 \",    Support :  0.34762670957361225"
      ],
      "execution_count": 0,
      "outputs": [
        {
          "output_type": "stream",
          "text": [
            "HIV/AIDS Awareness  \" 0 \",    Support :  0.651810136765889\n",
            "HIV/AIDS Awareness  \" 1 \",    Support :  0.34746580852775544\n",
            "glasses of milk daily harmful during pregnancy  \" 0 \",    Support :  0.7022526146419952\n",
            "glasses of milk daily harmful during pregnancy  \" 1 \",    Support :  0.2424778761061947\n",
            "Belief: Men physically weak months after sterilization  \" 0 \",    Support :  0.25583266291230894\n",
            "Belief: Men physically weak months after sterilization  \" 1 \",    Support :  0.4966210780370072\n",
            "Belief: 1st milk after birth good for baby  \" 1 \",    Support :  0.7568785197103781\n",
            "Belief: 1st milk after birth good for baby  \" 2 \",    Support :  0.18640386162510056\n",
            "Belief: Chulha smoke good for health  \" 2 \",    Support :  0.8340305711987128\n",
            "Belief: Chulha smoke good for health  \" 3 \",    Support :  0.11134352373290426\n",
            "Belief: Child diarrhea more to drink  \" 1 \",    Support :  0.21745776347546258\n",
            "Belief: Child diarrhea more to drink  \" 2 \",    Support :  0.5287208366854385\n",
            "Belief: Child diarrhea more to drink  \" 3 \",    Support :  0.1670957361222848\n",
            "Belief: Illness spread through impure water  \" 1 \",    Support :  0.15591311343523734\n",
            "Belief: Illness spread through impure water  \" 2 \",    Support :  0.3594529364440869\n",
            "Belief: Illness spread through impure water  \" 3 \",    Support :  0.1001609010458568\n",
            "Belief: Illness spread through impure water  \" 4 \",    Support :  0.34762670957361225\n",
            "HIV/AIDS Awareness  \" 0 \",  glasses of milk daily harmful during pregnancy  \" 0 \",    Support :  0.47602574416733706\n",
            "HIV/AIDS Awareness  \" 0 \",  glasses of milk daily harmful during pregnancy  \" 1 \",    Support :  0.12936444086886564\n",
            "HIV/AIDS Awareness  \" 0 \",  Belief: Men physically weak months after sterilization  \" 0 \",    Support :  0.14754625905068383\n",
            "HIV/AIDS Awareness  \" 0 \",  Belief: Men physically weak months after sterilization  \" 1 \",    Support :  0.33660498793242155\n",
            "HIV/AIDS Awareness  \" 0 \",  Belief: 1st milk after birth good for baby  \" 1 \",    Support :  0.4575221238938053\n",
            "HIV/AIDS Awareness  \" 0 \",  Belief: 1st milk after birth good for baby  \" 2 \",    Support :  0.1489139179404666\n",
            "HIV/AIDS Awareness  \" 0 \",  Belief: Chulha smoke good for health  \" 2 \",    Support :  0.5503620273531777\n",
            "HIV/AIDS Awareness  \" 0 \",  Belief: Child diarrhea more to drink  \" 1 \",    Support :  0.13757039420756234\n",
            "HIV/AIDS Awareness  \" 0 \",  Belief: Child diarrhea more to drink  \" 2 \",    Support :  0.32960579243765087\n",
            "HIV/AIDS Awareness  \" 0 \",  Belief: Child diarrhea more to drink  \" 3 \",    Support :  0.11890587288817377\n",
            "HIV/AIDS Awareness  \" 0 \",  Belief: Illness spread through impure water  \" 1 \",    Support :  0.10176991150442478\n",
            "HIV/AIDS Awareness  \" 0 \",  Belief: Illness spread through impure water  \" 2 \",    Support :  0.18061142397425584\n",
            "HIV/AIDS Awareness  \" 0 \",  Belief: Illness spread through impure water  \" 4 \",    Support :  0.2666130329847144\n",
            "HIV/AIDS Awareness  \" 1 \",  glasses of milk daily harmful during pregnancy  \" 0 \",    Support :  0.22606596942880128\n",
            "glasses of milk daily harmful during pregnancy  \" 1 \",  HIV/AIDS Awareness  \" 1 \",    Support :  0.11303298471440064\n",
            "HIV/AIDS Awareness  \" 1 \",  Belief: Men physically weak months after sterilization  \" 0 \",    Support :  0.1081255028157683\n",
            "HIV/AIDS Awareness  \" 1 \",  Belief: Men physically weak months after sterilization  \" 1 \",    Support :  0.15993563958165727\n",
            "Belief: 1st milk after birth good for baby  \" 1 \",  HIV/AIDS Awareness  \" 1 \",    Support :  0.299195494770716\n",
            "HIV/AIDS Awareness  \" 1 \",  Belief: Chulha smoke good for health  \" 2 \",    Support :  0.2834271922767498\n",
            "Belief: Child diarrhea more to drink  \" 2 \",  HIV/AIDS Awareness  \" 1 \",    Support :  0.1989541432019308\n",
            "Belief: Illness spread through impure water  \" 2 \",  HIV/AIDS Awareness  \" 1 \",    Support :  0.17876106194690267\n",
            "glasses of milk daily harmful during pregnancy  \" 0 \",  Belief: Men physically weak months after sterilization  \" 0 \",    Support :  0.18994368463395012\n",
            "Belief: Men physically weak months after sterilization  \" 1 \",  glasses of milk daily harmful during pregnancy  \" 0 \",    Support :  0.3591311343523733\n",
            "Belief: 1st milk after birth good for baby  \" 1 \",  glasses of milk daily harmful during pregnancy  \" 0 \",    Support :  0.5415124698310539\n",
            "Belief: 1st milk after birth good for baby  \" 2 \",  glasses of milk daily harmful during pregnancy  \" 0 \",    Support :  0.13177795655671762\n",
            "Belief: Chulha smoke good for health  \" 2 \",  glasses of milk daily harmful during pregnancy  \" 0 \",    Support :  0.59798873692679\n",
            "Belief: Child diarrhea more to drink  \" 1 \",  glasses of milk daily harmful during pregnancy  \" 0 \",    Support :  0.12928399034593724\n",
            "Belief: Child diarrhea more to drink  \" 2 \",  glasses of milk daily harmful during pregnancy  \" 0 \",    Support :  0.39662107803700725\n",
            "Belief: Child diarrhea more to drink  \" 3 \",  glasses of milk daily harmful during pregnancy  \" 0 \",    Support :  0.12268704746580852\n",
            "glasses of milk daily harmful during pregnancy  \" 0 \",  Belief: Illness spread through impure water  \" 1 \",    Support :  0.10120675784392598\n",
            "Belief: Illness spread through impure water  \" 2 \",  glasses of milk daily harmful during pregnancy  \" 0 \",    Support :  0.24545454545454545\n",
            "Belief: Illness spread through impure water  \" 4 \",  glasses of milk daily harmful during pregnancy  \" 0 \",    Support :  0.26194690265486725\n",
            "glasses of milk daily harmful during pregnancy  \" 1 \",  Belief: Men physically weak months after sterilization  \" 1 \",    Support :  0.12131938857602574\n",
            "Belief: 1st milk after birth good for baby  \" 1 \",  glasses of milk daily harmful during pregnancy  \" 1 \",    Support :  0.18841512469831054\n",
            "glasses of milk daily harmful during pregnancy  \" 1 \",  Belief: Chulha smoke good for health  \" 2 \",    Support :  0.1994368463395012\n",
            "glasses of milk daily harmful during pregnancy  \" 1 \",  Belief: Child diarrhea more to drink  \" 2 \",    Support :  0.11222847948511665\n",
            "Belief: Illness spread through impure water  \" 2 \",  glasses of milk daily harmful during pregnancy  \" 1 \",    Support :  0.10635559131134352\n",
            "Belief: 1st milk after birth good for baby  \" 1 \",  Belief: Men physically weak months after sterilization  \" 0 \",    Support :  0.2083668543845535\n",
            "Belief: Chulha smoke good for health  \" 2 \",  Belief: Men physically weak months after sterilization  \" 0 \",    Support :  0.2087691069991955\n",
            "Belief: Child diarrhea more to drink  \" 2 \",  Belief: Men physically weak months after sterilization  \" 0 \",    Support :  0.13218020917135961\n",
            "Belief: Illness spread through impure water  \" 2 \",  Belief: Men physically weak months after sterilization  \" 0 \",    Support :  0.1246983105390185\n",
            "Belief: 1st milk after birth good for baby  \" 1 \",  Belief: Men physically weak months after sterilization  \" 1 \",    Support :  0.37111826226870476\n",
            "Belief: 1st milk after birth good for baby  \" 2 \",  Belief: Men physically weak months after sterilization  \" 1 \",    Support :  0.10707964601769912\n",
            "Belief: Chulha smoke good for health  \" 2 \",  Belief: Men physically weak months after sterilization  \" 1 \",    Support :  0.4344328238133548\n",
            "Belief: Child diarrhea more to drink  \" 1 \",  Belief: Men physically weak months after sterilization  \" 1 \",    Support :  0.11021721641190668\n",
            "Belief: Child diarrhea more to drink  \" 2 \",  Belief: Men physically weak months after sterilization  \" 1 \",    Support :  0.2738535800482703\n",
            "Belief: Illness spread through impure water  \" 2 \",  Belief: Men physically weak months after sterilization  \" 1 \",    Support :  0.15374094931617055\n",
            "Belief: Men physically weak months after sterilization  \" 1 \",  Belief: Illness spread through impure water  \" 4 \",    Support :  0.20539018503620274\n",
            "Belief: 1st milk after birth good for baby  \" 1 \",  Belief: Chulha smoke good for health  \" 2 \",    Support :  0.6492357200321802\n",
            "Belief: 1st milk after birth good for baby  \" 1 \",  Belief: Child diarrhea more to drink  \" 1 \",    Support :  0.1576025744167337\n",
            "Belief: 1st milk after birth good for baby  \" 1 \",  Belief: Child diarrhea more to drink  \" 2 \",    Support :  0.42011263073209976\n",
            "Belief: 1st milk after birth good for baby  \" 1 \",  Belief: Child diarrhea more to drink  \" 3 \",    Support :  0.12791633145615447\n",
            "Belief: 1st milk after birth good for baby  \" 1 \",  Belief: Illness spread through impure water  \" 1 \",    Support :  0.11327433628318584\n",
            "Belief: Illness spread through impure water  \" 2 \",  Belief: 1st milk after birth good for baby  \" 1 \",    Support :  0.2985518905872888\n",
            "Belief: 1st milk after birth good for baby  \" 1 \",  Belief: Illness spread through impure water  \" 4 \",    Support :  0.2499597747385358\n",
            "Belief: Chulha smoke good for health  \" 2 \",  Belief: 1st milk after birth good for baby  \" 2 \",    Support :  0.1577634754625905\n",
            "Belief: Chulha smoke good for health  \" 2 \",  Belief: Child diarrhea more to drink  \" 1 \",    Support :  0.1830249396621078\n",
            "Belief: Child diarrhea more to drink  \" 2 \",  Belief: Chulha smoke good for health  \" 2 \",    Support :  0.45189058728881737\n",
            "Belief: Child diarrhea more to drink  \" 3 \",  Belief: Chulha smoke good for health  \" 2 \",    Support :  0.14102976669348352\n",
            "Belief: Chulha smoke good for health  \" 2 \",  Belief: Illness spread through impure water  \" 1 \",    Support :  0.1255028157683025\n",
            "Belief: Illness spread through impure water  \" 2 \",  Belief: Chulha smoke good for health  \" 2 \",    Support :  0.2991150442477876\n",
            "Belief: Chulha smoke good for health  \" 2 \",  Belief: Illness spread through impure water  \" 4 \",    Support :  0.29750603378921964\n",
            "Belief: Illness spread through impure water  \" 2 \",  Belief: Child diarrhea more to drink  \" 2 \",    Support :  0.2088495575221239\n",
            "Belief: Child diarrhea more to drink  \" 2 \",  Belief: Illness spread through impure water  \" 4 \",    Support :  0.1733708769106999\n",
            "HIV/AIDS Awareness  \" 0 \",  glasses of milk daily harmful during pregnancy  \" 0 \",  Belief: Men physically weak months after sterilization  \" 0 \",    Support :  0.11609010458567981\n",
            "HIV/AIDS Awareness  \" 0 \",  Belief: Men physically weak months after sterilization  \" 1 \",  glasses of milk daily harmful during pregnancy  \" 0 \",    Support :  0.2498793242156074\n",
            "HIV/AIDS Awareness  \" 0 \",  Belief: 1st milk after birth good for baby  \" 1 \",  glasses of milk daily harmful during pregnancy  \" 0 \",    Support :  0.3490748189863234\n",
            "HIV/AIDS Awareness  \" 0 \",  Belief: 1st milk after birth good for baby  \" 2 \",  glasses of milk daily harmful during pregnancy  \" 0 \",    Support :  0.10498793242156074\n",
            "HIV/AIDS Awareness  \" 0 \",  Belief: Chulha smoke good for health  \" 2 \",  glasses of milk daily harmful during pregnancy  \" 0 \",    Support :  0.4146419951729686\n",
            "HIV/AIDS Awareness  \" 0 \",  Belief: Child diarrhea more to drink  \" 2 \",  glasses of milk daily harmful during pregnancy  \" 0 \",    Support :  0.2523732904263878\n",
            "HIV/AIDS Awareness  \" 0 \",  Belief: Illness spread through impure water  \" 2 \",  glasses of milk daily harmful during pregnancy  \" 0 \",    Support :  0.13539823008849558\n",
            "HIV/AIDS Awareness  \" 0 \",  Belief: Illness spread through impure water  \" 4 \",  glasses of milk daily harmful during pregnancy  \" 0 \",    Support :  0.19790828640386163\n",
            "HIV/AIDS Awareness  \" 0 \",  glasses of milk daily harmful during pregnancy  \" 1 \",  Belief: Chulha smoke good for health  \" 2 \",    Support :  0.10450522928399035\n",
            "HIV/AIDS Awareness  \" 0 \",  Belief: 1st milk after birth good for baby  \" 1 \",  Belief: Men physically weak months after sterilization  \" 0 \",    Support :  0.11013676588897828\n",
            "HIV/AIDS Awareness  \" 0 \",  Belief: Chulha smoke good for health  \" 2 \",  Belief: Men physically weak months after sterilization  \" 0 \",    Support :  0.12204344328238134\n",
            "HIV/AIDS Awareness  \" 0 \",  Belief: 1st milk after birth good for baby  \" 1 \",  Belief: Men physically weak months after sterilization  \" 1 \",    Support :  0.23893805309734514\n",
            "HIV/AIDS Awareness  \" 0 \",  Belief: Chulha smoke good for health  \" 2 \",  Belief: Men physically weak months after sterilization  \" 1 \",    Support :  0.2994368463395012\n",
            "HIV/AIDS Awareness  \" 0 \",  Belief: Child diarrhea more to drink  \" 2 \",  Belief: Men physically weak months after sterilization  \" 1 \",    Support :  0.18012872083668544\n",
            "HIV/AIDS Awareness  \" 0 \",  Belief: Men physically weak months after sterilization  \" 1 \",  Belief: Illness spread through impure water  \" 4 \",    Support :  0.16065969428801288\n",
            "HIV/AIDS Awareness  \" 0 \",  Belief: 1st milk after birth good for baby  \" 1 \",  Belief: Chulha smoke good for health  \" 2 \",    Support :  0.3989541432019308\n",
            "HIV/AIDS Awareness  \" 0 \",  Belief: Child diarrhea more to drink  \" 2 \",  Belief: 1st milk after birth good for baby  \" 1 \",    Support :  0.2485116653258246\n",
            "HIV/AIDS Awareness  \" 0 \",  Belief: Illness spread through impure water  \" 2 \",  Belief: 1st milk after birth good for baby  \" 1 \",    Support :  0.1407884151246983\n",
            "HIV/AIDS Awareness  \" 0 \",  Belief: 1st milk after birth good for baby  \" 1 \",  Belief: Illness spread through impure water  \" 4 \",    Support :  0.18149637972646823\n",
            "HIV/AIDS Awareness  \" 0 \",  Belief: Chulha smoke good for health  \" 2 \",  Belief: 1st milk after birth good for baby  \" 2 \",    Support :  0.12912308930008046\n",
            "HIV/AIDS Awareness  \" 0 \",  Belief: Chulha smoke good for health  \" 2 \",  Belief: Child diarrhea more to drink  \" 1 \",    Support :  0.1160096540627514\n",
            "HIV/AIDS Awareness  \" 0 \",  Belief: Child diarrhea more to drink  \" 2 \",  Belief: Chulha smoke good for health  \" 2 \",    Support :  0.28793242156074017\n",
            "HIV/AIDS Awareness  \" 0 \",  Belief: Child diarrhea more to drink  \" 3 \",  Belief: Chulha smoke good for health  \" 2 \",    Support :  0.10209171359613838\n",
            "HIV/AIDS Awareness  \" 0 \",  Belief: Illness spread through impure water  \" 2 \",  Belief: Chulha smoke good for health  \" 2 \",    Support :  0.14915526950925181\n",
            "HIV/AIDS Awareness  \" 0 \",  Belief: Chulha smoke good for health  \" 2 \",  Belief: Illness spread through impure water  \" 4 \",    Support :  0.23177795655671762\n",
            "HIV/AIDS Awareness  \" 0 \",  Belief: Child diarrhea more to drink  \" 2 \",  Belief: Illness spread through impure water  \" 2 \",    Support :  0.10595333869670152\n",
            "HIV/AIDS Awareness  \" 0 \",  Belief: Child diarrhea more to drink  \" 2 \",  Belief: Illness spread through impure water  \" 4 \",    Support :  0.1263073209975865\n",
            "Belief: Men physically weak months after sterilization  \" 1 \",  HIV/AIDS Awareness  \" 1 \",  glasses of milk daily harmful during pregnancy  \" 0 \",    Support :  0.10917135961383749\n",
            "Belief: 1st milk after birth good for baby  \" 1 \",  HIV/AIDS Awareness  \" 1 \",  glasses of milk daily harmful during pregnancy  \" 0 \",    Support :  0.1923572003218021\n",
            "Belief: Chulha smoke good for health  \" 2 \",  HIV/AIDS Awareness  \" 1 \",  glasses of milk daily harmful during pregnancy  \" 0 \",    Support :  0.1831858407079646\n",
            "Belief: Child diarrhea more to drink  \" 2 \",  HIV/AIDS Awareness  \" 1 \",  glasses of milk daily harmful during pregnancy  \" 0 \",    Support :  0.14416733708769108\n",
            "Belief: Illness spread through impure water  \" 2 \",  HIV/AIDS Awareness  \" 1 \",  glasses of milk daily harmful during pregnancy  \" 0 \",    Support :  0.11005631536604987\n",
            "Belief: 1st milk after birth good for baby  \" 1 \",  glasses of milk daily harmful during pregnancy  \" 1 \",  HIV/AIDS Awareness  \" 1 \",    Support :  0.10120675784392598\n",
            "Belief: 1st milk after birth good for baby  \" 1 \",  HIV/AIDS Awareness  \" 1 \",  Belief: Men physically weak months after sterilization  \" 1 \",    Support :  0.13218020917135961\n",
            "Belief: Men physically weak months after sterilization  \" 1 \",  HIV/AIDS Awareness  \" 1 \",  Belief: Chulha smoke good for health  \" 2 \",    Support :  0.13491552695092518\n",
            "Belief: 1st milk after birth good for baby  \" 1 \",  HIV/AIDS Awareness  \" 1 \",  Belief: Chulha smoke good for health  \" 2 \",    Support :  0.2501206757843926\n",
            "Belief: 1st milk after birth good for baby  \" 1 \",  Belief: Child diarrhea more to drink  \" 2 \",  HIV/AIDS Awareness  \" 1 \",    Support :  0.17152051488334674\n",
            "Belief: 1st milk after birth good for baby  \" 1 \",  Belief: Illness spread through impure water  \" 2 \",  HIV/AIDS Awareness  \" 1 \",    Support :  0.1576830249396621\n",
            "Belief: Child diarrhea more to drink  \" 2 \",  HIV/AIDS Awareness  \" 1 \",  Belief: Chulha smoke good for health  \" 2 \",    Support :  0.16387771520514882\n",
            "Belief: Illness spread through impure water  \" 2 \",  HIV/AIDS Awareness  \" 1 \",  Belief: Chulha smoke good for health  \" 2 \",    Support :  0.1498793242156074\n",
            "Belief: Illness spread through impure water  \" 2 \",  Belief: Child diarrhea more to drink  \" 2 \",  HIV/AIDS Awareness  \" 1 \",    Support :  0.10289621882542237\n",
            "Belief: 1st milk after birth good for baby  \" 1 \",  glasses of milk daily harmful during pregnancy  \" 0 \",  Belief: Men physically weak months after sterilization  \" 0 \",    Support :  0.15534995977473853\n",
            "Belief: Chulha smoke good for health  \" 2 \",  glasses of milk daily harmful during pregnancy  \" 0 \",  Belief: Men physically weak months after sterilization  \" 0 \",    Support :  0.15494770716009654\n",
            "Belief: Child diarrhea more to drink  \" 2 \",  glasses of milk daily harmful during pregnancy  \" 0 \",  Belief: Men physically weak months after sterilization  \" 0 \",    Support :  0.10571198712791634\n",
            "Belief: Men physically weak months after sterilization  \" 1 \",  Belief: 1st milk after birth good for baby  \" 1 \",  glasses of milk daily harmful during pregnancy  \" 0 \",    Support :  0.27079646017699116\n",
            "Belief: Men physically weak months after sterilization  \" 1 \",  Belief: Chulha smoke good for health  \" 2 \",  glasses of milk daily harmful during pregnancy  \" 0 \",    Support :  0.3193081255028158\n",
            "Belief: Men physically weak months after sterilization  \" 1 \",  Belief: Child diarrhea more to drink  \" 2 \",  glasses of milk daily harmful during pregnancy  \" 0 \",    Support :  0.2082864038616251\n",
            "Belief: Illness spread through impure water  \" 2 \",  Belief: Men physically weak months after sterilization  \" 1 \",  glasses of milk daily harmful during pregnancy  \" 0 \",    Support :  0.1084473049074819\n",
            "Belief: Men physically weak months after sterilization  \" 1 \",  Belief: Illness spread through impure water  \" 4 \",  glasses of milk daily harmful during pregnancy  \" 0 \",    Support :  0.16106194690265488\n",
            "Belief: 1st milk after birth good for baby  \" 1 \",  Belief: Chulha smoke good for health  \" 2 \",  glasses of milk daily harmful during pregnancy  \" 0 \",    Support :  0.46991150442477875\n",
            "Belief: 1st milk after birth good for baby  \" 1 \",  Belief: Child diarrhea more to drink  \" 2 \",  glasses of milk daily harmful during pregnancy  \" 0 \",    Support :  0.32003218020917135\n",
            "Belief: Illness spread through impure water  \" 2 \",  Belief: 1st milk after birth good for baby  \" 1 \",  glasses of milk daily harmful during pregnancy  \" 0 \",    Support :  0.20498793242156074\n",
            "Belief: 1st milk after birth good for baby  \" 1 \",  Belief: Illness spread through impure water  \" 4 \",  glasses of milk daily harmful during pregnancy  \" 0 \",    Support :  0.19654062751407883\n",
            "Belief: Chulha smoke good for health  \" 2 \",  Belief: 1st milk after birth good for baby  \" 2 \",  glasses of milk daily harmful during pregnancy  \" 0 \",    Support :  0.11182622687047465\n",
            "Belief: Child diarrhea more to drink  \" 1 \",  Belief: Chulha smoke good for health  \" 2 \",  glasses of milk daily harmful during pregnancy  \" 0 \",    Support :  0.10804505229283991\n",
            "Belief: Child diarrhea more to drink  \" 2 \",  Belief: Chulha smoke good for health  \" 2 \",  glasses of milk daily harmful during pregnancy  \" 0 \",    Support :  0.3441673370876911\n",
            "Belief: Child diarrhea more to drink  \" 3 \",  Belief: Chulha smoke good for health  \" 2 \",  glasses of milk daily harmful during pregnancy  \" 0 \",    Support :  0.10547063555913114\n",
            "Belief: Illness spread through impure water  \" 2 \",  Belief: Chulha smoke good for health  \" 2 \",  glasses of milk daily harmful during pregnancy  \" 0 \",    Support :  0.20530973451327433\n",
            "glasses of milk daily harmful during pregnancy  \" 0 \",  Belief: Chulha smoke good for health  \" 2 \",  Belief: Illness spread through impure water  \" 4 \",    Support :  0.23016894609814964\n",
            "Belief: Illness spread through impure water  \" 2 \",  Belief: Child diarrhea more to drink  \" 2 \",  glasses of milk daily harmful during pregnancy  \" 0 \",    Support :  0.1584875301689461\n",
            "Belief: Illness spread through impure water  \" 4 \",  Belief: Child diarrhea more to drink  \" 2 \",  glasses of milk daily harmful during pregnancy  \" 0 \",    Support :  0.133467417538214\n",
            "glasses of milk daily harmful during pregnancy  \" 1 \",  Belief: Chulha smoke good for health  \" 2 \",  Belief: Men physically weak months after sterilization  \" 1 \",    Support :  0.10160901045856797\n",
            "Belief: 1st milk after birth good for baby  \" 1 \",  glasses of milk daily harmful during pregnancy  \" 1 \",  Belief: Chulha smoke good for health  \" 2 \",    Support :  0.15792437650844732\n",
            "Belief: 1st milk after birth good for baby  \" 1 \",  Belief: Chulha smoke good for health  \" 2 \",  Belief: Men physically weak months after sterilization  \" 0 \",    Support :  0.17320997586484313\n",
            "Belief: 1st milk after birth good for baby  \" 1 \",  Belief: Child diarrhea more to drink  \" 2 \",  Belief: Men physically weak months after sterilization  \" 0 \",    Support :  0.11053901850362027\n",
            "Belief: Illness spread through impure water  \" 2 \",  Belief: 1st milk after birth good for baby  \" 1 \",  Belief: Men physically weak months after sterilization  \" 0 \",    Support :  0.10949316170555108\n",
            "Belief: Child diarrhea more to drink  \" 2 \",  Belief: Chulha smoke good for health  \" 2 \",  Belief: Men physically weak months after sterilization  \" 0 \",    Support :  0.10997586484312148\n",
            "Belief: Illness spread through impure water  \" 2 \",  Belief: Chulha smoke good for health  \" 2 \",  Belief: Men physically weak months after sterilization  \" 0 \",    Support :  0.10442477876106195\n",
            "Belief: 1st milk after birth good for baby  \" 1 \",  Belief: Chulha smoke good for health  \" 2 \",  Belief: Men physically weak months after sterilization  \" 1 \",    Support :  0.33129525341914723\n",
            "Belief: 1st milk after birth good for baby  \" 1 \",  Belief: Child diarrhea more to drink  \" 2 \",  Belief: Men physically weak months after sterilization  \" 1 \",    Support :  0.2146419951729686\n",
            "Belief: Illness spread through impure water  \" 2 \",  Belief: 1st milk after birth good for baby  \" 1 \",  Belief: Men physically weak months after sterilization  \" 1 \",    Support :  0.12260659694288013\n",
            "Belief: Men physically weak months after sterilization  \" 1 \",  Belief: 1st milk after birth good for baby  \" 1 \",  Belief: Illness spread through impure water  \" 4 \",    Support :  0.14730490748189864\n",
            "Belief: Child diarrhea more to drink  \" 2 \",  Belief: Chulha smoke good for health  \" 2 \",  Belief: Men physically weak months after sterilization  \" 1 \",    Support :  0.2403057119871279\n",
            "Belief: Illness spread through impure water  \" 2 \",  Belief: Chulha smoke good for health  \" 2 \",  Belief: Men physically weak months after sterilization  \" 1 \",    Support :  0.13177795655671762\n",
            "Belief: Men physically weak months after sterilization  \" 1 \",  Belief: Chulha smoke good for health  \" 2 \",  Belief: Illness spread through impure water  \" 4 \",    Support :  0.18479485116653258\n",
            "Belief: Men physically weak months after sterilization  \" 1 \",  Belief: Child diarrhea more to drink  \" 2 \",  Belief: Illness spread through impure water  \" 4 \",    Support :  0.10933226065969429\n",
            "Belief: 1st milk after birth good for baby  \" 1 \",  Belief: Chulha smoke good for health  \" 2 \",  Belief: Child diarrhea more to drink  \" 1 \",    Support :  0.13113435237329044\n",
            "Belief: 1st milk after birth good for baby  \" 1 \",  Belief: Child diarrhea more to drink  \" 2 \",  Belief: Chulha smoke good for health  \" 2 \",    Support :  0.36862429605792435\n",
            "Belief: 1st milk after birth good for baby  \" 1 \",  Belief: Child diarrhea more to drink  \" 3 \",  Belief: Chulha smoke good for health  \" 2 \",    Support :  0.11134352373290426\n",
            "Belief: Illness spread through impure water  \" 2 \",  Belief: 1st milk after birth good for baby  \" 1 \",  Belief: Chulha smoke good for health  \" 2 \",    Support :  0.2582461786001609\n",
            "Belief: 1st milk after birth good for baby  \" 1 \",  Belief: Chulha smoke good for health  \" 2 \",  Belief: Illness spread through impure water  \" 4 \",    Support :  0.21536604987932423\n",
            "Belief: Illness spread through impure water  \" 2 \",  Belief: Child diarrhea more to drink  \" 2 \",  Belief: 1st milk after birth good for baby  \" 1 \",    Support :  0.1751407884151247\n",
            "Belief: 1st milk after birth good for baby  \" 1 \",  Belief: Child diarrhea more to drink  \" 2 \",  Belief: Illness spread through impure water  \" 4 \",    Support :  0.133869670152856\n",
            "Belief: Illness spread through impure water  \" 2 \",  Belief: Child diarrhea more to drink  \" 2 \",  Belief: Chulha smoke good for health  \" 2 \",    Support :  0.1760257441673371\n",
            "Belief: Child diarrhea more to drink  \" 2 \",  Belief: Chulha smoke good for health  \" 2 \",  Belief: Illness spread through impure water  \" 4 \",    Support :  0.15422365245374095\n",
            "HIV/AIDS Awareness  \" 0 \",  Belief: 1st milk after birth good for baby  \" 1 \",  Belief: Men physically weak months after sterilization  \" 1 \",  glasses of milk daily harmful during pregnancy  \" 0 \",    Support :  0.181657280772325\n",
            "HIV/AIDS Awareness  \" 0 \",  Belief: Chulha smoke good for health  \" 2 \",  Belief: Men physically weak months after sterilization  \" 1 \",  glasses of milk daily harmful during pregnancy  \" 0 \",    Support :  0.2259050683829445\n",
            "HIV/AIDS Awareness  \" 0 \",  Belief: Child diarrhea more to drink  \" 2 \",  Belief: Men physically weak months after sterilization  \" 1 \",  glasses of milk daily harmful during pregnancy  \" 0 \",    Support :  0.13781174577634756\n",
            "HIV/AIDS Awareness  \" 0 \",  Belief: Illness spread through impure water  \" 4 \",  Belief: Men physically weak months after sterilization  \" 1 \",  glasses of milk daily harmful during pregnancy  \" 0 \",    Support :  0.12365245374094931\n",
            "HIV/AIDS Awareness  \" 0 \",  Belief: 1st milk after birth good for baby  \" 1 \",  Belief: Chulha smoke good for health  \" 2 \",  glasses of milk daily harmful during pregnancy  \" 0 \",    Support :  0.3108608205953339\n",
            "HIV/AIDS Awareness  \" 0 \",  Belief: Child diarrhea more to drink  \" 2 \",  Belief: 1st milk after birth good for baby  \" 1 \",  glasses of milk daily harmful during pregnancy  \" 0 \",    Support :  0.19573612228479484\n",
            "Belief: 1st milk after birth good for baby  \" 1 \",  HIV/AIDS Awareness  \" 0 \",  Belief: Illness spread through impure water  \" 2 \",  glasses of milk daily harmful during pregnancy  \" 0 \",    Support :  0.11005631536604987\n",
            "HIV/AIDS Awareness  \" 0 \",  Belief: Illness spread through impure water  \" 4 \",  Belief: 1st milk after birth good for baby  \" 1 \",  glasses of milk daily harmful during pregnancy  \" 0 \",    Support :  0.1411906677393403\n",
            "HIV/AIDS Awareness  \" 0 \",  Belief: Child diarrhea more to drink  \" 2 \",  Belief: Chulha smoke good for health  \" 2 \",  glasses of milk daily harmful during pregnancy  \" 0 \",    Support :  0.2248592115848753\n",
            "HIV/AIDS Awareness  \" 0 \",  Belief: Illness spread through impure water  \" 2 \",  Belief: Chulha smoke good for health  \" 2 \",  glasses of milk daily harmful during pregnancy  \" 0 \",    Support :  0.11536604987932421\n",
            "HIV/AIDS Awareness  \" 0 \",  glasses of milk daily harmful during pregnancy  \" 0 \",  Belief: Chulha smoke good for health  \" 2 \",  Belief: Illness spread through impure water  \" 4 \",    Support :  0.17658889782783588\n",
            "HIV/AIDS Awareness  \" 0 \",  Belief: 1st milk after birth good for baby  \" 1 \",  Belief: Chulha smoke good for health  \" 2 \",  Belief: Men physically weak months after sterilization  \" 1 \",    Support :  0.21697506033789218\n",
            "HIV/AIDS Awareness  \" 0 \",  Belief: Child diarrhea more to drink  \" 2 \",  Belief: 1st milk after birth good for baby  \" 1 \",  Belief: Men physically weak months after sterilization  \" 1 \",    Support :  0.13612228479485117\n",
            "HIV/AIDS Awareness  \" 0 \",  Belief: 1st milk after birth good for baby  \" 1 \",  Belief: Men physically weak months after sterilization  \" 1 \",  Belief: Illness spread through impure water  \" 4 \",    Support :  0.11045856798069187\n",
            "HIV/AIDS Awareness  \" 0 \",  Belief: Child diarrhea more to drink  \" 2 \",  Belief: Chulha smoke good for health  \" 2 \",  Belief: Men physically weak months after sterilization  \" 1 \",    Support :  0.16226870474658087\n",
            "HIV/AIDS Awareness  \" 0 \",  Belief: Chulha smoke good for health  \" 2 \",  Belief: Men physically weak months after sterilization  \" 1 \",  Belief: Illness spread through impure water  \" 4 \",    Support :  0.14585679806918744\n",
            "HIV/AIDS Awareness  \" 0 \",  Belief: Child diarrhea more to drink  \" 2 \",  Belief: 1st milk after birth good for baby  \" 1 \",  Belief: Chulha smoke good for health  \" 2 \",    Support :  0.22292839903459372\n",
            "HIV/AIDS Awareness  \" 0 \",  Belief: Illness spread through impure water  \" 2 \",  Belief: Chulha smoke good for health  \" 2 \",  Belief: 1st milk after birth good for baby  \" 1 \",    Support :  0.12148028962188254\n",
            "HIV/AIDS Awareness  \" 0 \",  Belief: 1st milk after birth good for baby  \" 1 \",  Belief: Chulha smoke good for health  \" 2 \",  Belief: Illness spread through impure water  \" 4 \",    Support :  0.1598551890587289\n",
            "HIV/AIDS Awareness  \" 0 \",  Belief: Child diarrhea more to drink  \" 2 \",  Belief: Chulha smoke good for health  \" 2 \",  Belief: Illness spread through impure water  \" 4 \",    Support :  0.11351568785197104\n",
            "Belief: Chulha smoke good for health  \" 2 \",  Belief: 1st milk after birth good for baby  \" 1 \",  HIV/AIDS Awareness  \" 1 \",  glasses of milk daily harmful during pregnancy  \" 0 \",    Support :  0.1589702333065165\n",
            "Belief: 1st milk after birth good for baby  \" 1 \",  Belief: Child diarrhea more to drink  \" 2 \",  HIV/AIDS Awareness  \" 1 \",  glasses of milk daily harmful during pregnancy  \" 0 \",    Support :  0.1242156074014481\n",
            "Belief: Chulha smoke good for health  \" 2 \",  Belief: Child diarrhea more to drink  \" 2 \",  HIV/AIDS Awareness  \" 1 \",  glasses of milk daily harmful during pregnancy  \" 0 \",    Support :  0.11922767497988737\n",
            "Belief: Men physically weak months after sterilization  \" 1 \",  Belief: 1st milk after birth good for baby  \" 1 \",  HIV/AIDS Awareness  \" 1 \",  Belief: Chulha smoke good for health  \" 2 \",    Support :  0.11432019308125503\n",
            "Belief: 1st milk after birth good for baby  \" 1 \",  Belief: Child diarrhea more to drink  \" 2 \",  HIV/AIDS Awareness  \" 1 \",  Belief: Chulha smoke good for health  \" 2 \",    Support :  0.14561544650040226\n",
            "Belief: 1st milk after birth good for baby  \" 1 \",  Belief: Illness spread through impure water  \" 2 \",  HIV/AIDS Awareness  \" 1 \",  Belief: Chulha smoke good for health  \" 2 \",    Support :  0.13668543845534997\n",
            "Belief: 1st milk after birth good for baby  \" 1 \",  Belief: Chulha smoke good for health  \" 2 \",  glasses of milk daily harmful during pregnancy  \" 0 \",  Belief: Men physically weak months after sterilization  \" 0 \",    Support :  0.12831858407079647\n",
            "Belief: Men physically weak months after sterilization  \" 1 \",  Belief: 1st milk after birth good for baby  \" 1 \",  Belief: Chulha smoke good for health  \" 2 \",  glasses of milk daily harmful during pregnancy  \" 0 \",    Support :  0.24601769911504426\n",
            "Belief: Men physically weak months after sterilization  \" 1 \",  Belief: Child diarrhea more to drink  \" 2 \",  Belief: 1st milk after birth good for baby  \" 1 \",  glasses of milk daily harmful during pregnancy  \" 0 \",    Support :  0.1662912308930008\n",
            "Belief: Men physically weak months after sterilization  \" 1 \",  Belief: Illness spread through impure water  \" 4 \",  Belief: 1st milk after birth good for baby  \" 1 \",  glasses of milk daily harmful during pregnancy  \" 0 \",    Support :  0.11866452131938858\n",
            "Belief: Men physically weak months after sterilization  \" 1 \",  Belief: Child diarrhea more to drink  \" 2 \",  Belief: Chulha smoke good for health  \" 2 \",  glasses of milk daily harmful during pregnancy  \" 0 \",    Support :  0.18495575221238938\n",
            "glasses of milk daily harmful during pregnancy  \" 0 \",  Belief: Chulha smoke good for health  \" 2 \",  Belief: Men physically weak months after sterilization  \" 1 \",  Belief: Illness spread through impure water  \" 4 \",    Support :  0.14690265486725665\n",
            "Belief: 1st milk after birth good for baby  \" 1 \",  Belief: Child diarrhea more to drink  \" 2 \",  Belief: Chulha smoke good for health  \" 2 \",  glasses of milk daily harmful during pregnancy  \" 0 \",    Support :  0.2851971037811746\n",
            "Belief: Illness spread through impure water  \" 2 \",  Belief: 1st milk after birth good for baby  \" 1 \",  Belief: Chulha smoke good for health  \" 2 \",  glasses of milk daily harmful during pregnancy  \" 0 \",    Support :  0.17747385358004827\n",
            "glasses of milk daily harmful during pregnancy  \" 0 \",  Belief: 1st milk after birth good for baby  \" 1 \",  Belief: Chulha smoke good for health  \" 2 \",  Belief: Illness spread through impure water  \" 4 \",    Support :  0.17280772325020113\n",
            "Belief: Illness spread through impure water  \" 2 \",  Belief: Child diarrhea more to drink  \" 2 \",  Belief: 1st milk after birth good for baby  \" 1 \",  glasses of milk daily harmful during pregnancy  \" 0 \",    Support :  0.1345937248592116\n",
            "Belief: 1st milk after birth good for baby  \" 1 \",  Belief: Illness spread through impure water  \" 4 \",  Belief: Child diarrhea more to drink  \" 2 \",  glasses of milk daily harmful during pregnancy  \" 0 \",    Support :  0.10587288817377313\n",
            "Belief: Illness spread through impure water  \" 2 \",  Belief: Child diarrhea more to drink  \" 2 \",  Belief: Chulha smoke good for health  \" 2 \",  glasses of milk daily harmful during pregnancy  \" 0 \",    Support :  0.13443282381335478\n",
            "glasses of milk daily harmful during pregnancy  \" 0 \",  Belief: Child diarrhea more to drink  \" 2 \",  Belief: Chulha smoke good for health  \" 2 \",  Belief: Illness spread through impure water  \" 4 \",    Support :  0.12091713596138375\n",
            "Belief: 1st milk after birth good for baby  \" 1 \",  Belief: Child diarrhea more to drink  \" 2 \",  Belief: Chulha smoke good for health  \" 2 \",  Belief: Men physically weak months after sterilization  \" 1 \",    Support :  0.19300080450522927\n",
            "Belief: Illness spread through impure water  \" 2 \",  Belief: 1st milk after birth good for baby  \" 1 \",  Belief: Chulha smoke good for health  \" 2 \",  Belief: Men physically weak months after sterilization  \" 1 \",    Support :  0.1092518101367659\n",
            "Belief: Men physically weak months after sterilization  \" 1 \",  Belief: 1st milk after birth good for baby  \" 1 \",  Belief: Chulha smoke good for health  \" 2 \",  Belief: Illness spread through impure water  \" 4 \",    Support :  0.1332260659694288\n",
            "Belief: Illness spread through impure water  \" 2 \",  Belief: Child diarrhea more to drink  \" 2 \",  Belief: 1st milk after birth good for baby  \" 1 \",  Belief: Chulha smoke good for health  \" 2 \",    Support :  0.15494770716009654\n",
            "Belief: 1st milk after birth good for baby  \" 1 \",  Belief: Child diarrhea more to drink  \" 2 \",  Belief: Chulha smoke good for health  \" 2 \",  Belief: Illness spread through impure water  \" 4 \",    Support :  0.11922767497988737\n",
            "glasses of milk daily harmful during pregnancy  \" 0 \",  HIV/AIDS Awareness  \" 0 \",  Belief: 1st milk after birth good for baby  \" 1 \",  Belief: Chulha smoke good for health  \" 2 \",  Belief: Men physically weak months after sterilization  \" 1 \",    Support :  0.167739340305712\n",
            "Belief: Child diarrhea more to drink  \" 2 \",  glasses of milk daily harmful during pregnancy  \" 0 \",  HIV/AIDS Awareness  \" 0 \",  Belief: 1st milk after birth good for baby  \" 1 \",  Belief: Men physically weak months after sterilization  \" 1 \",    Support :  0.10716009654062751\n",
            "Belief: Child diarrhea more to drink  \" 2 \",  glasses of milk daily harmful during pregnancy  \" 0 \",  HIV/AIDS Awareness  \" 0 \",  Belief: Chulha smoke good for health  \" 2 \",  Belief: Men physically weak months after sterilization  \" 1 \",    Support :  0.12534191472244569\n",
            "glasses of milk daily harmful during pregnancy  \" 0 \",  HIV/AIDS Awareness  \" 0 \",  Belief: Men physically weak months after sterilization  \" 1 \",  Belief: Chulha smoke good for health  \" 2 \",  Belief: Illness spread through impure water  \" 4 \",    Support :  0.11375703942075624\n",
            "Belief: Child diarrhea more to drink  \" 2 \",  glasses of milk daily harmful during pregnancy  \" 0 \",  HIV/AIDS Awareness  \" 0 \",  Belief: 1st milk after birth good for baby  \" 1 \",  Belief: Chulha smoke good for health  \" 2 \",    Support :  0.17924376508447304\n",
            "glasses of milk daily harmful during pregnancy  \" 0 \",  HIV/AIDS Awareness  \" 0 \",  Belief: 1st milk after birth good for baby  \" 1 \",  Belief: Chulha smoke good for health  \" 2 \",  Belief: Illness spread through impure water  \" 4 \",    Support :  0.12670957361222848\n",
            "Belief: Child diarrhea more to drink  \" 2 \",  HIV/AIDS Awareness  \" 0 \",  Belief: 1st milk after birth good for baby  \" 1 \",  Belief: Chulha smoke good for health  \" 2 \",  Belief: Men physically weak months after sterilization  \" 1 \",    Support :  0.1254223652453741\n",
            "HIV/AIDS Awareness  \" 0 \",  Belief: Men physically weak months after sterilization  \" 1 \",  Belief: 1st milk after birth good for baby  \" 1 \",  Belief: Chulha smoke good for health  \" 2 \",  Belief: Illness spread through impure water  \" 4 \",    Support :  0.10128720836685438\n",
            "Belief: Child diarrhea more to drink  \" 2 \",  HIV/AIDS Awareness  \" 1 \",  glasses of milk daily harmful during pregnancy  \" 0 \",  Belief: 1st milk after birth good for baby  \" 1 \",  Belief: Chulha smoke good for health  \" 2 \",    Support :  0.10587288817377313\n",
            "Belief: Child diarrhea more to drink  \" 2 \",  glasses of milk daily harmful during pregnancy  \" 0 \",  Belief: 1st milk after birth good for baby  \" 1 \",  Belief: Chulha smoke good for health  \" 2 \",  Belief: Men physically weak months after sterilization  \" 1 \",    Support :  0.15140788415124698\n",
            "Belief: Illness spread through impure water  \" 4 \",  glasses of milk daily harmful during pregnancy  \" 0 \",  Belief: 1st milk after birth good for baby  \" 1 \",  Belief: Chulha smoke good for health  \" 2 \",  Belief: Men physically weak months after sterilization  \" 1 \",    Support :  0.1087691069991955\n",
            "Belief: Child diarrhea more to drink  \" 2 \",  glasses of milk daily harmful during pregnancy  \" 0 \",  Belief: Illness spread through impure water  \" 2 \",  Belief: 1st milk after birth good for baby  \" 1 \",  Belief: Chulha smoke good for health  \" 2 \",    Support :  0.11987127916331457\n"
          ],
          "name": "stdout"
        }
      ]
    },
    {
      "cell_type": "code",
      "metadata": {
        "colab_type": "code",
        "id": "A1KPZwquu0NM",
        "colab": {}
      },
      "source": [
        ""
      ],
      "execution_count": 0,
      "outputs": []
    },
    {
      "cell_type": "code",
      "metadata": {
        "colab_type": "code",
        "id": "v0j4AhGxu0NO",
        "colab": {}
      },
      "source": [
        ""
      ],
      "execution_count": 0,
      "outputs": []
    },
    {
      "cell_type": "code",
      "metadata": {
        "colab_type": "code",
        "id": "c5PNdqTpu0NP",
        "colab": {}
      },
      "source": [
        ""
      ],
      "execution_count": 0,
      "outputs": []
    },
    {
      "cell_type": "code",
      "metadata": {
        "colab_type": "code",
        "id": "gdlS4YONtCOe",
        "colab": {}
      },
      "source": [
        ""
      ],
      "execution_count": 0,
      "outputs": []
    },
    {
      "cell_type": "markdown",
      "metadata": {
        "colab_type": "text",
        "id": "39tyUqA1xopR"
      },
      "source": [
        "# FP2A  ==>  Currently use contraceptives\n",
        "# GR18A  ==>  Are you a member of a: Mahila Mandal\n",
        "# GR18B  ==>  Are you a member of a: Self-help group"
      ]
    },
    {
      "cell_type": "markdown",
      "metadata": {
        "colab_type": "text",
        "id": "p2n63BIyxopo"
      },
      "source": [
        "## **Father, Mother, Daughter Educated**"
      ]
    },
    {
      "cell_type": "code",
      "metadata": {
        "colab_type": "code",
        "outputId": "963055a1-c21e-4a70-bbce-d6ab6cd46380",
        "id": "qtgG-DF0xopq",
        "colab": {
          "base_uri": "https://localhost:8080/",
          "height": 34
        }
      },
      "source": [
        "format_df = format_data(df)\n",
        "format_df.head()\n",
        "format_df = format_df[format_df.EW8 != 0]\n",
        "format_df = format_df[format_df.EW15A != 0]\n",
        "format_df = format_df[format_df.EW15B != 0]\n",
        "format_df.shape"
      ],
      "execution_count": 0,
      "outputs": [
        {
          "output_type": "execute_result",
          "data": {
            "text/plain": [
              "(8056, 350)"
            ]
          },
          "metadata": {
            "tags": []
          },
          "execution_count": 155
        }
      ]
    },
    {
      "cell_type": "code",
      "metadata": {
        "colab_type": "code",
        "outputId": "6dbceb65-1760-4e76-cf5b-603cfebd8755",
        "id": "i6a3n9Iwxopu",
        "colab": {
          "base_uri": "https://localhost:8080/",
          "height": 255
        }
      },
      "source": [
        "filter = [\n",
        "'FP2A',\n",
        "'GR18A',\n",
        "'GR18B'\n",
        "]\n",
        "\n",
        "lookup = get_lookup()\n",
        "\n",
        "print_items(filter, lookup)\n",
        "\n",
        "filtered_df = filter_dataframe(format_df, filter)\n",
        "filtered_df.head()"
      ],
      "execution_count": 0,
      "outputs": [
        {
          "output_type": "stream",
          "text": [
            "FP2A  ==>  Currently use contraceptives\n",
            "GR18A  ==>  Are you a member of a: Mahila Mandal\n",
            "GR18B  ==>  Are you a member of a: Self-help group\n"
          ],
          "name": "stdout"
        },
        {
          "output_type": "execute_result",
          "data": {
            "text/html": [
              "<div>\n",
              "<style scoped>\n",
              "    .dataframe tbody tr th:only-of-type {\n",
              "        vertical-align: middle;\n",
              "    }\n",
              "\n",
              "    .dataframe tbody tr th {\n",
              "        vertical-align: top;\n",
              "    }\n",
              "\n",
              "    .dataframe thead th {\n",
              "        text-align: right;\n",
              "    }\n",
              "</style>\n",
              "<table border=\"1\" class=\"dataframe\">\n",
              "  <thead>\n",
              "    <tr style=\"text-align: right;\">\n",
              "      <th></th>\n",
              "      <th>FP2A</th>\n",
              "      <th>GR18A</th>\n",
              "      <th>GR18B</th>\n",
              "    </tr>\n",
              "  </thead>\n",
              "  <tbody>\n",
              "    <tr>\n",
              "      <th>29</th>\n",
              "      <td>1</td>\n",
              "      <td>0</td>\n",
              "      <td>0</td>\n",
              "    </tr>\n",
              "    <tr>\n",
              "      <th>118</th>\n",
              "      <td>0</td>\n",
              "      <td>0</td>\n",
              "      <td>0</td>\n",
              "    </tr>\n",
              "    <tr>\n",
              "      <th>166</th>\n",
              "      <td>0</td>\n",
              "      <td>0</td>\n",
              "      <td>0</td>\n",
              "    </tr>\n",
              "    <tr>\n",
              "      <th>170</th>\n",
              "      <td>1</td>\n",
              "      <td>0</td>\n",
              "      <td>0</td>\n",
              "    </tr>\n",
              "    <tr>\n",
              "      <th>217</th>\n",
              "      <td>1</td>\n",
              "      <td>0</td>\n",
              "      <td>0</td>\n",
              "    </tr>\n",
              "  </tbody>\n",
              "</table>\n",
              "</div>"
            ],
            "text/plain": [
              "    FP2A GR18A GR18B\n",
              "29     1     0     0\n",
              "118    0     0     0\n",
              "166    0     0     0\n",
              "170    1     0     0\n",
              "217    1     0     0"
            ]
          },
          "metadata": {
            "tags": []
          },
          "execution_count": 156
        }
      ]
    },
    {
      "cell_type": "code",
      "metadata": {
        "colab_type": "code",
        "id": "oFuvth95xopx",
        "colab": {}
      },
      "source": [
        "trans_df = get_transaction_df(filtered_df)"
      ],
      "execution_count": 0,
      "outputs": []
    },
    {
      "cell_type": "code",
      "metadata": {
        "colab_type": "code",
        "outputId": "537276e5-7c6e-4e00-dde6-8acaf5fc59b9",
        "id": "TxFYrNADxop0",
        "colab": {
          "base_uri": "https://localhost:8080/",
          "height": 221
        }
      },
      "source": [
        "lookup = get_lookup()\n",
        "frequent_itemsets = get_frequent_itemsets(trans_df, 0.1)\n",
        "frequent_itemsets_filtered = frequent_itemsets#[ (frequent_itemsets['support'] < 0.05) ]\n",
        "print_freq_itemsets(frequent_itemsets_filtered, lookup)\n",
        "\n",
        "# Currently use contraceptives  \" 0 \",    Support :  0.23882820258192652\n",
        "# Currently use contraceptives  \" 1 \",    Support :  0.6668321747765641\n",
        "\n",
        "# Are you a member of a: Mahila Mandal  \" 0 \",    Support :  0.9222939424031777\n",
        "\n",
        "# Are you a member of a: Self-help group  \" 0 \",    Support :  0.8753723932472691\n",
        "# Are you a member of a: Self-help group  \" 1 \",    Support :  0.12338629592850049"
      ],
      "execution_count": 0,
      "outputs": [
        {
          "output_type": "stream",
          "text": [
            "Currently use contraceptives  \" 0 \",    Support :  0.23882820258192652\n",
            "Currently use contraceptives  \" 1 \",    Support :  0.6668321747765641\n",
            "Are you a member of a: Mahila Mandal  \" 0 \",    Support :  0.9222939424031777\n",
            "Are you a member of a: Self-help group  \" 0 \",    Support :  0.8753723932472691\n",
            "Are you a member of a: Self-help group  \" 1 \",    Support :  0.12338629592850049\n",
            "Currently use contraceptives  \" 0 \",  Are you a member of a: Mahila Mandal  \" 0 \",    Support :  0.2228152929493545\n",
            "Currently use contraceptives  \" 0 \",  Are you a member of a: Self-help group  \" 0 \",    Support :  0.21660873882820258\n",
            "Are you a member of a: Mahila Mandal  \" 0 \",  Currently use contraceptives  \" 1 \",    Support :  0.6134558093346574\n",
            "Currently use contraceptives  \" 1 \",  Are you a member of a: Self-help group  \" 0 \",    Support :  0.5752234359483615\n",
            "Are you a member of a: Mahila Mandal  \" 0 \",  Are you a member of a: Self-help group  \" 0 \",    Support :  0.8357745779543198\n",
            "Currently use contraceptives  \" 0 \",  Are you a member of a: Mahila Mandal  \" 0 \",  Are you a member of a: Self-help group  \" 0 \",    Support :  0.20531281032770607\n",
            "Are you a member of a: Mahila Mandal  \" 0 \",  Currently use contraceptives  \" 1 \",  Are you a member of a: Self-help group  \" 0 \",    Support :  0.5507696127110229\n"
          ],
          "name": "stdout"
        }
      ]
    },
    {
      "cell_type": "code",
      "metadata": {
        "colab_type": "code",
        "id": "ynD9EUYTxop3",
        "colab": {}
      },
      "source": [
        ""
      ],
      "execution_count": 0,
      "outputs": []
    },
    {
      "cell_type": "code",
      "metadata": {
        "colab_type": "code",
        "id": "xi8kHMeexop5",
        "colab": {}
      },
      "source": [
        ""
      ],
      "execution_count": 0,
      "outputs": []
    },
    {
      "cell_type": "code",
      "metadata": {
        "colab_type": "code",
        "id": "4o6t3Dhnxop6",
        "colab": {}
      },
      "source": [
        ""
      ],
      "execution_count": 0,
      "outputs": []
    },
    {
      "cell_type": "code",
      "metadata": {
        "colab_type": "code",
        "id": "pS1ytRl2xop-",
        "colab": {}
      },
      "source": [
        ""
      ],
      "execution_count": 0,
      "outputs": []
    },
    {
      "cell_type": "code",
      "metadata": {
        "colab_type": "code",
        "id": "VHZDt-U_xoqA",
        "colab": {}
      },
      "source": [
        ""
      ],
      "execution_count": 0,
      "outputs": []
    },
    {
      "cell_type": "markdown",
      "metadata": {
        "colab_type": "text",
        "id": "wm5tf6JuxoqC"
      },
      "source": [
        "## **Father, Mother Uneducated** \n",
        "## **Daughter Educated**"
      ]
    },
    {
      "cell_type": "code",
      "metadata": {
        "colab_type": "code",
        "outputId": "73773b58-a7a3-4a22-81fe-f9f79c019006",
        "id": "XGkc1j2ExoqD",
        "colab": {
          "base_uri": "https://localhost:8080/",
          "height": 34
        }
      },
      "source": [
        "format_df = format_data(df)\n",
        "format_df.head()\n",
        "format_df = format_df[format_df.EW8 != 0]\n",
        "format_df = format_df[format_df.EW15A == 0]\n",
        "format_df = format_df[format_df.EW15B == 0]\n",
        "format_df.shape"
      ],
      "execution_count": 0,
      "outputs": [
        {
          "output_type": "execute_result",
          "data": {
            "text/plain": [
              "(9209, 350)"
            ]
          },
          "metadata": {
            "tags": []
          },
          "execution_count": 159
        }
      ]
    },
    {
      "cell_type": "code",
      "metadata": {
        "colab_type": "code",
        "outputId": "2c73d506-2a8f-446d-bd60-64c335d33481",
        "id": "mvVa3H_YxoqG",
        "colab": {
          "base_uri": "https://localhost:8080/",
          "height": 255
        }
      },
      "source": [
        "filter = [\n",
        "'FP2A',\n",
        "'GR18A',\n",
        "'GR18B'\n",
        "]\n",
        "\n",
        "lookup = get_lookup()\n",
        "\n",
        "print_items(filter, lookup)\n",
        "\n",
        "filtered_df = filter_dataframe(format_df, filter)\n",
        "filtered_df.head()"
      ],
      "execution_count": 0,
      "outputs": [
        {
          "output_type": "stream",
          "text": [
            "FP2A  ==>  Currently use contraceptives\n",
            "GR18A  ==>  Are you a member of a: Mahila Mandal\n",
            "GR18B  ==>  Are you a member of a: Self-help group\n"
          ],
          "name": "stdout"
        },
        {
          "output_type": "execute_result",
          "data": {
            "text/html": [
              "<div>\n",
              "<style scoped>\n",
              "    .dataframe tbody tr th:only-of-type {\n",
              "        vertical-align: middle;\n",
              "    }\n",
              "\n",
              "    .dataframe tbody tr th {\n",
              "        vertical-align: top;\n",
              "    }\n",
              "\n",
              "    .dataframe thead th {\n",
              "        text-align: right;\n",
              "    }\n",
              "</style>\n",
              "<table border=\"1\" class=\"dataframe\">\n",
              "  <thead>\n",
              "    <tr style=\"text-align: right;\">\n",
              "      <th></th>\n",
              "      <th>FP2A</th>\n",
              "      <th>GR18A</th>\n",
              "      <th>GR18B</th>\n",
              "    </tr>\n",
              "  </thead>\n",
              "  <tbody>\n",
              "    <tr>\n",
              "      <th>2</th>\n",
              "      <td>1</td>\n",
              "      <td>0</td>\n",
              "      <td>0</td>\n",
              "    </tr>\n",
              "    <tr>\n",
              "      <th>49</th>\n",
              "      <td>0</td>\n",
              "      <td>0</td>\n",
              "      <td>0</td>\n",
              "    </tr>\n",
              "    <tr>\n",
              "      <th>54</th>\n",
              "      <td>1</td>\n",
              "      <td>0</td>\n",
              "      <td>0</td>\n",
              "    </tr>\n",
              "    <tr>\n",
              "      <th>58</th>\n",
              "      <td>1</td>\n",
              "      <td>NaN</td>\n",
              "      <td>NaN</td>\n",
              "    </tr>\n",
              "    <tr>\n",
              "      <th>64</th>\n",
              "      <td>NaN</td>\n",
              "      <td>0</td>\n",
              "      <td>0</td>\n",
              "    </tr>\n",
              "  </tbody>\n",
              "</table>\n",
              "</div>"
            ],
            "text/plain": [
              "   FP2A GR18A GR18B\n",
              "2     1     0     0\n",
              "49    0     0     0\n",
              "54    1     0     0\n",
              "58    1   NaN   NaN\n",
              "64  NaN     0     0"
            ]
          },
          "metadata": {
            "tags": []
          },
          "execution_count": 160
        }
      ]
    },
    {
      "cell_type": "code",
      "metadata": {
        "colab_type": "code",
        "id": "xvCibWiCxoqI",
        "colab": {}
      },
      "source": [
        "trans_df = get_transaction_df(filtered_df)"
      ],
      "execution_count": 0,
      "outputs": []
    },
    {
      "cell_type": "code",
      "metadata": {
        "colab_type": "code",
        "outputId": "9306f517-b640-4e9a-8ca1-3e33d9318c98",
        "id": "pv8sAbD6xoqJ",
        "colab": {
          "base_uri": "https://localhost:8080/",
          "height": 272
        }
      },
      "source": [
        "lookup = get_lookup()\n",
        "frequent_itemsets = get_frequent_itemsets(trans_df, 0.1)\n",
        "frequent_itemsets_filtered = frequent_itemsets#[ (frequent_itemsets['support'] < 0.05) ]\n",
        "print_freq_itemsets(frequent_itemsets_filtered, lookup)\n",
        "\n",
        "# Currently use contraceptives  \" 0 \",    Support :  0.22749484200238898\n",
        "# Currently use contraceptives  \" 1 \",    Support :  0.6567488326636985\n",
        "\n",
        "# Are you a member of a: Mahila Mandal  \" 0 \",    Support :  0.9359322401998046\n",
        "\n",
        "# Are you a member of a: Self-help group  \" 0 \",    Support :  0.8264741014225214\n",
        "# Are you a member of a: Self-help group  \" 1 \",    Support :  0.17189705722662613\n"
      ],
      "execution_count": 0,
      "outputs": [
        {
          "output_type": "stream",
          "text": [
            "Currently use contraceptives  \" 0 \",    Support :  0.22749484200238898\n",
            "Currently use contraceptives  \" 1 \",    Support :  0.6567488326636985\n",
            "Are you a member of a: Mahila Mandal  \" 0 \",    Support :  0.9359322401998046\n",
            "Are you a member of a: Self-help group  \" 0 \",    Support :  0.8264741014225214\n",
            "Are you a member of a: Self-help group  \" 1 \",    Support :  0.17189705722662613\n",
            "Currently use contraceptives  \" 0 \",  Are you a member of a: Mahila Mandal  \" 0 \",    Support :  0.21381257465522857\n",
            "Currently use contraceptives  \" 0 \",  Are you a member of a: Self-help group  \" 0 \",    Support :  0.19904441307416657\n",
            "Are you a member of a: Mahila Mandal  \" 0 \",  Currently use contraceptives  \" 1 \",    Support :  0.6143989575415355\n",
            "Currently use contraceptives  \" 1 \",  Are you a member of a: Self-help group  \" 0 \",    Support :  0.5273102399826257\n",
            "Are you a member of a: Self-help group  \" 1 \",  Currently use contraceptives  \" 1 \",    Support :  0.12835269844717123\n",
            "Are you a member of a: Mahila Mandal  \" 0 \",  Are you a member of a: Self-help group  \" 0 \",    Support :  0.7929199695949615\n",
            "Are you a member of a: Self-help group  \" 1 \",  Are you a member of a: Mahila Mandal  \" 0 \",    Support :  0.14279509175806276\n",
            "Currently use contraceptives  \" 0 \",  Are you a member of a: Mahila Mandal  \" 0 \",  Are you a member of a: Self-help group  \" 0 \",    Support :  0.19122597459007493\n",
            "Are you a member of a: Mahila Mandal  \" 0 \",  Currently use contraceptives  \" 1 \",  Are you a member of a: Self-help group  \" 0 \",    Support :  0.5058095341513736\n",
            "Are you a member of a: Self-help group  \" 1 \",  Are you a member of a: Mahila Mandal  \" 0 \",  Currently use contraceptives  \" 1 \",    Support :  0.10837224454338147\n"
          ],
          "name": "stdout"
        }
      ]
    },
    {
      "cell_type": "code",
      "metadata": {
        "colab_type": "code",
        "id": "Nh-iR9UqxoqL",
        "colab": {}
      },
      "source": [
        ""
      ],
      "execution_count": 0,
      "outputs": []
    },
    {
      "cell_type": "code",
      "metadata": {
        "colab_type": "code",
        "id": "RSwVYn_xxoqP",
        "colab": {}
      },
      "source": [
        ""
      ],
      "execution_count": 0,
      "outputs": []
    },
    {
      "cell_type": "code",
      "metadata": {
        "colab_type": "code",
        "id": "D-AVowKzxoqQ",
        "colab": {}
      },
      "source": [
        ""
      ],
      "execution_count": 0,
      "outputs": []
    },
    {
      "cell_type": "code",
      "metadata": {
        "colab_type": "code",
        "id": "VkHwKn7zxoqS",
        "colab": {}
      },
      "source": [
        ""
      ],
      "execution_count": 0,
      "outputs": []
    },
    {
      "cell_type": "code",
      "metadata": {
        "colab_type": "code",
        "id": "QR048GwTxoqU",
        "colab": {}
      },
      "source": [
        ""
      ],
      "execution_count": 0,
      "outputs": []
    },
    {
      "cell_type": "markdown",
      "metadata": {
        "colab_type": "text",
        "id": "jmFqb4M-xoqW"
      },
      "source": [
        "## **Father, Mother, Daughter Uneducated**"
      ]
    },
    {
      "cell_type": "code",
      "metadata": {
        "colab_type": "code",
        "outputId": "f6765274-2d0d-42ee-86b8-2210b59337e7",
        "id": "2WZTxSNUxoqW",
        "colab": {
          "base_uri": "https://localhost:8080/",
          "height": 34
        }
      },
      "source": [
        "format_df = format_data(df)\n",
        "format_df.head()\n",
        "format_df = format_df[format_df.EW8 == 0]\n",
        "format_df = format_df[format_df.EW15A == 0]\n",
        "format_df = format_df[format_df.EW15B == 0]\n",
        "format_df.shape"
      ],
      "execution_count": 0,
      "outputs": [
        {
          "output_type": "execute_result",
          "data": {
            "text/plain": [
              "(12430, 350)"
            ]
          },
          "metadata": {
            "tags": []
          },
          "execution_count": 163
        }
      ]
    },
    {
      "cell_type": "code",
      "metadata": {
        "colab_type": "code",
        "outputId": "4d48b46f-ec17-48b6-f154-8f3bcb0b3abf",
        "id": "prTAUWPKxoqY",
        "colab": {
          "base_uri": "https://localhost:8080/",
          "height": 255
        }
      },
      "source": [
        "filter = [\n",
        "'FP2A',\n",
        "'GR18A',\n",
        "'GR18B'\n",
        "]\n",
        "\n",
        "lookup = get_lookup()\n",
        "\n",
        "print_items(filter, lookup)\n",
        "\n",
        "filtered_df = filter_dataframe(format_df, filter)\n",
        "filtered_df.head()"
      ],
      "execution_count": 0,
      "outputs": [
        {
          "output_type": "stream",
          "text": [
            "FP2A  ==>  Currently use contraceptives\n",
            "GR18A  ==>  Are you a member of a: Mahila Mandal\n",
            "GR18B  ==>  Are you a member of a: Self-help group\n"
          ],
          "name": "stdout"
        },
        {
          "output_type": "execute_result",
          "data": {
            "text/html": [
              "<div>\n",
              "<style scoped>\n",
              "    .dataframe tbody tr th:only-of-type {\n",
              "        vertical-align: middle;\n",
              "    }\n",
              "\n",
              "    .dataframe tbody tr th {\n",
              "        vertical-align: top;\n",
              "    }\n",
              "\n",
              "    .dataframe thead th {\n",
              "        text-align: right;\n",
              "    }\n",
              "</style>\n",
              "<table border=\"1\" class=\"dataframe\">\n",
              "  <thead>\n",
              "    <tr style=\"text-align: right;\">\n",
              "      <th></th>\n",
              "      <th>FP2A</th>\n",
              "      <th>GR18A</th>\n",
              "      <th>GR18B</th>\n",
              "    </tr>\n",
              "  </thead>\n",
              "  <tbody>\n",
              "    <tr>\n",
              "      <th>0</th>\n",
              "      <td>1</td>\n",
              "      <td>0</td>\n",
              "      <td>0</td>\n",
              "    </tr>\n",
              "    <tr>\n",
              "      <th>3</th>\n",
              "      <td>1</td>\n",
              "      <td>0</td>\n",
              "      <td>0</td>\n",
              "    </tr>\n",
              "    <tr>\n",
              "      <th>4</th>\n",
              "      <td>1</td>\n",
              "      <td>0</td>\n",
              "      <td>0</td>\n",
              "    </tr>\n",
              "    <tr>\n",
              "      <th>5</th>\n",
              "      <td>1</td>\n",
              "      <td>0</td>\n",
              "      <td>0</td>\n",
              "    </tr>\n",
              "    <tr>\n",
              "      <th>6</th>\n",
              "      <td>1</td>\n",
              "      <td>0</td>\n",
              "      <td>0</td>\n",
              "    </tr>\n",
              "  </tbody>\n",
              "</table>\n",
              "</div>"
            ],
            "text/plain": [
              "  FP2A GR18A GR18B\n",
              "0    1     0     0\n",
              "3    1     0     0\n",
              "4    1     0     0\n",
              "5    1     0     0\n",
              "6    1     0     0"
            ]
          },
          "metadata": {
            "tags": []
          },
          "execution_count": 164
        }
      ]
    },
    {
      "cell_type": "code",
      "metadata": {
        "colab_type": "code",
        "id": "TJ7o5rG_xoqc",
        "colab": {}
      },
      "source": [
        "trans_df = get_transaction_df(filtered_df)"
      ],
      "execution_count": 0,
      "outputs": []
    },
    {
      "cell_type": "code",
      "metadata": {
        "colab_type": "code",
        "outputId": "e9584c15-0180-4622-88a6-7e399a3347bc",
        "id": "rNHq7rjfxoqe",
        "colab": {
          "base_uri": "https://localhost:8080/",
          "height": 238
        }
      },
      "source": [
        "lookup = get_lookup()\n",
        "frequent_itemsets = get_frequent_itemsets(trans_df, 0.1)\n",
        "frequent_itemsets_filtered = frequent_itemsets#[ (frequent_itemsets['support'] < 0.05) ]\n",
        "print_freq_itemsets(frequent_itemsets_filtered, lookup)\n",
        "\n",
        "# Currently use contraceptives  \" 0 \",    Support :  0.2407079646017699\n",
        "# Currently use contraceptives  \" 1 \",    Support :  0.6357200321802091\n",
        "\n",
        "# Are you a member of a: Mahila Mandal  \" 0 \",    Support :  0.9547868061142397\n",
        "\n",
        "# Are you a member of a: Self-help group  \" 0 \",    Support :  0.8625905068382944\n",
        "# Are you a member of a: Self-help group  \" 1 \",    Support :  0.13660498793242157"
      ],
      "execution_count": 0,
      "outputs": [
        {
          "output_type": "stream",
          "text": [
            "Currently use contraceptives  \" 0 \",    Support :  0.2407079646017699\n",
            "Currently use contraceptives  \" 1 \",    Support :  0.6357200321802091\n",
            "Are you a member of a: Mahila Mandal  \" 0 \",    Support :  0.9547868061142397\n",
            "Are you a member of a: Self-help group  \" 0 \",    Support :  0.8625905068382944\n",
            "Are you a member of a: Self-help group  \" 1 \",    Support :  0.13660498793242157\n",
            "Currently use contraceptives  \" 0 \",  Are you a member of a: Mahila Mandal  \" 0 \",    Support :  0.23121480289621882\n",
            "Currently use contraceptives  \" 0 \",  Are you a member of a: Self-help group  \" 0 \",    Support :  0.21874497184231698\n",
            "Are you a member of a: Mahila Mandal  \" 0 \",  Currently use contraceptives  \" 1 \",    Support :  0.6069991954947708\n",
            "Currently use contraceptives  \" 1 \",  Are you a member of a: Self-help group  \" 0 \",    Support :  0.5366049879324215\n",
            "Are you a member of a: Mahila Mandal  \" 0 \",  Are you a member of a: Self-help group  \" 0 \",    Support :  0.8366049879324216\n",
            "Are you a member of a: Self-help group  \" 1 \",  Are you a member of a: Mahila Mandal  \" 0 \",    Support :  0.11818181818181818\n",
            "Currently use contraceptives  \" 0 \",  Are you a member of a: Mahila Mandal  \" 0 \",  Are you a member of a: Self-help group  \" 0 \",    Support :  0.21263073209975863\n",
            "Are you a member of a: Mahila Mandal  \" 0 \",  Currently use contraceptives  \" 1 \",  Are you a member of a: Self-help group  \" 0 \",    Support :  0.5211584875301689\n"
          ],
          "name": "stdout"
        }
      ]
    },
    {
      "cell_type": "code",
      "metadata": {
        "colab_type": "code",
        "id": "HhRkGhbGxoqg",
        "colab": {}
      },
      "source": [
        ""
      ],
      "execution_count": 0,
      "outputs": []
    },
    {
      "cell_type": "code",
      "metadata": {
        "colab_type": "code",
        "id": "t2v1ZyJSxoqi",
        "colab": {}
      },
      "source": [
        ""
      ],
      "execution_count": 0,
      "outputs": []
    },
    {
      "cell_type": "markdown",
      "metadata": {
        "colab_type": "text",
        "id": "ISSgEPOnE5Hr"
      },
      "source": [
        "# Discriminancy between boy and girl education"
      ]
    },
    {
      "cell_type": "markdown",
      "metadata": {
        "colab_type": "text",
        "id": "PeAoiP-KE5Hz"
      },
      "source": [
        "## **Father, Mother, Daughter Educated**"
      ]
    },
    {
      "cell_type": "code",
      "metadata": {
        "colab_type": "code",
        "id": "aAhGGMXdE5H9",
        "colab": {}
      },
      "source": [
        ""
      ],
      "execution_count": 0,
      "outputs": []
    },
    {
      "cell_type": "code",
      "metadata": {
        "colab_type": "code",
        "outputId": "8ca10c21-a1e3-41ab-bfda-6c11587cefe2",
        "id": "4E__XR6VdTBe",
        "colab": {
          "base_uri": "https://localhost:8080/",
          "height": 34
        }
      },
      "source": [
        "format_df = format_data(df)\n",
        "format_df.head()\n",
        "format_df = format_df[format_df.EW15A != 0]\n",
        "format_df = format_df[format_df.EW15B != 0]\n",
        "format_df.shape"
      ],
      "execution_count": 0,
      "outputs": [
        {
          "output_type": "execute_result",
          "data": {
            "text/plain": [
              "(8347, 350)"
            ]
          },
          "metadata": {
            "tags": []
          },
          "execution_count": 206
        }
      ]
    },
    {
      "cell_type": "code",
      "metadata": {
        "colab_type": "code",
        "id": "_hQ1zVlXdTBj",
        "colab": {}
      },
      "source": [
        "format_df.dropna(subset=['EW18A'], inplace=True)\n",
        "format_df['EW18B'].fillna('0', inplace=True)"
      ],
      "execution_count": 0,
      "outputs": []
    },
    {
      "cell_type": "code",
      "metadata": {
        "colab_type": "code",
        "outputId": "3cb97af4-dc6e-4c22-8baa-7270deb73075",
        "id": "quSjIyhIdTBl",
        "colab": {
          "base_uri": "https://localhost:8080/",
          "height": 253
        }
      },
      "source": [
        "format_df['boyEducated'] = np.where(format_df['EW18A']=='0', 0, 1)\n",
        "format_df['girlEducated'] = np.where((format_df['EW8']==0)&(format_df['EW18B']=='0'), 0, 1)\n",
        "\n",
        "format_df.head()"
      ],
      "execution_count": 0,
      "outputs": [
        {
          "output_type": "execute_result",
          "data": {
            "text/html": [
              "<div>\n",
              "<style scoped>\n",
              "    .dataframe tbody tr th:only-of-type {\n",
              "        vertical-align: middle;\n",
              "    }\n",
              "\n",
              "    .dataframe tbody tr th {\n",
              "        vertical-align: top;\n",
              "    }\n",
              "\n",
              "    .dataframe thead th {\n",
              "        text-align: right;\n",
              "    }\n",
              "</style>\n",
              "<table border=\"1\" class=\"dataframe\">\n",
              "  <thead>\n",
              "    <tr style=\"text-align: right;\">\n",
              "      <th></th>\n",
              "      <th>SURVEY</th>\n",
              "      <th>STATEID</th>\n",
              "      <th>DISTID</th>\n",
              "      <th>PSUID</th>\n",
              "      <th>HHID</th>\n",
              "      <th>HHSPLITID</th>\n",
              "      <th>PERSONID</th>\n",
              "      <th>IDPSU</th>\n",
              "      <th>IDHH</th>\n",
              "      <th>IDPERSON</th>\n",
              "      <th>GE10A</th>\n",
              "      <th>GE10B</th>\n",
              "      <th>GE11</th>\n",
              "      <th>GE12</th>\n",
              "      <th>GE13</th>\n",
              "      <th>CD3D</th>\n",
              "      <th>CD3M</th>\n",
              "      <th>CD3Y</th>\n",
              "      <th>CD3DATE</th>\n",
              "      <th>CD4A</th>\n",
              "      <th>CD4B</th>\n",
              "      <th>CD4C</th>\n",
              "      <th>EW5</th>\n",
              "      <th>EW6</th>\n",
              "      <th>EW8</th>\n",
              "      <th>EW9</th>\n",
              "      <th>EW10</th>\n",
              "      <th>EW11</th>\n",
              "      <th>EW12A</th>\n",
              "      <th>EW12B</th>\n",
              "      <th>EW12C</th>\n",
              "      <th>EW12D</th>\n",
              "      <th>EW13A</th>\n",
              "      <th>EW14A</th>\n",
              "      <th>EW14B</th>\n",
              "      <th>EW14C</th>\n",
              "      <th>EW14D</th>\n",
              "      <th>EW15A</th>\n",
              "      <th>EW15B</th>\n",
              "      <th>EW15C</th>\n",
              "      <th>...</th>\n",
              "      <th>WKANY5</th>\n",
              "      <th>WKANIMAL</th>\n",
              "      <th>WKBUSINESS</th>\n",
              "      <th>WKAGLAB</th>\n",
              "      <th>WKFARM</th>\n",
              "      <th>WKNONAG</th>\n",
              "      <th>WKSALARY</th>\n",
              "      <th>WKNREGA</th>\n",
              "      <th>WKHOURS</th>\n",
              "      <th>NFHOURS</th>\n",
              "      <th>WKDAYS</th>\n",
              "      <th>NFDAYS</th>\n",
              "      <th>RSUNEARN</th>\n",
              "      <th>SPRO10</th>\n",
              "      <th>SPRO3</th>\n",
              "      <th>SPRO4</th>\n",
              "      <th>SPRO5</th>\n",
              "      <th>SPRO6</th>\n",
              "      <th>SPRO8</th>\n",
              "      <th>SPED2</th>\n",
              "      <th>SPED3</th>\n",
              "      <th>SPED4</th>\n",
              "      <th>SPED6</th>\n",
              "      <th>SPWKANY5</th>\n",
              "      <th>SPWKANIMAL</th>\n",
              "      <th>SPWKBUSINESS</th>\n",
              "      <th>SPWKAGLAB</th>\n",
              "      <th>SPWKFARM</th>\n",
              "      <th>SPWKNONAG</th>\n",
              "      <th>SPWKHOURS</th>\n",
              "      <th>SPWKDAYS</th>\n",
              "      <th>EWQELIGIBLE</th>\n",
              "      <th>AGERANK</th>\n",
              "      <th>NEVMFEM</th>\n",
              "      <th>EWPOSITION</th>\n",
              "      <th>NEWQELIGIBLE</th>\n",
              "      <th>WTEW</th>\n",
              "      <th>FWTEW</th>\n",
              "      <th>boyEducated</th>\n",
              "      <th>girlEducated</th>\n",
              "    </tr>\n",
              "  </thead>\n",
              "  <tbody>\n",
              "    <tr>\n",
              "      <th>29</th>\n",
              "      <td>2</td>\n",
              "      <td>1</td>\n",
              "      <td>2</td>\n",
              "      <td>2</td>\n",
              "      <td>70</td>\n",
              "      <td>1</td>\n",
              "      <td>4</td>\n",
              "      <td>10202</td>\n",
              "      <td>102020701</td>\n",
              "      <td>10202070104</td>\n",
              "      <td>1</td>\n",
              "      <td>1</td>\n",
              "      <td>1</td>\n",
              "      <td>2</td>\n",
              "      <td>3</td>\n",
              "      <td>20</td>\n",
              "      <td>6</td>\n",
              "      <td>2012</td>\n",
              "      <td>19164</td>\n",
              "      <td>11</td>\n",
              "      <td>45</td>\n",
              "      <td>1</td>\n",
              "      <td>4</td>\n",
              "      <td>1</td>\n",
              "      <td>1</td>\n",
              "      <td>2</td>\n",
              "      <td>2</td>\n",
              "      <td>2</td>\n",
              "      <td>1</td>\n",
              "      <td>1</td>\n",
              "      <td>1</td>\n",
              "      <td>1</td>\n",
              "      <td>1</td>\n",
              "      <td>1</td>\n",
              "      <td>1</td>\n",
              "      <td>1</td>\n",
              "      <td>1</td>\n",
              "      <td>1</td>\n",
              "      <td>1</td>\n",
              "      <td>1</td>\n",
              "      <td>...</td>\n",
              "      <td>3</td>\n",
              "      <td>0</td>\n",
              "      <td>0</td>\n",
              "      <td>0</td>\n",
              "      <td>3</td>\n",
              "      <td>0</td>\n",
              "      <td>0</td>\n",
              "      <td>0</td>\n",
              "      <td>600</td>\n",
              "      <td>0</td>\n",
              "      <td>150</td>\n",
              "      <td>0</td>\n",
              "      <td>444530.00</td>\n",
              "      <td>2</td>\n",
              "      <td>1</td>\n",
              "      <td>3</td>\n",
              "      <td>33</td>\n",
              "      <td>1</td>\n",
              "      <td>4</td>\n",
              "      <td>1</td>\n",
              "      <td>1</td>\n",
              "      <td>1</td>\n",
              "      <td>9</td>\n",
              "      <td>0</td>\n",
              "      <td>0</td>\n",
              "      <td>0</td>\n",
              "      <td>0</td>\n",
              "      <td>0</td>\n",
              "      <td>0</td>\n",
              "      <td>0</td>\n",
              "      <td>0</td>\n",
              "      <td>1</td>\n",
              "      <td>2</td>\n",
              "      <td>2</td>\n",
              "      <td>3</td>\n",
              "      <td>1</td>\n",
              "      <td>5720.114258</td>\n",
              "      <td>5720</td>\n",
              "      <td>1</td>\n",
              "      <td>1</td>\n",
              "    </tr>\n",
              "    <tr>\n",
              "      <th>118</th>\n",
              "      <td>2</td>\n",
              "      <td>1</td>\n",
              "      <td>2</td>\n",
              "      <td>7</td>\n",
              "      <td>20</td>\n",
              "      <td>1</td>\n",
              "      <td>4</td>\n",
              "      <td>10207</td>\n",
              "      <td>102070201</td>\n",
              "      <td>10207020104</td>\n",
              "      <td>NaN</td>\n",
              "      <td>NaN</td>\n",
              "      <td>NaN</td>\n",
              "      <td>NaN</td>\n",
              "      <td>NaN</td>\n",
              "      <td>14</td>\n",
              "      <td>7</td>\n",
              "      <td>2012</td>\n",
              "      <td>19188</td>\n",
              "      <td>8</td>\n",
              "      <td>50</td>\n",
              "      <td>1</td>\n",
              "      <td>4</td>\n",
              "      <td>1</td>\n",
              "      <td>15</td>\n",
              "      <td>0</td>\n",
              "      <td>1</td>\n",
              "      <td>2</td>\n",
              "      <td>1</td>\n",
              "      <td>1</td>\n",
              "      <td>1</td>\n",
              "      <td>1</td>\n",
              "      <td>2</td>\n",
              "      <td>1</td>\n",
              "      <td>1</td>\n",
              "      <td>0</td>\n",
              "      <td>1</td>\n",
              "      <td>1</td>\n",
              "      <td>1</td>\n",
              "      <td>0</td>\n",
              "      <td>...</td>\n",
              "      <td>2</td>\n",
              "      <td>0</td>\n",
              "      <td>0</td>\n",
              "      <td>0</td>\n",
              "      <td>2</td>\n",
              "      <td>0</td>\n",
              "      <td>0</td>\n",
              "      <td>0</td>\n",
              "      <td>150</td>\n",
              "      <td>0</td>\n",
              "      <td>30</td>\n",
              "      <td>0</td>\n",
              "      <td>1062160.75</td>\n",
              "      <td>2</td>\n",
              "      <td>1</td>\n",
              "      <td>3</td>\n",
              "      <td>29</td>\n",
              "      <td>1</td>\n",
              "      <td>4</td>\n",
              "      <td>1</td>\n",
              "      <td>2</td>\n",
              "      <td>1</td>\n",
              "      <td>16</td>\n",
              "      <td>4</td>\n",
              "      <td>0</td>\n",
              "      <td>0</td>\n",
              "      <td>0</td>\n",
              "      <td>2</td>\n",
              "      <td>0</td>\n",
              "      <td>2615</td>\n",
              "      <td>365</td>\n",
              "      <td>1</td>\n",
              "      <td>2</td>\n",
              "      <td>2</td>\n",
              "      <td>3</td>\n",
              "      <td>2</td>\n",
              "      <td>2108.087646</td>\n",
              "      <td>2108</td>\n",
              "      <td>1</td>\n",
              "      <td>1</td>\n",
              "    </tr>\n",
              "    <tr>\n",
              "      <th>166</th>\n",
              "      <td>2</td>\n",
              "      <td>1</td>\n",
              "      <td>3</td>\n",
              "      <td>2</td>\n",
              "      <td>60</td>\n",
              "      <td>2</td>\n",
              "      <td>2</td>\n",
              "      <td>10302</td>\n",
              "      <td>103020602</td>\n",
              "      <td>10302060202</td>\n",
              "      <td>1</td>\n",
              "      <td>1</td>\n",
              "      <td>1</td>\n",
              "      <td>3</td>\n",
              "      <td>9</td>\n",
              "      <td>11</td>\n",
              "      <td>6</td>\n",
              "      <td>2012</td>\n",
              "      <td>19155</td>\n",
              "      <td>10</td>\n",
              "      <td>15</td>\n",
              "      <td>1</td>\n",
              "      <td>2</td>\n",
              "      <td>1</td>\n",
              "      <td>15</td>\n",
              "      <td>2</td>\n",
              "      <td>2</td>\n",
              "      <td>3</td>\n",
              "      <td>1</td>\n",
              "      <td>1</td>\n",
              "      <td>1</td>\n",
              "      <td>0</td>\n",
              "      <td>2</td>\n",
              "      <td>1</td>\n",
              "      <td>1</td>\n",
              "      <td>0</td>\n",
              "      <td>1</td>\n",
              "      <td>1</td>\n",
              "      <td>2</td>\n",
              "      <td>0</td>\n",
              "      <td>...</td>\n",
              "      <td>4</td>\n",
              "      <td>0</td>\n",
              "      <td>0</td>\n",
              "      <td>0</td>\n",
              "      <td>0</td>\n",
              "      <td>0</td>\n",
              "      <td>4</td>\n",
              "      <td>0</td>\n",
              "      <td>2190</td>\n",
              "      <td>0</td>\n",
              "      <td>365</td>\n",
              "      <td>0</td>\n",
              "      <td>240000.00</td>\n",
              "      <td>69</td>\n",
              "      <td>1</td>\n",
              "      <td>1</td>\n",
              "      <td>32</td>\n",
              "      <td>1</td>\n",
              "      <td>2</td>\n",
              "      <td>1</td>\n",
              "      <td>2</td>\n",
              "      <td>1</td>\n",
              "      <td>15</td>\n",
              "      <td>4</td>\n",
              "      <td>0</td>\n",
              "      <td>0</td>\n",
              "      <td>0</td>\n",
              "      <td>0</td>\n",
              "      <td>0</td>\n",
              "      <td>2190</td>\n",
              "      <td>365</td>\n",
              "      <td>1</td>\n",
              "      <td>1</td>\n",
              "      <td>1</td>\n",
              "      <td>1</td>\n",
              "      <td>1</td>\n",
              "      <td>2012.265381</td>\n",
              "      <td>2012</td>\n",
              "      <td>1</td>\n",
              "      <td>1</td>\n",
              "    </tr>\n",
              "    <tr>\n",
              "      <th>170</th>\n",
              "      <td>2</td>\n",
              "      <td>1</td>\n",
              "      <td>3</td>\n",
              "      <td>2</td>\n",
              "      <td>120</td>\n",
              "      <td>1</td>\n",
              "      <td>2</td>\n",
              "      <td>10302</td>\n",
              "      <td>103021201</td>\n",
              "      <td>10302120102</td>\n",
              "      <td>1</td>\n",
              "      <td>1</td>\n",
              "      <td>1</td>\n",
              "      <td>3</td>\n",
              "      <td>3</td>\n",
              "      <td>9</td>\n",
              "      <td>6</td>\n",
              "      <td>2012</td>\n",
              "      <td>19153</td>\n",
              "      <td>3</td>\n",
              "      <td>15</td>\n",
              "      <td>2</td>\n",
              "      <td>2</td>\n",
              "      <td>3</td>\n",
              "      <td>16</td>\n",
              "      <td>3</td>\n",
              "      <td>1</td>\n",
              "      <td>1</td>\n",
              "      <td>1</td>\n",
              "      <td>0</td>\n",
              "      <td>1</td>\n",
              "      <td>1</td>\n",
              "      <td>2</td>\n",
              "      <td>1</td>\n",
              "      <td>1</td>\n",
              "      <td>1</td>\n",
              "      <td>1</td>\n",
              "      <td>16</td>\n",
              "      <td>16</td>\n",
              "      <td>16</td>\n",
              "      <td>...</td>\n",
              "      <td>4</td>\n",
              "      <td>0</td>\n",
              "      <td>0</td>\n",
              "      <td>0</td>\n",
              "      <td>0</td>\n",
              "      <td>0</td>\n",
              "      <td>4</td>\n",
              "      <td>0</td>\n",
              "      <td>3285</td>\n",
              "      <td>0</td>\n",
              "      <td>365</td>\n",
              "      <td>0</td>\n",
              "      <td>547400.00</td>\n",
              "      <td>69</td>\n",
              "      <td>1</td>\n",
              "      <td>1</td>\n",
              "      <td>47</td>\n",
              "      <td>1</td>\n",
              "      <td>2</td>\n",
              "      <td>1</td>\n",
              "      <td>2</td>\n",
              "      <td>1</td>\n",
              "      <td>16</td>\n",
              "      <td>4</td>\n",
              "      <td>0</td>\n",
              "      <td>0</td>\n",
              "      <td>0</td>\n",
              "      <td>0</td>\n",
              "      <td>0</td>\n",
              "      <td>3285</td>\n",
              "      <td>365</td>\n",
              "      <td>1</td>\n",
              "      <td>1</td>\n",
              "      <td>1</td>\n",
              "      <td>1</td>\n",
              "      <td>1</td>\n",
              "      <td>2012.265381</td>\n",
              "      <td>2012</td>\n",
              "      <td>0</td>\n",
              "      <td>1</td>\n",
              "    </tr>\n",
              "    <tr>\n",
              "      <th>200</th>\n",
              "      <td>2</td>\n",
              "      <td>1</td>\n",
              "      <td>3</td>\n",
              "      <td>5</td>\n",
              "      <td>40</td>\n",
              "      <td>1</td>\n",
              "      <td>2</td>\n",
              "      <td>10305</td>\n",
              "      <td>103050401</td>\n",
              "      <td>10305040102</td>\n",
              "      <td>1</td>\n",
              "      <td>1</td>\n",
              "      <td>1</td>\n",
              "      <td>2</td>\n",
              "      <td>9</td>\n",
              "      <td>2</td>\n",
              "      <td>7</td>\n",
              "      <td>2012</td>\n",
              "      <td>19176</td>\n",
              "      <td>10</td>\n",
              "      <td>50</td>\n",
              "      <td>1</td>\n",
              "      <td>2</td>\n",
              "      <td>3</td>\n",
              "      <td>0</td>\n",
              "      <td>4</td>\n",
              "      <td>1</td>\n",
              "      <td>3</td>\n",
              "      <td>1</td>\n",
              "      <td>1</td>\n",
              "      <td>1</td>\n",
              "      <td>1</td>\n",
              "      <td>2</td>\n",
              "      <td>1</td>\n",
              "      <td>1</td>\n",
              "      <td>0</td>\n",
              "      <td>0</td>\n",
              "      <td>1</td>\n",
              "      <td>1</td>\n",
              "      <td>0</td>\n",
              "      <td>...</td>\n",
              "      <td>0</td>\n",
              "      <td>0</td>\n",
              "      <td>0</td>\n",
              "      <td>0</td>\n",
              "      <td>0</td>\n",
              "      <td>0</td>\n",
              "      <td>0</td>\n",
              "      <td>0</td>\n",
              "      <td>0</td>\n",
              "      <td>0</td>\n",
              "      <td>0</td>\n",
              "      <td>0</td>\n",
              "      <td>57000.00</td>\n",
              "      <td>69</td>\n",
              "      <td>1</td>\n",
              "      <td>1</td>\n",
              "      <td>42</td>\n",
              "      <td>1</td>\n",
              "      <td>2</td>\n",
              "      <td>1</td>\n",
              "      <td>2</td>\n",
              "      <td>1</td>\n",
              "      <td>12</td>\n",
              "      <td>4</td>\n",
              "      <td>0</td>\n",
              "      <td>0</td>\n",
              "      <td>0</td>\n",
              "      <td>0</td>\n",
              "      <td>0</td>\n",
              "      <td>2430</td>\n",
              "      <td>270</td>\n",
              "      <td>1</td>\n",
              "      <td>1</td>\n",
              "      <td>1</td>\n",
              "      <td>1</td>\n",
              "      <td>1</td>\n",
              "      <td>2038.742432</td>\n",
              "      <td>2039</td>\n",
              "      <td>1</td>\n",
              "      <td>0</td>\n",
              "    </tr>\n",
              "  </tbody>\n",
              "</table>\n",
              "<p>5 rows × 352 columns</p>\n",
              "</div>"
            ],
            "text/plain": [
              "     SURVEY  STATEID  DISTID  PSUID  ...         WTEW  FWTEW  boyEducated  girlEducated\n",
              "29        2        1       2      2  ...  5720.114258   5720            1             1\n",
              "118       2        1       2      7  ...  2108.087646   2108            1             1\n",
              "166       2        1       3      2  ...  2012.265381   2012            1             1\n",
              "170       2        1       3      2  ...  2012.265381   2012            0             1\n",
              "200       2        1       3      5  ...  2038.742432   2039            1             0\n",
              "\n",
              "[5 rows x 352 columns]"
            ]
          },
          "metadata": {
            "tags": []
          },
          "execution_count": 208
        }
      ]
    },
    {
      "cell_type": "code",
      "metadata": {
        "colab_type": "code",
        "outputId": "05a0a338-9c88-456a-ad53-9499e72c7550",
        "id": "gFIMEeRJdTBn",
        "colab": {
          "base_uri": "https://localhost:8080/",
          "height": 238
        }
      },
      "source": [
        "filter = [\n",
        "'boyEducated',\n",
        "'girlEducated'\n",
        "]\n",
        "\n",
        "lookup = get_lookup()\n",
        "\n",
        "print_items(filter, lookup)\n",
        "\n",
        "filtered_df = filter_dataframe(format_df, filter)\n",
        "filtered_df.head()"
      ],
      "execution_count": 0,
      "outputs": [
        {
          "output_type": "stream",
          "text": [
            "boyEducated  ==>  Boy Educated\n",
            "girlEducated  ==>  Girl Educated\n"
          ],
          "name": "stdout"
        },
        {
          "output_type": "execute_result",
          "data": {
            "text/html": [
              "<div>\n",
              "<style scoped>\n",
              "    .dataframe tbody tr th:only-of-type {\n",
              "        vertical-align: middle;\n",
              "    }\n",
              "\n",
              "    .dataframe tbody tr th {\n",
              "        vertical-align: top;\n",
              "    }\n",
              "\n",
              "    .dataframe thead th {\n",
              "        text-align: right;\n",
              "    }\n",
              "</style>\n",
              "<table border=\"1\" class=\"dataframe\">\n",
              "  <thead>\n",
              "    <tr style=\"text-align: right;\">\n",
              "      <th></th>\n",
              "      <th>boyEducated</th>\n",
              "      <th>girlEducated</th>\n",
              "    </tr>\n",
              "  </thead>\n",
              "  <tbody>\n",
              "    <tr>\n",
              "      <th>29</th>\n",
              "      <td>1</td>\n",
              "      <td>1</td>\n",
              "    </tr>\n",
              "    <tr>\n",
              "      <th>118</th>\n",
              "      <td>1</td>\n",
              "      <td>1</td>\n",
              "    </tr>\n",
              "    <tr>\n",
              "      <th>166</th>\n",
              "      <td>1</td>\n",
              "      <td>1</td>\n",
              "    </tr>\n",
              "    <tr>\n",
              "      <th>170</th>\n",
              "      <td>0</td>\n",
              "      <td>1</td>\n",
              "    </tr>\n",
              "    <tr>\n",
              "      <th>200</th>\n",
              "      <td>1</td>\n",
              "      <td>0</td>\n",
              "    </tr>\n",
              "  </tbody>\n",
              "</table>\n",
              "</div>"
            ],
            "text/plain": [
              "     boyEducated  girlEducated\n",
              "29             1             1\n",
              "118            1             1\n",
              "166            1             1\n",
              "170            0             1\n",
              "200            1             0"
            ]
          },
          "metadata": {
            "tags": []
          },
          "execution_count": 209
        }
      ]
    },
    {
      "cell_type": "code",
      "metadata": {
        "colab_type": "code",
        "id": "-blc9RcjdTBo",
        "colab": {}
      },
      "source": [
        "trans_df = get_transaction_df(filtered_df)"
      ],
      "execution_count": 0,
      "outputs": []
    },
    {
      "cell_type": "code",
      "metadata": {
        "colab_type": "code",
        "outputId": "c435d99a-f654-42e4-cacc-a32e335723ea",
        "id": "wyJvZ0n3dTBq",
        "colab": {
          "base_uri": "https://localhost:8080/",
          "height": 136
        }
      },
      "source": [
        "lookup = get_lookup()\n",
        "frequent_itemsets = get_frequent_itemsets(trans_df, 0.01)\n",
        "frequent_itemsets_filtered = frequent_itemsets#[ (frequent_itemsets['support'] < 0.05) ]\n",
        "print_freq_itemsets(frequent_itemsets_filtered, lookup)\n",
        "\n",
        "# Boy Educated  \" 1 \",  Girl Educated  \" 0 \",    Support :  0.011253395421032208\n",
        "# Boy Educated  \" 1 \",  Girl Educated  \" 1 \",    Support :  0.9502004915276161"
      ],
      "execution_count": 0,
      "outputs": [
        {
          "output_type": "stream",
          "text": [
            "Boy Educated  \" 0 \",    Support :  0.0385461130513517\n",
            "Boy Educated  \" 1 \",    Support :  0.9614538869486483\n",
            "Girl Educated  \" 0 \",    Support :  0.01332298538352089\n",
            "Girl Educated  \" 1 \",    Support :  0.9866770146164792\n",
            "Boy Educated  \" 0 \",  Girl Educated  \" 1 \",    Support :  0.03647652308886302\n",
            "Boy Educated  \" 1 \",  Girl Educated  \" 0 \",    Support :  0.011253395421032208\n",
            "Boy Educated  \" 1 \",  Girl Educated  \" 1 \",    Support :  0.9502004915276161\n"
          ],
          "name": "stdout"
        }
      ]
    },
    {
      "cell_type": "code",
      "metadata": {
        "colab_type": "code",
        "id": "zjK31NTKE5IA",
        "colab": {}
      },
      "source": [
        ""
      ],
      "execution_count": 0,
      "outputs": []
    },
    {
      "cell_type": "code",
      "metadata": {
        "colab_type": "code",
        "id": "9sUe47MjE5IC",
        "colab": {}
      },
      "source": [
        ""
      ],
      "execution_count": 0,
      "outputs": []
    },
    {
      "cell_type": "code",
      "metadata": {
        "colab_type": "code",
        "id": "2S4qHemyE5IE",
        "colab": {}
      },
      "source": [
        ""
      ],
      "execution_count": 0,
      "outputs": []
    },
    {
      "cell_type": "code",
      "metadata": {
        "colab_type": "code",
        "id": "cJewF6HYE5IG",
        "colab": {}
      },
      "source": [
        ""
      ],
      "execution_count": 0,
      "outputs": []
    },
    {
      "cell_type": "markdown",
      "metadata": {
        "colab_type": "text",
        "id": "ttMK_WhrE5Ic"
      },
      "source": [
        "## **Father, Mother, Daughter Uneducated**"
      ]
    },
    {
      "cell_type": "code",
      "metadata": {
        "colab_type": "code",
        "outputId": "aa62e6f9-b07e-4876-9ffc-915ad0e3b7f2",
        "id": "UKmjwV2xE5Id",
        "colab": {
          "base_uri": "https://localhost:8080/",
          "height": 34
        }
      },
      "source": [
        "format_df = format_data(df)\n",
        "format_df.head()\n",
        "format_df = format_df[format_df.EW15A == 0]\n",
        "format_df = format_df[format_df.EW15B == 0]\n",
        "format_df.shape"
      ],
      "execution_count": 0,
      "outputs": [
        {
          "output_type": "execute_result",
          "data": {
            "text/plain": [
              "(21639, 350)"
            ]
          },
          "metadata": {
            "tags": []
          },
          "execution_count": 200
        }
      ]
    },
    {
      "cell_type": "code",
      "metadata": {
        "id": "blDB4CzVYVc8",
        "colab_type": "code",
        "colab": {}
      },
      "source": [
        "format_df.dropna(subset=['EW18A'], inplace=True)\n",
        "format_df['EW18B'].fillna('0', inplace=True)"
      ],
      "execution_count": 0,
      "outputs": []
    },
    {
      "cell_type": "code",
      "metadata": {
        "id": "HjlIJVd0JCqr",
        "colab_type": "code",
        "outputId": "831424d3-45dd-4805-d1ec-fd246e34746a",
        "colab": {
          "base_uri": "https://localhost:8080/",
          "height": 253
        }
      },
      "source": [
        "format_df['boyEducated'] = np.where(format_df['EW18A']=='0', 0, 1)\n",
        "format_df['girlEducated'] = np.where((format_df['EW8']==0)&(format_df['EW18B']=='0'), 0, 1)\n",
        "\n",
        "# format_df['boyEducated'] = df.apply(lambda row: 0 if row.EW18A == '0' else 1, axis=1)\n",
        "\n",
        "format_df.head()"
      ],
      "execution_count": 0,
      "outputs": [
        {
          "output_type": "execute_result",
          "data": {
            "text/html": [
              "<div>\n",
              "<style scoped>\n",
              "    .dataframe tbody tr th:only-of-type {\n",
              "        vertical-align: middle;\n",
              "    }\n",
              "\n",
              "    .dataframe tbody tr th {\n",
              "        vertical-align: top;\n",
              "    }\n",
              "\n",
              "    .dataframe thead th {\n",
              "        text-align: right;\n",
              "    }\n",
              "</style>\n",
              "<table border=\"1\" class=\"dataframe\">\n",
              "  <thead>\n",
              "    <tr style=\"text-align: right;\">\n",
              "      <th></th>\n",
              "      <th>SURVEY</th>\n",
              "      <th>STATEID</th>\n",
              "      <th>DISTID</th>\n",
              "      <th>PSUID</th>\n",
              "      <th>HHID</th>\n",
              "      <th>HHSPLITID</th>\n",
              "      <th>PERSONID</th>\n",
              "      <th>IDPSU</th>\n",
              "      <th>IDHH</th>\n",
              "      <th>IDPERSON</th>\n",
              "      <th>GE10A</th>\n",
              "      <th>GE10B</th>\n",
              "      <th>GE11</th>\n",
              "      <th>GE12</th>\n",
              "      <th>GE13</th>\n",
              "      <th>CD3D</th>\n",
              "      <th>CD3M</th>\n",
              "      <th>CD3Y</th>\n",
              "      <th>CD3DATE</th>\n",
              "      <th>CD4A</th>\n",
              "      <th>CD4B</th>\n",
              "      <th>CD4C</th>\n",
              "      <th>EW5</th>\n",
              "      <th>EW6</th>\n",
              "      <th>EW8</th>\n",
              "      <th>EW9</th>\n",
              "      <th>EW10</th>\n",
              "      <th>EW11</th>\n",
              "      <th>EW12A</th>\n",
              "      <th>EW12B</th>\n",
              "      <th>EW12C</th>\n",
              "      <th>EW12D</th>\n",
              "      <th>EW13A</th>\n",
              "      <th>EW14A</th>\n",
              "      <th>EW14B</th>\n",
              "      <th>EW14C</th>\n",
              "      <th>EW14D</th>\n",
              "      <th>EW15A</th>\n",
              "      <th>EW15B</th>\n",
              "      <th>EW15C</th>\n",
              "      <th>...</th>\n",
              "      <th>WKANY5</th>\n",
              "      <th>WKANIMAL</th>\n",
              "      <th>WKBUSINESS</th>\n",
              "      <th>WKAGLAB</th>\n",
              "      <th>WKFARM</th>\n",
              "      <th>WKNONAG</th>\n",
              "      <th>WKSALARY</th>\n",
              "      <th>WKNREGA</th>\n",
              "      <th>WKHOURS</th>\n",
              "      <th>NFHOURS</th>\n",
              "      <th>WKDAYS</th>\n",
              "      <th>NFDAYS</th>\n",
              "      <th>RSUNEARN</th>\n",
              "      <th>SPRO10</th>\n",
              "      <th>SPRO3</th>\n",
              "      <th>SPRO4</th>\n",
              "      <th>SPRO5</th>\n",
              "      <th>SPRO6</th>\n",
              "      <th>SPRO8</th>\n",
              "      <th>SPED2</th>\n",
              "      <th>SPED3</th>\n",
              "      <th>SPED4</th>\n",
              "      <th>SPED6</th>\n",
              "      <th>SPWKANY5</th>\n",
              "      <th>SPWKANIMAL</th>\n",
              "      <th>SPWKBUSINESS</th>\n",
              "      <th>SPWKAGLAB</th>\n",
              "      <th>SPWKFARM</th>\n",
              "      <th>SPWKNONAG</th>\n",
              "      <th>SPWKHOURS</th>\n",
              "      <th>SPWKDAYS</th>\n",
              "      <th>EWQELIGIBLE</th>\n",
              "      <th>AGERANK</th>\n",
              "      <th>NEVMFEM</th>\n",
              "      <th>EWPOSITION</th>\n",
              "      <th>NEWQELIGIBLE</th>\n",
              "      <th>WTEW</th>\n",
              "      <th>FWTEW</th>\n",
              "      <th>boyEducated</th>\n",
              "      <th>girlEducated</th>\n",
              "    </tr>\n",
              "  </thead>\n",
              "  <tbody>\n",
              "    <tr>\n",
              "      <th>0</th>\n",
              "      <td>2</td>\n",
              "      <td>1</td>\n",
              "      <td>2</td>\n",
              "      <td>1</td>\n",
              "      <td>10</td>\n",
              "      <td>1</td>\n",
              "      <td>2</td>\n",
              "      <td>10201</td>\n",
              "      <td>102010101</td>\n",
              "      <td>10201010102</td>\n",
              "      <td>1</td>\n",
              "      <td>1</td>\n",
              "      <td>2</td>\n",
              "      <td>2</td>\n",
              "      <td>9</td>\n",
              "      <td>3</td>\n",
              "      <td>7</td>\n",
              "      <td>2012</td>\n",
              "      <td>19177</td>\n",
              "      <td>10</td>\n",
              "      <td>50</td>\n",
              "      <td>1</td>\n",
              "      <td>2</td>\n",
              "      <td>3</td>\n",
              "      <td>0</td>\n",
              "      <td>4</td>\n",
              "      <td>2</td>\n",
              "      <td>2</td>\n",
              "      <td>1</td>\n",
              "      <td>0</td>\n",
              "      <td>1</td>\n",
              "      <td>1</td>\n",
              "      <td>2</td>\n",
              "      <td>0</td>\n",
              "      <td>0</td>\n",
              "      <td>0</td>\n",
              "      <td>0</td>\n",
              "      <td>0</td>\n",
              "      <td>0</td>\n",
              "      <td>0</td>\n",
              "      <td>...</td>\n",
              "      <td>2</td>\n",
              "      <td>3</td>\n",
              "      <td>0</td>\n",
              "      <td>0</td>\n",
              "      <td>2</td>\n",
              "      <td>0</td>\n",
              "      <td>0</td>\n",
              "      <td>0</td>\n",
              "      <td>24</td>\n",
              "      <td>0</td>\n",
              "      <td>6</td>\n",
              "      <td>0</td>\n",
              "      <td>175804.109375</td>\n",
              "      <td>69</td>\n",
              "      <td>1</td>\n",
              "      <td>1</td>\n",
              "      <td>57</td>\n",
              "      <td>1</td>\n",
              "      <td>2</td>\n",
              "      <td>0</td>\n",
              "      <td>0</td>\n",
              "      <td>0</td>\n",
              "      <td>0</td>\n",
              "      <td>4</td>\n",
              "      <td>0</td>\n",
              "      <td>0</td>\n",
              "      <td>0</td>\n",
              "      <td>0</td>\n",
              "      <td>3</td>\n",
              "      <td>4000</td>\n",
              "      <td>365</td>\n",
              "      <td>1</td>\n",
              "      <td>1</td>\n",
              "      <td>2</td>\n",
              "      <td>2</td>\n",
              "      <td>2</td>\n",
              "      <td>3687.926270</td>\n",
              "      <td>3688</td>\n",
              "      <td>1</td>\n",
              "      <td>1</td>\n",
              "    </tr>\n",
              "    <tr>\n",
              "      <th>2</th>\n",
              "      <td>2</td>\n",
              "      <td>1</td>\n",
              "      <td>2</td>\n",
              "      <td>1</td>\n",
              "      <td>20</td>\n",
              "      <td>1</td>\n",
              "      <td>8</td>\n",
              "      <td>10201</td>\n",
              "      <td>102010201</td>\n",
              "      <td>10201020108</td>\n",
              "      <td>1</td>\n",
              "      <td>1</td>\n",
              "      <td>1</td>\n",
              "      <td>3</td>\n",
              "      <td>3</td>\n",
              "      <td>3</td>\n",
              "      <td>7</td>\n",
              "      <td>2012</td>\n",
              "      <td>19177</td>\n",
              "      <td>10</td>\n",
              "      <td>0</td>\n",
              "      <td>1</td>\n",
              "      <td>4</td>\n",
              "      <td>2</td>\n",
              "      <td>2</td>\n",
              "      <td>3</td>\n",
              "      <td>1</td>\n",
              "      <td>3</td>\n",
              "      <td>1</td>\n",
              "      <td>1</td>\n",
              "      <td>0</td>\n",
              "      <td>1</td>\n",
              "      <td>2</td>\n",
              "      <td>0</td>\n",
              "      <td>0</td>\n",
              "      <td>0</td>\n",
              "      <td>1</td>\n",
              "      <td>0</td>\n",
              "      <td>0</td>\n",
              "      <td>0</td>\n",
              "      <td>...</td>\n",
              "      <td>4</td>\n",
              "      <td>0</td>\n",
              "      <td>0</td>\n",
              "      <td>0</td>\n",
              "      <td>0</td>\n",
              "      <td>0</td>\n",
              "      <td>4</td>\n",
              "      <td>0</td>\n",
              "      <td>2555</td>\n",
              "      <td>0</td>\n",
              "      <td>365</td>\n",
              "      <td>0</td>\n",
              "      <td>999500.000000</td>\n",
              "      <td>75</td>\n",
              "      <td>1</td>\n",
              "      <td>3</td>\n",
              "      <td>37</td>\n",
              "      <td>1</td>\n",
              "      <td>8</td>\n",
              "      <td>1</td>\n",
              "      <td>2</td>\n",
              "      <td>1</td>\n",
              "      <td>16</td>\n",
              "      <td>4</td>\n",
              "      <td>0</td>\n",
              "      <td>0</td>\n",
              "      <td>0</td>\n",
              "      <td>0</td>\n",
              "      <td>0</td>\n",
              "      <td>2555</td>\n",
              "      <td>365</td>\n",
              "      <td>1</td>\n",
              "      <td>2</td>\n",
              "      <td>3</td>\n",
              "      <td>3</td>\n",
              "      <td>1</td>\n",
              "      <td>11063.779297</td>\n",
              "      <td>11064</td>\n",
              "      <td>1</td>\n",
              "      <td>1</td>\n",
              "    </tr>\n",
              "    <tr>\n",
              "      <th>3</th>\n",
              "      <td>2</td>\n",
              "      <td>1</td>\n",
              "      <td>2</td>\n",
              "      <td>1</td>\n",
              "      <td>30</td>\n",
              "      <td>1</td>\n",
              "      <td>2</td>\n",
              "      <td>10201</td>\n",
              "      <td>102010301</td>\n",
              "      <td>10201030102</td>\n",
              "      <td>1</td>\n",
              "      <td>1</td>\n",
              "      <td>1</td>\n",
              "      <td>2</td>\n",
              "      <td>9</td>\n",
              "      <td>3</td>\n",
              "      <td>7</td>\n",
              "      <td>2012</td>\n",
              "      <td>19177</td>\n",
              "      <td>12</td>\n",
              "      <td>25</td>\n",
              "      <td>2</td>\n",
              "      <td>2</td>\n",
              "      <td>3</td>\n",
              "      <td>0</td>\n",
              "      <td>5</td>\n",
              "      <td>1</td>\n",
              "      <td>2</td>\n",
              "      <td>0</td>\n",
              "      <td>0</td>\n",
              "      <td>0</td>\n",
              "      <td>0</td>\n",
              "      <td>NaN</td>\n",
              "      <td>0</td>\n",
              "      <td>0</td>\n",
              "      <td>0</td>\n",
              "      <td>0</td>\n",
              "      <td>0</td>\n",
              "      <td>0</td>\n",
              "      <td>0</td>\n",
              "      <td>...</td>\n",
              "      <td>3</td>\n",
              "      <td>3</td>\n",
              "      <td>0</td>\n",
              "      <td>0</td>\n",
              "      <td>3</td>\n",
              "      <td>0</td>\n",
              "      <td>0</td>\n",
              "      <td>0</td>\n",
              "      <td>240</td>\n",
              "      <td>0</td>\n",
              "      <td>60</td>\n",
              "      <td>0</td>\n",
              "      <td>178200.000000</td>\n",
              "      <td>75</td>\n",
              "      <td>1</td>\n",
              "      <td>1</td>\n",
              "      <td>45</td>\n",
              "      <td>1</td>\n",
              "      <td>2</td>\n",
              "      <td>1</td>\n",
              "      <td>2</td>\n",
              "      <td>1</td>\n",
              "      <td>10</td>\n",
              "      <td>4</td>\n",
              "      <td>0</td>\n",
              "      <td>0</td>\n",
              "      <td>0</td>\n",
              "      <td>0</td>\n",
              "      <td>0</td>\n",
              "      <td>2555</td>\n",
              "      <td>365</td>\n",
              "      <td>1</td>\n",
              "      <td>1</td>\n",
              "      <td>1</td>\n",
              "      <td>1</td>\n",
              "      <td>1</td>\n",
              "      <td>3687.926270</td>\n",
              "      <td>3688</td>\n",
              "      <td>0</td>\n",
              "      <td>0</td>\n",
              "    </tr>\n",
              "    <tr>\n",
              "      <th>4</th>\n",
              "      <td>2</td>\n",
              "      <td>1</td>\n",
              "      <td>2</td>\n",
              "      <td>1</td>\n",
              "      <td>40</td>\n",
              "      <td>1</td>\n",
              "      <td>2</td>\n",
              "      <td>10201</td>\n",
              "      <td>102010401</td>\n",
              "      <td>10201040102</td>\n",
              "      <td>1</td>\n",
              "      <td>1</td>\n",
              "      <td>1</td>\n",
              "      <td>3</td>\n",
              "      <td>9</td>\n",
              "      <td>3</td>\n",
              "      <td>7</td>\n",
              "      <td>2012</td>\n",
              "      <td>19177</td>\n",
              "      <td>1</td>\n",
              "      <td>20</td>\n",
              "      <td>2</td>\n",
              "      <td>2</td>\n",
              "      <td>3</td>\n",
              "      <td>0</td>\n",
              "      <td>3</td>\n",
              "      <td>1</td>\n",
              "      <td>2</td>\n",
              "      <td>0</td>\n",
              "      <td>0</td>\n",
              "      <td>1</td>\n",
              "      <td>0</td>\n",
              "      <td>NaN</td>\n",
              "      <td>0</td>\n",
              "      <td>0</td>\n",
              "      <td>0</td>\n",
              "      <td>0</td>\n",
              "      <td>0</td>\n",
              "      <td>0</td>\n",
              "      <td>0</td>\n",
              "      <td>...</td>\n",
              "      <td>3</td>\n",
              "      <td>3</td>\n",
              "      <td>0</td>\n",
              "      <td>0</td>\n",
              "      <td>3</td>\n",
              "      <td>0</td>\n",
              "      <td>0</td>\n",
              "      <td>0</td>\n",
              "      <td>450</td>\n",
              "      <td>0</td>\n",
              "      <td>90</td>\n",
              "      <td>0</td>\n",
              "      <td>89568.335938</td>\n",
              "      <td>69</td>\n",
              "      <td>1</td>\n",
              "      <td>1</td>\n",
              "      <td>57</td>\n",
              "      <td>1</td>\n",
              "      <td>2</td>\n",
              "      <td>0</td>\n",
              "      <td>0</td>\n",
              "      <td>0</td>\n",
              "      <td>0</td>\n",
              "      <td>4</td>\n",
              "      <td>0</td>\n",
              "      <td>0</td>\n",
              "      <td>0</td>\n",
              "      <td>3</td>\n",
              "      <td>4</td>\n",
              "      <td>2710</td>\n",
              "      <td>350</td>\n",
              "      <td>1</td>\n",
              "      <td>1</td>\n",
              "      <td>1</td>\n",
              "      <td>1</td>\n",
              "      <td>1</td>\n",
              "      <td>3687.926270</td>\n",
              "      <td>3688</td>\n",
              "      <td>0</td>\n",
              "      <td>0</td>\n",
              "    </tr>\n",
              "    <tr>\n",
              "      <th>5</th>\n",
              "      <td>2</td>\n",
              "      <td>1</td>\n",
              "      <td>2</td>\n",
              "      <td>1</td>\n",
              "      <td>50</td>\n",
              "      <td>1</td>\n",
              "      <td>2</td>\n",
              "      <td>10201</td>\n",
              "      <td>102010501</td>\n",
              "      <td>10201050102</td>\n",
              "      <td>1</td>\n",
              "      <td>1</td>\n",
              "      <td>2</td>\n",
              "      <td>3</td>\n",
              "      <td>9</td>\n",
              "      <td>3</td>\n",
              "      <td>7</td>\n",
              "      <td>2012</td>\n",
              "      <td>19177</td>\n",
              "      <td>2</td>\n",
              "      <td>45</td>\n",
              "      <td>2</td>\n",
              "      <td>2</td>\n",
              "      <td>2</td>\n",
              "      <td>0</td>\n",
              "      <td>3</td>\n",
              "      <td>1</td>\n",
              "      <td>2</td>\n",
              "      <td>0</td>\n",
              "      <td>0</td>\n",
              "      <td>0</td>\n",
              "      <td>0</td>\n",
              "      <td>NaN</td>\n",
              "      <td>0</td>\n",
              "      <td>0</td>\n",
              "      <td>0</td>\n",
              "      <td>0</td>\n",
              "      <td>0</td>\n",
              "      <td>0</td>\n",
              "      <td>0</td>\n",
              "      <td>...</td>\n",
              "      <td>0</td>\n",
              "      <td>0</td>\n",
              "      <td>0</td>\n",
              "      <td>0</td>\n",
              "      <td>0</td>\n",
              "      <td>0</td>\n",
              "      <td>0</td>\n",
              "      <td>0</td>\n",
              "      <td>0</td>\n",
              "      <td>0</td>\n",
              "      <td>0</td>\n",
              "      <td>0</td>\n",
              "      <td>212600.000000</td>\n",
              "      <td>75</td>\n",
              "      <td>1</td>\n",
              "      <td>1</td>\n",
              "      <td>50</td>\n",
              "      <td>1</td>\n",
              "      <td>2</td>\n",
              "      <td>1</td>\n",
              "      <td>0</td>\n",
              "      <td>1</td>\n",
              "      <td>8</td>\n",
              "      <td>0</td>\n",
              "      <td>0</td>\n",
              "      <td>0</td>\n",
              "      <td>0</td>\n",
              "      <td>0</td>\n",
              "      <td>0</td>\n",
              "      <td>0</td>\n",
              "      <td>0</td>\n",
              "      <td>1</td>\n",
              "      <td>1</td>\n",
              "      <td>3</td>\n",
              "      <td>2</td>\n",
              "      <td>2</td>\n",
              "      <td>5531.889648</td>\n",
              "      <td>5532</td>\n",
              "      <td>1</td>\n",
              "      <td>0</td>\n",
              "    </tr>\n",
              "  </tbody>\n",
              "</table>\n",
              "<p>5 rows × 352 columns</p>\n",
              "</div>"
            ],
            "text/plain": [
              "   SURVEY  STATEID  DISTID  PSUID  ...          WTEW  FWTEW  boyEducated  girlEducated\n",
              "0       2        1       2      1  ...   3687.926270   3688            1             1\n",
              "2       2        1       2      1  ...  11063.779297  11064            1             1\n",
              "3       2        1       2      1  ...   3687.926270   3688            0             0\n",
              "4       2        1       2      1  ...   3687.926270   3688            0             0\n",
              "5       2        1       2      1  ...   5531.889648   5532            1             0\n",
              "\n",
              "[5 rows x 352 columns]"
            ]
          },
          "metadata": {
            "tags": []
          },
          "execution_count": 202
        }
      ]
    },
    {
      "cell_type": "code",
      "metadata": {
        "colab_type": "code",
        "outputId": "e9418836-6bac-4dcc-e3f3-48f63add6782",
        "id": "D4cLBde3E5If",
        "colab": {
          "base_uri": "https://localhost:8080/",
          "height": 238
        }
      },
      "source": [
        "filter = [\n",
        "'boyEducated',\n",
        "'girlEducated'\n",
        "]\n",
        "\n",
        "lookup = get_lookup()\n",
        "\n",
        "print_items(filter, lookup)\n",
        "\n",
        "filtered_df = filter_dataframe(format_df, filter)\n",
        "filtered_df.head()"
      ],
      "execution_count": 0,
      "outputs": [
        {
          "output_type": "stream",
          "text": [
            "boyEducated  ==>  Boy Educated\n",
            "girlEducated  ==>  Girl Educated\n"
          ],
          "name": "stdout"
        },
        {
          "output_type": "execute_result",
          "data": {
            "text/html": [
              "<div>\n",
              "<style scoped>\n",
              "    .dataframe tbody tr th:only-of-type {\n",
              "        vertical-align: middle;\n",
              "    }\n",
              "\n",
              "    .dataframe tbody tr th {\n",
              "        vertical-align: top;\n",
              "    }\n",
              "\n",
              "    .dataframe thead th {\n",
              "        text-align: right;\n",
              "    }\n",
              "</style>\n",
              "<table border=\"1\" class=\"dataframe\">\n",
              "  <thead>\n",
              "    <tr style=\"text-align: right;\">\n",
              "      <th></th>\n",
              "      <th>boyEducated</th>\n",
              "      <th>girlEducated</th>\n",
              "    </tr>\n",
              "  </thead>\n",
              "  <tbody>\n",
              "    <tr>\n",
              "      <th>0</th>\n",
              "      <td>1</td>\n",
              "      <td>1</td>\n",
              "    </tr>\n",
              "    <tr>\n",
              "      <th>2</th>\n",
              "      <td>1</td>\n",
              "      <td>1</td>\n",
              "    </tr>\n",
              "    <tr>\n",
              "      <th>3</th>\n",
              "      <td>0</td>\n",
              "      <td>0</td>\n",
              "    </tr>\n",
              "    <tr>\n",
              "      <th>4</th>\n",
              "      <td>0</td>\n",
              "      <td>0</td>\n",
              "    </tr>\n",
              "    <tr>\n",
              "      <th>5</th>\n",
              "      <td>1</td>\n",
              "      <td>0</td>\n",
              "    </tr>\n",
              "  </tbody>\n",
              "</table>\n",
              "</div>"
            ],
            "text/plain": [
              "   boyEducated  girlEducated\n",
              "0            1             1\n",
              "2            1             1\n",
              "3            0             0\n",
              "4            0             0\n",
              "5            1             0"
            ]
          },
          "metadata": {
            "tags": []
          },
          "execution_count": 203
        }
      ]
    },
    {
      "cell_type": "code",
      "metadata": {
        "colab_type": "code",
        "id": "cgz_4nv3E5Ih",
        "colab": {}
      },
      "source": [
        "trans_df = get_transaction_df(filtered_df)"
      ],
      "execution_count": 0,
      "outputs": []
    },
    {
      "cell_type": "code",
      "metadata": {
        "colab_type": "code",
        "outputId": "25c564f0-57bb-477d-e2af-c5370e923e35",
        "id": "QwizCcKbE5Ii",
        "colab": {
          "base_uri": "https://localhost:8080/",
          "height": 136
        }
      },
      "source": [
        "lookup = get_lookup()\n",
        "frequent_itemsets = get_frequent_itemsets(trans_df, 0.1)\n",
        "frequent_itemsets_filtered = frequent_itemsets#[ (frequent_itemsets['support'] < 0.05) ]\n",
        "print_freq_itemsets(frequent_itemsets_filtered, lookup)\n",
        "\n",
        "# Boy Educated  \" 1 \",  Girl Educated  \" 0 \",    Support :  0.23913911914511135\n",
        "# Boy Educated  \" 1 \",  Girl Educated  \" 1 \",    Support :  0.48596824128632776"
      ],
      "execution_count": 0,
      "outputs": [
        {
          "output_type": "stream",
          "text": [
            "Boy Educated  \" 0 \",    Support :  0.27489263956856086\n",
            "Boy Educated  \" 1 \",    Support :  0.7251073604314391\n",
            "Girl Educated  \" 0 \",    Support :  0.44422251073604313\n",
            "Girl Educated  \" 1 \",    Support :  0.5557774892639569\n",
            "Boy Educated  \" 0 \",  Girl Educated  \" 0 \",    Support :  0.20508339159093178\n",
            "Boy Educated  \" 1 \",  Girl Educated  \" 0 \",    Support :  0.23913911914511135\n",
            "Boy Educated  \" 1 \",  Girl Educated  \" 1 \",    Support :  0.48596824128632776\n"
          ],
          "name": "stdout"
        }
      ]
    },
    {
      "cell_type": "code",
      "metadata": {
        "colab_type": "code",
        "id": "JUg1SM8EE5Ik",
        "colab": {}
      },
      "source": [
        ""
      ],
      "execution_count": 0,
      "outputs": []
    },
    {
      "cell_type": "code",
      "metadata": {
        "colab_type": "code",
        "id": "erdY82ixE5Im",
        "colab": {}
      },
      "source": [
        ""
      ],
      "execution_count": 0,
      "outputs": []
    }
  ]
}